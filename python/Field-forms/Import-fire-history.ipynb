{
 "cells": [
  {
   "cell_type": "markdown",
   "id": "91ceabcb-2305-4502-827d-21d17e911a14",
   "metadata": {
    "tags": []
   },
   "source": [
    "# Read files summarising field work and update database\n",
    "These Excel workbooks were imported on February 2022.\n",
    "\n",
    "The scripts documented here have been created to:\n",
    "\n",
    "- Read data from spreadsheets with field-work data\n",
    "- Create records for data import into the database\n",
    "- Insert or update records in the database\n"
   ]
  },
  {
   "cell_type": "markdown",
   "id": "12d4256b-0834-4b57-91b2-23706f4b7e48",
   "metadata": {},
   "source": [
    "## Set-up\n",
    "Load libraries "
   ]
  },
  {
   "cell_type": "code",
   "execution_count": 1,
   "id": "cbf7b3b9-6d22-424b-b19b-a86282137e4c",
   "metadata": {},
   "outputs": [],
   "source": [
    "import openpyxl\n",
    "from pathlib import Path\n",
    "import os\n",
    "from datetime import datetime\n",
    "from configparser import ConfigParser\n",
    "import psycopg2\n",
    "from psycopg2.extras import DictCursor\n",
    "from psycopg2.extensions import AsIs\n",
    "#import postgis"
   ]
  },
  {
   "cell_type": "markdown",
   "id": "36419281-e89c-49de-9737-821185f55b7f",
   "metadata": {},
   "source": [
    "Define path to workbooks"
   ]
  },
  {
   "cell_type": "code",
   "execution_count": 2,
   "id": "2ae9964b-180a-4f59-97f6-ffeb077e754d",
   "metadata": {},
   "outputs": [],
   "source": [
    "repodir = Path(\"../../\") \n",
    "inputdir = repodir / \"data\" / \"field-form\""
   ]
  },
  {
   "cell_type": "markdown",
   "id": "f6cbba5f-783f-404b-bb9f-0878897ddb9b",
   "metadata": {},
   "source": [
    " ### DB connection parameters and helper functions\n",
    " \n",
    " Database credentials are stored in a database.ini file"
   ]
  },
  {
   "cell_type": "code",
   "execution_count": 3,
   "id": "3810a958-a93c-4513-bcb6-1c2af2e90c57",
   "metadata": {},
   "outputs": [],
   "source": [
    "filename = repodir / 'secrets' / 'database.ini'\n",
    "section = 'aws-lght-sl'\n",
    "\n",
    "# create a parser\n",
    "parser = ConfigParser()\n",
    "# read config file\n",
    "parser.read(filename)\n",
    "\n",
    "# get section, default to postgresql\n",
    "db = {}\n",
    "if parser.has_section(section):\n",
    "    params = parser.items(section)\n",
    "    for param in params:\n",
    "        db[param[0]] = param[1]\n",
    "else:\n",
    "    raise Exception('Section {0} not found in the {1} file'.format(section, filename))\n",
    "\n",
    "params = db"
   ]
  },
  {
   "cell_type": "markdown",
   "id": "0732a8ab-d15d-4b59-bf93-f40bee6044a3",
   "metadata": {},
   "source": [
    "Get updated vocabularies from database"
   ]
  },
  {
   "cell_type": "code",
   "execution_count": 4,
   "id": "45e9966d-915d-41dc-8f94-8f91a2e90710",
   "metadata": {},
   "outputs": [
    {
     "name": "stdout",
     "output_type": "stream",
     "text": [
      "Connecting to the PostgreSQL database...\n",
      "Database connection closed.\n"
     ]
    }
   ],
   "source": [
    "# connect to the PostgreSQL server\n",
    "print('Connecting to the PostgreSQL database...')\n",
    "conn = psycopg2.connect(**params)\n",
    "cur = conn.cursor()\n",
    "#valid_organ=('Epicormic', 'Apical', 'Lignotuber', 'Basal','Tuber','Tussock','Short rhizome', 'Long rhizome or root sucker', 'Stolon', 'None', 'Other')\n",
    "#valid_seedbank=('Soil-persistent', 'Transient', 'Canopy','Non-canopy','Other')\n",
    "\n",
    "cur.execute(\"SELECT enumlabel FROM pg_enum e LEFT JOIN pg_type t ON e.enumtypid=t.oid where typname='resprout_organ_vocabulary';\")\n",
    "valid_organ_list = cur.fetchall()\n",
    "organ_vocab = [item for t in valid_organ_list for item in t]\n",
    "\n",
    "cur.execute(\"SELECT enumlabel FROM pg_enum e LEFT JOIN pg_type t ON e.enumtypid=t.oid where typname='seedbank_vocabulary';\")\n",
    "valid_seedbank_list = cur.fetchall()\n",
    "seedbank_vocab = [item for t in valid_seedbank_list for item in t]\n",
    "\n",
    "cur.close()\n",
    "        \n",
    "if conn is not None:\n",
    "    conn.close()\n",
    "    print('Database connection closed.')"
   ]
  },
  {
   "cell_type": "markdown",
   "id": "728ac97a-32e2-43f3-86f5-3add23ce2c61",
   "metadata": {},
   "source": [
    "Define a function to batch process insert or update queries:"
   ]
  },
  {
   "cell_type": "code",
   "execution_count": 5,
   "id": "8e886539-ab49-414f-879f-e3f5e560d167",
   "metadata": {},
   "outputs": [],
   "source": [
    "def batch_upsert(params,table,records,keycol,idx, execute=False,useconn=None):\n",
    "    if useconn is None:\n",
    "        # connect to the PostgreSQL server\n",
    "        print('Connecting to the PostgreSQL database...')\n",
    "        conn = psycopg2.connect(**params)\n",
    "    else:\n",
    "        conn = useconn\n",
    "    cur = conn.cursor()\n",
    "    #postgis.register(cur)\n",
    "    updated_rows=0\n",
    "\n",
    "    for record in records:\n",
    "        if len(record.keys())>len(keycol):\n",
    "            if 'geom' in record.keys():\n",
    "                the_geom=record['geom']\n",
    "                record['geom']='GEOMSTR'\n",
    "            if idx is not None:\n",
    "                qrystr = \"INSERT INTO %s (%s) values %s ON CONFLICT ON CONSTRAINT %s DO UPDATE SET %s\"\n",
    "                upd=list()\n",
    "                for k in record.keys():\n",
    "                    if k not in keycol:\n",
    "                        upd.append(\"{col}=EXCLUDED.{col}\".format(col=k))\n",
    "                qry = cur.mogrify(qrystr, (AsIs(table),\n",
    "                                AsIs(','.join(record.keys())),\n",
    "                                tuple(record.values()),\n",
    "                                AsIs(idx),\n",
    "                                AsIs(','.join(upd))\n",
    "                               ))\n",
    "            else:\n",
    "                qrystr = \"INSERT INTO %s (%s) values %s ON CONFLICT DO NOTHING\"\n",
    "                qry = cur.mogrify(qrystr, (AsIs(table),\n",
    "                                AsIs(','.join(record.keys())),\n",
    "                                tuple(record.values())\n",
    "                               ))\n",
    "\n",
    "            if 'geom' in record.keys():\n",
    "                qry=qry.decode('utf-8')\n",
    "                qry=qry.replace(\"'GEOMSTR'\",the_geom)\n",
    "                record['geom']=the_geom\n",
    "\n",
    "            if execute:\n",
    "                cur.execute(qry)\n",
    "                if cur.rowcount > 0:\n",
    "                    updated_rows = updated_rows + cur.rowcount\n",
    "            else:\n",
    "                print(qry)\n",
    "            \n",
    "    conn.commit()        \n",
    "    cur.close()\n",
    "    print(\"%s rows updated\" % (updated_rows))\n",
    "        \n",
    "    if useconn is None and conn is not None:\n",
    "        conn.close()\n",
    "        print('Database connection closed.')\n",
    "\n",
    "        "
   ]
  },
  {
   "cell_type": "markdown",
   "id": "a7a0dd1f-8a3d-4801-98ed-768137cbe844",
   "metadata": {},
   "source": [
    "Just a test with random data, use `execute=False` to print the query:"
   ]
  },
  {
   "cell_type": "code",
   "execution_count": 6,
   "id": "c7ab73c0-721d-4659-8095-00fabeee6c4d",
   "metadata": {},
   "outputs": [
    {
     "name": "stdout",
     "output_type": "stream",
     "text": [
      "Connecting to the PostgreSQL database...\n",
      "INSERT INTO form.field_site (site_label,geom) values ('test', ST_GeomFromText('POINT(1 2)', 4326)) ON CONFLICT ON CONSTRAINT field_site_pkey1 DO UPDATE SET geom=EXCLUDED.geom\n",
      "0 rows updated\n",
      "Database connection closed.\n"
     ]
    }
   ],
   "source": [
    "record={'site_label':'test','geom':\"ST_GeomFromText('POINT(1 2)', 4326)\"}\n",
    "batch_upsert(params,\"form.field_site\",(record,),keycol=('site_label',), idx='field_site_pkey1',execute=False)"
   ]
  },
  {
   "cell_type": "code",
   "execution_count": 7,
   "id": "51876a85-3dec-49c0-8aa0-6d01ae6d585f",
   "metadata": {},
   "outputs": [
    {
     "name": "stdout",
     "output_type": "stream",
     "text": [
      "Connecting to the PostgreSQL database...\n",
      "INSERT INTO form.field_site (site_label,geom) values ('test', ST_GeomFromText('POINT(1 2)', 4326)) ON CONFLICT DO NOTHING\n",
      "0 rows updated\n",
      "Database connection closed.\n"
     ]
    }
   ],
   "source": [
    "batch_upsert(params,\"form.field_site\",(record,),keycol=('site_label',), idx=None,execute=False)"
   ]
  },
  {
   "cell_type": "markdown",
   "id": "d55b5bbb-b4ea-4b83-bdcf-a1b8088bad91",
   "metadata": {
    "tags": []
   },
   "source": [
    "## Read workbooks\n",
    "Each spreadsheet has a slightly different structure, so these scripts have to be adapted for each case.\n",
    "\n",
    "### List of workbooks/spreadsheets in directory"
   ]
  },
  {
   "cell_type": "code",
   "execution_count": 8,
   "id": "82e3da8f-4d22-425a-96b2-c02191548171",
   "metadata": {
    "tags": []
   },
   "outputs": [
    {
     "data": {
      "text/plain": [
       "['~$Fire response quadrat survey Newnes Nov2020_DK_revised IDs+AllNovData.xlsm',\n",
       " 'SthnNSWRF_data_bionet2.xlsx',\n",
       " '~$UNSW_VegFireResponse_DataEntry_Yatteyattah all +DK +Milton.xlsx',\n",
       " 'UNSWFireVegResponse_UplandBasalt_AlexThomsen+DK.xlsx',\n",
       " 'UNSW_VegFireResponse_RMK_reformat_Sep2021a.xlsx',\n",
       " 'UNSW_VegFireResponse_DataEntry_Yatteyattah all +DK +Milton.xlsx',\n",
       " '~$UNSW_VegFireResponse_RMK_reformat_Sep2021a.xlsx',\n",
       " 'UNSW_VegFireResponse_KNP AlpAsh.xlsx',\n",
       " 'UNSW_VegFireResponse_AlpineBogs_reformat_Sep2021.xlsx',\n",
       " 'RobertsonRF_data_bionet2.xlsx',\n",
       " 'Fire response quadrat survey Newnes Nov2020_DK_revised IDs+AllNovData.xlsm']"
      ]
     },
     "execution_count": 8,
     "metadata": {},
     "output_type": "execute_result"
    }
   ],
   "source": [
    "os.listdir(inputdir)"
   ]
  },
  {
   "cell_type": "code",
   "execution_count": 9,
   "id": "7c046378-43c4-4b14-bb16-5c2641cdd9e2",
   "metadata": {},
   "outputs": [],
   "source": [
    "valid_files = ['SthnNSWRF_data_bionet2.xlsx',\n",
    "               'UNSWFireVegResponse_UplandBasalt_AlexThomsen+DK.xlsx',\n",
    "               'UNSW_VegFireResponse_RMK_reformat_Sep2021a.xlsx',\n",
    "               'UNSW_VegFireResponse_DataEntry_Yatteyattah all +DK +Milton.xlsx',\n",
    "               'UNSW_VegFireResponse_KNP AlpAsh.xlsx',\n",
    "               'UNSW_VegFireResponse_AlpineBogs_reformat_Sep2021.xlsx',\n",
    "               'RobertsonRF_data_bionet2.xlsx',\n",
    "               'Fire response quadrat survey Newnes Nov2020_DK_revised IDs+AllNovData.xlsm']"
   ]
  },
  {
   "cell_type": "markdown",
   "id": "5b963026-23e4-48f4-97d2-cff86016af50",
   "metadata": {},
   "source": [
    "Here we create an index of worksheets and column headers for each file"
   ]
  },
  {
   "cell_type": "code",
   "execution_count": 10,
   "id": "0c4b7b46-d292-494f-8ccc-5fa72e8e5f6b",
   "metadata": {},
   "outputs": [],
   "source": [
    "wbindex=dict()\n",
    "for workbook_name in valid_files:\n",
    "    inputfile=inputdir / workbook_name\n",
    "    # using data_only=True to get the calculated cell values\n",
    "    wb = openpyxl.load_workbook(inputfile,data_only=True)\n",
    "    wbindex[workbook_name]=dict()\n",
    "    for ws in wb.worksheets:\n",
    "        wbindex[workbook_name][ws._WorkbookChild__title]=[list(),list()]\n",
    "        for k in range(1,ws.max_column):\n",
    "            wbindex[workbook_name][ws._WorkbookChild__title][0].append(ws.cell(row=1,column=k).value)\n",
    "            wbindex[workbook_name][ws._WorkbookChild__title][1].append(ws.cell(row=2,column=k).value)\n",
    "        "
   ]
  },
  {
   "cell_type": "code",
   "execution_count": 11,
   "id": "31178ae5-59ac-4fd6-860a-8967b80e30dd",
   "metadata": {},
   "outputs": [
    {
     "data": {
      "text/plain": [
       "dict_keys(['SthnNSWRF_data_bionet2.xlsx', 'UNSWFireVegResponse_UplandBasalt_AlexThomsen+DK.xlsx', 'UNSW_VegFireResponse_RMK_reformat_Sep2021a.xlsx', 'UNSW_VegFireResponse_DataEntry_Yatteyattah all +DK +Milton.xlsx', 'UNSW_VegFireResponse_KNP AlpAsh.xlsx', 'UNSW_VegFireResponse_AlpineBogs_reformat_Sep2021.xlsx', 'RobertsonRF_data_bionet2.xlsx', 'Fire response quadrat survey Newnes Nov2020_DK_revised IDs+AllNovData.xlsm'])"
      ]
     },
     "execution_count": 11,
     "metadata": {},
     "output_type": "execute_result"
    }
   ],
   "source": [
    "wbindex.keys()"
   ]
  },
  {
   "cell_type": "code",
   "execution_count": 13,
   "id": "ba508e4e-b8de-47c5-a89d-2ced4873ddf2",
   "metadata": {},
   "outputs": [
    {
     "data": {
      "text/plain": [
       "dict_keys(['Site', 'Fire', 'Structure', 'Floristics', 'Reference', 'Info', 'Sheet1'])"
      ]
     },
     "execution_count": 13,
     "metadata": {},
     "output_type": "execute_result"
    }
   ],
   "source": [
    "wbindex['SthnNSWRF_data_bionet2.xlsx'].keys()"
   ]
  },
  {
   "cell_type": "code",
   "execution_count": 19,
   "id": "373db94b-3e2c-4502-b1b7-4e395d8862ec",
   "metadata": {},
   "outputs": [
    {
     "data": {
      "text/plain": [
       "['Site',\n",
       " 'Replicate',\n",
       " 'Date of last fire dd/mm/yyyy',\n",
       " 'Date of penultimate fire',\n",
       " 'Date of earlier fire',\n",
       " 'How date inferred1',\n",
       " 'How date inferred2',\n",
       " 'How date inferred3',\n",
       " 'Ignition cause1',\n",
       " 'Ignition cause2',\n",
       " 'Ignition cause3']"
      ]
     },
     "execution_count": 19,
     "metadata": {},
     "output_type": "execute_result"
    }
   ],
   "source": [
    "wbindex['SthnNSWRF_data_bionet2.xlsx']['Fire'][0][0:11]"
   ]
  },
  {
   "cell_type": "code",
   "execution_count": 21,
   "id": "f5a4d673-63ed-4239-a175-bcfc7c534843",
   "metadata": {},
   "outputs": [],
   "source": [
    "filename='SthnNSWRF_data_bionet2.xlsx'\n",
    "worksheet='Fire'\n",
    "wb = openpyxl.load_workbook(inputdir / filename,data_only=True)\n",
    "ws = wb[worksheet]"
   ]
  },
  {
   "cell_type": "code",
   "execution_count": 74,
   "id": "ff5e164d-208f-4632-8be7-4d37e4af2ad9",
   "metadata": {},
   "outputs": [],
   "source": [
    "col_dicts=[{'site_label':0,'fire_date':2,'how_inferred':5,'cause_of_ignition':8},\n",
    "    {'site_label':0,'fire_date':3,'how_inferred':6,'cause_of_ignition':9},\n",
    "    {'site_label':0,'fire_date':4,'how_inferred':7,'cause_of_ignition':10}]\n",
    "records=list()\n",
    "for sw in col_dicts:\n",
    "    for j in range(2,ws.max_row+1):\n",
    "        item = ws[j]\n",
    "        record=dict()\n",
    "        comms=list()\n",
    "        for k in sw.keys():\n",
    "            vals=item[sw[k]].value\n",
    "            if vals is not None:\n",
    "                if k == 'fire_date':\n",
    "                    if isinstance(vals,datetime):\n",
    "                        record['fire_date']=str(vals.date())\n",
    "                        record['earliest_date']=vals.date()\n",
    "                        record['latest_date']=vals.date()\n",
    "                    else:\n",
    "                        record['fire_date']=str(vals)\n",
    "                        comms.append('Fire date given as: %s' % vals)\n",
    "                else:\n",
    "                    record[k]=vals\n",
    "        if len(comms)>0:\n",
    "            record['notes'] = comms\n",
    "        if len(record)>1:\n",
    "            records.append(record)\n"
   ]
  },
  {
   "cell_type": "code",
   "execution_count": 75,
   "id": "971ffa77-82fc-42b7-a6e6-8a20b0452e45",
   "metadata": {},
   "outputs": [
    {
     "data": {
      "text/plain": [
       "{'site_label': 'DeuaRF',\n",
       " 'fire_date': '>1975-76',\n",
       " 'how_inferred': 'NPWS fire records prescribed burn but unlikely to have reached site',\n",
       " 'cause_of_ignition': 'prescribed',\n",
       " 'notes': ['Fire date given as: >1975-76']}"
      ]
     },
     "execution_count": 75,
     "metadata": {},
     "output_type": "execute_result"
    }
   ],
   "source": [
    "records[10]"
   ]
  },
  {
   "cell_type": "code",
   "execution_count": 79,
   "id": "94a50a05-d9b3-42f3-89e5-471e6861c03a",
   "metadata": {},
   "outputs": [
    {
     "name": "stdout",
     "output_type": "stream",
     "text": [
      "Connecting to the PostgreSQL database...\n",
      "10 rows updated\n",
      "Database connection closed.\n"
     ]
    }
   ],
   "source": [
    "batch_upsert(params,\"form.fire_history\",records,keycol=('site_label','fire_date'), idx=None,execute=True)"
   ]
  },
  {
   "cell_type": "code",
   "execution_count": null,
   "id": "33b462a5-b18f-45ef-8380-49e163c0f1b6",
   "metadata": {},
   "outputs": [],
   "source": []
  },
  {
   "cell_type": "markdown",
   "id": "b4c8409e-fa02-44ff-96ca-d1e29af5473d",
   "metadata": {
    "tags": []
   },
   "source": [
    "#### Create fire history records\n",
    "\n",
    "This is a lower level function that will create a field sample record from an `item` (a row in the spreadsheet), using the dictionary or \"switch\" in `col_dicts`:"
   ]
  },
  {
   "cell_type": "code",
   "execution_count": 113,
   "id": "cbaf065d-f425-4d16-badc-a030cffe59d8",
   "metadata": {},
   "outputs": [],
   "source": [
    "def create_fire_history_record(item,col_dicts):\n",
    "    records=list()\n",
    "    for sw in col_dicts:\n",
    "        record=dict()\n",
    "        comms=list()\n",
    "        if item[sw['site_label']].value == 'Site':\n",
    "            continue\n",
    "        for k in sw.keys():\n",
    "            vals=item[sw[k]].value\n",
    "            if vals is not None:\n",
    "                if k == 'fire_date':\n",
    "                    if isinstance(vals,datetime):\n",
    "                        record['fire_date']=str(vals.date())\n",
    "                        record['earliest_date']=vals.date()\n",
    "                        record['latest_date']=vals.date()\n",
    "                    else:\n",
    "                        record['fire_date']=str(vals)\n",
    "                        comms.append('Fire date given as: %s' % vals)\n",
    "                else:\n",
    "                    record[k]=vals\n",
    "        if len(comms)>0:\n",
    "            record['notes'] = comms\n",
    "        if len(record)>1:\n",
    "            records.append(record)\n",
    "    return records"
   ]
  },
  {
   "cell_type": "code",
   "execution_count": 114,
   "id": "cc094b93-e2f1-4528-ae5a-04d98380c564",
   "metadata": {},
   "outputs": [],
   "source": [
    "def import_records_from_workbook(filepath, workbook, worksheet, col_dictionary, create_record_function, **kwargs):\n",
    "    wb = openpyxl.load_workbook(filepath / workbook, data_only=True)\n",
    "    ws=wb[worksheet]\n",
    "    row_count = ws.max_row+1\n",
    "    records=list()\n",
    "    for k in range(2,row_count):\n",
    "        item=ws[k]\n",
    "        record=create_record_function(item,col_dictionary,**kwargs)\n",
    "        if record is not None:\n",
    "            if type(record)==list:\n",
    "                records.extend(record)\n",
    "            elif type(record)==dict:\n",
    "                records.append(record)\n",
    "    return records\n"
   ]
  },
  {
   "cell_type": "code",
   "execution_count": 115,
   "id": "5528e473-b83f-45ad-aed8-67c14fdfa16b",
   "metadata": {},
   "outputs": [],
   "source": [
    "col_dicts=[{'site_label':0,'fire_date':2,'how_inferred':5,'cause_of_ignition':8},\n",
    "    {'site_label':0,'fire_date':3,'how_inferred':6,'cause_of_ignition':9},\n",
    "    {'site_label':0,'fire_date':4,'how_inferred':7,'cause_of_ignition':10}]\n",
    "records = import_records_from_workbook(inputdir, filename, worksheet, col_dicts, create_record_function=create_fire_history_record)"
   ]
  },
  {
   "cell_type": "code",
   "execution_count": 116,
   "id": "b629cc5d-c801-4343-b131-a7c1d0c8c79e",
   "metadata": {},
   "outputs": [
    {
     "data": {
      "text/plain": [
       "66"
      ]
     },
     "execution_count": 116,
     "metadata": {},
     "output_type": "execute_result"
    }
   ],
   "source": [
    "len(records)"
   ]
  },
  {
   "cell_type": "code",
   "execution_count": 90,
   "id": "5ef0361b-30c6-47ab-97e0-96507d3afa0c",
   "metadata": {},
   "outputs": [
    {
     "name": "stdout",
     "output_type": "stream",
     "text": [
      "Connecting to the PostgreSQL database...\n",
      "0 rows updated\n",
      "Database connection closed.\n"
     ]
    }
   ],
   "source": [
    "batch_upsert(params,\"form.fire_history\",records,keycol=('site_label','fire_date'), idx=None,execute=True)"
   ]
  },
  {
   "cell_type": "code",
   "execution_count": 94,
   "id": "92edf946-7728-44dc-9f1d-032c631159db",
   "metadata": {},
   "outputs": [
    {
     "data": {
      "text/plain": [
       "['Site',\n",
       " 'Replicate',\n",
       " 'Date of last fire dd/mm/yyyy',\n",
       " 'Date of penultimate fire',\n",
       " 'Date of earlier fire',\n",
       " 'How date inferred1',\n",
       " 'How date inferred2',\n",
       " 'How date inferred3',\n",
       " 'Ignition cause1',\n",
       " 'Ignition cause2',\n",
       " 'Ignition cause3']"
      ]
     },
     "execution_count": 94,
     "metadata": {},
     "output_type": "execute_result"
    }
   ],
   "source": [
    "filename='UNSWFireVegResponse_UplandBasalt_AlexThomsen+DK.xlsx'\n",
    "wbindex[filename][worksheet][0][0:11]"
   ]
  },
  {
   "cell_type": "code",
   "execution_count": 117,
   "id": "fdba2b64-1aba-414f-b32d-d7f7ccb66676",
   "metadata": {},
   "outputs": [],
   "source": [
    "col_dicts=[{'site_label':0,'fire_date':2,'how_inferred':5,'cause_of_ignition':8},\n",
    "    {'site_label':0,'fire_date':3,'how_inferred':6,'cause_of_ignition':9},\n",
    "    {'site_label':0,'fire_date':4,'how_inferred':7,'cause_of_ignition':10}]\n",
    "records = import_records_from_workbook(inputdir, filename, worksheet, col_dicts, create_record_function=create_fire_history_record)"
   ]
  },
  {
   "cell_type": "code",
   "execution_count": 118,
   "id": "4e2e5b98-3e53-47fd-8aa8-06b9b6cbeef5",
   "metadata": {},
   "outputs": [
    {
     "data": {
      "text/plain": [
       "66"
      ]
     },
     "execution_count": 118,
     "metadata": {},
     "output_type": "execute_result"
    }
   ],
   "source": [
    "len(records)"
   ]
  },
  {
   "cell_type": "code",
   "execution_count": 119,
   "id": "30d1ff4f-9307-4ca1-b5ed-01b639294fc9",
   "metadata": {},
   "outputs": [
    {
     "data": {
      "text/plain": [
       "[{'site_label': 'CRC09B7UVH',\n",
       "  'fire_date': '2020-02-10',\n",
       "  'earliest_date': datetime.date(2020, 2, 10),\n",
       "  'latest_date': datetime.date(2020, 2, 10),\n",
       "  'how_inferred': 'NPWS',\n",
       "  'cause_of_ignition': 'lightning'},\n",
       " {'site_label': 'CRC09B7UVH',\n",
       "  'fire_date': '2006-11-24',\n",
       "  'earliest_date': datetime.date(2006, 11, 24),\n",
       "  'latest_date': datetime.date(2006, 11, 24),\n",
       "  'how_inferred': 'NPWS',\n",
       "  'cause_of_ignition': 'Wildfire'},\n",
       " {'site_label': 'CRC09B7UVH',\n",
       "  'fire_date': '1986',\n",
       "  'how_inferred': 'NPWS',\n",
       "  'cause_of_ignition': 'Wildfire',\n",
       "  'notes': ['Fire date given as: 1986']}]"
      ]
     },
     "execution_count": 119,
     "metadata": {},
     "output_type": "execute_result"
    }
   ],
   "source": [
    "records[0:3]"
   ]
  },
  {
   "cell_type": "code",
   "execution_count": 121,
   "id": "aeeb711e-9fa7-491e-a8f4-24336ec8a141",
   "metadata": {},
   "outputs": [
    {
     "name": "stdout",
     "output_type": "stream",
     "text": [
      "Connecting to the PostgreSQL database...\n",
      "0 rows updated\n",
      "Database connection closed.\n"
     ]
    }
   ],
   "source": [
    "batch_upsert(params,\"form.fire_history\",records,keycol=('site_label','fire_date'), idx=None,execute=True)"
   ]
  },
  {
   "cell_type": "code",
   "execution_count": 122,
   "id": "f57341c0-e7f5-4d15-a947-b7e33bb945dc",
   "metadata": {},
   "outputs": [
    {
     "data": {
      "text/plain": [
       "['Site',\n",
       " 'Replicate',\n",
       " 'Date of last fire dd/mm/yyyy',\n",
       " 'Date of penultimate fire',\n",
       " 'Date of earlier fire',\n",
       " 'How date inferred1',\n",
       " 'How date inferred2',\n",
       " 'How date inferred3',\n",
       " 'Ignition cause1',\n",
       " 'Ignition cause2',\n",
       " 'Ignition cause3']"
      ]
     },
     "execution_count": 122,
     "metadata": {},
     "output_type": "execute_result"
    }
   ],
   "source": [
    "filename='UNSW_VegFireResponse_RMK_reformat_Sep2021a.xlsx'\n",
    "wbindex[filename][worksheet][0][0:11]"
   ]
  },
  {
   "cell_type": "code",
   "execution_count": 123,
   "id": "ea8ef345-aff1-4745-8a18-f6a4cc22c82f",
   "metadata": {},
   "outputs": [
    {
     "name": "stdout",
     "output_type": "stream",
     "text": [
      "Connecting to the PostgreSQL database...\n"
     ]
    },
    {
     "ename": "ForeignKeyViolation",
     "evalue": "insert or update on table \"fire_history\" violates foreign key constraint \"fire_history_site_label_fkey\"\nDETAIL:  Key (site_label)=(BC_2_UNSW) is not present in table \"field_site\".\n",
     "output_type": "error",
     "traceback": [
      "\u001b[0;31m---------------------------------------------------------------------------\u001b[0m",
      "\u001b[0;31mForeignKeyViolation\u001b[0m                       Traceback (most recent call last)",
      "Input \u001b[0;32mIn [123]\u001b[0m, in \u001b[0;36m<module>\u001b[0;34m\u001b[0m\n\u001b[1;32m      1\u001b[0m col_dicts\u001b[38;5;241m=\u001b[39m[{\u001b[38;5;124m'\u001b[39m\u001b[38;5;124msite_label\u001b[39m\u001b[38;5;124m'\u001b[39m:\u001b[38;5;241m0\u001b[39m,\u001b[38;5;124m'\u001b[39m\u001b[38;5;124mfire_date\u001b[39m\u001b[38;5;124m'\u001b[39m:\u001b[38;5;241m2\u001b[39m,\u001b[38;5;124m'\u001b[39m\u001b[38;5;124mhow_inferred\u001b[39m\u001b[38;5;124m'\u001b[39m:\u001b[38;5;241m5\u001b[39m,\u001b[38;5;124m'\u001b[39m\u001b[38;5;124mcause_of_ignition\u001b[39m\u001b[38;5;124m'\u001b[39m:\u001b[38;5;241m8\u001b[39m},\n\u001b[1;32m      2\u001b[0m     {\u001b[38;5;124m'\u001b[39m\u001b[38;5;124msite_label\u001b[39m\u001b[38;5;124m'\u001b[39m:\u001b[38;5;241m0\u001b[39m,\u001b[38;5;124m'\u001b[39m\u001b[38;5;124mfire_date\u001b[39m\u001b[38;5;124m'\u001b[39m:\u001b[38;5;241m3\u001b[39m,\u001b[38;5;124m'\u001b[39m\u001b[38;5;124mhow_inferred\u001b[39m\u001b[38;5;124m'\u001b[39m:\u001b[38;5;241m6\u001b[39m,\u001b[38;5;124m'\u001b[39m\u001b[38;5;124mcause_of_ignition\u001b[39m\u001b[38;5;124m'\u001b[39m:\u001b[38;5;241m9\u001b[39m},\n\u001b[1;32m      3\u001b[0m     {\u001b[38;5;124m'\u001b[39m\u001b[38;5;124msite_label\u001b[39m\u001b[38;5;124m'\u001b[39m:\u001b[38;5;241m0\u001b[39m,\u001b[38;5;124m'\u001b[39m\u001b[38;5;124mfire_date\u001b[39m\u001b[38;5;124m'\u001b[39m:\u001b[38;5;241m4\u001b[39m,\u001b[38;5;124m'\u001b[39m\u001b[38;5;124mhow_inferred\u001b[39m\u001b[38;5;124m'\u001b[39m:\u001b[38;5;241m7\u001b[39m,\u001b[38;5;124m'\u001b[39m\u001b[38;5;124mcause_of_ignition\u001b[39m\u001b[38;5;124m'\u001b[39m:\u001b[38;5;241m10\u001b[39m}]\n\u001b[1;32m      4\u001b[0m records \u001b[38;5;241m=\u001b[39m import_records_from_workbook(inputdir, filename, worksheet, col_dicts, create_record_function\u001b[38;5;241m=\u001b[39mcreate_fire_history_record)\n\u001b[0;32m----> 5\u001b[0m \u001b[43mbatch_upsert\u001b[49m\u001b[43m(\u001b[49m\u001b[43mparams\u001b[49m\u001b[43m,\u001b[49m\u001b[38;5;124;43m\"\u001b[39;49m\u001b[38;5;124;43mform.fire_history\u001b[39;49m\u001b[38;5;124;43m\"\u001b[39;49m\u001b[43m,\u001b[49m\u001b[43mrecords\u001b[49m\u001b[43m,\u001b[49m\u001b[43mkeycol\u001b[49m\u001b[38;5;241;43m=\u001b[39;49m\u001b[43m(\u001b[49m\u001b[38;5;124;43m'\u001b[39;49m\u001b[38;5;124;43msite_label\u001b[39;49m\u001b[38;5;124;43m'\u001b[39;49m\u001b[43m,\u001b[49m\u001b[38;5;124;43m'\u001b[39;49m\u001b[38;5;124;43mfire_date\u001b[39;49m\u001b[38;5;124;43m'\u001b[39;49m\u001b[43m)\u001b[49m\u001b[43m,\u001b[49m\u001b[43m \u001b[49m\u001b[43midx\u001b[49m\u001b[38;5;241;43m=\u001b[39;49m\u001b[38;5;28;43;01mNone\u001b[39;49;00m\u001b[43m,\u001b[49m\u001b[43mexecute\u001b[49m\u001b[38;5;241;43m=\u001b[39;49m\u001b[38;5;28;43;01mTrue\u001b[39;49;00m\u001b[43m)\u001b[49m\n",
      "Input \u001b[0;32mIn [5]\u001b[0m, in \u001b[0;36mbatch_upsert\u001b[0;34m(params, table, records, keycol, idx, execute, useconn)\u001b[0m\n\u001b[1;32m     39\u001b[0m     record[\u001b[38;5;124m'\u001b[39m\u001b[38;5;124mgeom\u001b[39m\u001b[38;5;124m'\u001b[39m]\u001b[38;5;241m=\u001b[39mthe_geom\n\u001b[1;32m     41\u001b[0m \u001b[38;5;28;01mif\u001b[39;00m execute:\n\u001b[0;32m---> 42\u001b[0m     \u001b[43mcur\u001b[49m\u001b[38;5;241;43m.\u001b[39;49m\u001b[43mexecute\u001b[49m\u001b[43m(\u001b[49m\u001b[43mqry\u001b[49m\u001b[43m)\u001b[49m\n\u001b[1;32m     43\u001b[0m     \u001b[38;5;28;01mif\u001b[39;00m cur\u001b[38;5;241m.\u001b[39mrowcount \u001b[38;5;241m>\u001b[39m \u001b[38;5;241m0\u001b[39m:\n\u001b[1;32m     44\u001b[0m         updated_rows \u001b[38;5;241m=\u001b[39m updated_rows \u001b[38;5;241m+\u001b[39m cur\u001b[38;5;241m.\u001b[39mrowcount\n",
      "\u001b[0;31mForeignKeyViolation\u001b[0m: insert or update on table \"fire_history\" violates foreign key constraint \"fire_history_site_label_fkey\"\nDETAIL:  Key (site_label)=(BC_2_UNSW) is not present in table \"field_site\".\n"
     ]
    }
   ],
   "source": [
    "col_dicts=[{'site_label':0,'fire_date':2,'how_inferred':5,'cause_of_ignition':8},\n",
    "    {'site_label':0,'fire_date':3,'how_inferred':6,'cause_of_ignition':9},\n",
    "    {'site_label':0,'fire_date':4,'how_inferred':7,'cause_of_ignition':10}]\n",
    "records = import_records_from_workbook(inputdir, filename, worksheet, col_dicts, create_record_function=create_fire_history_record)\n",
    "batch_upsert(params,\"form.fire_history\",records,keycol=('site_label','fire_date'), idx=None,execute=True)"
   ]
  },
  {
   "cell_type": "code",
   "execution_count": 131,
   "id": "233d4a35-89e8-4b38-a814-380b2d42fdb3",
   "metadata": {},
   "outputs": [
    {
     "name": "stdout",
     "output_type": "stream",
     "text": [
      "Connecting to the PostgreSQL database...\n",
      "8 rows updated\n",
      "Database connection closed.\n"
     ]
    }
   ],
   "source": [
    "batch_upsert(params,\"form.fire_history\",records[0:48],keycol=('site_label','fire_date'), idx=None,execute=True)"
   ]
  },
  {
   "cell_type": "code",
   "execution_count": 134,
   "id": "bee8e1d3-9ee9-4267-8532-76ec6652216c",
   "metadata": {},
   "outputs": [
    {
     "data": {
      "text/plain": [
       "[{'site_label': 'BC_2_UNSW',\n",
       "  'fire_date': 'Jan. 2020',\n",
       "  'how_inferred': 'NPWS',\n",
       "  'cause_of_ignition': 'wildfire',\n",
       "  'notes': ['Fire date given as: Jan. 2020']},\n",
       " {'site_label': 'BC_2_UNSW',\n",
       "  'fire_date': '0',\n",
       "  'how_inferred': '?',\n",
       "  'cause_of_ignition': '?',\n",
       "  'notes': ['Fire date given as: 0']},\n",
       " {'site_label': 'BC_2_UNSW',\n",
       "  'fire_date': '?',\n",
       "  'how_inferred': '?',\n",
       "  'cause_of_ignition': 'N/A',\n",
       "  'notes': ['Fire date given as: ?']}]"
      ]
     },
     "execution_count": 134,
     "metadata": {},
     "output_type": "execute_result"
    }
   ],
   "source": [
    "records[48:] # this site is missing from the field_sites table"
   ]
  },
  {
   "cell_type": "code",
   "execution_count": null,
   "id": "46a19cc9-2a8e-4277-9bd8-bb21076d3fff",
   "metadata": {},
   "outputs": [],
   "source": []
  }
 ],
 "metadata": {
  "kernelspec": {
   "display_name": "Python 3 (ipykernel)",
   "language": "python",
   "name": "python3"
  },
  "language_info": {
   "codemirror_mode": {
    "name": "ipython",
    "version": 3
   },
   "file_extension": ".py",
   "mimetype": "text/x-python",
   "name": "python",
   "nbconvert_exporter": "python",
   "pygments_lexer": "ipython3",
   "version": "3.10.2"
  }
 },
 "nbformat": 4,
 "nbformat_minor": 5
}
