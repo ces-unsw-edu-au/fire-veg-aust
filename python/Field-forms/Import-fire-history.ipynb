{
 "cells": [
  {
   "cell_type": "markdown",
   "id": "91ceabcb-2305-4502-827d-21d17e911a14",
   "metadata": {
    "tags": []
   },
   "source": [
    "# Read files summarising field work and update database\n",
    "These Excel workbooks were imported on February 2022.\n",
    "\n",
    "The scripts documented here have been created to:\n",
    "\n",
    "- Read data from spreadsheets with field-work data\n",
    "- Create records for data import into the database\n",
    "- Insert or update records in the database\n"
   ]
  },
  {
   "cell_type": "markdown",
   "id": "12d4256b-0834-4b57-91b2-23706f4b7e48",
   "metadata": {},
   "source": [
    "## Set-up\n",
    "Load libraries "
   ]
  },
  {
   "cell_type": "code",
   "execution_count": 1,
   "id": "cbf7b3b9-6d22-424b-b19b-a86282137e4c",
   "metadata": {},
   "outputs": [],
   "source": [
    "import openpyxl\n",
    "from pathlib import Path\n",
    "import os\n",
    "from datetime import datetime\n",
    "from configparser import ConfigParser\n",
    "import psycopg2\n",
    "from psycopg2.extras import DictCursor\n",
    "from psycopg2.extensions import AsIs\n",
    "import re\n",
    "#import postgis"
   ]
  },
  {
   "cell_type": "markdown",
   "id": "36419281-e89c-49de-9737-821185f55b7f",
   "metadata": {},
   "source": [
    "Define path to workbooks"
   ]
  },
  {
   "cell_type": "code",
   "execution_count": 2,
   "id": "2ae9964b-180a-4f59-97f6-ffeb077e754d",
   "metadata": {},
   "outputs": [],
   "source": [
    "repodir = Path(\"../../\") \n",
    "inputdir = repodir / \"data\" / \"field-form\""
   ]
  },
  {
   "cell_type": "markdown",
   "id": "f6cbba5f-783f-404b-bb9f-0878897ddb9b",
   "metadata": {},
   "source": [
    " ### DB connection parameters and helper functions\n",
    " \n",
    " Database credentials are stored in a database.ini file"
   ]
  },
  {
   "cell_type": "code",
   "execution_count": 3,
   "id": "3810a958-a93c-4513-bcb6-1c2af2e90c57",
   "metadata": {},
   "outputs": [],
   "source": [
    "filename = repodir / 'secrets' / 'database.ini'\n",
    "section = 'aws-lght-sl'\n",
    "\n",
    "# create a parser\n",
    "parser = ConfigParser()\n",
    "# read config file\n",
    "parser.read(filename)\n",
    "\n",
    "# get section, default to postgresql\n",
    "db = {}\n",
    "if parser.has_section(section):\n",
    "    params = parser.items(section)\n",
    "    for param in params:\n",
    "        db[param[0]] = param[1]\n",
    "else:\n",
    "    raise Exception('Section {0} not found in the {1} file'.format(section, filename))\n",
    "\n",
    "params = db"
   ]
  },
  {
   "cell_type": "markdown",
   "id": "728ac97a-32e2-43f3-86f5-3add23ce2c61",
   "metadata": {},
   "source": [
    "Define a function to batch process insert or update queries:"
   ]
  },
  {
   "cell_type": "code",
   "execution_count": 4,
   "id": "8e886539-ab49-414f-879f-e3f5e560d167",
   "metadata": {},
   "outputs": [],
   "source": [
    "def batch_upsert(params,table,records,keycol,idx, execute=False,useconn=None):\n",
    "    if useconn is None:\n",
    "        # connect to the PostgreSQL server\n",
    "        print('Connecting to the PostgreSQL database...')\n",
    "        conn = psycopg2.connect(**params)\n",
    "    else:\n",
    "        conn = useconn\n",
    "    cur = conn.cursor()\n",
    "    #postgis.register(cur)\n",
    "    updated_rows=0\n",
    "\n",
    "    for record in records:\n",
    "        if len(record.keys())>len(keycol):\n",
    "            if 'geom' in record.keys():\n",
    "                the_geom=record['geom']\n",
    "                record['geom']='GEOMSTR'\n",
    "            if idx is not None:\n",
    "                qrystr = \"INSERT INTO %s (%s) values %s ON CONFLICT ON CONSTRAINT %s DO UPDATE SET %s\"\n",
    "                upd=list()\n",
    "                for k in record.keys():\n",
    "                    if k not in keycol:\n",
    "                        upd.append(\"{col}=EXCLUDED.{col}\".format(col=k))\n",
    "                qry = cur.mogrify(qrystr, (AsIs(table),\n",
    "                                AsIs(','.join(record.keys())),\n",
    "                                tuple(record.values()),\n",
    "                                AsIs(idx),\n",
    "                                AsIs(','.join(upd))\n",
    "                               ))\n",
    "            else:\n",
    "                qrystr = \"INSERT INTO %s (%s) values %s ON CONFLICT DO NOTHING\"\n",
    "                qry = cur.mogrify(qrystr, (AsIs(table),\n",
    "                                AsIs(','.join(record.keys())),\n",
    "                                tuple(record.values())\n",
    "                               ))\n",
    "\n",
    "            if 'geom' in record.keys():\n",
    "                qry=qry.decode('utf-8')\n",
    "                qry=qry.replace(\"'GEOMSTR'\",the_geom)\n",
    "                record['geom']=the_geom\n",
    "\n",
    "            if execute:\n",
    "                cur.execute(qry)\n",
    "                if cur.rowcount > 0:\n",
    "                    updated_rows = updated_rows + cur.rowcount\n",
    "            else:\n",
    "                print(qry)\n",
    "            \n",
    "    conn.commit()        \n",
    "    cur.close()\n",
    "    print(\"%s rows updated\" % (updated_rows))\n",
    "        \n",
    "    if useconn is None and conn is not None:\n",
    "        conn.close()\n",
    "        print('Database connection closed.')\n",
    "\n",
    "        "
   ]
  },
  {
   "cell_type": "markdown",
   "id": "a7a0dd1f-8a3d-4801-98ed-768137cbe844",
   "metadata": {},
   "source": [
    "Just a test with random data, use `execute=False` to print the query:"
   ]
  },
  {
   "cell_type": "code",
   "execution_count": 5,
   "id": "c7ab73c0-721d-4659-8095-00fabeee6c4d",
   "metadata": {},
   "outputs": [
    {
     "name": "stdout",
     "output_type": "stream",
     "text": [
      "Connecting to the PostgreSQL database...\n",
      "INSERT INTO form.field_site (site_label,geom) values ('test', ST_GeomFromText('POINT(1 2)', 4326)) ON CONFLICT ON CONSTRAINT field_site_pkey1 DO UPDATE SET geom=EXCLUDED.geom\n",
      "0 rows updated\n",
      "Database connection closed.\n"
     ]
    }
   ],
   "source": [
    "record={'site_label':'test','geom':\"ST_GeomFromText('POINT(1 2)', 4326)\"}\n",
    "batch_upsert(params,\"form.field_site\",(record,),keycol=('site_label',), idx='field_site_pkey1',execute=False)"
   ]
  },
  {
   "cell_type": "code",
   "execution_count": 6,
   "id": "51876a85-3dec-49c0-8aa0-6d01ae6d585f",
   "metadata": {},
   "outputs": [
    {
     "name": "stdout",
     "output_type": "stream",
     "text": [
      "Connecting to the PostgreSQL database...\n",
      "INSERT INTO form.field_site (site_label,geom) values ('test', ST_GeomFromText('POINT(1 2)', 4326)) ON CONFLICT DO NOTHING\n",
      "0 rows updated\n",
      "Database connection closed.\n"
     ]
    }
   ],
   "source": [
    "batch_upsert(params,\"form.field_site\",(record,),keycol=('site_label',), idx=None,execute=False)"
   ]
  },
  {
   "cell_type": "markdown",
   "id": "d55b5bbb-b4ea-4b83-bdcf-a1b8088bad91",
   "metadata": {
    "tags": []
   },
   "source": [
    "## Read workbooks\n",
    "Each spreadsheet has a slightly different structure, so these scripts have to be adapted for each case.\n",
    "\n",
    "### List of workbooks/spreadsheets in directory"
   ]
  },
  {
   "cell_type": "code",
   "execution_count": 7,
   "id": "82e3da8f-4d22-425a-96b2-c02191548171",
   "metadata": {
    "tags": []
   },
   "outputs": [
    {
     "data": {
      "text/plain": [
       "['UNSW_VegFireResponse_DataEntry_Yatteyattah all +DK +Milton_revisedfields_Mar2022.xlsx',\n",
       " '.DS_Store',\n",
       " 'UNSW_VegFireResponse_KNP AlpAsh_firehistupdate.xlsx',\n",
       " '~$Fire response quadrat survey Newnes Nov2020_DK_revised IDs+AllNovData.xlsm',\n",
       " 'SthnNSWRF_data_bionet2.xlsx',\n",
       " 'UNSWFireVegResponse_UplandBasalt_AlexThomsen+DK.xlsx',\n",
       " 'UNSW_VegFireResponse_RMK_reformat_Sep2021a.xlsx',\n",
       " '~$UNSW_VegFireResponse_RMK_reformat_Sep2021a.xlsx',\n",
       " 'UNSW_VegFireResponse_AlpineBogs_reformat_Sep2021.xlsx',\n",
       " 'RobertsonRF_data_bionet2.xlsx',\n",
       " 'Fire response quadrat survey Newnes Nov2020_DK_revised IDs+AllNovData.xlsm']"
      ]
     },
     "execution_count": 7,
     "metadata": {},
     "output_type": "execute_result"
    }
   ],
   "source": [
    "os.listdir(inputdir)"
   ]
  },
  {
   "cell_type": "code",
   "execution_count": 8,
   "id": "7c046378-43c4-4b14-bb16-5c2641cdd9e2",
   "metadata": {},
   "outputs": [],
   "source": [
    "valid_files = ['SthnNSWRF_data_bionet2.xlsx',\n",
    "               'UNSWFireVegResponse_UplandBasalt_AlexThomsen+DK.xlsx',\n",
    "               'UNSW_VegFireResponse_RMK_reformat_Sep2021a.xlsx',\n",
    "               'UNSW_VegFireResponse_DataEntry_Yatteyattah all +DK +Milton_revisedfields_Mar2022.xlsx',\n",
    "               'UNSW_VegFireResponse_KNP AlpAsh_firehistupdate.xlsx',\n",
    "               'UNSW_VegFireResponse_AlpineBogs_reformat_Sep2021.xlsx',\n",
    "               'RobertsonRF_data_bionet2.xlsx',\n",
    "               'Fire response quadrat survey Newnes Nov2020_DK_revised IDs+AllNovData.xlsm']"
   ]
  },
  {
   "cell_type": "markdown",
   "id": "5b963026-23e4-48f4-97d2-cff86016af50",
   "metadata": {},
   "source": [
    "Here we create an index of worksheets and column headers for each file"
   ]
  },
  {
   "cell_type": "code",
   "execution_count": 9,
   "id": "0c4b7b46-d292-494f-8ccc-5fa72e8e5f6b",
   "metadata": {},
   "outputs": [],
   "source": [
    "wbindex=dict()\n",
    "for workbook_name in valid_files:\n",
    "    inputfile=inputdir / workbook_name\n",
    "    # using data_only=True to get the calculated cell values\n",
    "    wb = openpyxl.load_workbook(inputfile,data_only=True)\n",
    "    wbindex[workbook_name]=dict()\n",
    "    for ws in wb.worksheets:\n",
    "        wbindex[workbook_name][ws._WorkbookChild__title]=[list(),list()]\n",
    "        for k in range(1,ws.max_column):\n",
    "            wbindex[workbook_name][ws._WorkbookChild__title][0].append(ws.cell(row=1,column=k).value)\n",
    "            wbindex[workbook_name][ws._WorkbookChild__title][1].append(ws.cell(row=2,column=k).value)\n",
    "        "
   ]
  },
  {
   "cell_type": "code",
   "execution_count": 10,
   "id": "31178ae5-59ac-4fd6-860a-8967b80e30dd",
   "metadata": {},
   "outputs": [
    {
     "data": {
      "text/plain": [
       "dict_keys(['SthnNSWRF_data_bionet2.xlsx', 'UNSWFireVegResponse_UplandBasalt_AlexThomsen+DK.xlsx', 'UNSW_VegFireResponse_RMK_reformat_Sep2021a.xlsx', 'UNSW_VegFireResponse_DataEntry_Yatteyattah all +DK +Milton_revisedfields_Mar2022.xlsx', 'UNSW_VegFireResponse_KNP AlpAsh_firehistupdate.xlsx', 'UNSW_VegFireResponse_AlpineBogs_reformat_Sep2021.xlsx', 'RobertsonRF_data_bionet2.xlsx', 'Fire response quadrat survey Newnes Nov2020_DK_revised IDs+AllNovData.xlsm'])"
      ]
     },
     "execution_count": 10,
     "metadata": {},
     "output_type": "execute_result"
    }
   ],
   "source": [
    "wbindex.keys()"
   ]
  },
  {
   "cell_type": "code",
   "execution_count": 11,
   "id": "ba508e4e-b8de-47c5-a89d-2ced4873ddf2",
   "metadata": {},
   "outputs": [
    {
     "data": {
      "text/plain": [
       "dict_keys(['Site', 'Fire', 'Structure', 'Floristics', 'Reference', 'Info', 'Sheet1'])"
      ]
     },
     "execution_count": 11,
     "metadata": {},
     "output_type": "execute_result"
    }
   ],
   "source": [
    "wbindex['SthnNSWRF_data_bionet2.xlsx'].keys()"
   ]
  },
  {
   "cell_type": "code",
   "execution_count": 12,
   "id": "373db94b-3e2c-4502-b1b7-4e395d8862ec",
   "metadata": {},
   "outputs": [
    {
     "data": {
      "text/plain": [
       "['Site',\n",
       " 'Replicate',\n",
       " 'Date of last fire dd/mm/yyyy',\n",
       " 'Date of penultimate fire',\n",
       " 'Date of earlier fire',\n",
       " 'How date inferred1',\n",
       " 'How date inferred2',\n",
       " 'How date inferred3',\n",
       " 'Ignition cause1',\n",
       " 'Ignition cause2',\n",
       " 'Ignition cause3']"
      ]
     },
     "execution_count": 12,
     "metadata": {},
     "output_type": "execute_result"
    }
   ],
   "source": [
    "wbindex['SthnNSWRF_data_bionet2.xlsx']['Fire'][0][0:11]"
   ]
  },
  {
   "cell_type": "code",
   "execution_count": 13,
   "id": "f5a4d673-63ed-4239-a175-bcfc7c534843",
   "metadata": {},
   "outputs": [],
   "source": [
    "filename='SthnNSWRF_data_bionet2.xlsx'\n",
    "worksheet='Fire'\n",
    "wb = openpyxl.load_workbook(inputdir / filename,data_only=True)\n",
    "ws = wb[worksheet]"
   ]
  },
  {
   "cell_type": "code",
   "execution_count": 14,
   "id": "ff5e164d-208f-4632-8be7-4d37e4af2ad9",
   "metadata": {},
   "outputs": [],
   "source": [
    "col_dicts=[{'site_label':0,'fire_date':2,'how_inferred':5,'cause_of_ignition':8},\n",
    "    {'site_label':0,'fire_date':3,'how_inferred':6,'cause_of_ignition':9},\n",
    "    {'site_label':0,'fire_date':4,'how_inferred':7,'cause_of_ignition':10}]\n",
    "records=list()\n",
    "for sw in col_dicts:\n",
    "    for j in range(2,ws.max_row+1):\n",
    "        item = ws[j]\n",
    "        record=dict()\n",
    "        comms=list()\n",
    "        for k in sw.keys():\n",
    "            vals=item[sw[k]].value\n",
    "            if vals is not None:\n",
    "                if k == 'fire_date':\n",
    "                    if isinstance(vals,datetime):\n",
    "                        record['fire_date']=str(vals.date())\n",
    "                        record['earliest_date']=vals.date()\n",
    "                        record['latest_date']=vals.date()\n",
    "                    else:\n",
    "                        record['fire_date']=str(vals)\n",
    "                        comms.append('Fire date given as: %s' % vals)\n",
    "                else:\n",
    "                    record[k]=vals\n",
    "        if len(comms)>0:\n",
    "            record['notes'] = comms\n",
    "        if len(record)>1:\n",
    "            records.append(record)\n"
   ]
  },
  {
   "cell_type": "code",
   "execution_count": 15,
   "id": "971ffa77-82fc-42b7-a6e6-8a20b0452e45",
   "metadata": {},
   "outputs": [
    {
     "data": {
      "text/plain": [
       "{'site_label': 'DeuaRF',\n",
       " 'fire_date': '>1975-76',\n",
       " 'how_inferred': 'NPWS fire records prescribed burn but unlikely to have reached site',\n",
       " 'cause_of_ignition': 'prescribed',\n",
       " 'notes': ['Fire date given as: >1975-76']}"
      ]
     },
     "execution_count": 15,
     "metadata": {},
     "output_type": "execute_result"
    }
   ],
   "source": [
    "records[10]"
   ]
  },
  {
   "cell_type": "code",
   "execution_count": 16,
   "id": "94a50a05-d9b3-42f3-89e5-471e6861c03a",
   "metadata": {},
   "outputs": [
    {
     "name": "stdout",
     "output_type": "stream",
     "text": [
      "Connecting to the PostgreSQL database...\n",
      "0 rows updated\n",
      "Database connection closed.\n"
     ]
    }
   ],
   "source": [
    "batch_upsert(params,\"form.fire_history\",records,keycol=('site_label','fire_date'), idx=None,execute=True)"
   ]
  },
  {
   "cell_type": "code",
   "execution_count": null,
   "id": "33b462a5-b18f-45ef-8380-49e163c0f1b6",
   "metadata": {},
   "outputs": [],
   "source": []
  },
  {
   "cell_type": "markdown",
   "id": "b4c8409e-fa02-44ff-96ca-d1e29af5473d",
   "metadata": {
    "tags": []
   },
   "source": [
    "#### Create fire history records\n",
    "\n",
    "This is a lower level function that will create a field sample record from an `item` (a row in the spreadsheet), using the dictionary or \"switch\" in `col_dicts`:"
   ]
  },
  {
   "cell_type": "code",
   "execution_count": 106,
   "id": "cbaf065d-f425-4d16-badc-a030cffe59d8",
   "metadata": {},
   "outputs": [],
   "source": [
    "def create_fire_history_record(item,col_dicts):\n",
    "    records=list()\n",
    "    for sw in col_dicts:\n",
    "        record=dict()\n",
    "        comms=list()\n",
    "        if item[sw['site_label']].value == 'Site':\n",
    "            continue\n",
    "        for k in sw.keys():\n",
    "            vals=item[sw[k]].value\n",
    "            if vals is not None:\n",
    "                if k == 'fire_date':\n",
    "                    if isinstance(vals,datetime):\n",
    "                        record['fire_date']=str(vals.date())\n",
    "                        record['earliest_date']=vals.date()\n",
    "                        record['latest_date']=vals.date()\n",
    "                    elif isinstance(vals,int):\n",
    "                        record['fire_date']=str(vals)\n",
    "                        if vals>0:\n",
    "                            record['earliest_date']=datetime(vals,1,1).date()\n",
    "                            record['latest_date']=datetime(vals,12,31).date()\n",
    "                        else:\n",
    "                            comms.append('Fire date is missing or empty')\n",
    "                    elif vals.isnumeric():\n",
    "                        record['fire_date']=str(vals)\n",
    "                        record['earliest_date']=datetime(int(vals),1,1).date()\n",
    "                        record['latest_date']=datetime(int(vals),12,31).date()\n",
    "                    else:\n",
    "                        record['fire_date']=vals\n",
    "                        comms.append('Fire date given as: %s' % vals)\n",
    "                        found=re.findall(\"[<>]\",vals)\n",
    "                        for i in found:\n",
    "                            comms.append('max/min value given')\n",
    "                            vals=vals.replace(i,\"\")\n",
    "                        ws=vals.split(\"-\")\n",
    "                        if len(ws)==2:\n",
    "                            if len(ws[0])==4 and ws[0].isnumeric():\n",
    "                                record['earliest_date']=datetime(int(ws[0]),1,1).date()\n",
    "                            if len(ws[1])==4 and ws[1].isnumeric():\n",
    "                                record['latest_date']=datetime(int(ws[1]),12,31).date()\n",
    "                            elif len(ws[1])==2 and ws[1].isnumeric():\n",
    "                                fch2=ws[0][0:2]+ws[1]\n",
    "                                record['latest_date']=datetime(int(fch2),12,31).date()\n",
    "    \n",
    "                            \n",
    "                else:\n",
    "                    record[k]=vals\n",
    "        if len(comms)>0:\n",
    "            record['notes'] = comms\n",
    "        if len(record)>1:\n",
    "            records.append(record)\n",
    "    return records"
   ]
  },
  {
   "cell_type": "code",
   "execution_count": 107,
   "id": "cc094b93-e2f1-4528-ae5a-04d98380c564",
   "metadata": {},
   "outputs": [],
   "source": [
    "def import_records_from_workbook(filepath, workbook, worksheet, col_dictionary, create_record_function, **kwargs):\n",
    "    wb = openpyxl.load_workbook(filepath / workbook, data_only=True)\n",
    "    ws=wb[worksheet]\n",
    "    row_count = ws.max_row+1\n",
    "    records=list()\n",
    "    for k in range(2,row_count):\n",
    "        item=ws[k]\n",
    "        record=create_record_function(item,col_dictionary,**kwargs)\n",
    "        if record is not None:\n",
    "            if type(record)==list:\n",
    "                records.extend(record)\n",
    "            elif type(record)==dict:\n",
    "                records.append(record)\n",
    "    return records\n"
   ]
  },
  {
   "cell_type": "markdown",
   "id": "c6f54281-4ea7-4bd1-9130-1b82837507cb",
   "metadata": {
    "tags": []
   },
   "source": [
    "### Sth NSW RF"
   ]
  },
  {
   "cell_type": "code",
   "execution_count": 108,
   "id": "0a8ccd48-761b-4d0c-a98f-ecbb4a46df95",
   "metadata": {},
   "outputs": [],
   "source": [
    "filename='SthnNSWRF_data_bionet2.xlsx'\n",
    "worksheet='Fire'"
   ]
  },
  {
   "cell_type": "code",
   "execution_count": 109,
   "id": "5528e473-b83f-45ad-aed8-67c14fdfa16b",
   "metadata": {},
   "outputs": [],
   "source": [
    "col_dicts=[{'site_label':0,'fire_date':2,'how_inferred':5,'cause_of_ignition':8},\n",
    "    {'site_label':0,'fire_date':3,'how_inferred':6,'cause_of_ignition':9},\n",
    "    {'site_label':0,'fire_date':4,'how_inferred':7,'cause_of_ignition':10}]\n",
    "records = import_records_from_workbook(inputdir, filename, worksheet, col_dicts, create_record_function=create_fire_history_record)"
   ]
  },
  {
   "cell_type": "code",
   "execution_count": 110,
   "id": "b629cc5d-c801-4343-b131-a7c1d0c8c79e",
   "metadata": {},
   "outputs": [
    {
     "data": {
      "text/plain": [
       "11"
      ]
     },
     "execution_count": 110,
     "metadata": {},
     "output_type": "execute_result"
    }
   ],
   "source": [
    "len(records)"
   ]
  },
  {
   "cell_type": "code",
   "execution_count": 111,
   "id": "5ef0361b-30c6-47ab-97e0-96507d3afa0c",
   "metadata": {},
   "outputs": [
    {
     "name": "stdout",
     "output_type": "stream",
     "text": [
      "Connecting to the PostgreSQL database...\n",
      "11 rows updated\n",
      "Database connection closed.\n"
     ]
    }
   ],
   "source": [
    "batch_upsert(params,\"form.fire_history\",records,keycol=('site_label','fire_date'), idx='fire_history_pkey1',execute=True)"
   ]
  },
  {
   "cell_type": "markdown",
   "id": "016867c4-e457-474b-9af4-d81b8b0ceb49",
   "metadata": {
    "tags": []
   },
   "source": [
    "### Upland Basalt"
   ]
  },
  {
   "cell_type": "code",
   "execution_count": 113,
   "id": "92edf946-7728-44dc-9f1d-032c631159db",
   "metadata": {},
   "outputs": [
    {
     "data": {
      "text/plain": [
       "['Site',\n",
       " 'Replicate',\n",
       " 'Date of last fire dd/mm/yyyy',\n",
       " 'Date of penultimate fire',\n",
       " 'Date of earlier fire',\n",
       " 'How date inferred1',\n",
       " 'How date inferred2',\n",
       " 'How date inferred3',\n",
       " 'Ignition cause1',\n",
       " 'Ignition cause2',\n",
       " 'Ignition cause3']"
      ]
     },
     "execution_count": 113,
     "metadata": {},
     "output_type": "execute_result"
    }
   ],
   "source": [
    "filename='UNSWFireVegResponse_UplandBasalt_AlexThomsen+DK.xlsx'\n",
    "wbindex[filename][worksheet][0][0:11]"
   ]
  },
  {
   "cell_type": "code",
   "execution_count": 114,
   "id": "fdba2b64-1aba-414f-b32d-d7f7ccb66676",
   "metadata": {},
   "outputs": [],
   "source": [
    "col_dicts=[{'site_label':0,'fire_date':2,'how_inferred':5,'cause_of_ignition':8},\n",
    "    {'site_label':0,'fire_date':3,'how_inferred':6,'cause_of_ignition':9},\n",
    "    {'site_label':0,'fire_date':4,'how_inferred':7,'cause_of_ignition':10}]\n",
    "records = import_records_from_workbook(inputdir, filename, worksheet, col_dicts, create_record_function=create_fire_history_record)"
   ]
  },
  {
   "cell_type": "code",
   "execution_count": 115,
   "id": "4e2e5b98-3e53-47fd-8aa8-06b9b6cbeef5",
   "metadata": {},
   "outputs": [
    {
     "data": {
      "text/plain": [
       "66"
      ]
     },
     "execution_count": 115,
     "metadata": {},
     "output_type": "execute_result"
    }
   ],
   "source": [
    "len(records)"
   ]
  },
  {
   "cell_type": "code",
   "execution_count": 116,
   "id": "30d1ff4f-9307-4ca1-b5ed-01b639294fc9",
   "metadata": {},
   "outputs": [
    {
     "data": {
      "text/plain": [
       "[{'site_label': 'CRC09B7UVH',\n",
       "  'fire_date': '2020-02-10',\n",
       "  'earliest_date': datetime.date(2020, 2, 10),\n",
       "  'latest_date': datetime.date(2020, 2, 10),\n",
       "  'how_inferred': 'NPWS',\n",
       "  'cause_of_ignition': 'lightning'},\n",
       " {'site_label': 'CRC09B7UVH',\n",
       "  'fire_date': '2006-11-24',\n",
       "  'earliest_date': datetime.date(2006, 11, 24),\n",
       "  'latest_date': datetime.date(2006, 11, 24),\n",
       "  'how_inferred': 'NPWS',\n",
       "  'cause_of_ignition': 'Wildfire'},\n",
       " {'site_label': 'CRC09B7UVH',\n",
       "  'fire_date': '1986',\n",
       "  'earliest_date': datetime.date(1986, 1, 1),\n",
       "  'latest_date': datetime.date(1986, 12, 31),\n",
       "  'how_inferred': 'NPWS',\n",
       "  'cause_of_ignition': 'Wildfire'}]"
      ]
     },
     "execution_count": 116,
     "metadata": {},
     "output_type": "execute_result"
    }
   ],
   "source": [
    "records[0:3]"
   ]
  },
  {
   "cell_type": "code",
   "execution_count": 117,
   "id": "aeeb711e-9fa7-491e-a8f4-24336ec8a141",
   "metadata": {},
   "outputs": [
    {
     "name": "stdout",
     "output_type": "stream",
     "text": [
      "Connecting to the PostgreSQL database...\n",
      "66 rows updated\n",
      "Database connection closed.\n"
     ]
    }
   ],
   "source": [
    "batch_upsert(params,\"form.fire_history\",records,keycol=('site_label','fire_date'), idx='fire_history_pkey1',execute=True)"
   ]
  },
  {
   "cell_type": "markdown",
   "id": "977de256-a6c1-4cd2-b746-ccc501894ced",
   "metadata": {
    "jp-MarkdownHeadingCollapsed": true,
    "tags": []
   },
   "source": [
    "### RF NE NSW SE Qld"
   ]
  },
  {
   "cell_type": "code",
   "execution_count": 118,
   "id": "f57341c0-e7f5-4d15-a947-b7e33bb945dc",
   "metadata": {},
   "outputs": [
    {
     "data": {
      "text/plain": [
       "['Site',\n",
       " 'Replicate',\n",
       " 'Date of last fire dd/mm/yyyy',\n",
       " 'Date of penultimate fire',\n",
       " 'Date of earlier fire',\n",
       " 'How date inferred1',\n",
       " 'How date inferred2',\n",
       " 'How date inferred3',\n",
       " 'Ignition cause1',\n",
       " 'Ignition cause2',\n",
       " 'Ignition cause3']"
      ]
     },
     "execution_count": 118,
     "metadata": {},
     "output_type": "execute_result"
    }
   ],
   "source": [
    "filename='UNSW_VegFireResponse_RMK_reformat_Sep2021a.xlsx'\n",
    "wbindex[filename][worksheet][0][0:11]"
   ]
  },
  {
   "cell_type": "code",
   "execution_count": 120,
   "id": "ea8ef345-aff1-4745-8a18-f6a4cc22c82f",
   "metadata": {},
   "outputs": [
    {
     "name": "stdout",
     "output_type": "stream",
     "text": [
      "Connecting to the PostgreSQL database...\n",
      "51 rows updated\n",
      "Database connection closed.\n"
     ]
    }
   ],
   "source": [
    "col_dicts=[{'site_label':0,'fire_date':2,'how_inferred':5,'cause_of_ignition':8},\n",
    "    {'site_label':0,'fire_date':3,'how_inferred':6,'cause_of_ignition':9},\n",
    "    {'site_label':0,'fire_date':4,'how_inferred':7,'cause_of_ignition':10}]\n",
    "records = import_records_from_workbook(inputdir, filename, worksheet, col_dicts, create_record_function=create_fire_history_record)\n",
    "batch_upsert(params,\"form.fire_history\",records,keycol=('site_label','fire_date'), idx='fire_history_pkey1',execute=True)"
   ]
  },
  {
   "cell_type": "markdown",
   "id": "6e520dd2-10b4-423f-9703-af5afb8bc6bf",
   "metadata": {
    "jp-MarkdownHeadingCollapsed": true,
    "tags": []
   },
   "source": [
    "### Yatteyattah\n"
   ]
  },
  {
   "cell_type": "code",
   "execution_count": 124,
   "id": "c13dff8d-be27-4a9a-90b0-d7e9f92deb14",
   "metadata": {},
   "outputs": [
    {
     "data": {
      "text/plain": [
       "['Site',\n",
       " 'Date of last fire dd/mm/yyyy',\n",
       " 'Date of penultimate fire',\n",
       " 'Date of earlier fire',\n",
       " 'How date inferred1',\n",
       " 'How date inferred2',\n",
       " 'How date inferred3',\n",
       " 'Ignition cause1',\n",
       " 'Ignition cause2',\n",
       " 'Ignition cause3',\n",
       " 'Scorch hgt (m)']"
      ]
     },
     "execution_count": 124,
     "metadata": {},
     "output_type": "execute_result"
    }
   ],
   "source": [
    "filename='UNSW_VegFireResponse_DataEntry_Yatteyattah all +DK +Milton_revisedfields_Mar2022.xlsx'\n",
    "wbindex[filename][worksheet][0][0:11]"
   ]
  },
  {
   "cell_type": "code",
   "execution_count": 125,
   "id": "c0d4ef51-9b84-4d5f-89c6-e71d16ea2e5d",
   "metadata": {},
   "outputs": [
    {
     "name": "stdout",
     "output_type": "stream",
     "text": [
      "Connecting to the PostgreSQL database...\n",
      "20 rows updated\n",
      "Database connection closed.\n"
     ]
    }
   ],
   "source": [
    "col_dicts=[{'site_label':0,'fire_date':1,'how_inferred':4,'cause_of_ignition':7},\n",
    "    {'site_label':0,'fire_date':2,'how_inferred':5,'cause_of_ignition':8},\n",
    "    {'site_label':0,'fire_date':3,'how_inferred':6,'cause_of_ignition':9}]\n",
    "records = import_records_from_workbook(inputdir, filename, worksheet, col_dicts, create_record_function=create_fire_history_record)\n",
    "batch_upsert(params,\"form.fire_history\",records,keycol=('site_label','fire_date'), idx='fire_history_pkey1',execute=True)"
   ]
  },
  {
   "cell_type": "markdown",
   "id": "56e91e70-1f5a-4b44-aa68-40d2492c21dd",
   "metadata": {
    "jp-MarkdownHeadingCollapsed": true,
    "tags": []
   },
   "source": [
    "### Robertson Rainforest"
   ]
  },
  {
   "cell_type": "code",
   "execution_count": 131,
   "id": "8c81f55e-ba21-4913-89fb-e5d4b4f71ed2",
   "metadata": {},
   "outputs": [
    {
     "data": {
      "text/plain": [
       "['Site',\n",
       " 'Replicate',\n",
       " 'Date of last fire dd/mm/yyyy',\n",
       " 'Date of penultimate fire',\n",
       " 'Date of earlier fire',\n",
       " 'How date inferred1',\n",
       " 'How date inferred2',\n",
       " 'How date inferred3',\n",
       " 'Ignition cause1',\n",
       " 'Ignition cause2',\n",
       " 'Ignition cause3',\n",
       " 'Scorch hgt (m) min',\n",
       " 'Scorch hgt (m) mas']"
      ]
     },
     "execution_count": 131,
     "metadata": {},
     "output_type": "execute_result"
    }
   ],
   "source": [
    "filename='RobertsonRF_data_bionet2.xlsx'\n",
    "wbindex[filename][worksheet][0][0:13]"
   ]
  },
  {
   "cell_type": "code",
   "execution_count": 132,
   "id": "60dec876-57cf-4cb0-ace3-2a9542b53228",
   "metadata": {},
   "outputs": [
    {
     "name": "stdout",
     "output_type": "stream",
     "text": [
      "Connecting to the PostgreSQL database...\n",
      "4 rows updated\n",
      "Database connection closed.\n"
     ]
    }
   ],
   "source": [
    "col_dicts=[{'site_label':0,'fire_date':2,'how_inferred':5,'cause_of_ignition':8},\n",
    "    {'site_label':0,'fire_date':3,'how_inferred':6,'cause_of_ignition':9},\n",
    "    {'site_label':0,'fire_date':4,'how_inferred':7,'cause_of_ignition':10}]\n",
    "records = import_records_from_workbook(inputdir, filename, worksheet, col_dicts, create_record_function=create_fire_history_record)\n",
    "batch_upsert(params,\"form.fire_history\",records,keycol=('site_label','fire_date'), idx='fire_history_pkey1',execute=True)"
   ]
  },
  {
   "cell_type": "markdown",
   "id": "245975e1-b364-4912-925e-8558f6960863",
   "metadata": {
    "tags": []
   },
   "source": [
    "### Alpine bogs"
   ]
  },
  {
   "cell_type": "code",
   "execution_count": 134,
   "id": "342f8612-b8f8-49fa-a559-13a140e4b0ee",
   "metadata": {},
   "outputs": [
    {
     "data": {
      "text/plain": [
       "['Site',\n",
       " 'Replicate',\n",
       " 'Date of last fire dd/mm/yyyy',\n",
       " 'Date of penultimate fire',\n",
       " 'Date of earlier fire',\n",
       " 'How date inferred1',\n",
       " 'How date inferred2',\n",
       " 'How date inferred3',\n",
       " 'Ignition cause1',\n",
       " 'Ignition cause2',\n",
       " 'Ignition cause3',\n",
       " 'Scorch hgt (m)',\n",
       " '% Tree foliage scorch']"
      ]
     },
     "execution_count": 134,
     "metadata": {},
     "output_type": "execute_result"
    }
   ],
   "source": [
    "filename='UNSW_VegFireResponse_AlpineBogs_reformat_Sep2021.xlsx'\n",
    "wbindex[filename][worksheet][0][0:13]"
   ]
  },
  {
   "cell_type": "code",
   "execution_count": 135,
   "id": "bae155a5-fa63-437e-98c3-0bdef623a994",
   "metadata": {},
   "outputs": [
    {
     "name": "stdout",
     "output_type": "stream",
     "text": [
      "Connecting to the PostgreSQL database...\n",
      "12 rows updated\n",
      "Database connection closed.\n"
     ]
    }
   ],
   "source": [
    "col_dicts=[{'site_label':0,'fire_date':2,'how_inferred':5,'cause_of_ignition':8},\n",
    "    {'site_label':0,'fire_date':3,'how_inferred':6,'cause_of_ignition':9},\n",
    "    {'site_label':0,'fire_date':4,'how_inferred':7,'cause_of_ignition':10}]\n",
    "records = import_records_from_workbook(inputdir, filename, worksheet, col_dicts, create_record_function=create_fire_history_record)\n",
    "batch_upsert(params,\"form.fire_history\",records,keycol=('site_label','fire_date'), idx='fire_history_pkey1',execute=True)"
   ]
  },
  {
   "cell_type": "markdown",
   "id": "d870e5cc-de1e-4894-a459-732ec3284112",
   "metadata": {},
   "source": [
    "### KNP Alpine Ash"
   ]
  },
  {
   "cell_type": "code",
   "execution_count": 137,
   "id": "b8830524-d727-4e0e-89ed-239e9278b500",
   "metadata": {},
   "outputs": [
    {
     "data": {
      "text/plain": [
       "['Site',\n",
       " 'Replicate',\n",
       " 'Date of last fire dd/mm/yyyy',\n",
       " 'Date of penultimate fire',\n",
       " 'Date of earlier fire',\n",
       " 'How date inferred1',\n",
       " 'How date inferred2',\n",
       " 'How date inferred3',\n",
       " 'Ignition cause1',\n",
       " 'Ignition cause2',\n",
       " 'Ignition cause3',\n",
       " 'Scorch hgt (m) min',\n",
       " 'Scorch hgt (m) max']"
      ]
     },
     "execution_count": 137,
     "metadata": {},
     "output_type": "execute_result"
    }
   ],
   "source": [
    "filename='UNSW_VegFireResponse_KNP AlpAsh_firehistupdate.xlsx'\n",
    "wbindex[filename][worksheet][0][0:13]"
   ]
  },
  {
   "cell_type": "code",
   "execution_count": 138,
   "id": "b932f560-d81f-494e-ae6c-6ba42a35497a",
   "metadata": {},
   "outputs": [
    {
     "name": "stdout",
     "output_type": "stream",
     "text": [
      "Connecting to the PostgreSQL database...\n",
      "8 rows updated\n",
      "Database connection closed.\n"
     ]
    }
   ],
   "source": [
    "col_dicts=[{'site_label':0,'fire_date':2,'how_inferred':5,'cause_of_ignition':8},\n",
    "    {'site_label':0,'fire_date':3,'how_inferred':6,'cause_of_ignition':9},\n",
    "    {'site_label':0,'fire_date':4,'how_inferred':7,'cause_of_ignition':10}]\n",
    "records = import_records_from_workbook(inputdir, filename, worksheet, col_dicts, create_record_function=create_fire_history_record)\n",
    "batch_upsert(params,\"form.fire_history\",records,keycol=('site_label','fire_date'), idx='fire_history_pkey1',execute=True)"
   ]
  },
  {
   "cell_type": "markdown",
   "id": "bf85b7f3-678b-4862-b8a1-047418ad5435",
   "metadata": {},
   "source": [
    "## Manual updates to the table"
   ]
  },
  {
   "cell_type": "code",
   "execution_count": 276,
   "id": "d7945617-919b-455a-b704-a8cd2456eed5",
   "metadata": {},
   "outputs": [],
   "source": [
    "qries = [\"\"\"\n",
    "UPDATE form.fire_history \n",
    "SET earliest_date='2020-01-01', latest_date='2020-01-31' \n",
    "WHERE fire_date IN ('__/01/2020', 'Jan 2020', 'Jan. 2020') \n",
    "AND earliest_date is NULL AND latest_date is NULL;\n",
    "\"\"\",\n",
    "\"\"\"\n",
    "UPDATE form.fire_history \n",
    "SET earliest_date='2021-01-01', latest_date='2021-01-31' \n",
    "WHERE fire_date IN ('1/2021') \n",
    "AND earliest_date is NULL AND latest_date is NULL;\n",
    "\"\"\", \n",
    "\"\"\"\n",
    "UPDATE form.fire_history \n",
    "SET earliest_date='1940-01-01', latest_date='1949-12-31' \n",
    "WHERE fire_date IN ('1940''s') \n",
    "AND earliest_date is NULL AND latest_date is NULL;\n",
    "\"\"\", \n",
    "\"\"\"\n",
    "UPDATE form.fire_history \n",
    "SET earliest_date='1950-01-01', latest_date='1959-12-31' \n",
    "WHERE fire_date IN ('1950''s') \n",
    "AND earliest_date is NULL AND latest_date is NULL;\n",
    "\"\"\", \n",
    "\"\"\"\n",
    "UPDATE form.fire_history \n",
    "SET earliest_date='2021-01-04', latest_date='2021-01-04' \n",
    "WHERE fire_date IN ('4/1/21') \n",
    "AND earliest_date is NULL AND latest_date is NULL;\n",
    "\"\"\", \n",
    "\"\"\"\n",
    "UPDATE form.fire_history \n",
    "SET earliest_date='2019-11-09', latest_date='2019-11-09' \n",
    "WHERE fire_date IN ('9/11/2019') \n",
    "AND earliest_date is NULL AND latest_date is NULL;\n",
    "\"\"\", \n",
    "\"\"\"\n",
    "UPDATE form.fire_history \n",
    "SET earliest_date='2019-11-01', latest_date='2019-11-30' \n",
    "WHERE fire_date IN ('Nov. 2019') \n",
    "AND earliest_date is NULL AND latest_date is NULL;\n",
    "\"\"\", \n",
    "\"\"\"\n",
    "UPDATE form.fire_history \n",
    "SET earliest_date='2019-11-15', latest_date='2019-11-30' \n",
    "WHERE fire_date IN ('Late Nov. 2019') \n",
    "AND earliest_date is NULL AND latest_date is NULL;\n",
    "\"\"\", \n",
    "\"\"\"\n",
    "UPDATE form.fire_history \n",
    "SET latest_date='1951-12-31' \n",
    "WHERE fire_date IN ('pre ~1951') \n",
    "AND earliest_date is NULL AND latest_date is NULL;\n",
    "\"\"\", \n",
    "\"\"\"\n",
    "UPDATE form.fire_history \n",
    "SET latest_date='1990-12-31' \n",
    "WHERE fire_date IN ('>30yrs') \n",
    "AND earliest_date is NULL AND latest_date is NULL;\n",
    "\"\"\"]\n",
    " \n"
   ]
  },
  {
   "cell_type": "code",
   "execution_count": 277,
   "id": "0a7fb6b0-b449-4ebc-9cad-b200ca332955",
   "metadata": {},
   "outputs": [
    {
     "name": "stdout",
     "output_type": "stream",
     "text": [
      "Connecting to the PostgreSQL database...\n",
      "0\n",
      "Database connection closed.\n"
     ]
    }
   ],
   "source": [
    "print('Connecting to the PostgreSQL database...')\n",
    "conn = psycopg2.connect(**params)\n",
    "cur = conn.cursor()\n",
    "\n",
    "updated_rows=0\n",
    "for upd in qries:\n",
    "    cur.execute(upd)\n",
    "    updated_rows = updated_rows + cur.rowcount\n",
    "\n",
    "print(updated_rows)\n",
    "conn.commit()\n",
    "cur.close()\n",
    "if conn is not None:\n",
    "    conn.close()\n",
    "    print('Database connection closed.')\n",
    " "
   ]
  },
  {
   "cell_type": "markdown",
   "id": "4615d3e3-d3fa-4141-be53-5700105aab32",
   "metadata": {
    "tags": []
   },
   "source": [
    "### Newnes\n",
    "Data from Newnes is present in each individual worksheet.\n",
    "Edited site labels for BUD1 and BS1 to match data in database."
   ]
  },
  {
   "cell_type": "code",
   "execution_count": 246,
   "id": "e41ef8f4-b103-4838-8e67-78e95a57105f",
   "metadata": {},
   "outputs": [
    {
     "data": {
      "text/plain": [
       "dict_keys(['BS1', 'BS2', 'MW1', 'MW2', 'HV1', 'HV2', 'SS1', 'SS2', 'BUD1', 'BUD2', 'GGE1', 'GGE2', 'GGW1', 'GGW2', 'CW1', 'CW2', 'CC1', 'CC2', 'EW1', 'EW2', 'Species Metadata', 'Site', 'PivotFreq_Mar+Nov2020', 'Floristics', 'PivotCount-Mar+Nov2020', 'MaxCount-Mar+Nov2020_gt3', 'MaxCount-Mar+Nov2020_allspp', 'csvR_MaxCount_allspp', 'MaxFreq-Mar+Nov2020_gt3', 'Pivot-MarData', 'Sheet4', 'LiveResprouts_sum', 'Sheet5', 'FireKilled_sum', 'Sheet3', 'TotLive_freqscore', 'FireSurvival', 'Rfile-Ord', 'R-surv'])"
      ]
     },
     "execution_count": 246,
     "metadata": {},
     "output_type": "execute_result"
    }
   ],
   "source": [
    "filename='Fire response quadrat survey Newnes Nov2020_DK_revised IDs+AllNovData.xlsm'\n",
    "wbindex[filename].keys()\n",
    "#worksheet='Fire'\n",
    "#"
   ]
  },
  {
   "cell_type": "code",
   "execution_count": 270,
   "id": "b6b5e2f3-6d2b-4f88-9ffe-2c96929be85d",
   "metadata": {},
   "outputs": [],
   "source": [
    "wb = openpyxl.load_workbook(inputdir/filename, read_only=True)\n",
    "\n"
   ]
  },
  {
   "cell_type": "code",
   "execution_count": 271,
   "id": "3a890cec-ab11-47de-94a7-520c70fc7e48",
   "metadata": {},
   "outputs": [],
   "source": [
    "def extract_fire_history(ws):\n",
    "    records=list()\n",
    "    for k in range(1,5):\n",
    "        row = ws[k]\n",
    "        for j in range(0,5):\n",
    "            val=row[j].value\n",
    "            if val is not None:\n",
    "                if val.find(\"Sample Identifier\")>=0:\n",
    "                    target_label=ws.cell(row=k,column=j+3)\n",
    "                if val.find(\"Fire History\")>=0:\n",
    "                    target_fh=ws.cell(row=k,column=j+1)\n",
    "    #            print(\"%s/%s: %s\" % (k,j,val))\n",
    "    site_label=target_label.value.strip(\" \")\n",
    "    \n",
    "    index=dict()\n",
    "    switch={'Date':'fire_date','How inferred':'how_inferred','Cause of ignition':'cause_of_ignition'}\n",
    "    k = target_fh.row\n",
    "    for j in range(target_fh.column,target_fh.column+10):\n",
    "        val=ws.cell(row=k,column=j).value\n",
    "        if val in switch.keys():\n",
    "            index[switch[val]]=j\n",
    "    #print(index)\n",
    "\n",
    "    for k in range(target_fh.row+1,target_fh.row+4):\n",
    "        record={'site_label':site_label}\n",
    "        comms=list()\n",
    "        for w in index:\n",
    "            j=index[w]\n",
    "            val=ws.cell(row=k,column=j).value\n",
    "            if val is not None:\n",
    "                record[w]=val\n",
    "                if w=='fire_date':\n",
    "                    if isinstance(val,datetime):\n",
    "                        record['fire_date']=str(val.date())\n",
    "                        record['earliest_date']=val.date()\n",
    "                        record['latest_date']=val.date()\n",
    "                    elif isinstance(val,int):\n",
    "                        record['fire_date']=str(val)\n",
    "                        if val>0:\n",
    "                            record['earliest_date']=datetime(val,1,1).date()\n",
    "                            record['latest_date']=datetime(val,12,31).date()\n",
    "                        else:\n",
    "                            comms.append('Fire date is missing or empty')\n",
    "                    elif vals.isnumeric():\n",
    "                        record['fire_date']=str(val)\n",
    "                        record['earliest_date']=datetime(int(val),1,1).date()\n",
    "                        record['latest_date']=datetime(int(val),12,31).date()\n",
    "                    else:\n",
    "                        record['fire_date']=val\n",
    "                        comms.append('Fire date given as: %s' % val)\n",
    "                        found=re.findall(\"[<>]\",val)\n",
    "                        for i in found:\n",
    "                            comms.append('max/min value given')\n",
    "                            val=val.replace(i,\"\")\n",
    "                        ws=val.split(\"-\")\n",
    "                        if len(ws)==2:\n",
    "                            if len(ws[0])==4 and ws[0].isnumeric():\n",
    "                                record['earliest_date']=datetime(int(ws[0]),1,1).date()\n",
    "                            if len(ws[1])==4 and ws[1].isnumeric():\n",
    "                                record['latest_date']=datetime(int(ws[1]),12,31).date()\n",
    "                            elif len(ws[1])==2 and ws[1].isnumeric():\n",
    "                                fch2=ws[0][0:2]+ws[1]\n",
    "                                record['latest_date']=datetime(int(fch2),12,31).date()\n",
    "    \n",
    "        if len(comms)>0:\n",
    "            record['notes'] = comms\n",
    "        if len(record)>1:\n",
    "            records.append(record) \n",
    "        return records\n",
    "                "
   ]
  },
  {
   "cell_type": "code",
   "execution_count": 272,
   "id": "e626abec-2560-425f-afb7-ad4c6e9856f9",
   "metadata": {},
   "outputs": [
    {
     "data": {
      "text/plain": [
       "[{'site_label': 'BS1',\n",
       "  'fire_date': '2019-12-16',\n",
       "  'earliest_date': datetime.date(2019, 12, 16),\n",
       "  'latest_date': datetime.date(2019, 12, 16),\n",
       "  'how_inferred': 'RFS records',\n",
       "  'cause_of_ignition': 'lightning - Gospers Mtn'}]"
      ]
     },
     "execution_count": 272,
     "metadata": {},
     "output_type": "execute_result"
    }
   ],
   "source": [
    "extract_fire_history(wb['BS1'])"
   ]
  },
  {
   "cell_type": "code",
   "execution_count": 273,
   "id": "3fd558df-aee4-4e49-891d-519eacf0a2b2",
   "metadata": {},
   "outputs": [],
   "source": [
    "records=list()\n",
    "for ws in ('BS1', 'BS2', 'MW1', 'MW2', 'HV1', 'HV2', 'SS1', 'SS2', 'BUD1', 'BUD2', 'GGE1', 'GGE2', 'GGW1', 'GGW2', 'CW1', 'CW2', 'CC1', 'CC2', 'EW1', 'EW2'):\n",
    "    records.extend(extract_fire_history(wb[ws]))"
   ]
  },
  {
   "cell_type": "code",
   "execution_count": 274,
   "id": "f403808b-b432-42e4-9b77-cf6917b7cc46",
   "metadata": {},
   "outputs": [
    {
     "data": {
      "text/plain": [
       "19"
      ]
     },
     "execution_count": 274,
     "metadata": {},
     "output_type": "execute_result"
    }
   ],
   "source": [
    "len(records)\n",
    "##records"
   ]
  },
  {
   "cell_type": "code",
   "execution_count": 275,
   "id": "e8db7b2a-94a1-4765-a437-6ebe8f17578b",
   "metadata": {},
   "outputs": [
    {
     "name": "stdout",
     "output_type": "stream",
     "text": [
      "Connecting to the PostgreSQL database...\n",
      "19 rows updated\n",
      "Database connection closed.\n"
     ]
    }
   ],
   "source": [
    "batch_upsert(params,\"form.fire_history\",records,keycol=('site_label','fire_date'), idx='fire_history_pkey1',execute=True)"
   ]
  },
  {
   "cell_type": "code",
   "execution_count": 278,
   "id": "4b28d6ca-1965-4513-aae6-21ef8e58972f",
   "metadata": {},
   "outputs": [
    {
     "data": {
      "text/plain": [
       "['Site',\n",
       " 'Easting',\n",
       " 'Northing',\n",
       " 'Valley',\n",
       " 'Elev',\n",
       " 'Undermined',\n",
       " 'Fire interval',\n",
       " 'Census',\n",
       " 'Date',\n",
       " 'Scorch hgt',\n",
       " 'Shb foliage scorch',\n",
       " \"Shb foliage c'sume\",\n",
       " 'Herb foliage scorch',\n",
       " \"Herb foliage c'sume\",\n",
       " 'Twig diam mean',\n",
       " 'Twig diam se',\n",
       " 'Peat depth burnt',\n",
       " 'Peat extent burnt',\n",
       " 'Peat fire index',\n",
       " 'Postfire treehgt lower',\n",
       " 'Postfire treehgt upper',\n",
       " 'Postfire treehgt mode',\n",
       " 'Postfire treecov',\n",
       " 'Prefire shbhgt lower',\n",
       " 'Prefire shbhgt upper',\n",
       " 'Prefire shbhgt mode',\n",
       " 'Prefire shbcov',\n",
       " 'Postfire shbhgt lower',\n",
       " 'Postfire shbhgt upper',\n",
       " 'Postfire shbhgt mode',\n",
       " 'Postfire shbcov',\n",
       " 'Prefire hrbhgt lower',\n",
       " 'Prefire hrbhgt upper',\n",
       " 'Prefire hrbhgt mode',\n",
       " 'Prefire hrbcov',\n",
       " 'Postfire hrbhgt lower',\n",
       " 'Postfire hrbhgt upper',\n",
       " 'Postfire hrbhgt mode',\n",
       " 'Postfire hrbcov',\n",
       " 'Biomass A',\n",
       " 'Biomass B',\n",
       " 'Biomass C',\n",
       " 'Biomass D',\n",
       " 'Biomass E',\n",
       " 'Mean dry (60C) biomass (g)',\n",
       " 'CV biomass',\n",
       " 'Mean biomass (g/m2)',\n",
       " 'Native spp richness',\n",
       " 'Sediment depth (mm) 1',\n",
       " 'Sediment depth (mm) 2',\n",
       " 'Sediment depth (mm) 3',\n",
       " 'Sediment depth (mm) 4',\n",
       " 'Sediment depth (mm) 5',\n",
       " 'Sediment depth (mm) 6',\n",
       " 'Sediment depth (mm) 7',\n",
       " 'Sediment depth (mm) 8',\n",
       " 'Sediment depth (mm) 9']"
      ]
     },
     "execution_count": 278,
     "metadata": {},
     "output_type": "execute_result"
    }
   ],
   "source": []
  },
  {
   "cell_type": "code",
   "execution_count": null,
   "id": "e06eb7dc-ddfe-4be4-ab76-20462b64c472",
   "metadata": {},
   "outputs": [],
   "source": []
  }
 ],
 "metadata": {
  "kernelspec": {
   "display_name": "Python 3 (ipykernel)",
   "language": "python",
   "name": "python3"
  },
  "language_info": {
   "codemirror_mode": {
    "name": "ipython",
    "version": 3
   },
   "file_extension": ".py",
   "mimetype": "text/x-python",
   "name": "python",
   "nbconvert_exporter": "python",
   "pygments_lexer": "ipython3",
   "version": "3.10.2"
  }
 },
 "nbformat": 4,
 "nbformat_minor": 5
}
