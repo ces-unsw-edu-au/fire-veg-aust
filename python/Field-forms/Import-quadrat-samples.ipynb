{
 "cells": [
  {
   "cell_type": "markdown",
   "id": "815a2392-ade6-4043-a754-c5fc8b43b017",
   "metadata": {},
   "source": [
    "# Read files summarising field work and update database\n",
    "These Excel workbooks were imported on February 2022.\n",
    "\n",
    "The scripts documented here have been created to:\n",
    "\n",
    "- Read data from spreadsheets with field-work data\n",
    "- Create records for data import into the database\n",
    "- Insert or update records in the database\n"
   ]
  },
  {
   "cell_type": "markdown",
   "id": "f2de45e0-a286-4a28-90b7-32af9bd311e0",
   "metadata": {},
   "source": [
    "## Set-up\n",
    "Load libraries "
   ]
  },
  {
   "cell_type": "code",
   "execution_count": 1,
   "id": "47eadb90-b36c-4ae6-a783-7b8e9c4f6218",
   "metadata": {},
   "outputs": [],
   "source": [
    "import openpyxl\n",
    "from pathlib import Path\n",
    "import os\n",
    "from datetime import datetime\n",
    "from configparser import ConfigParser\n",
    "import psycopg2\n",
    "from psycopg2.extras import DictCursor\n",
    "from psycopg2.extensions import AsIs\n",
    "#import postgis"
   ]
  },
  {
   "cell_type": "markdown",
   "id": "9cf9fde4-3058-4347-8847-f7486326d23e",
   "metadata": {},
   "source": [
    "Define path to workbooks"
   ]
  },
  {
   "cell_type": "code",
   "execution_count": 2,
   "id": "685f98ff-9f63-413d-b6be-d77398ca4c5c",
   "metadata": {},
   "outputs": [],
   "source": [
    "repodir = Path(\"../../\") \n",
    "inputdir = repodir / \"data\" / \"field-form\""
   ]
  },
  {
   "cell_type": "markdown",
   "id": "f56bab42-3c7e-4100-ba00-1d75897daa11",
   "metadata": {},
   "source": [
    " ### DB connection parameters and helper functions\n",
    " \n",
    " Database credentials are stored in a database.ini file"
   ]
  },
  {
   "cell_type": "code",
   "execution_count": 3,
   "id": "1f6dd8a2-ab5f-4677-b9d3-abdc59cd16c8",
   "metadata": {},
   "outputs": [],
   "source": [
    "filename = repodir / 'secrets' / 'database.ini'\n",
    "section = 'aws-lght-sl'\n",
    "\n",
    "# create a parser\n",
    "parser = ConfigParser()\n",
    "# read config file\n",
    "parser.read(filename)\n",
    "\n",
    "# get section, default to postgresql\n",
    "db = {}\n",
    "if parser.has_section(section):\n",
    "    params = parser.items(section)\n",
    "    for param in params:\n",
    "        db[param[0]] = param[1]\n",
    "else:\n",
    "    raise Exception('Section {0} not found in the {1} file'.format(section, filename))\n",
    "\n",
    "params = db"
   ]
  },
  {
   "cell_type": "markdown",
   "id": "8c2ca7d6-91a0-4c1c-827e-f46d39a346f0",
   "metadata": {},
   "source": [
    "Get updated vocabularies from database"
   ]
  },
  {
   "cell_type": "code",
   "execution_count": 4,
   "id": "454b734d-a061-4ebe-9b2b-e0d03693b2e5",
   "metadata": {},
   "outputs": [
    {
     "name": "stdout",
     "output_type": "stream",
     "text": [
      "Connecting to the PostgreSQL database...\n",
      "Database connection closed.\n"
     ]
    }
   ],
   "source": [
    "# connect to the PostgreSQL server\n",
    "print('Connecting to the PostgreSQL database...')\n",
    "conn = psycopg2.connect(**params)\n",
    "cur = conn.cursor()\n",
    "#valid_organ=('Epicormic', 'Apical', 'Lignotuber', 'Basal','Tuber','Tussock','Short rhizome', 'Long rhizome or root sucker', 'Stolon', 'None', 'Other')\n",
    "#valid_seedbank=('Soil-persistent', 'Transient', 'Canopy','Non-canopy','Other')\n",
    "\n",
    "cur.execute(\"SELECT enumlabel FROM pg_enum e LEFT JOIN pg_type t ON e.enumtypid=t.oid where typname='resprout_organ_vocabulary';\")\n",
    "valid_organ_list = cur.fetchall()\n",
    "organ_vocab = [item for t in valid_organ_list for item in t]\n",
    "\n",
    "cur.execute(\"SELECT enumlabel FROM pg_enum e LEFT JOIN pg_type t ON e.enumtypid=t.oid where typname='seedbank_vocabulary';\")\n",
    "valid_seedbank_list = cur.fetchall()\n",
    "seedbank_vocab = [item for t in valid_seedbank_list for item in t]\n",
    "\n",
    "cur.close()\n",
    "        \n",
    "if conn is not None:\n",
    "    conn.close()\n",
    "    print('Database connection closed.')"
   ]
  },
  {
   "cell_type": "markdown",
   "id": "e85a8164-c756-4d33-bc8c-24c7b0de630f",
   "metadata": {},
   "source": [
    "Define a function to batch process insert or update queries:"
   ]
  },
  {
   "cell_type": "code",
   "execution_count": 5,
   "id": "5fa64da4-5d01-41ef-88a6-369699ae8ddf",
   "metadata": {},
   "outputs": [],
   "source": [
    "def batch_upsert(params,table,records,keycol,idx, execute=False,useconn=None):\n",
    "    if useconn is None:\n",
    "        # connect to the PostgreSQL server\n",
    "        print('Connecting to the PostgreSQL database...')\n",
    "        conn = psycopg2.connect(**params)\n",
    "    else:\n",
    "        conn = useconn\n",
    "    cur = conn.cursor()\n",
    "    #postgis.register(cur)\n",
    "    updated_rows=0\n",
    "\n",
    "    for record in records:\n",
    "        if len(record.keys())>len(keycol):\n",
    "            if 'geom' in record.keys():\n",
    "                the_geom=record['geom']\n",
    "                record['geom']='GEOMSTR'\n",
    "            if idx is not None:\n",
    "                qrystr = \"INSERT INTO %s (%s) values %s ON CONFLICT ON CONSTRAINT %s DO UPDATE SET %s\"\n",
    "                upd=list()\n",
    "                for k in record.keys():\n",
    "                    if k not in keycol:\n",
    "                        upd.append(\"{col}=EXCLUDED.{col}\".format(col=k))\n",
    "                qry = cur.mogrify(qrystr, (AsIs(table),\n",
    "                                AsIs(','.join(record.keys())),\n",
    "                                tuple(record.values()),\n",
    "                                AsIs(idx),\n",
    "                                AsIs(','.join(upd))\n",
    "                               ))\n",
    "            else:\n",
    "                qrystr = \"INSERT INTO %s (%s) values %s ON CONFLICT DO NOTHING\"\n",
    "                qry = cur.mogrify(qrystr, (AsIs(table),\n",
    "                                AsIs(','.join(record.keys())),\n",
    "                                tuple(record.values())\n",
    "                               ))\n",
    "\n",
    "            if 'geom' in record.keys():\n",
    "                qry=qry.decode('utf-8')\n",
    "                qry=qry.replace(\"'GEOMSTR'\",the_geom)\n",
    "                record['geom']=the_geom\n",
    "\n",
    "            if execute:\n",
    "                cur.execute(qry)\n",
    "                if cur.rowcount > 0:\n",
    "                    updated_rows = updated_rows + cur.rowcount\n",
    "            else:\n",
    "                print(qry)\n",
    "            \n",
    "    conn.commit()        \n",
    "    cur.close()\n",
    "    print(\"%s rows updated\" % (updated_rows))\n",
    "        \n",
    "    if useconn is None and conn is not None:\n",
    "        conn.close()\n",
    "        print('Database connection closed.')\n",
    "\n",
    "        "
   ]
  },
  {
   "cell_type": "markdown",
   "id": "6de56199-ed22-4d84-912e-84c76a280ab7",
   "metadata": {},
   "source": [
    "Just a test with random data, use `execute=False` to print the query:"
   ]
  },
  {
   "cell_type": "code",
   "execution_count": 6,
   "id": "6eaf53be-eed4-4226-8ac2-8a7ce52e9df3",
   "metadata": {},
   "outputs": [
    {
     "name": "stdout",
     "output_type": "stream",
     "text": [
      "Connecting to the PostgreSQL database...\n",
      "INSERT INTO form.field_site (site_label,geom) values ('test', ST_GeomFromText('POINT(1 2)', 4326)) ON CONFLICT ON CONSTRAINT field_site_pkey1 DO UPDATE SET geom=EXCLUDED.geom\n",
      "0 rows updated\n",
      "Database connection closed.\n"
     ]
    }
   ],
   "source": [
    "record={'site_label':'test','geom':\"ST_GeomFromText('POINT(1 2)', 4326)\"}\n",
    "batch_upsert(params,\"form.field_site\",(record,),keycol=('site_label',), idx='field_site_pkey1',execute=False)"
   ]
  },
  {
   "cell_type": "code",
   "execution_count": 7,
   "id": "f3dc82ea-b7e0-4aeb-b1fc-15e775649229",
   "metadata": {},
   "outputs": [
    {
     "name": "stdout",
     "output_type": "stream",
     "text": [
      "Connecting to the PostgreSQL database...\n",
      "INSERT INTO form.field_site (site_label,geom) values ('test', ST_GeomFromText('POINT(1 2)', 4326)) ON CONFLICT DO NOTHING\n",
      "0 rows updated\n",
      "Database connection closed.\n"
     ]
    }
   ],
   "source": [
    "batch_upsert(params,\"form.field_site\",(record,),keycol=('site_label',), idx=None,execute=False)"
   ]
  },
  {
   "cell_type": "markdown",
   "id": "bd6ffc73-f2c2-4ce1-b137-ff58a54d44a1",
   "metadata": {
    "tags": []
   },
   "source": [
    "## Read workbooks\n",
    "Each spreadsheet has a slightly different structure, so these scripts have to be adapted for each case.\n",
    "\n",
    "### List of workbooks/spreadsheets in directory"
   ]
  },
  {
   "cell_type": "code",
   "execution_count": 8,
   "id": "ef766fae-b8d3-440a-abc5-c4db547f7b7e",
   "metadata": {
    "tags": []
   },
   "outputs": [
    {
     "data": {
      "text/plain": [
       "['~$Fire response quadrat survey Newnes Nov2020_DK_revised IDs+AllNovData.xlsm',\n",
       " 'SthnNSWRF_data_bionet2.xlsx',\n",
       " '~$UNSW_VegFireResponse_DataEntry_Yatteyattah all +DK +Milton.xlsx',\n",
       " 'UNSWFireVegResponse_UplandBasalt_AlexThomsen+DK.xlsx',\n",
       " '~$UNSW_VegFireResponse_KNP AlpAsh.xlsx',\n",
       " 'UNSW_VegFireResponse_RMK_reformat_Sep2021a.xlsx',\n",
       " 'UNSW_VegFireResponse_DataEntry_Yatteyattah all +DK +Milton.xlsx',\n",
       " '~$UNSW_VegFireResponse_RMK_reformat_Sep2021a.xlsx',\n",
       " 'UNSW_VegFireResponse_KNP AlpAsh.xlsx',\n",
       " 'UNSW_VegFireResponse_AlpineBogs_reformat_Sep2021.xlsx',\n",
       " 'RobertsonRF_data_bionet2.xlsx',\n",
       " 'Fire response quadrat survey Newnes Nov2020_DK_revised IDs+AllNovData.xlsm']"
      ]
     },
     "execution_count": 8,
     "metadata": {},
     "output_type": "execute_result"
    }
   ],
   "source": [
    "os.listdir(inputdir)"
   ]
  },
  {
   "cell_type": "code",
   "execution_count": 9,
   "id": "7e4f052a-4351-40bc-ab3c-920431d42c7e",
   "metadata": {},
   "outputs": [],
   "source": [
    "valid_files = ['SthnNSWRF_data_bionet2.xlsx',\n",
    "               'UNSWFireVegResponse_UplandBasalt_AlexThomsen+DK.xlsx',\n",
    "               'UNSW_VegFireResponse_RMK_reformat_Sep2021a.xlsx',\n",
    "               'UNSW_VegFireResponse_DataEntry_Yatteyattah all +DK +Milton.xlsx',\n",
    "               'UNSW_VegFireResponse_KNP AlpAsh.xlsx',\n",
    "               'UNSW_VegFireResponse_AlpineBogs_reformat_Sep2021.xlsx',\n",
    "               'RobertsonRF_data_bionet2.xlsx',\n",
    "               'Fire response quadrat survey Newnes Nov2020_DK_revised IDs+AllNovData.xlsm']"
   ]
  },
  {
   "cell_type": "markdown",
   "id": "91fa2020-e8d8-4817-9498-f0155118ca1c",
   "metadata": {},
   "source": [
    "Here we create an index of worksheets and column headers for each file"
   ]
  },
  {
   "cell_type": "code",
   "execution_count": 19,
   "id": "7aba9482-c09f-4aff-be77-6cfd9ff08cf3",
   "metadata": {},
   "outputs": [],
   "source": [
    "wbindex=dict()\n",
    "for workbook_name in valid_files:\n",
    "    inputfile=inputdir / workbook_name\n",
    "    # using data_only=True to get the calculated cell values\n",
    "    wb = openpyxl.load_workbook(inputfile,data_only=True)\n",
    "    wbindex[workbook_name]=dict()\n",
    "    for ws in wb.worksheets:\n",
    "        wbindex[workbook_name][ws._WorkbookChild__title]=[list(),list()]\n",
    "        for k in range(1,ws.max_column):\n",
    "            wbindex[workbook_name][ws._WorkbookChild__title][0].append(ws.cell(row=1,column=k).value)\n",
    "            wbindex[workbook_name][ws._WorkbookChild__title][1].append(ws.cell(row=2,column=k).value)\n",
    "        "
   ]
  },
  {
   "cell_type": "markdown",
   "id": "bd1d91de-71ab-4b27-a306-58494eb26dd4",
   "metadata": {},
   "source": [
    "### Functions to read records and upload to database"
   ]
  },
  {
   "cell_type": "markdown",
   "id": "f4a3dcab-a44a-4b3d-9cba-5b83c5744bd0",
   "metadata": {
    "tags": []
   },
   "source": [
    "#### Functions to read records in a workbook"
   ]
  },
  {
   "cell_type": "markdown",
   "id": "0b2df6d8-e8a9-4ac0-844d-33efb1a833d3",
   "metadata": {},
   "source": [
    "We need a wrapping function to apply a lower level function (`create_record_function`) to all rows in a `worksheet` of the selected `workbook` using a dictionary `col_dictionary`, we add a `**kwargs` to pass additional arguments to the lower level function:"
   ]
  },
  {
   "cell_type": "code",
   "execution_count": 22,
   "id": "c5f3581b-2f25-4d79-8790-94e5450c17aa",
   "metadata": {},
   "outputs": [],
   "source": [
    "def import_records_from_workbook(filepath, workbook, worksheet, col_dictionary, create_record_function, **kwargs):\n",
    "    wb = openpyxl.load_workbook(filepath / workbook, data_only=True)\n",
    "    ws=wb[worksheet]\n",
    "    row_count = ws.max_row\n",
    "    records=list()\n",
    "    for k in range(2,row_count):\n",
    "        item=ws[k]\n",
    "        record=create_record_function(item,col_dictionary,**kwargs)\n",
    "        if record is not None:\n",
    "            if type(record)==list:\n",
    "                records.extend(record)\n",
    "            elif type(record)==dict:\n",
    "                records.append(record)\n",
    "    return records"
   ]
  },
  {
   "cell_type": "markdown",
   "id": "63cb01a2-2558-4897-9753-edf06c284e2e",
   "metadata": {
    "tags": []
   },
   "source": [
    "#### Create field sample records\n",
    "\n",
    "This is a lower level function that will create a field sample record from an `item` (a row in the spreadsheet), using the dictionary or \"switch\" in `sw`:"
   ]
  },
  {
   "cell_type": "code",
   "execution_count": 23,
   "id": "ea912eda-b64b-43aa-b758-78a95e182484",
   "metadata": {},
   "outputs": [],
   "source": [
    "def create_field_sample_record(item,sw):\n",
    "    visit_id=item[sw['visit_id']].value\n",
    "    visit_date = item[sw['date']].value \n",
    "    if visit_id is not None and visit_id not in ('Site Number'):\n",
    "        record={'visit_id': visit_id, 'replicate_nr': item[sw['replicate_nr']].value, 'sample_nr': item[sw['sample_nr']].value}\n",
    "        if isinstance(visit_date,datetime):\n",
    "            record['visit_date'] = visit_date.date()\n",
    "        return(record)"
   ]
  },
  {
   "cell_type": "markdown",
   "id": "a4c38acd-8760-4db4-b432-48ba056e48ef",
   "metadata": {},
   "source": [
    "#### Create quadrat sample records\n",
    "\n",
    "This is a lower level function that will create a quadrat sample record from an `item` (a row in the spreadsheet), using the dictionary or \"switch\" in `sw`. It uses a lookup table to fill information about the visit, and the vocabularies for seedbank and regenerative organ to translate raw values of these variables:"
   ]
  },
  {
   "cell_type": "code",
   "execution_count": 24,
   "id": "c5c9c7c2-14bc-4374-9d3b-dbc83b8b95fa",
   "metadata": {},
   "outputs": [],
   "source": [
    "def create_quadrat_sample_record(item,sw,lookup,valid_seedbank,valid_organ):\n",
    "    species=item[sw['species']].value\n",
    "    spcode=item[sw['spcode']].value\n",
    "    visit_date = item[sw['date']].value \n",
    "    visit_id =  item[sw['visit_id']].value\n",
    "    if species is not None:\n",
    "        record={'visit_id': visit_id, 'sample_nr': item[sw['sample_nr']].value,\n",
    "                'species': species}\n",
    "        comms=list()\n",
    "        if 'workbook' in sw.keys():\n",
    "            comms.append(\"Imported from workbook %s using python script\" % sw['workbook'])\n",
    "        if 'worksheet' in sw.keys():\n",
    "            comms.append(\"Imported from spreadsheet %s\" % sw['worksheet'])\n",
    "    \n",
    "        if isinstance(visit_date,datetime):\n",
    "            record['visit_date'] = visit_date.date()\n",
    "        else:\n",
    "            if 'replicate_nr' in sw.keys():\n",
    "                replicate_nr = item[sw['replicate_nr']]\n",
    "                p=filter(lambda n: n['visit_id'] == visit_id and  n['replicate_nr'] == replicate_nr, lookup)\n",
    "                found=list(p)\n",
    "                if len(found)==1 and 'visit_date' in found[0].keys():\n",
    "                    visit_date=found[0]['visit_date']\n",
    "                    if isinstance(visit_date,datetime):\n",
    "                        record['visit_date'] = visit_date.date()\n",
    "                        comms.append(\"visit date not provided, matched by replicate nr %s\" % replicate_nr)\n",
    "                        \n",
    "        if (isinstance(spcode, str) and spcode.isnumeric()) or isinstance(spcode,int):\n",
    "            record['species_code']=spcode\n",
    "         \n",
    "        for k in ('species_notes', 'resprout_organ', 'seedbank', 'adults_unburnt','resprouts_live', 'resprouts_died', 'resprouts_kill', 'resprouts_reproductive',\n",
    "                  'recruits_live', 'recruits_reproductive', 'recruits_died','notes'):\n",
    "            if k in sw.keys():\n",
    "                vals=item[sw[k]].value\n",
    "                if vals is not None and vals not in ('na','NA'):\n",
    "                    if k == 'resprout_organ':\n",
    "                        if vals in valid_organ:\n",
    "                            record[k]=vals\n",
    "                        elif vals.capitalize() in valid_organ:\n",
    "                            record[k]=vals.capitalize()\n",
    "                        else:\n",
    "                            comms.append(\"resprout organ written as %s\" % vals)\n",
    "                    elif k == 'seedbank':\n",
    "                        if vals in valid_seedbank:\n",
    "                            record[k]=vals\n",
    "                        elif vals.capitalize() in valid_seedbank:\n",
    "                            record[k]=vals.capitalize()\n",
    "                        else:\n",
    "                            comms.append(\"seedbank written as %s\" % vals)\n",
    "                    elif k == 'notes':\n",
    "                        comms.append(vals)\n",
    "                    elif k in ('adults_unburnt', 'resprouts_live', 'resprouts_died', 'resprouts_kill', 'resprouts_reproductive',\n",
    "                  'recruits_live', 'recruits_reproductive', 'recruits_died'):\n",
    "                        if isinstance(vals,int):\n",
    "                            record[k]=vals   \n",
    "                        else:\n",
    "                            comms.append(\"%s written as %s\" % (k,vals))\n",
    "                    else:\n",
    "                        record[k]=vals        \n",
    "        \n",
    "        if len(comms)>0:\n",
    "            record[\"comments\"]=comms \n",
    "        \n",
    "        return(record)"
   ]
  },
  {
   "cell_type": "markdown",
   "id": "984472d6-0546-494f-b310-be73a146819c",
   "metadata": {
    "tags": []
   },
   "source": [
    "#### Validate and update site/quadrat records to database\n",
    "\n",
    "This function filters a list of `records` to find unique records and then validate them against the information in table `field_visit` (visit_id, visit_date and replicate_nr). Any valid but missing records are inserted in table `field_visit` and the samples are inserted in table `field_sample`.\n"
   ]
  },
  {
   "cell_type": "code",
   "execution_count": 25,
   "id": "cc7d1a72-55b9-434b-8916-b21f8c9e0663",
   "metadata": {},
   "outputs": [],
   "source": [
    "def validate_and_update_site_records(records, useconn=None):\n",
    "    if useconn is None:\n",
    "        # connect to the PostgreSQL server\n",
    "        print('Connecting to the PostgreSQL database...')\n",
    "        conn = psycopg2.connect(**params)\n",
    "    else:\n",
    "        conn = useconn\n",
    "    conn = psycopg2.connect(**params)\n",
    "\n",
    "    cur = conn.cursor(cursor_factory=DictCursor)\n",
    "    unique_records = list()\n",
    "    sites = list()\n",
    "    for record in records:\n",
    "        if record not in unique_records:\n",
    "            unique_records.append(record)\n",
    "            if record['visit_id'] not in sites:\n",
    "                sites.append(record['visit_id'])\n",
    "    #alternative\n",
    "    #from psycopg2 import sql\n",
    "    #qry= sql.SQL('SELECT DISTINCT visit_id,visit_date,replicate_nr FROM form.field_visit WHERE visit_id IN ({}) ORDER by visit_id, visit_date;').format(\n",
    "    #    sql.SQL(',').join(map(sql.Literal, sites))\n",
    "    #)\n",
    "    qryvisits= cur.mogrify('SELECT DISTINCT visit_id,visit_date,replicate_nr FROM form.field_visit WHERE visit_id IN %s ORDER by visit_id, visit_date;',(tuple(sites),))\n",
    "    cur.execute(qryvisits)\n",
    "    ##print(qry)\n",
    "    visits = cur.fetchall()\n",
    "    updated_rows=0\n",
    "    for record in unique_records:\n",
    "        if any(d['visit_id'] == record['visit_id'] for d in visits):\n",
    "            if 'visit_date' in record.keys():\n",
    "                p=filter(lambda n: n['visit_id'] == record['visit_id'] and  n['visit_date'] == record['visit_date'], visits)\n",
    "                found=list(p)\n",
    "                record['found']=len(found)\n",
    "            elif 'replicate_nr' in record.keys():\n",
    "                p=filter(lambda n: n['visit_id'] == record['visit_id'] and  n['replicate_nr'] == record['replicate_nr'], visits)\n",
    "                found=list(p)\n",
    "                print(found)\n",
    "                record['found']=len(found)\n",
    "                record['visit_date']=found[0][1]\n",
    "            cur.execute('INSERT INTO form.field_visit(visit_id,visit_date) values %s ON CONFLICT DO NOTHING',\n",
    "                        (tuple([record['visit_id'],record['visit_date']]),))\n",
    "            if cur.rowcount > 0:\n",
    "                updated_rows = updated_rows + cur.rowcount\n",
    "            cur.execute('INSERT INTO form.field_samples(visit_id,visit_date,sample_nr) values %s ON CONFLICT DO NOTHING',\n",
    "                        (tuple([record['visit_id'],record['visit_date'],record['sample_nr']]),))\n",
    "            if cur.rowcount > 0:\n",
    "                updated_rows = updated_rows + cur.rowcount        \n",
    "        else:\n",
    "            print(\"%s not found\" % record['visit_id'])\n",
    "            record['found']=0\n",
    "\n",
    "    print(\"%s rows updated\" % updated_rows)\n",
    "    conn.commit()\n",
    "    \n",
    "    cur.execute(qryvisits)\n",
    "    ##print(qry)\n",
    "    updated_visits = cur.fetchall()\n",
    "\n",
    "    cur.close()\n",
    "\n",
    "    if useconn is None and conn is not None:\n",
    "        conn.close()\n",
    "        print('Database connection closed.')\n",
    "    return(updated_visits)\n",
    "\n"
   ]
  },
  {
   "cell_type": "markdown",
   "id": "ecc3543e-91fd-4f9b-a305-37d0bd33f090",
   "metadata": {},
   "source": [
    "#### Wrapping all steps together\n",
    "The following function will the above functions `import_records_from_workbook`, `create_field_sample_record`, `validate_and_update_site_records`, and `create_quadrat_sample_record` to process data from a workbook into records that are then imported into the database using `batch_upsert`."
   ]
  },
  {
   "cell_type": "code",
   "execution_count": 26,
   "id": "36559fb6-757f-4755-9424-657a9ba5f232",
   "metadata": {},
   "outputs": [],
   "source": [
    "def read_and_import_species_data(filepath,workbook,worksheet,col_dictionary,valid_seedbank,valid_organ):\n",
    "    quadrats = import_records_from_workbook(filepath, workbook, worksheet, col_dictionary,\n",
    "                                       create_field_sample_record)\n",
    "    valid_visits = validate_and_update_site_records(quadrats)\n",
    "    \n",
    "    records=import_records_from_workbook(filepath, workbook, worksheet, col_dictionary,\n",
    "                                         create_quadrat_sample_record,\n",
    "                                         lookup=valid_visits, valid_seedbank=valid_seedbank, valid_organ=valid_organ)\n",
    "    valid_records=list()\n",
    "    invalid_records=list()\n",
    "    for record in records:\n",
    "        p=filter(lambda n: n['visit_id'] == record['visit_id'] and  n['visit_date'] == record['visit_date'], valid_visits)\n",
    "        found=list(p)\n",
    "        if (len(found)==1):\n",
    "            valid_records.append(record)\n",
    "        else:\n",
    "            invalid_records.append(record)\n",
    "\n",
    "    print(\"%s valid records and %s invalid records\" % (len(valid_records), len(invalid_records)))\n",
    "    \n",
    "    batch_upsert(params,table='form.quadrat_samples',records=valid_records,keycol=('visit_id','visit_date','sample_nr'),\n",
    "             idx=None, execute=True)\n"
   ]
  },
  {
   "cell_type": "markdown",
   "id": "bb620012-e7c6-4ba6-9ec9-ca0d72cd8b3a",
   "metadata": {
    "tags": []
   },
   "source": [
    "## Processing data from all workbooks\n",
    "\n",
    "In the following section, I proceed to iterate through all the workbooks, adjusting code for each case. \n",
    "\n",
    "Here is the list of available workbooks:"
   ]
  },
  {
   "cell_type": "code",
   "execution_count": 27,
   "id": "b0efd041-2cf8-4e73-aa31-c29962629fef",
   "metadata": {
    "tags": []
   },
   "outputs": [
    {
     "data": {
      "text/plain": [
       "dict_keys(['SthnNSWRF_data_bionet2.xlsx', 'UNSWFireVegResponse_UplandBasalt_AlexThomsen+DK.xlsx', 'UNSW_VegFireResponse_RMK_reformat_Sep2021a.xlsx', 'UNSW_VegFireResponse_DataEntry_Yatteyattah all +DK +Milton.xlsx', 'UNSW_VegFireResponse_KNP AlpAsh.xlsx', 'UNSW_VegFireResponse_AlpineBogs_reformat_Sep2021.xlsx', 'RobertsonRF_data_bionet2.xlsx', 'Fire response quadrat survey Newnes Nov2020_DK_revised IDs+AllNovData.xlsm'])"
      ]
     },
     "execution_count": 27,
     "metadata": {},
     "output_type": "execute_result"
    }
   ],
   "source": [
    "wbindex.keys()"
   ]
  },
  {
   "cell_type": "markdown",
   "id": "85b3e741-28a5-41b5-aff5-b41ec0ece563",
   "metadata": {
    "tags": []
   },
   "source": [
    "If we select one workbook, we can retrieve a list of column names that we will use in our column definitions for each function:"
   ]
  },
  {
   "cell_type": "markdown",
   "id": "e16fadf2-69f9-4209-9288-25307cc28e86",
   "metadata": {},
   "source": [
    "### Southern NSW Rainforest\n",
    "\n",
    "- This validates 247 records out of 250\n",
    "- UppClydeRF2,UppClydeRF3,UppClydeRF4 are not validated\n",
    "- No information is added to UppClyde1"
   ]
  },
  {
   "cell_type": "code",
   "execution_count": 29,
   "id": "cd15db74-7477-4e3b-9434-4b54ddbe38b7",
   "metadata": {
    "collapsed": true,
    "jupyter": {
     "outputs_hidden": true
    },
    "tags": []
   },
   "outputs": [
    {
     "name": "stdout",
     "output_type": "stream",
     "text": [
      "0 :: Updated 14/10/2019 // Entry Order\n",
      "1 :: None // Site Number\n",
      "2 :: None // Replicate\n",
      "3 :: First Date // Date of sighting (dd/mm/yyyy hh:mm:ss).\n",
      "4 :: Last Date // If more than 1 day (dd/mm/yyyy hh:mm:ss).\n",
      "5 :: Sub plot // SubplotID\n",
      "6 :: Type // Fauna (FA) or flora (FL).\n",
      "7 :: Species code // Species code can be assigned by OEH, or see the reference worksheet.\n",
      "8 :: Common Name // None\n",
      "9 :: Scientific Name // None\n",
      "10 :: Cover score // See reference worksheet for definitions\n",
      "11 :: Abundance score // CV18A See reference worksheet for definitions\n",
      "12 :: Stratum // See reference worksheet for definitions\n",
      "13 :: Growth form // See reference worksheet for definitions\n",
      "14 :: Height min // Flora only; height (in metres)\n",
      "15 :: Height max // Flora only; height (in metres)\n",
      "16 :: % Cover actual // None\n",
      "17 :: Recovery organ // None\n",
      "18 :: Seedbank // None\n",
      "19 :: None // Count of unburnt individuals\n",
      "20 :: Abund actual // Count of resprouting individuals.\n",
      "21 :: None //  # resprouted & died post-fire\n",
      "22 :: None // Count of fire-killed individuals\n",
      "23 :: Number reproductive // #  reproductive pre-fire plants\n",
      "24 :: None // Count of live postfire recruits\n",
      "25 :: None // # recruits died post-fire\n",
      "26 :: Number reproductive // #  reproductive recruits\n",
      "27 :: Estimate Code // Accuracy of count. See reference worksheet for definitions.\n",
      "28 :: Source Code // Source of the sighting; automatically populated as '4 - sighting'. Alter if specimen lodged or sighting is questionable (e.g. Anabat). See reference worksheet for definitions.\n",
      "29 :: Specimen Rego // Registration number (if the specimen has been lodged with a herbarium or museum).\n",
      "30 :: Specimen Location // Location of the herbarium or museum (if the specimen has been lodged). See reference worksheet for definitions.\n",
      "31 :: External Key // Observers' own unique reference number.\n"
     ]
    }
   ],
   "source": [
    "cols=wbindex['SthnNSWRF_data_bionet2.xlsx']['Floristics']\n",
    "for k in range(1,len(cols[0])):\n",
    "    print(\"%s :: %s // %s\" % (k-1,cols[0][k-1],cols[1][k-1]))"
   ]
  },
  {
   "cell_type": "code",
   "execution_count": 30,
   "id": "70e582f4-bd38-4e56-8238-ab7327298f1e",
   "metadata": {},
   "outputs": [
    {
     "name": "stdout",
     "output_type": "stream",
     "text": [
      "Connecting to the PostgreSQL database...\n",
      "UppClydeRF2 not found\n",
      "UppClydeRF3 not found\n",
      "UppClydeRF4 not found\n",
      "0 rows updated\n",
      "Database connection closed.\n",
      "247 valid records and 3 invalid records\n",
      "Connecting to the PostgreSQL database...\n",
      "247 rows updated\n",
      "Database connection closed.\n"
     ]
    }
   ],
   "source": [
    "filename='SthnNSWRF_data_bionet2.xlsx'\n",
    "worksheet='Floristics'\n",
    "col_dict={'visit_id':1, 'sample_nr':5, 'replicate_nr':2,'species':9, 'spcode':7, 'date':3, 'resprout_organ':17, 'seedbank':18,\n",
    "          'adults_unburnt':19,'resprouts_live':20,'resprouts_died':21,'resprouts_kill':22,\n",
    "          'resprouts_reproductive':23,'recruits_live':24, 'recruits_died':25, 'recruits_reproductive':26,\n",
    "                 'notes':32,'workbook':filename,'worksheet':worksheet}\n",
    "\n",
    "read_and_import_species_data(filepath=inputdir,\n",
    "                             workbook=filename,\n",
    "                             worksheet=worksheet,\n",
    "                             col_dictionary=col_dict,\n",
    "                             valid_seedbank=seedbank_vocab,\n",
    "                             valid_organ=organ_vocab)\n"
   ]
  },
  {
   "cell_type": "markdown",
   "id": "79da26ed-ade9-46a8-aec0-686fb5b6ad3e",
   "metadata": {},
   "source": [
    "### RMK\n",
    "Does not have visit_date or replicate nr. We will have to assume they all belong to replicate 1:"
   ]
  },
  {
   "cell_type": "code",
   "execution_count": 31,
   "id": "b2cf7a76-6fa5-493c-bcf2-591ec49cbd0f",
   "metadata": {},
   "outputs": [
    {
     "name": "stdout",
     "output_type": "stream",
     "text": [
      "0 :: None // Site\n",
      "1 :: Species responses // Subquadrat #\n",
      "2 :: None // Label\n",
      "3 :: Type // Fauna (FA) or flora (FL).\n",
      "4 :: Species code // Species code can be assigned by OEH, or see the reference worksheet.\n",
      "5 :: Common Name // Common name\n",
      "6 :: None // Species (edits in red)\n",
      "7 :: None // CAPS #\n",
      "8 :: None // resprout organ (epicormic,ligno, crown, basal, tuber,rhiz,stol)\n",
      "9 :: None // seedbank type (canopy, soil, transient, other(not canopy)\n",
      "10 :: None // # Live unburnt (no response to fire)\n",
      "11 :: Adults // # resprouted & live\n",
      "12 :: None //  # resprouted & died post-fire\n",
      "13 :: None // # killed in fire\n",
      "14 :: None // #  reproductive\n",
      "15 :: Recruits // # live\n",
      "16 :: None // # died post-fire\n",
      "17 :: None // #  reproductive\n",
      "18 :: None // notes\n"
     ]
    }
   ],
   "source": [
    "cols=wbindex['UNSW_VegFireResponse_RMK_reformat_Sep2021a.xlsx']['Floristics']\n",
    "for k in range(1,len(cols[0])):\n",
    "    print(\"%s :: %s // %s\" % (k-1,cols[0][k-1],cols[1][k-1]))\n"
   ]
  },
  {
   "cell_type": "code",
   "execution_count": null,
   "id": "6853e03d-605f-477a-9081-74407b74ecba",
   "metadata": {},
   "outputs": [],
   "source": [
    "filename='UNSW_VegFireResponse_RMK_reformat_Sep2021a.xlsx'\n",
    "# does not have visit_date or replicate nr, assuming 1?"
   ]
  },
  {
   "cell_type": "markdown",
   "id": "eba898c5-33ae-4511-82be-b4b6c690c8f9",
   "metadata": {},
   "source": [
    "### KNP Alpine Ash"
   ]
  },
  {
   "cell_type": "code",
   "execution_count": 36,
   "id": "2bed901c-0741-41ce-b1bd-57f8435e66a4",
   "metadata": {},
   "outputs": [
    {
     "name": "stdout",
     "output_type": "stream",
     "text": [
      "0 :: Updated 14/10/2019\n",
      "1 :: None\n",
      "2 :: None\n",
      "3 :: First Date\n",
      "4 :: Last Date\n",
      "5 :: Sub plot\n",
      "6 :: Type\n",
      "7 :: Species code\n",
      "8 :: Common Name\n",
      "9 :: Scientific Name\n",
      "10 :: Cover score\n",
      "11 :: Abundance score\n",
      "12 :: Stratum\n",
      "13 :: Growth form\n",
      "14 :: Height min\n",
      "15 :: Height max\n",
      "16 :: % Cover actual\n",
      "17 :: Recovery organ\n",
      "18 :: Seedbank\n",
      "19 :: 0\n",
      "20 :: Abund actual\n",
      "21 :: 0\n",
      "22 :: None\n",
      "23 :: Number reproductive\n",
      "24 :: None\n",
      "25 :: None\n",
      "26 :: Number reproductive\n",
      "27 :: Estimate Code\n",
      "28 :: Source Code\n",
      "29 :: Specimen Rego\n",
      "30 :: Specimen Location\n",
      "31 :: External Key\n"
     ]
    }
   ],
   "source": [
    "cols=wbindex['UNSW_VegFireResponse_KNP AlpAsh.xlsx']['Floristics']\n",
    "for k in range(1,len(cols)):\n",
    "    print(\"%s :: %s\" % (k-1,cols[k-1]))\n"
   ]
  },
  {
   "cell_type": "markdown",
   "id": "215e0da4-dfad-4342-bac8-c24646610ab2",
   "metadata": {},
   "source": [
    "Another function to follow all steps for reading data and importing to database"
   ]
  },
  {
   "cell_type": "code",
   "execution_count": 49,
   "id": "2dd56e82-24fd-4f76-80bc-593e1f507ba6",
   "metadata": {},
   "outputs": [
    {
     "name": "stdout",
     "output_type": "stream",
     "text": [
      "Connecting to the PostgreSQL database...\n",
      "AlpAsh_26 not found\n",
      "AlpAsh_26 not found\n",
      "AlpAsh_26 not found\n",
      "AlpAsh_26 not found\n",
      "0 rows updated\n",
      "Database connection closed.\n",
      "661 valid records and 109 invalid records\n",
      "Connecting to the PostgreSQL database...\n",
      "661 rows updated\n",
      "Database connection closed.\n"
     ]
    }
   ],
   "source": [
    "worksheet='Floristics'\n",
    "filename='UNSW_VegFireResponse_KNP AlpAsh.xlsx'\n",
    "col_dict={'visit_id':1, 'replicate_nr':2, 'date':3,\n",
    "          'sample_nr':5, 'spcode':7, 'species':9,   \n",
    "          'resprout_organ':17, 'seedbank':18,\n",
    "          'adults_unburnt':19,'resprouts_live':20,'resprouts_died':21,'resprouts_kill':22,\n",
    "          'resprouts_reproductive':23,'recruits_live':24, 'recruits_died':25, 'recruits_reproductive':26,\n",
    "                 'notes':32,'workbook':filename,'worksheet':worksheet}\n",
    "\n",
    "read_and_import_species_data(filepath=inputdir,\n",
    "                             workbook=filename,\n",
    "                             worksheet=worksheet,\n",
    "                             col_dictionary=col_dict,\n",
    "                             valid_seedbank=seedbank_vocab,\n",
    "                             valid_organ=organ_vocab)\n"
   ]
  },
  {
   "cell_type": "code",
   "execution_count": 54,
   "id": "6d257301-42a3-4a41-8bec-8e0cf23f513c",
   "metadata": {},
   "outputs": [
    {
     "name": "stdout",
     "output_type": "stream",
     "text": [
      "0 :: Updated 14/10/2019\n",
      "1 :: Site Number\n",
      "2 :: Replicate\n",
      "3 :: First Date\n",
      "4 :: Last Date\n",
      "5 :: Sub plot\n",
      "6 :: Type\n",
      "7 :: Species code\n",
      "8 :: Common Name\n",
      "9 :: Scientific Name\n",
      "10 :: Cover score\n",
      "11 :: Abundance score\n",
      "12 :: Stratum\n",
      "13 :: Growth form\n",
      "14 :: Height min\n",
      "15 :: Height max\n",
      "16 :: % Cover actual\n",
      "17 :: Recovery organ\n",
      "18 :: Seedbank\n",
      "19 :: None\n",
      "20 :: Abund actual\n",
      "21 :: None\n",
      "22 :: Number reproductive\n",
      "23 :: None\n",
      "24 :: None\n",
      "25 :: None\n",
      "26 :: Estimate Code\n",
      "27 :: Source Code\n",
      "28 :: Specimen Rego\n",
      "29 :: Specimen Location\n",
      "30 :: External Key\n"
     ]
    }
   ],
   "source": [
    "filename='UNSWFireVegResponse_UplandBasalt_AlexThomsen+DK.xlsx'\n",
    "worksheet='Floristics'\n",
    "cols=wbindex[filename][worksheet]\n",
    "for k in range(1,len(cols)):\n",
    "    print(\"%s :: %s\" % (k-1,cols[k-1]))"
   ]
  },
  {
   "cell_type": "code",
   "execution_count": 51,
   "id": "db5ad5d9-7f93-4fd4-8701-976fdfe765a4",
   "metadata": {},
   "outputs": [],
   "source": [
    "\n",
    "col_dict={'visit_id':1, 'replicate_nr':2, 'date':3,\n",
    "          'sample_nr':5, 'spcode':7, 'species':9,   \n",
    "          'resprout_organ':17, 'seedbank':18,\n",
    "          'adults_unburnt':19,'resprouts_live':20,'resprouts_died':21,'resprouts_kill':22,\n",
    "          'resprouts_reproductive':23,'recruits_live':24, 'recruits_died':25, 'recruits_reproductive':26,\n",
    "                 'notes':32,'workbook':filename,'worksheet':worksheet}\n",
    "\n",
    "records=import_records_from_workbook(filepath=inputdir,\n",
    "                             workbook=filename,\n",
    "                             worksheet=worksheet,\n",
    "                             col_dictionary=col_dict,\n",
    "                             create_record_function=create_quadrat_sample_record,\n",
    "                             lookup=valid_visits,\n",
    "                             valid_seedbank=seedbank_vocab,\n",
    "                             valid_organ=organ_vocab)\n"
   ]
  },
  {
   "cell_type": "code",
   "execution_count": 53,
   "id": "6b1bce83-d480-49ab-820e-81af728b2c59",
   "metadata": {},
   "outputs": [
    {
     "data": {
      "text/plain": [
       "{'visit_id': 'CRC09B7UVH',\n",
       " 'sample_nr': 1,\n",
       " 'species': 'Polyscias sambucifolia',\n",
       " 'visit_date': datetime.date(2021, 2, 3),\n",
       " 'species_code': '1211',\n",
       " 'seedbank': 'Soil-persistent',\n",
       " 'adults_unburnt': 0,\n",
       " 'resprouts_live': 0,\n",
       " 'resprouts_kill': 0,\n",
       " 'resprouts_reproductive': 34,\n",
       " 'recruits_died': 0,\n",
       " 'comments': ['Imported from workbook UNSWFireVegResponse_UplandBasalt_AlexThomsen+DK.xlsx using python script',\n",
       "  'Imported from spreadsheet Floristics',\n",
       "  'recruits_reproductive written as X']}"
      ]
     },
     "execution_count": 53,
     "metadata": {},
     "output_type": "execute_result"
    }
   ],
   "source": [
    "records[10]\n"
   ]
  },
  {
   "cell_type": "markdown",
   "id": "138b4c37-3000-44f2-919c-849be7efc274",
   "metadata": {},
   "source": [
    "Connect to database and update list of visits, valid organs and seedbank vocabulary:"
   ]
  },
  {
   "cell_type": "code",
   "execution_count": null,
   "id": "2ea68f0d-5a28-4aef-807e-7eb85c48887f",
   "metadata": {},
   "outputs": [],
   "source": [
    "#count of fully scorched & resprouting individuals\n",
    "#count of fully scorched & fire-killed individuals\n",
    "#count of partially scorched & resprouting individuals\n",
    "#count of partially scorched & fire-killed individuals\n"
   ]
  },
  {
   "cell_type": "code",
   "execution_count": 389,
   "id": "27ff838f-3b22-4c08-a36b-9dae5c81bc86",
   "metadata": {},
   "outputs": [],
   "source": [
    "item = ws[k]"
   ]
  },
  {
   "cell_type": "code",
   "execution_count": 415,
   "id": "5fc804aa-2860-461c-93d0-061089b48501",
   "metadata": {},
   "outputs": [
    {
     "data": {
      "text/plain": [
       "'SthnNSWRF_data_bionet2.xlsx'"
      ]
     },
     "execution_count": 415,
     "metadata": {},
     "output_type": "execute_result"
    }
   ],
   "source": [
    "(inputdir / \"field-form\" / filename).name"
   ]
  },
  {
   "cell_type": "code",
   "execution_count": 71,
   "id": "79746b07-de0b-460a-87b4-443530972691",
   "metadata": {},
   "outputs": [
    {
     "data": {
      "text/plain": [
       "<connection object at 0x12c31e500; dsn: 'user=dbmasteruser password=xxx dbname=dbfireveg host=ls-7fe027d971eb206bbd525d61db53cc81a8d11b34.ctgi8o2ak5qy.ap-southeast-2.rds.amazonaws.com port=5432', closed: 1>"
      ]
     },
     "execution_count": 71,
     "metadata": {},
     "output_type": "execute_result"
    }
   ],
   "source": [
    "conn"
   ]
  },
  {
   "cell_type": "code",
   "execution_count": 80,
   "id": "b331a672-f0b8-4700-aeb1-9e189aadda0c",
   "metadata": {},
   "outputs": [
    {
     "data": {
      "text/plain": [
       "1"
      ]
     },
     "execution_count": 80,
     "metadata": {},
     "output_type": "execute_result"
    }
   ],
   "source": []
  },
  {
   "cell_type": "code",
   "execution_count": 73,
   "id": "8adfcbe6-1fa3-41e2-87e2-10de40c03a46",
   "metadata": {},
   "outputs": [
    {
     "data": {
      "text/plain": [
       "['DataError',\n",
       " 'DatabaseError',\n",
       " 'Error',\n",
       " 'IntegrityError',\n",
       " 'InterfaceError',\n",
       " 'InternalError',\n",
       " 'NotSupportedError',\n",
       " 'OperationalError',\n",
       " 'ProgrammingError',\n",
       " 'Warning',\n",
       " '__class__',\n",
       " '__delattr__',\n",
       " '__dir__',\n",
       " '__doc__',\n",
       " '__enter__',\n",
       " '__eq__',\n",
       " '__exit__',\n",
       " '__format__',\n",
       " '__ge__',\n",
       " '__getattribute__',\n",
       " '__gt__',\n",
       " '__hash__',\n",
       " '__init__',\n",
       " '__init_subclass__',\n",
       " '__le__',\n",
       " '__lt__',\n",
       " '__ne__',\n",
       " '__new__',\n",
       " '__reduce__',\n",
       " '__reduce_ex__',\n",
       " '__repr__',\n",
       " '__setattr__',\n",
       " '__sizeof__',\n",
       " '__str__',\n",
       " '__subclasshook__',\n",
       " 'async',\n",
       " 'async_',\n",
       " 'autocommit',\n",
       " 'binary_types',\n",
       " 'cancel',\n",
       " 'close',\n",
       " 'closed',\n",
       " 'commit',\n",
       " 'cursor',\n",
       " 'cursor_factory',\n",
       " 'deferrable',\n",
       " 'dsn',\n",
       " 'encoding',\n",
       " 'fileno',\n",
       " 'get_backend_pid',\n",
       " 'get_dsn_parameters',\n",
       " 'get_native_connection',\n",
       " 'get_parameter_status',\n",
       " 'get_transaction_status',\n",
       " 'info',\n",
       " 'isexecuting',\n",
       " 'isolation_level',\n",
       " 'lobject',\n",
       " 'notices',\n",
       " 'notifies',\n",
       " 'pgconn_ptr',\n",
       " 'poll',\n",
       " 'protocol_version',\n",
       " 'readonly',\n",
       " 'reset',\n",
       " 'rollback',\n",
       " 'server_version',\n",
       " 'set_client_encoding',\n",
       " 'set_isolation_level',\n",
       " 'set_session',\n",
       " 'status',\n",
       " 'string_types',\n",
       " 'tpc_begin',\n",
       " 'tpc_commit',\n",
       " 'tpc_prepare',\n",
       " 'tpc_recover',\n",
       " 'tpc_rollback',\n",
       " 'xid']"
      ]
     },
     "execution_count": 73,
     "metadata": {},
     "output_type": "execute_result"
    }
   ],
   "source": [
    "dir(conn)"
   ]
  },
  {
   "cell_type": "code",
   "execution_count": null,
   "id": "2d3881b9-4b2d-4799-8c6f-9071f8e66c81",
   "metadata": {},
   "outputs": [],
   "source": []
  }
 ],
 "metadata": {
  "kernelspec": {
   "display_name": "Python 3 (ipykernel)",
   "language": "python",
   "name": "python3"
  },
  "language_info": {
   "codemirror_mode": {
    "name": "ipython",
    "version": 3
   },
   "file_extension": ".py",
   "mimetype": "text/x-python",
   "name": "python",
   "nbconvert_exporter": "python",
   "pygments_lexer": "ipython3",
   "version": "3.10.2"
  }
 },
 "nbformat": 4,
 "nbformat_minor": 5
}
