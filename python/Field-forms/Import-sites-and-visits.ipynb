{
 "cells": [
  {
   "cell_type": "markdown",
   "id": "815a2392-ade6-4043-a754-c5fc8b43b017",
   "metadata": {},
   "source": [
    "# Read files summarising field work and update database\n",
    "These Excel workbooks were imported on February 2022.\n",
    "\n",
    "The scripts documented here have been created to:\n",
    "\n",
    "- Read data from spreadsheets with field-work data\n",
    "- Create records for data import into the database\n",
    "- Insert or update records in the database\n",
    "\n",
    "This jupyter notebook deals with the first step, which is importing field site and visit information. A second notebook deals with importing information from `quadrats`."
   ]
  },
  {
   "cell_type": "markdown",
   "id": "ecd44346-0c14-46f8-89d3-f292d15e409e",
   "metadata": {
    "tags": []
   },
   "source": [
    "## Read workbooks\n",
    "Each spreadsheet has a slightly different structure, so these scripts have to be adapted for each case.\n",
    "\n",
    "### List of workbooks/spreadsheets in directory"
   ]
  },
  {
   "cell_type": "markdown",
   "id": "a8621b6e-0637-46bc-be68-050007b2a7c3",
   "metadata": {},
   "source": [
    "## Set-up\n",
    "Load libraries "
   ]
  },
  {
   "cell_type": "code",
   "execution_count": 1,
   "id": "47eadb90-b36c-4ae6-a783-7b8e9c4f6218",
   "metadata": {},
   "outputs": [],
   "source": [
    "import openpyxl\n",
    "from pathlib import Path\n",
    "import os\n",
    "from datetime import datetime\n",
    "from configparser import ConfigParser\n",
    "import psycopg2\n",
    "from psycopg2.extensions import AsIs\n",
    "#import postgis"
   ]
  },
  {
   "cell_type": "markdown",
   "id": "a254bbc3-49d4-40cf-8e99-a2323f702b49",
   "metadata": {},
   "source": [
    "Define path to workbooks"
   ]
  },
  {
   "cell_type": "code",
   "execution_count": 2,
   "id": "685f98ff-9f63-413d-b6be-d77398ca4c5c",
   "metadata": {},
   "outputs": [],
   "source": [
    "repodir = Path(\"../\") \n",
    "inputdir = repodir / \"data\" / \"field-form\""
   ]
  },
  {
   "cell_type": "markdown",
   "id": "f56bab42-3c7e-4100-ba00-1d75897daa11",
   "metadata": {},
   "source": [
    "### DB connection parameters and helper functions\n",
    " \n",
    " Database credentials are stored in a database.ini file"
   ]
  },
  {
   "cell_type": "code",
   "execution_count": 3,
   "id": "1f6dd8a2-ab5f-4677-b9d3-abdc59cd16c8",
   "metadata": {},
   "outputs": [],
   "source": [
    "filename = repodir / 'secrets' / 'database.ini'\n",
    "section = 'aws-lght-sl'\n",
    "\n",
    "# create a parser\n",
    "parser = ConfigParser()\n",
    "# read config file\n",
    "parser.read(filename)\n",
    "\n",
    "# get section, default to postgresql\n",
    "db = {}\n",
    "if parser.has_section(section):\n",
    "    params = parser.items(section)\n",
    "    for param in params:\n",
    "        db[param[0]] = param[1]\n",
    "else:\n",
    "    raise Exception('Section {0} not found in the {1} file'.format(section, filename))\n",
    "\n",
    "params = db"
   ]
  },
  {
   "cell_type": "markdown",
   "id": "bbd85ca5-2c2a-4990-87a5-c0003223e611",
   "metadata": {},
   "source": [
    "Check list of observer ids:"
   ]
  },
  {
   "cell_type": "code",
   "execution_count": 32,
   "id": "7d2f31cc-bf34-4b7b-b108-815fba90b229",
   "metadata": {},
   "outputs": [
    {
     "name": "stdout",
     "output_type": "stream",
     "text": [
      "Connecting to the PostgreSQL database...\n",
      "Database connection closed.\n"
     ]
    }
   ],
   "source": [
    "# connect to the PostgreSQL server\n",
    "print('Connecting to the PostgreSQL database...')\n",
    "conn = psycopg2.connect(**params)\n",
    "cur = conn.cursor()\n",
    "\n",
    "cur.execute(\"SELECT userkey,givennames,surname FROM form.observerid;\")\n",
    "observerid = cur.fetchall()\n",
    "cur.close()\n",
    "        \n",
    "if conn is not None:\n",
    "    conn.close()\n",
    "    print('Database connection closed.')"
   ]
  },
  {
   "cell_type": "code",
   "execution_count": 33,
   "id": "f3344f30-f840-4771-bb9c-6ae7c389d9ec",
   "metadata": {},
   "outputs": [
    {
     "data": {
      "text/plain": [
       "[(7, 'David', 'Keith'),\n",
       " (9, 'D.', 'Benson'),\n",
       " (10, 'L.', 'Watts,'),\n",
       " (11, 'T.', 'Manson'),\n",
       " (12, 'Jackie', 'Miles'),\n",
       " (13, 'Robert', 'Kooyman'),\n",
       " (8, 'Alexandria', 'Thomsen'),\n",
       " (14, 'Jedda', 'Lemmen')]"
      ]
     },
     "execution_count": 33,
     "metadata": {},
     "output_type": "execute_result"
    }
   ],
   "source": [
    "observerid"
   ]
  },
  {
   "cell_type": "markdown",
   "id": "e85a8164-c756-4d33-bc8c-24c7b0de630f",
   "metadata": {},
   "source": [
    "Define a function to batch process insert or update queries:"
   ]
  },
  {
   "cell_type": "code",
   "execution_count": 4,
   "id": "5fa64da4-5d01-41ef-88a6-369699ae8ddf",
   "metadata": {},
   "outputs": [],
   "source": [
    "def batch_upsert(params,table,records,keycol,idx, execute=False,useconn=None):\n",
    "    if useconn is None:\n",
    "        # connect to the PostgreSQL server\n",
    "        print('Connecting to the PostgreSQL database...')\n",
    "        conn = psycopg2.connect(**params)\n",
    "    else:\n",
    "        conn = useconn\n",
    "    cur = conn.cursor()\n",
    "    #postgis.register(cur)\n",
    "    updated_rows=0\n",
    "\n",
    "    for record in records:\n",
    "        if len(record.keys())>len(keycol):\n",
    "            if 'geom' in record.keys():\n",
    "                the_geom=record['geom']\n",
    "                record['geom']='GEOMSTR'\n",
    "            if idx is not None:\n",
    "                qrystr = \"INSERT INTO %s (%s) values %s ON CONFLICT ON CONSTRAINT %s DO UPDATE SET %s\"\n",
    "                upd=list()\n",
    "                for k in record.keys():\n",
    "                    if k not in keycol:\n",
    "                        upd.append(\"{col}=EXCLUDED.{col}\".format(col=k))\n",
    "                qry = cur.mogrify(qrystr, (AsIs(table),\n",
    "                                AsIs(','.join(record.keys())),\n",
    "                                tuple(record.values()),\n",
    "                                AsIs(idx),\n",
    "                                AsIs(','.join(upd))\n",
    "                               ))\n",
    "            else:\n",
    "                qrystr = \"INSERT INTO %s (%s) values %s ON CONFLICT DO NOTHING\"\n",
    "                qry = cur.mogrify(qrystr, (AsIs(table),\n",
    "                                AsIs(','.join(record.keys())),\n",
    "                                tuple(record.values())\n",
    "                               ))\n",
    "\n",
    "            if 'geom' in record.keys():\n",
    "                qry=qry.decode('utf-8')\n",
    "                qry=qry.replace(\"'GEOMSTR'\",the_geom)\n",
    "                record['geom']=the_geom\n",
    "\n",
    "            if execute:\n",
    "                cur.execute(qry)\n",
    "                if cur.rowcount > 0:\n",
    "                    updated_rows = updated_rows + cur.rowcount\n",
    "            else:\n",
    "                print(qry)\n",
    "            \n",
    "    conn.commit()        \n",
    "    cur.close()\n",
    "    print(\"%s rows updated\" % (updated_rows))\n",
    "        \n",
    "    if useconn is None and conn is not None:\n",
    "        conn.close()\n",
    "        print('Database connection closed.')\n"
   ]
  },
  {
   "cell_type": "markdown",
   "id": "2e1882ef-ff50-4cc9-b5d0-92baa04565ce",
   "metadata": {},
   "source": [
    "Just a test with random data, use `execute=False` to print the query:"
   ]
  },
  {
   "cell_type": "code",
   "execution_count": 5,
   "id": "8b370b0e-aefa-4791-af1a-1a9e756e93b1",
   "metadata": {},
   "outputs": [
    {
     "name": "stdout",
     "output_type": "stream",
     "text": [
      "Connecting to the PostgreSQL database...\n",
      "INSERT INTO form.field_site (site_label,geom) values ('test', ST_GeomFromText('POINT(1 2)', 4326)) ON CONFLICT ON CONSTRAINT field_site_pkey1 DO UPDATE SET geom=EXCLUDED.geom\n",
      "0 rows updated\n",
      "Database connection closed.\n"
     ]
    }
   ],
   "source": [
    "record={'site_label':'test','geom':\"ST_GeomFromText('POINT(1 2)', 4326)\"}\n",
    "batch_upsert(params,\"form.field_site\",(record,),keycol=('site_label',), idx='field_site_pkey1',execute=False)"
   ]
  },
  {
   "cell_type": "code",
   "execution_count": 6,
   "id": "497fca4f-4a58-485b-a08e-d73c31ec5d59",
   "metadata": {},
   "outputs": [
    {
     "name": "stdout",
     "output_type": "stream",
     "text": [
      "Connecting to the PostgreSQL database...\n",
      "INSERT INTO form.field_site (site_label,geom) values ('test', ST_GeomFromText('POINT(1 2)', 4326)) ON CONFLICT DO NOTHING\n",
      "0 rows updated\n",
      "Database connection closed.\n"
     ]
    }
   ],
   "source": [
    "batch_upsert(params,\"form.field_site\",(record,),keycol=('site_label',), idx=None,execute=False)"
   ]
  },
  {
   "cell_type": "markdown",
   "id": "bd6ffc73-f2c2-4ce1-b137-ff58a54d44a1",
   "metadata": {},
   "source": [
    "## Functions to read records from workbooks\n",
    "Each spreadsheet has a slightly different structure, so these scripts have to be adapted for each case.\n",
    "\n",
    "### List of workbooks/spreadsheets in directory"
   ]
  },
  {
   "cell_type": "code",
   "execution_count": 7,
   "id": "ef766fae-b8d3-440a-abc5-c4db547f7b7e",
   "metadata": {},
   "outputs": [
    {
     "data": {
      "text/plain": [
       "['~$Fire response quadrat survey Newnes Nov2020_DK_revised IDs+AllNovData.xlsm',\n",
       " 'SthnNSWRF_data_bionet2.xlsx',\n",
       " 'UNSWFireVegResponse_UplandBasalt_AlexThomsen+DK.xlsx',\n",
       " 'UNSW_VegFireResponse_RMK_reformat_Sep2021a.xlsx',\n",
       " 'UNSW_VegFireResponse_DataEntry_Yatteyattah all +DK +Milton.xlsx',\n",
       " '~$UNSW_VegFireResponse_RMK_reformat_Sep2021a.xlsx',\n",
       " 'UNSW_VegFireResponse_KNP AlpAsh.xlsx',\n",
       " 'UNSW_VegFireResponse_AlpineBogs_reformat_Sep2021.xlsx',\n",
       " 'RobertsonRF_data_bionet2.xlsx',\n",
       " 'Fire response quadrat survey Newnes Nov2020_DK_revised IDs+AllNovData.xlsm']"
      ]
     },
     "execution_count": 7,
     "metadata": {},
     "output_type": "execute_result"
    }
   ],
   "source": [
    "os.listdir(inputdir)"
   ]
  },
  {
   "cell_type": "code",
   "execution_count": 8,
   "id": "7e4f052a-4351-40bc-ab3c-920431d42c7e",
   "metadata": {},
   "outputs": [],
   "source": [
    "valid_files = ['SthnNSWRF_data_bionet2.xlsx',\n",
    "               'UNSWFireVegResponse_UplandBasalt_AlexThomsen+DK.xlsx',\n",
    "               'UNSW_VegFireResponse_RMK_reformat_Sep2021a.xlsx',\n",
    "               'UNSW_VegFireResponse_DataEntry_Yatteyattah all +DK +Milton.xlsx',\n",
    "               'UNSW_VegFireResponse_KNP AlpAsh.xlsx',\n",
    "               'UNSW_VegFireResponse_AlpineBogs_reformat_Sep2021.xlsx',\n",
    "               'RobertsonRF_data_bionet2.xlsx',\n",
    "               'Fire response quadrat survey Newnes Nov2020_DK_revised IDs+AllNovData.xlsm']"
   ]
  },
  {
   "cell_type": "markdown",
   "id": "91fa2020-e8d8-4817-9498-f0155118ca1c",
   "metadata": {},
   "source": [
    "Here we create an index of worksheets and column headers for each file"
   ]
  },
  {
   "cell_type": "code",
   "execution_count": 9,
   "id": "7aba9482-c09f-4aff-be77-6cfd9ff08cf3",
   "metadata": {},
   "outputs": [],
   "source": [
    "wbindex=dict()\n",
    "for workbook_name in valid_files:\n",
    "    inputfile=inputdir / workbook_name\n",
    "    # using data_only=True to get the calculated cell values\n",
    "    wb = openpyxl.load_workbook(inputfile,data_only=True)\n",
    "    wbindex[workbook_name]=dict()\n",
    "    for ws in wb.worksheets:\n",
    "        wbindex[workbook_name][ws._WorkbookChild__title]=list()\n",
    "        for k in range(1,ws.max_column):\n",
    "            wbindex[workbook_name][ws._WorkbookChild__title].append(ws.cell(row=1,column=k).value)\n",
    "        "
   ]
  },
  {
   "cell_type": "markdown",
   "id": "71e0184c-4313-4f82-9fe9-741781d39129",
   "metadata": {},
   "source": [
    "### Functions to read records in a spreadsheet\n",
    "We need a wrapping function to apply a lower level function (`create_record_function`) to all rows in a `worksheet` of the selected `workbook` using a dictionary `col_dictionary`, we add a `**kwargs` to pass additional arguments to the lower level function:\n"
   ]
  },
  {
   "cell_type": "code",
   "execution_count": 10,
   "id": "7e76039f-aa28-4eca-a41e-ee77f75ae25d",
   "metadata": {
    "tags": []
   },
   "outputs": [],
   "source": [
    "def import_records_from_workbook(filepath,workbook,worksheet,col_dictionary,create_record_function,**kwargs):\n",
    "    wb = openpyxl.load_workbook(filepath / workbook, data_only=True)\n",
    "    ws=wb[worksheet]\n",
    "    row_count = ws.max_row\n",
    "    records=list()\n",
    "    for k in range(2,row_count):\n",
    "        item=ws[k]\n",
    "        record=create_record_function(item,col_dictionary,**kwargs)\n",
    "        if record is not None:\n",
    "            if type(record)==list:\n",
    "                records.extend(record)\n",
    "            elif type(record)==dict:\n",
    "                records.append(record)\n",
    "    return records"
   ]
  },
  {
   "cell_type": "markdown",
   "id": "bf09839f-174e-4c73-89a9-632b637da5a5",
   "metadata": {
    "tags": []
   },
   "source": [
    "#### Insert into field_site table\n",
    "\n",
    "This function will transform create an insert records from one row of the spreadsheet (`item`) using a column dictionary (`sw`). \n",
    "\n",
    "We need to consider:\n",
    "- geom might be single or multiple points\n",
    "- projection (SRID) is UTM GDA zone 55 or 56, latlong WGS84, or a different format\n",
    "- elevation in m, or NULL \n",
    "- GPS uncertainty in meters, or NULL\n",
    "- text description of GPS location, or NULL"
   ]
  },
  {
   "cell_type": "code",
   "execution_count": 11,
   "id": "ee8dbec7-32d3-450c-9244-0c884ebc5fb0",
   "metadata": {},
   "outputs": [],
   "source": [
    "def create_field_site_record(item,sw):\n",
    "    site_label = item[sw['site_label']].value\n",
    "    if site_label is not None and site_label != \"Site\":\n",
    "        record={'site_label': site_label}\n",
    "    \n",
    "        for column in ('elevation','location_description', 'gps_uncertainty_m', 'gps_geom_description'):\n",
    "            if column in sw.keys():\n",
    "                val=item[sw[column]].value\n",
    "                if val is not None and val not in ('na','NA'):\n",
    "                    record[column] =  val\n",
    "    \n",
    "        if 'lons' in sw.keys():\n",
    "            for xs in sw['lons']:\n",
    "                xlon = item[xs].value\n",
    "            for ys in sw['lats']:\n",
    "                ylat = item[ys].value\n",
    "            srid = 4326\n",
    "\n",
    "\n",
    "        if 'xs' in sw.keys():\n",
    "            for xs in sw['xs']:\n",
    "                xlon = item[xs].value\n",
    "            for ys in sw['ys']:\n",
    "                ylat = item[ys].value\n",
    "\n",
    "            if 'fixed_utm_zone' in sw.keys():\n",
    "                utm_zone=sw['fixed_utm_zone']\n",
    "            else:\n",
    "                utm_zone=item[sw['utm_zone']].value\n",
    "            if  utm_zone == 56:\n",
    "                srid = 28356\n",
    "            elif utm_zone == 55:\n",
    "                srid = 28355\n",
    "\n",
    "   \n",
    "        if srid is not None and xlon is not None and ylat is not None:\n",
    "            record['geom'] = \"ST_GeomFromText('POINT({xlon} {ylat})', {srid})\".format(xlon=xlon,ylat=ylat,srid=srid)\n",
    "\n",
    "        return(record)\n",
    "\n",
    "\n",
    "    "
   ]
  },
  {
   "cell_type": "markdown",
   "id": "1f47ae18-8ee2-4996-9f0f-e79fc631297d",
   "metadata": {},
   "source": [
    "Test this function with one workbook:"
   ]
  },
  {
   "cell_type": "code",
   "execution_count": 12,
   "id": "ed869dfd-9f77-43a7-ba5d-a66beac9cd48",
   "metadata": {},
   "outputs": [
    {
     "data": {
      "text/plain": [
       "28"
      ]
     },
     "execution_count": 12,
     "metadata": {},
     "output_type": "execute_result"
    }
   ],
   "source": [
    "worksheet='Site'\n",
    "filename='UNSWFireVegResponse_UplandBasalt_AlexThomsen+DK.xlsx'\n",
    "col_definitions={'site_label':0, 'location_description':10,'utm_zone':11, 'xs':(12,), 'ys':(13,),\n",
    "                 'gps_uncertainty_m':14,\n",
    "                 'gps_geom_description':17,\n",
    "                 'elevation':38, 'visit_date':(2,4,5)}\n",
    "survey=\"UplandBasalt\"\n",
    "\n",
    "records = import_records_from_workbook(inputdir,filename,worksheet,col_definitions,create_field_site_record) \n",
    "\n",
    "len(records)"
   ]
  },
  {
   "cell_type": "markdown",
   "id": "8a72f85f-86d3-42ce-9826-07ba30ec9401",
   "metadata": {},
   "source": [
    "Check details from one record:"
   ]
  },
  {
   "cell_type": "code",
   "execution_count": 13,
   "id": "60f7ff99-df18-4a19-abc5-7b1c96510eb9",
   "metadata": {},
   "outputs": [
    {
     "data": {
      "text/plain": [
       "{'site_label': 'MWL03',\n",
       " 'location_description': 'Wynnes Rock Lookout Road',\n",
       " 'gps_geom_description': '30 m transect for woody plants >2m tall, with two 5x5m subplots at either end (subplots 1 & 2) with 20x5m subplot in middle (subplot 3); non-woody spp and woodplants <2m tall counted in the two 5x5m subplots',\n",
       " 'geom': \"ST_GeomFromText('POINT(256134 6288811)', 28356)\"}"
      ]
     },
     "execution_count": 13,
     "metadata": {},
     "output_type": "execute_result"
    }
   ],
   "source": [
    "records[12]"
   ]
  },
  {
   "cell_type": "markdown",
   "id": "4ac355ef-b4bd-4063-b894-e4ddaac313c2",
   "metadata": {
    "tags": []
   },
   "source": [
    "#### Insert into field_visits table\n",
    "\n",
    "This function will create an insert record from one row of the spreadsheet (`item`) using a column dictionary (`sw`). \n",
    "\n",
    "We need to consider:\n",
    "- iterate over multiple visit dates in different columns\n",
    "- add survey name to the record\n",
    "- text description of visit, or NULL\n",
    "- observerlist to be split into multiple names (list or array)"
   ]
  },
  {
   "cell_type": "code",
   "execution_count": 14,
   "id": "85b7f823-b6c3-4a24-b390-f6131c78b9a1",
   "metadata": {},
   "outputs": [],
   "source": [
    "def create_field_visit_record(item,sw):\n",
    "    site_label = item[sw['site_label']].value\n",
    "    records = list()\n",
    "    for k in sw['visit_date']:\n",
    "        visit_date = item[k].value\n",
    "        if site_label is not None and site_label != \"Site\":\n",
    "            if isinstance(visit_date, datetime):\n",
    "                record = {'visit_id': site_label, 'visit_date': visit_date}\n",
    "                if 'survey' in sw.keys():\n",
    "                    record['survey_name'] = sw['survey']\n",
    "                for column in ('visit_description', 'mainobserver', 'observerlist','replicate_nr'):\n",
    "                    if column in sw.keys():\n",
    "                        val=item[sw[column]].value\n",
    "                        if val is not None and val not in ('na','NA'):\n",
    "                            if column=='observerlist':\n",
    "                                val=val.split(',')\n",
    "                            record[column] =  val\n",
    "                records.append(record)\n",
    "    return records"
   ]
  },
  {
   "cell_type": "markdown",
   "id": "acc95746-c78f-43f7-a374-bfdb94c60e34",
   "metadata": {},
   "source": [
    "Test of the function with one workbook/worksheet:"
   ]
  },
  {
   "cell_type": "code",
   "execution_count": 15,
   "id": "b033aa57-bda6-41c9-aa4d-c4847210c02d",
   "metadata": {},
   "outputs": [
    {
     "data": {
      "text/plain": [
       "42"
      ]
     },
     "execution_count": 15,
     "metadata": {},
     "output_type": "execute_result"
    }
   ],
   "source": [
    "worksheet='Site'\n",
    "filename='UNSWFireVegResponse_UplandBasalt_AlexThomsen+DK.xlsx'\n",
    "col_definitions={'site_label':0, 'location_description':10,'utm_zone':11, 'xs':(12,), 'ys':(13,),\n",
    "                 'gps_uncertainty_m':14,\n",
    "                 'gps_geom_description':17,\n",
    "                 'observerlist':3,\n",
    "                 'elevation':38, 'visit_date':(2,4,5,6,7,8,9),\n",
    "                 'survey':\"UplandBasalt\"}\n",
    "\n",
    "records = import_records_from_workbook(inputdir,filename,worksheet,col_definitions,create_field_visit_record) \n",
    "\n",
    "len(records)"
   ]
  },
  {
   "cell_type": "code",
   "execution_count": 16,
   "id": "ec0173a4-6608-4ec4-90bc-f3ca0174ca2c",
   "metadata": {},
   "outputs": [
    {
     "data": {
      "text/plain": [
       "{'visit_id': 'MWL04',\n",
       " 'visit_date': datetime.datetime(2000, 12, 14, 0, 0),\n",
       " 'survey_name': 'UplandBasalt',\n",
       " 'observerlist': ['Alexandria Thomsen', ' Stephan Wilson']}"
      ]
     },
     "execution_count": 16,
     "metadata": {},
     "output_type": "execute_result"
    }
   ],
   "source": [
    "records[21]"
   ]
  },
  {
   "cell_type": "markdown",
   "id": "5da7bb28-6187-4603-9807-a7a2973c9e92",
   "metadata": {},
   "source": [
    "### Import records to database\n",
    "I create another function that will call the above functions to process data from a workbook into records that are then imported into the database.\n",
    "\n",
    "This function passes the keyword arguments `**kwargs` to the next functions. This works, because the structure of both the `create_record_function`s is similar and we can define the column correspondence in the same dictionary as we will see in the examples below:\n"
   ]
  },
  {
   "cell_type": "code",
   "execution_count": 17,
   "id": "98697948-b08d-4a0a-a23c-ce8e2320fb6c",
   "metadata": {
    "tags": []
   },
   "outputs": [],
   "source": [
    "def run_imports(**kwargs):\n",
    "    records = import_records_from_workbook(**kwargs,create_record_function=create_field_site_record) \n",
    "    # function to create upsert queries with plain substitution to handle geom string\n",
    "    batch_upsert(params,\"form.field_site\",records,keycol=('site_label',), idx='field_site_pkey1',execute=True)\n",
    "    \n",
    "    records = import_records_from_workbook(**kwargs,create_record_function=create_field_visit_record) \n",
    "    # this should work also without problem\n",
    "    batch_upsert(params,\"form.field_visit\",records,keycol=('visit_id','visit_date'), idx='field_visit_pkey2',execute=True)\n",
    "\n",
    "\n"
   ]
  },
  {
   "cell_type": "markdown",
   "id": "eca784cc-2f39-4bc2-876d-9d2aa500e13c",
   "metadata": {},
   "source": [
    "## Processing data from all workbooks\n",
    "\n",
    "In the following section, I proceed to iterate through all the workbooks, adjusting code for each case. \n",
    "\n",
    "Here is the list of available workbooks (again):"
   ]
  },
  {
   "cell_type": "code",
   "execution_count": 18,
   "id": "b0efd041-2cf8-4e73-aa31-c29962629fef",
   "metadata": {
    "tags": []
   },
   "outputs": [
    {
     "data": {
      "text/plain": [
       "dict_keys(['SthnNSWRF_data_bionet2.xlsx', 'UNSWFireVegResponse_UplandBasalt_AlexThomsen+DK.xlsx', 'UNSW_VegFireResponse_RMK_reformat_Sep2021a.xlsx', 'UNSW_VegFireResponse_DataEntry_Yatteyattah all +DK +Milton.xlsx', 'UNSW_VegFireResponse_KNP AlpAsh.xlsx', 'UNSW_VegFireResponse_AlpineBogs_reformat_Sep2021.xlsx', 'RobertsonRF_data_bionet2.xlsx', 'Fire response quadrat survey Newnes Nov2020_DK_revised IDs+AllNovData.xlsm'])"
      ]
     },
     "execution_count": 18,
     "metadata": {},
     "output_type": "execute_result"
    }
   ],
   "source": [
    "wbindex.keys()"
   ]
  },
  {
   "cell_type": "markdown",
   "id": "0e573a44-4fd5-4145-ae6a-7f29929ae64f",
   "metadata": {},
   "source": [
    "If we select one workbook, we can retrieve a list of column names that we will use in our column definitions for each function:"
   ]
  },
  {
   "cell_type": "code",
   "execution_count": 19,
   "id": "fd3f6541-5247-4231-b693-a0477ff376af",
   "metadata": {
    "tags": []
   },
   "outputs": [
    {
     "name": "stdout",
     "output_type": "stream",
     "text": [
      "0 :: Site\n",
      "1 :: Replicate\n",
      "2 :: Observers (comma sep if >1)\n",
      "3 :: Date of samping\n",
      "4 :: Survey Date Replicate 1\n",
      "5 :: Survey Date Replicate 2\n",
      "6 :: Survey Date Replicate 3\n",
      "7 :: Survey Date Replicate 4\n",
      "8 :: Survey Date Replicate 5\n",
      "9 :: Survey Date Replicate 6\n",
      "10 :: Location text\n",
      "11 :: Zone\n",
      "12 :: Easting\n",
      "13 :: Northing\n",
      "14 :: GPS Precision (m)\n",
      "15 :: Latitude\n",
      "16 :: Longitude\n",
      "17 :: Layout & GPS marker position\n",
      "18 :: 2nd ref point Zone\n",
      "19 :: 2nd ref point Easting\n",
      "20 :: 2nd ref point Northing\n",
      "21 :: 2nd ref point Position of GPS\n",
      "22 :: 3rd ref point Zone\n",
      "23 :: 3rd ref point Easting\n",
      "24 :: 3rd ref point Northing\n",
      "25 :: 3rd ref point Position of GPS\n",
      "26 :: 4th ref point Zone\n",
      "27 :: 4th ref point Easting\n",
      "28 :: 4th ref point Northing\n",
      "29 :: 4th ref point Position of GPS\n",
      "30 :: Total sample area (sq.m)\n",
      "31 :: Subquadrat area (sq.m)\n",
      "32 :: # subquadrats\n",
      "33 :: Substrate\n",
      "34 :: Notes\n",
      "35 :: Slope\n",
      "36 :: Aspect\n",
      "37 :: Elevation\n",
      "38 :: Disturbance notes\n",
      "39 :: Cwth TEC\n",
      "40 :: NSW TEC\n",
      "41 :: variant\n",
      "42 :: Vegetation formation\n"
     ]
    }
   ],
   "source": [
    "cols=wbindex['UNSW_VegFireResponse_DataEntry_Yatteyattah all +DK +Milton.xlsx']['Site']\n",
    "for k in range(1,len(cols)):\n",
    "    print(\"%s :: %s\" % (k-1,cols[k-1]))\n",
    "               "
   ]
  },
  {
   "cell_type": "markdown",
   "id": "9c00f064-fe4f-4a02-923d-79b960411ec2",
   "metadata": {},
   "source": [
    "This helps us to determine which column numbers corresponds to the field that we want to extract from the spreadsheet. \n",
    "Check the number of rows updated in each case, and compare the changes in the database."
   ]
  },
  {
   "cell_type": "markdown",
   "id": "ddd4d031-6fdf-4b9d-9157-35171c32868f",
   "metadata": {},
   "source": [
    "### Upland / Basalt\n",
    "\n",
    "- 28 sites:\n",
    "    - all with location description and coordinates, \n",
    "    - elevation data for all but three.\n",
    "- 42 visits:\n",
    "    - all visited by Alexandria Thomsen\n",
    "    - most recent visit in 2021\n",
    "    - older visits including values from the 90's ???"
   ]
  },
  {
   "cell_type": "code",
   "execution_count": 20,
   "id": "8e41c8e5-338b-4b48-9a50-70b421044f47",
   "metadata": {},
   "outputs": [
    {
     "name": "stdout",
     "output_type": "stream",
     "text": [
      "Connecting to the PostgreSQL database...\n",
      "28 rows updated\n",
      "Database connection closed.\n",
      "Connecting to the PostgreSQL database...\n",
      "42 rows updated\n",
      "Database connection closed.\n"
     ]
    }
   ],
   "source": [
    "run_imports(filepath=inputdir,\n",
    "            workbook='UNSWFireVegResponse_UplandBasalt_AlexThomsen+DK.xlsx',\n",
    "            worksheet='Site',\n",
    "            col_dictionary={'site_label':0, 'location_description':10,'utm_zone':11, 'xs':(12,), 'ys':(13,),\n",
    "                 'gps_uncertainty_m':14,\n",
    "                 'gps_geom_description':17,\n",
    "                 'observerlist':3,'replicate_nr':1,\n",
    "                 'elevation':38, 'visit_date':(2,4,5,6,7,8,9),\n",
    "                 'survey':\"UplandBasalt\"})"
   ]
  },
  {
   "cell_type": "markdown",
   "id": "44144629-ddb9-41de-aa75-21006e0ec2ee",
   "metadata": {},
   "source": [
    "### RMK\n",
    "\n",
    "- 16 sites:\n",
    "    - all with location description and coordinates, \n",
    "    - all but one with elevation data\n",
    "- 16 visits: \n",
    "    - each site visited once between September 2020 and August 2021\n",
    "    - main observer is Robert Kooyman, except one by T. Manson\n"
   ]
  },
  {
   "cell_type": "code",
   "execution_count": 21,
   "id": "e826d6b5-8954-4b6c-8537-c877a77f24b0",
   "metadata": {
    "tags": []
   },
   "outputs": [
    {
     "name": "stdout",
     "output_type": "stream",
     "text": [
      "Connecting to the PostgreSQL database...\n",
      "16 rows updated\n",
      "Database connection closed.\n",
      "Connecting to the PostgreSQL database...\n",
      "16 rows updated\n",
      "Database connection closed.\n"
     ]
    }
   ],
   "source": [
    "run_imports(filepath=inputdir,\n",
    "            workbook='UNSW_VegFireResponse_RMK_reformat_Sep2021a.xlsx',\n",
    "            worksheet='Site',\n",
    "            col_dictionary={'site_label':0,'location_description':10, \n",
    "                            'utm_zone':11,'xs':(12,), 'ys':(13,), 'elevation':37, \n",
    "                            'gps_uncertainty_m':14, 'gps_geom_description':17,\n",
    "                            'visit_date':range(3,9), 'replicate_nr':1,'observerlist':2,'survey':\"RMK\"})"
   ]
  },
  {
   "cell_type": "markdown",
   "id": "04de2f3c-2dae-4d63-a78e-28b05b031075",
   "metadata": {},
   "source": [
    "### Southern NSW rain forest\n",
    "\n",
    "- 5 sites, all with location description and coordinates, elevation data missing for four sites\n",
    "- each site visited once, November/December 2021, main observer is David Keith"
   ]
  },
  {
   "cell_type": "code",
   "execution_count": 22,
   "id": "baba4530-9b10-46d3-8896-8430e4ba9d41",
   "metadata": {
    "tags": []
   },
   "outputs": [
    {
     "name": "stdout",
     "output_type": "stream",
     "text": [
      "Connecting to the PostgreSQL database...\n",
      "5 rows updated\n",
      "Database connection closed.\n",
      "Connecting to the PostgreSQL database...\n",
      "5 rows updated\n",
      "Database connection closed.\n"
     ]
    }
   ],
   "source": [
    "run_imports(filepath=inputdir,\n",
    "            workbook='SthnNSWRF_data_bionet2.xlsx',\n",
    "            worksheet='Site',\n",
    "            col_dictionary={'site_label':0,'location_description':10, 'visit_date':range(3,9), \n",
    "                'lons':(16,), 'lats':(15,), 'elevation':37,\n",
    "                 'gps_uncertainty_m':14,\n",
    "                 'gps_geom_description':17,\n",
    "                 'observerlist':2,'replicate_nr':1,\n",
    "                 'survey':\"SthnNSWRF\"})"
   ]
  },
  {
   "cell_type": "markdown",
   "id": "a63233df-d5af-4b64-9cfc-747585c03bf7",
   "metadata": {},
   "source": [
    "### KNP Alpine Ash\n",
    "\n",
    "- 9 sites (but two shared with Robertson RF?), \n",
    "    - AlpAsh69 is missing site description, \n",
    "    - all with coordinates and elevation\n",
    "- All sites visited once\n",
    "    - all sites visited in April 2021\n",
    "    - Main observer is Jackie Miles, except for AlpAsh_69 (missing)"
   ]
  },
  {
   "cell_type": "code",
   "execution_count": 23,
   "id": "f16946c9-bb60-423e-bc25-f59cc55f8f1e",
   "metadata": {
    "tags": []
   },
   "outputs": [
    {
     "name": "stdout",
     "output_type": "stream",
     "text": [
      "Connecting to the PostgreSQL database...\n",
      "9 rows updated\n",
      "Database connection closed.\n",
      "Connecting to the PostgreSQL database...\n",
      "9 rows updated\n",
      "Database connection closed.\n"
     ]
    }
   ],
   "source": [
    "run_imports(filepath=inputdir,\n",
    "            workbook='UNSW_VegFireResponse_KNP AlpAsh.xlsx',\n",
    "            worksheet='Site',\n",
    "            col_dictionary={'site_label':0,'location_description':10, 'visit_date':range(3,9), \n",
    "               'utm_zone':11, 'xs':(12,), 'ys':(13,), 'elevation':37,\n",
    "                 'gps_uncertainty_m':14,\n",
    "                 'gps_geom_description':17,\n",
    "                 'observerlist':2,'replicate_nr':1,\n",
    "                 'survey':\"KNP AlpAsh\"})\n"
   ]
  },
  {
   "cell_type": "markdown",
   "id": "6a702baf-9f9f-4045-81ba-c06e63dc588e",
   "metadata": {},
   "source": [
    "### Alpine bogs\n",
    "\n",
    "- Six sites, all with full information (description, elevation, coords)\n",
    "- All sites visited once in 2021:\n",
    "    - two sites by Jackie Miles in March\n",
    "    - four sites by David Keith between October - December"
   ]
  },
  {
   "cell_type": "code",
   "execution_count": 24,
   "id": "bb3d92fe-9ce2-48d9-bb90-29382b4e8dfb",
   "metadata": {
    "tags": []
   },
   "outputs": [
    {
     "name": "stdout",
     "output_type": "stream",
     "text": [
      "Connecting to the PostgreSQL database...\n",
      "6 rows updated\n",
      "Database connection closed.\n",
      "Connecting to the PostgreSQL database...\n",
      "6 rows updated\n",
      "Database connection closed.\n"
     ]
    }
   ],
   "source": [
    "run_imports(filepath=inputdir,\n",
    "            workbook='UNSW_VegFireResponse_AlpineBogs_reformat_Sep2021.xlsx',\n",
    "            worksheet='Site',\n",
    "            col_dictionary={'site_label':0,'location_description':10, 'visit_date':range(3,9), \n",
    "               'utm_zone':11, 'xs':(12,), 'ys':(13,), 'elevation':37,\n",
    "                 'gps_uncertainty_m':14,\n",
    "                 'gps_geom_description':17,\n",
    "                 'observerlist':2,'replicate_nr':1,\n",
    "                 'survey':\"Alpine Bogs\"})\n"
   ]
  },
  {
   "cell_type": "markdown",
   "id": "97d116d7-315c-4659-ba14-a2b58c8559e0",
   "metadata": {
    "tags": []
   },
   "source": [
    "### Robertson RF \n",
    "\n",
    "- Two sites\n",
    "    - both included in file for KNP AlpAsh? duplicated codes? same entries?\n",
    "    - both with full information\n",
    "- Three visits\n",
    "    - both sites visited in January 2021\n",
    "    - one site visited in August 2002 ?\n",
    "    - three different main observers: David Keith, Robert Kooyman and T. Mason"
   ]
  },
  {
   "cell_type": "code",
   "execution_count": 25,
   "id": "c85050ad-e9e9-4f81-9b9e-7565d9b59dfe",
   "metadata": {
    "tags": []
   },
   "outputs": [
    {
     "name": "stdout",
     "output_type": "stream",
     "text": [
      "Connecting to the PostgreSQL database...\n",
      "2 rows updated\n",
      "Database connection closed.\n",
      "Connecting to the PostgreSQL database...\n",
      "3 rows updated\n",
      "Database connection closed.\n"
     ]
    }
   ],
   "source": [
    "run_imports(filepath=inputdir,\n",
    "            workbook='RobertsonRF_data_bionet2.xlsx',\n",
    "            worksheet='Site',\n",
    "            col_dictionary={'site_label':0,'location_description':10, 'visit_date':range(3,9), \n",
    "               'utm_zone':11, 'xs':(12,), 'ys':(13,), 'elevation':37,\n",
    "                 'gps_uncertainty_m':14,\n",
    "                 'gps_geom_description':17,\n",
    "                 'observerlist':2,'replicate_nr':1,\n",
    "                 'survey':\"Robertson RF\"})"
   ]
  },
  {
   "cell_type": "markdown",
   "id": "dae6245a-6e08-4d6b-b630-e27cebd8ea32",
   "metadata": {},
   "source": [
    "### Newness\n",
    "This file has a different format, and includes many empty site records, had to tweak functions and troubleshoot a bit.\n",
    "Much slower processing\n",
    "\n",
    "- 20 sites\n",
    "    - description missing for six sites\n",
    "    - all with elevation and coordinates\n",
    "- 54 visits (!)\n",
    "    - each site visited two or three times \n",
    "    - visits between 2020 and 2021\n",
    "    - observer information is missing or incomplete in most visits"
   ]
  },
  {
   "cell_type": "code",
   "execution_count": 26,
   "id": "5f48f82e-880d-4e1f-9222-bf01830ba8cc",
   "metadata": {
    "tags": []
   },
   "outputs": [
    {
     "name": "stdout",
     "output_type": "stream",
     "text": [
      "Connecting to the PostgreSQL database...\n",
      "20 rows updated\n",
      "Database connection closed.\n",
      "Connecting to the PostgreSQL database...\n",
      "54 rows updated\n",
      "Database connection closed.\n"
     ]
    }
   ],
   "source": [
    "filename='Fire response quadrat survey Newnes Nov2020_DK_revised IDs+AllNovData.xlsm'\n",
    "col_definitions={'site_label':0, 'visit_date':(8,), 'fixed_utm_zone':56, 'xs':(1,), 'ys':(2,), 'elevation':4, 'survey':\"NEWNES\"}\n",
    "\n",
    "run_imports(filepath=inputdir,\n",
    "            workbook=filename,\n",
    "            worksheet='Site',\n",
    "            col_dictionary=col_definitions)\n"
   ]
  },
  {
   "cell_type": "markdown",
   "id": "4d5a7e8d-ce21-4cf4-a027-c172094ba628",
   "metadata": {},
   "source": [
    "### Yatteyattah \n",
    "This workbook had no 'Site' worksheet, had to reformat the data from 'Sample' and add the worksheet to make it work, also changed the format in \"date of sampling\" column.\n",
    "\n",
    "- 6 sites, all with full information \n",
    "- 6 visits\n",
    "    - two sites visited in July 2020\n",
    "    - four sites visited in February 2021\n",
    "    - all visits by Jackie Miles"
   ]
  },
  {
   "cell_type": "code",
   "execution_count": 27,
   "id": "e25ca80c-1f76-453e-871b-db2b0a778916",
   "metadata": {},
   "outputs": [
    {
     "name": "stdout",
     "output_type": "stream",
     "text": [
      "Connecting to the PostgreSQL database...\n",
      "6 rows updated\n",
      "Database connection closed.\n",
      "Connecting to the PostgreSQL database...\n",
      "6 rows updated\n",
      "Database connection closed.\n"
     ]
    }
   ],
   "source": [
    "filename='UNSW_VegFireResponse_DataEntry_Yatteyattah all +DK +Milton.xlsx'\n",
    "col_definitions={'site_label':0,'location_description':10, 'utm_zone':11,'elevation':37, 'visit_date':range(3,9), \n",
    "                'xs':(12,), 'ys':(13,),\n",
    "                 'gps_uncertainty_m':14,\n",
    "                 'gps_geom_description':17,\n",
    "                 'observerlist':2,'replicate_nr':1,\n",
    "                 'survey':\"Yatteyattah\"}\n",
    "run_imports(filepath=inputdir,\n",
    "            workbook=filename,\n",
    "            worksheet='Site',\n",
    "            col_dictionary=col_definitions)\n"
   ]
  },
  {
   "cell_type": "markdown",
   "id": "031af319-7456-456b-8f02-cd47b9342e5a",
   "metadata": {},
   "source": [
    "### Sites without survey\n",
    "\n",
    "Some sites / visits in the database with missing information:\n",
    "\n",
    "Site | Date | samples | species\n",
    "---|---|---|---\n",
    "BER1 | 2020-02-06 | 1 | No data added\n",
    "BER2 | 2020-02-25 | 1 | No data added\n",
    "BS1 | 2020-06-03 | 20 | No data added\n",
    "Duffy | 2020-01-14 | 1 | No data added\n",
    "Ka1 | 2020-01-07 | 1 | No data added\n",
    "Ka3 | 2020-01-09 | 1 | No data added\n",
    "Ka3_b | 2020-01-08 | 1 | No data added\n",
    "Ka4 | 2020-02-04 | 1 | No data added\n",
    "Ka5 | 2020-02-05 | 2 | No data added\n",
    "LC1 | 2020-01-15 | 1 | No data added\n",
    "LC2 | 2020-02-14 | 1 | No data added\n",
    "Madden1 | 2020-02-26 | 1 | No data added\n",
    "R0Y005 | 2019-12-12 | 2 | No data added\n",
    "ROY001 | 2019-10-25 | 2 | No data added\n",
    "ROY002 | 2019-10-25 | 1 | No data added\n",
    "ROY003 | 2019-12-05 | 1 | No data added\n",
    "ROY004 | 2019-12-11 | 1 | No data added\n",
    "SCCJB13 | 2020-12-07 | 4 | No data added\n",
    "SCCJB37-Near | 2020-12-07 | 4 | No data added\n",
    "UppClydeRF1 | 2021-11-29 | 4 | 27\n",
    "UppClydeRF1 | 2021-12-01 | 1 | 1"
   ]
  },
  {
   "cell_type": "markdown",
   "id": "acaa6289-fe5e-477b-a9d5-09e70b9e7b3b",
   "metadata": {},
   "source": [
    "### Fill main observer id\n",
    "\n",
    "We run this after import in order to translate the list of observers into a integer value for the main observer"
   ]
  },
  {
   "cell_type": "code",
   "execution_count": 43,
   "id": "44732395-9be5-4335-a8bb-e40b3212f293",
   "metadata": {},
   "outputs": [
    {
     "name": "stdout",
     "output_type": "stream",
     "text": [
      "Connecting to the PostgreSQL database...\n",
      "UPDATE form.field_visit set mainobserver=7 WHERE observerlist[1]='David Keith' AND mainobserver is NULL;\n",
      "10 rows updated\n",
      "UPDATE form.field_visit set mainobserver=9 WHERE observerlist[1]='D. Benson' AND mainobserver is NULL;\n",
      "UPDATE form.field_visit set mainobserver=10 WHERE observerlist[1]='L. Watts,' AND mainobserver is NULL;\n",
      "UPDATE form.field_visit set mainobserver=11 WHERE observerlist[1]='T. Manson' AND mainobserver is NULL;\n",
      "UPDATE form.field_visit set mainobserver=12 WHERE observerlist[1]='Jackie Miles' AND mainobserver is NULL;\n",
      "24 rows updated\n",
      "UPDATE form.field_visit set mainobserver=13 WHERE observerlist[1]='Robert Kooyman' AND mainobserver is NULL;\n",
      "30 rows updated\n",
      "UPDATE form.field_visit set mainobserver=8 WHERE observerlist[1]='Alexandria Thomsen' AND mainobserver is NULL;\n",
      "71 rows updated\n",
      "UPDATE form.field_visit set mainobserver=14 WHERE observerlist[1]='Jedda Lemmen' AND mainobserver is NULL;\n",
      "72 rows updated\n",
      "Database connection closed.\n"
     ]
    }
   ],
   "source": [
    "\n",
    "print('Connecting to the PostgreSQL database...')\n",
    "conn = psycopg2.connect(**params)\n",
    "cur = conn.cursor()\n",
    "\n",
    "updated_rows=0\n",
    "qrystr = \"UPDATE form.field_visit set mainobserver=%s WHERE observerlist[1]='%s' AND mainobserver is NULL;\"\n",
    "for k in observerid:\n",
    "    qry = qrystr % (k[0],\" \".join(k[1:3]))\n",
    "    print(qry)\n",
    "    cur.execute(qry)\n",
    "    if cur.rowcount > 0:\n",
    "        updated_rows = updated_rows + cur.rowcount\n",
    "        print(\"%s rows updated\" % updated_rows)\n",
    "\n",
    "cur.close()\n",
    "conn.commit()\n",
    "        \n",
    "if conn is not None:\n",
    "    conn.close()\n",
    "    print('Database connection closed.')"
   ]
  },
  {
   "cell_type": "code",
   "execution_count": 44,
   "id": "cc3daddf-208f-4730-9f12-1a82e16eef0a",
   "metadata": {},
   "outputs": [
    {
     "data": {
      "text/plain": [
       "72"
      ]
     },
     "execution_count": 44,
     "metadata": {},
     "output_type": "execute_result"
    }
   ],
   "source": [
    "updated_rows"
   ]
  },
  {
   "cell_type": "code",
   "execution_count": null,
   "id": "ee9c8cbe-768f-458f-bcce-5c3ca5448e38",
   "metadata": {},
   "outputs": [],
   "source": []
  }
 ],
 "metadata": {
  "kernelspec": {
   "display_name": "Python 3 (ipykernel)",
   "language": "python",
   "name": "python3"
  },
  "language_info": {
   "codemirror_mode": {
    "name": "ipython",
    "version": 3
   },
   "file_extension": ".py",
   "mimetype": "text/x-python",
   "name": "python",
   "nbconvert_exporter": "python",
   "pygments_lexer": "ipython3",
   "version": "3.10.2"
  }
 },
 "nbformat": 4,
 "nbformat_minor": 5
}
