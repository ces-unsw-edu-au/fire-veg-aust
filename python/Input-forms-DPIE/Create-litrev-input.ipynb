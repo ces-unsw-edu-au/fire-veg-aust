{
 "cells": [
  {
   "cell_type": "markdown",
   "id": "e6851d2c-cc1c-4c8e-87eb-fe3c2d5093c5",
   "metadata": {},
   "source": [
    "Create a workbook with:\n",
    "\n",
    "- Instructions (extended)\n",
    "- Data contributor details\n",
    "- updated trait codes and descriptions\n",
    "- updated vocabularies\n",
    "- updated species list and references\n",
    "\n",
    "- Data entry table:\n"
   ]
  },
  {
   "cell_type": "markdown",
   "id": "f73c2a7b-10c4-480b-808c-d7461d493f1a",
   "metadata": {},
   "source": [
    "Step 1\n",
    "\n",
    "Go to sheet \"Input table\"\tGo to Input table\n",
    "\n",
    "Step 2\n",
    "\n",
    "Fill one (or more) record(s) for each combination of reference + species + trait. Use \"Insert > Table Rows Above/Below\" to ensure new records have same format and validation options.\t\n",
    "\n",
    "Step 3\n",
    "\n",
    "For each record, select references (main source and original sources columns) from the drop down list. If reference is not found, go to list of reference and add it to the table (use \"Insert > Table Rows Above/Below\" to add record to the list of references)\tGo to list of references\n",
    "\n",
    "Step 4\n",
    "For each record, type in species name as given by main source in \"original_species_name\" column. A XLOOKUP function will look for a match in the species code table (list_spcode) and populate columns species_code and species_name, but this can be overridden with a manual entry if needed.\tGo to list of species\n",
    "\n",
    "Step 5\n",
    "\n",
    "Select a trait from the drop down menu. A XLOOKUP function will look at the trait code table and populate columns for trait name and trait type (categorical or numerical). The choice will determine the list of values for the \"norm_value\" column\tGo to list of traits\n",
    "\n",
    "Step 6\n",
    "\n",
    "Add raw value as given by original source, might include values, units and short explanatory text about observation or measurement\t\n",
    "\n",
    "Step 7 - numerical\n",
    "\n",
    "For numeric trait values (e.g. age in years) we use a triplet of integer values (columns best, lower and upper) to describe a fuzzy number. Fill out any needed numbers and leave other columns blank. If in doubt leave all columns blank. Examples a raw value of \"5 (3-7)\" would be best:5, lower:3 upper:7; a value of \">5\" would be lower:5, best:blank, upper:blank; etc. This column is colored red if the selected trait is not numerical.\t\n",
    "\n",
    "Step 7 - categorical\n",
    "\n",
    "For categorical variables, use values from drop-down list. The list will update when a categorical trait is selected and will be colored red if the selected trait is not categorical. If raw value does not match any of the options, leave blank. Values not in the dropdown list will not be imported in the database, but you can add a comment in the \"notes\" column.\tGo to controlled vocabularies\n",
    "\n",
    "Step 8\tFill method of estimation from drop down list.\t\n",
    "\n",
    "Step 9\tAdd any notes, observations or comments in column \"notes\". Please avoid using colors or any other formatting, nor add comment on particular cells, rather write all comments as text in the \"notes\" column..\t"
   ]
  },
  {
   "cell_type": "code",
   "execution_count": null,
   "id": "463db0f8-9a4c-4a87-bffd-6db0386a159a",
   "metadata": {},
   "outputs": [],
   "source": []
  }
 ],
 "metadata": {
  "kernelspec": {
   "display_name": "Python 3 (ipykernel)",
   "language": "python",
   "name": "python3"
  },
  "language_info": {
   "codemirror_mode": {
    "name": "ipython",
    "version": 3
   },
   "file_extension": ".py",
   "mimetype": "text/x-python",
   "name": "python",
   "nbconvert_exporter": "python",
   "pygments_lexer": "ipython3",
   "version": "3.10.2"
  }
 },
 "nbformat": 4,
 "nbformat_minor": 5
}
