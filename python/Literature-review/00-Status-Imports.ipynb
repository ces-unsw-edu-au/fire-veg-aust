{
 "cells": [
  {
   "cell_type": "markdown",
   "id": "1eaba912-d42f-458e-a856-709b1ce61254",
   "metadata": {
    "tags": []
   },
   "source": [
    "# Summary of database import\n",
    "\n"
   ]
  },
  {
   "cell_type": "markdown",
   "id": "362b2cb3-ffa4-40a7-83d8-bb90b91db1ef",
   "metadata": {
    "tags": []
   },
   "source": [
    "## Set up"
   ]
  },
  {
   "cell_type": "code",
   "execution_count": 1,
   "id": "0ff6c2dd-9207-403e-afde-0488a6fb8044",
   "metadata": {
    "tags": []
   },
   "outputs": [],
   "source": [
    "from pathlib import Path\n",
    "import os\n",
    "from configparser import ConfigParser\n",
    "import psycopg2\n",
    "from psycopg2.extras import DictCursor\n",
    "\n",
    "\n",
    "repodir = Path(\"../../\") \n",
    "inputdir = repodir / \"data/\"\n",
    "filename = repodir / 'secrets' / 'database.ini'\n",
    "section = 'aws-lght-sl'\n",
    "\n",
    "\n",
    "def read_dbparams(filename,section=\"postgresql\"):\n",
    "    # create a parser\n",
    "    parser = ConfigParser()\n",
    "    # read config file\n",
    "    parser.read(filename)\n",
    "\n",
    "    # get section, default to postgresql\n",
    "    db = {}\n",
    "    if parser.has_section(section):\n",
    "        params = parser.items(section)\n",
    "        for param in params:\n",
    "            db[param[0]] = param[1]\n",
    "    else:\n",
    "        raise Exception('Section {0} not found in the {1} file'.format(section, filename))\n",
    "\n",
    "    return db\n",
    "\n",
    "def dbquery(query,dbparams):\n",
    "    #print('Connecting to the PostgreSQL database...')\n",
    "    conn = psycopg2.connect(**dbparams)\n",
    "    cur = conn.cursor(cursor_factory=DictCursor)\n",
    "    cur.execute(query)\n",
    "    res = cur.fetchall()\n",
    "    cur.close()\n",
    "    if conn is not None:\n",
    "        conn.close()\n",
    "        #print('Database connection closed.')    \n",
    "    return res\n",
    "\n"
   ]
  },
  {
   "cell_type": "code",
   "execution_count": 2,
   "id": "62f70c69-89f9-472e-930b-448a78b325b0",
   "metadata": {},
   "outputs": [],
   "source": [
    "filename = repodir / 'secrets' / 'database.ini'\n",
    "dbparams=read_dbparams(filename,section='aws-lght-sl')"
   ]
  },
  {
   "cell_type": "code",
   "execution_count": 3,
   "id": "10708f42-8c4f-4ba1-baa6-742054521af1",
   "metadata": {},
   "outputs": [],
   "source": [
    "qry = \"select * from litrev.trait_info ;\"\n",
    "trait_info = dbquery(qry,dbparams)"
   ]
  },
  {
   "cell_type": "markdown",
   "id": "c208fcb0-16b9-4131-b9d5-1dda223ece4d",
   "metadata": {},
   "source": [
    "## First tranche"
   ]
  },
  {
   "cell_type": "markdown",
   "id": "d6b54dcd-dd1b-4a3c-953d-b450c576e03b",
   "metadata": {
    "tags": []
   },
   "source": [
    "### Trait code surv1\n",
    "\n",
    "Metadata | Structure | Vocabularies | Records NSWFFRD | Records austraits | Others| Data curation\n",
    "---|---|---|---|---|---|---\n",
    "<font color='darkgreen'>Done</font>|<font color='darkgreen'>Done</font>|<font color='darkgreen'>Done</font>|<font color='darkgreen'>Done</font>|TO DO|None|None "
   ]
  },
  {
   "cell_type": "markdown",
   "id": "1268ef6a-849c-4fbe-bc1c-79f4f92b39f0",
   "metadata": {
    "tags": []
   },
   "source": [
    "#### Trait information\n",
    "\n",
    "Check trait information"
   ]
  },
  {
   "cell_type": "code",
   "execution_count": 4,
   "id": "a2fa9a6a-312a-403c-9957-512002c22ee6",
   "metadata": {},
   "outputs": [
    {
     "name": "stdout",
     "output_type": "stream",
     "text": [
      "code: surv1\n",
      "name: Resprouting - full canopy scorch\n",
      "description: Ordinal categories of survival and resprouting proportions for plants subjected to 100% canopy scorch\n",
      "value_type: categorical\n",
      "life_stage: Standing plant\n",
      "life_history_process: Survival\n",
      "priority: 3rd tranche\n",
      "category_vocabulary: resprouting_vocabulary\n",
      "method_vocabulary: method_surv1_vocabulary\n"
     ]
    }
   ],
   "source": [
    "trait_info[1]['code']\n",
    "for elem in filter(lambda x: x['code'] == 'surv1', trait_info):\n",
    "    for k in elem.keys():\n",
    "        print(\"%s: %s\" % (k,elem[k]))"
   ]
  },
  {
   "cell_type": "markdown",
   "id": "4d84e90f-e320-4d61-8e83-9c2400e71c7c",
   "metadata": {},
   "source": [
    "#### Vocabularies\n",
    "\n",
    "This trait uses one vocabulary for the categories and one for the methods"
   ]
  },
  {
   "cell_type": "code",
   "execution_count": 5,
   "id": "445b1c7b-fbcd-4281-8e95-9eaac2687c9c",
   "metadata": {},
   "outputs": [
    {
     "data": {
      "text/plain": [
       "[[{'None': '< 5 % individuals in a population resprout after 100% canopy scorch',\n",
       "   'Few': '> 5 and < 30 % individuals in a population resprout after 100% canopy scorch',\n",
       "   'Half': '> 30 and < 70 % individuals in a population resprout after 100% canopy scorch',\n",
       "   'Most': '> 70 and < 90 % individuals in a population resprout after 100% canopy scorch',\n",
       "   'All': '> 90 % individuals in a population resprout after 100% canopy scorch',\n",
       "   'Unknown': 'No data'}]]"
      ]
     },
     "execution_count": 5,
     "metadata": {},
     "output_type": "execute_result"
    }
   ],
   "source": [
    "#For the category\n",
    "qry_vocabulary=\"SELECT pg_catalog.obj_description(t.oid, 'pg_type')::json from pg_type t where typname = '%s';\" \n",
    "dbquery(qry_vocabulary % elem['category_vocabulary'],dbparams)"
   ]
  },
  {
   "cell_type": "code",
   "execution_count": 6,
   "id": "330fd49b-b35b-40bb-be04-46b159e10e46",
   "metadata": {},
   "outputs": [
    {
     "data": {
      "text/plain": [
       "[[{'Direct field observation or measure (unknown sample size)': 'Estimates based on data observed or measured in the field (unknown number of individuals observed). Survival estimates based on counts of individuals tagged pre-fire or counts of resprouters and dead remains postfire',\n",
       "   'Direct observation (small sample)': 'Estimates based on data observed or measured in the field based on fewer than 10 individuals. Survival estimates based on counts of individuals tagged pre-fire or counts of resprouters and dead remains postfire',\n",
       "   'Direct observation (large sample)': 'Estimates based on data observed or measured in the field based on 10 or more individuals observed). Survival estimates based on counts of individuals tagged pre-fire or counts of resprouters and dead remains postfire',\n",
       "   'Estimated by extrapolation from observed values': 'Estimated by extrapolation from (time series) of observed values. High mortality from 100% scorch may be inferred if mortality is high from partial scorch',\n",
       "   'Inferred from plant / organ / growth stage morphology': 'Inference based on relevant morphological structures or traits. Inference based on structure of protective and regenerative organs ',\n",
       "   'Inferred from related taxa': 'Assigned to same category as congeners or confamilials that have similar visible features, pending direct evidence. Based on congeneric species with similar protective/recovery organs and habitats',\n",
       "   'Manipulative experiment': 'Manipulative experiment. Individuals sampled before and after fire treatment causing 100% scorch',\n",
       "   'Qualitative estimate': 'Guestimate from visual assessment of post-fire wild population. Guestimate from visual assessment of post-fire wild population',\n",
       "   'Unspecified methods': 'Methods unclear or undocumented.'}]]"
      ]
     },
     "execution_count": 6,
     "metadata": {},
     "output_type": "execute_result"
    }
   ],
   "source": [
    "#For the methods\n",
    "dbquery(qry_vocabulary % elem['method_vocabulary'],dbparams)"
   ]
  },
  {
   "cell_type": "markdown",
   "id": "10f68c35-7906-4b30-a446-00c4f4214d72",
   "metadata": {},
   "source": [
    "#### Importing records\n",
    "\n",
    "I ran the script in notebook '[Read resprouting data from NSWFFRD](python/Literature-review/Read-resprouting-data-from-NSWFFRD.ipynb)'. It apparently imported 11563 records, let's check...\n",
    "\n",
    "#### Check records in database"
   ]
  },
  {
   "cell_type": "code",
   "execution_count": 7,
   "id": "e94c1466-db59-4fc3-a78d-7920cfedefa7",
   "metadata": {},
   "outputs": [
    {
     "data": {
      "text/plain": [
       "[['None', 4439, 1601, 1589],\n",
       " ['Few', 254, 181, 181],\n",
       " ['Half', 237, 179, 178],\n",
       " ['Most', 244, 163, 163],\n",
       " ['All', 6385, 1935, 1907],\n",
       " ['Unknown', 4, 4, 4]]"
      ]
     },
     "execution_count": 7,
     "metadata": {},
     "output_type": "execute_result"
    }
   ],
   "source": [
    "qry_values = ' select norm_value,count(*),count(distinct species),count(distinct species_code) from litrev.%s group by norm_value;'\n",
    "\n",
    "dbquery(qry_values % 'surv1',dbparams)"
   ]
  },
  {
   "cell_type": "markdown",
   "id": "9e3487ec-1f68-483b-b4d4-edb684361b07",
   "metadata": {},
   "source": [
    "Any values missing?"
   ]
  },
  {
   "cell_type": "code",
   "execution_count": 8,
   "id": "cfa80beb-a6a4-4ae0-84b3-916c1e729ef0",
   "metadata": {},
   "outputs": [
    {
     "data": {
      "text/plain": [
       "[]"
      ]
     },
     "execution_count": 8,
     "metadata": {},
     "output_type": "execute_result"
    }
   ],
   "source": [
    "qry = ' select raw_value,count(*),count(distinct species),count(distinct species_code) from litrev.surv1 where norm_value is NULL group by raw_value;'\n",
    "\n",
    "dbquery(qry,dbparams)"
   ]
  },
  {
   "cell_type": "markdown",
   "id": "7ffad3b6-f881-42ed-94cd-c3373906fa40",
   "metadata": {
    "tags": []
   },
   "source": [
    "### Trait code surv4\n",
    "\n",
    "Metadata | Structure | Vocabularies | Records NSWFFRD | Records austraits | Others | Data curation\n",
    "---|---|---|---|---|---|---\n",
    "<font color='darkgreen'>Done</font>|<font color='darkgreen'>Done</font>|<font color='darkgreen'>Done</font>| <font color='darkgreen'>Done</font> | TO DO | None | TO DO: ca. 20 records "
   ]
  },
  {
   "cell_type": "markdown",
   "id": "8ec22134-8167-4a66-83ed-f65bc5c7e31e",
   "metadata": {
    "tags": []
   },
   "source": [
    "#### Trait information\n",
    "\n",
    "Check trait information"
   ]
  },
  {
   "cell_type": "code",
   "execution_count": 9,
   "id": "5ef85f8b-fa54-4005-8f89-a10db2e39008",
   "metadata": {},
   "outputs": [
    {
     "name": "stdout",
     "output_type": "stream",
     "text": [
      "code: surv4\n",
      "name: Regenerative Organ\n",
      "description: None\n",
      "value_type: categorical\n",
      "life_stage: Standing plant\n",
      "life_history_process: Survival\n",
      "priority: 3rd tranche\n",
      "category_vocabulary: resprout_organ_vocabulary\n",
      "method_vocabulary: None\n"
     ]
    }
   ],
   "source": [
    "trait_info[1]['code']\n",
    "for elem in filter(lambda x: x['code'] == 'surv4', trait_info):\n",
    "    for k in elem.keys():\n",
    "        print(\"%s: %s\" % (k,elem[k]))"
   ]
  },
  {
   "cell_type": "markdown",
   "id": "84041481-a38b-4579-8084-0108e0e2c07b",
   "metadata": {},
   "source": [
    "#### Vocabularies\n",
    "\n",
    "This trait uses one vocabulary for the categories but does not include a methods vocabulary:"
   ]
  },
  {
   "cell_type": "code",
   "execution_count": 10,
   "id": "fe89e54e-5a15-43a6-9c5e-bd4aab0dea49",
   "metadata": {},
   "outputs": [
    {
     "data": {
      "text/plain": [
       "[[{'Epicormic': 'Resprouting from epicormic meristematic tissues or buds beneath bark on woody aerial stems',\n",
       "   'Apical': 'Resprouting from active shoots protected by crowded leaf bases on woody stems',\n",
       "   'Lignotuber': 'Resprouting from meristematic tissues or buds on lignotubers (swollen woody organ) at or just below the soil surface',\n",
       "   'Basal': 'Resprouting from meristematic tissues or buds at the base of woody stems at or just below the soil surface',\n",
       "   'Tuber': 'Resprouting from non-woody nodular subsoil organs (bulbs, corms, tubers, taproots) with active shoots or dormant buds',\n",
       "   'Tussock': 'Shoots protected and resprouting within tightly clustered tillers and resprouting  without significant lateral spread',\n",
       "   'Long rhizome or root sucker': 'Resprouting from buried woody or non-woody horizontal organs capable of lateral spread, typically >0.5m. Includes root suckers.',\n",
       "   'Short rhizome': 'Resprouting from buried woody or non-woody horizontal organs, but not capable of significant lateral spread, typically <0.5m.',\n",
       "   'Stolon': 'Resprouting from non-woody horizontal organs on or just below the soil surface',\n",
       "   'None': 'No vegetative recovery - killed by fire'}]]"
      ]
     },
     "execution_count": 10,
     "metadata": {},
     "output_type": "execute_result"
    }
   ],
   "source": [
    "dbquery(qry_vocabulary % elem['category_vocabulary'],dbparams)"
   ]
  },
  {
   "cell_type": "markdown",
   "id": "828e1233-0ea5-44bd-8857-8c6eba70971c",
   "metadata": {},
   "source": [
    "#### Importing records\n",
    "\n",
    "I ran the script in notebook '[Read categorical variables from NSWFFRD](python/Literature-review/Read-categorical-variables-from-NSWFFRD.ipynb)' for several variables. For _surv4_ it imported 1411 records, only 18 records had errors and could not be assigned to one of the predefined categories.\n",
    "\n",
    "\n",
    "#### Check records in database"
   ]
  },
  {
   "cell_type": "code",
   "execution_count": 11,
   "id": "173b3d9a-5e93-48f3-81b7-ac1006e828ac",
   "metadata": {},
   "outputs": [
    {
     "data": {
      "text/plain": [
       "[['Epicormic', 147, 146, 146],\n",
       " ['Apical', 14, 14, 14],\n",
       " ['Lignotuber', 157, 157, 157],\n",
       " ['Basal', 630, 630, 613],\n",
       " ['Tuber', 104, 104, 104],\n",
       " ['Short rhizome', 166, 165, 165],\n",
       " ['Long rhizome or root sucker', 172, 171, 171],\n",
       " ['Stolon', 3, 3, 3],\n",
       " [None, 18, 17, 17]]"
      ]
     },
     "execution_count": 11,
     "metadata": {},
     "output_type": "execute_result"
    }
   ],
   "source": [
    "dbquery(qry_values % 'surv4',dbparams)"
   ]
  },
  {
   "cell_type": "markdown",
   "id": "da307e82-65e8-4596-a6b7-5041c28b53b1",
   "metadata": {},
   "source": [
    "Any values missing?"
   ]
  },
  {
   "cell_type": "code",
   "execution_count": 12,
   "id": "7385b017-82d4-4bef-88b3-3312be917030",
   "metadata": {},
   "outputs": [],
   "source": [
    "qry = ' select raw_value,count(*),count(distinct species),count(distinct species_code) from litrev.surv4 where norm_value is NULL group by raw_value;'\n",
    "\n",
    "res=dbquery(qry,dbparams)"
   ]
  },
  {
   "cell_type": "code",
   "execution_count": 13,
   "id": "3c16c1a3-3b48-429f-a89e-5079b69889bb",
   "metadata": {},
   "outputs": [
    {
     "data": {
      "text/plain": [
       "13"
      ]
     },
     "execution_count": 13,
     "metadata": {},
     "output_type": "execute_result"
    }
   ],
   "source": [
    "len(res)"
   ]
  },
  {
   "cell_type": "code",
   "execution_count": 14,
   "id": "842f4179-8dba-4cd7-9f8f-e7cef8d3aaf1",
   "metadata": {
    "collapsed": true,
    "jupyter": {
     "outputs_hidden": true
    },
    "tags": []
   },
   "outputs": [
    {
     "data": {
      "text/plain": [
       "[[['Resprout location', 'apical buds'], 4, 4, 4],\n",
       " [['Resprout location', 'basal, possibly rhizome', '->', 'possibly rhizome'],\n",
       "  1,\n",
       "  1,\n",
       "  1],\n",
       " [['Resprout location', 'basal rhizome'], 1, 1, 1],\n",
       " [['Resprout location', 'basal & some epicormic', '->', 'some epicormic'],\n",
       "  1,\n",
       "  1,\n",
       "  1],\n",
       " [['Resprout location',\n",
       "   'basal; stem buds; swamp form basal buds',\n",
       "   '->',\n",
       "   'swamp form basal buds'],\n",
       "  1,\n",
       "  1,\n",
       "  1],\n",
       " [['Resprout location', 'basal: tuber (10; 48)', '->', 'basal: tuber'],\n",
       "  1,\n",
       "  1,\n",
       "  1],\n",
       " [['Resprout location', 'has rhizome'], 2, 2, 2],\n",
       " [['Resprout location', 'or rhizome'], 1, 1, 1],\n",
       " [['Resprout location', 'rhizome?'], 1, 1, 1],\n",
       " [['Resprout location', 'roots'], 2, 2, 2],\n",
       " [['Resprout location', 'rootsuckers &', '->', ''], 1, 1, 1],\n",
       " [['Resprout location', 'sometimes suckers'], 1, 1, 1],\n",
       " [['Resprout location', 'stem bases'], 1, 1, 1]]"
      ]
     },
     "execution_count": 14,
     "metadata": {},
     "output_type": "execute_result"
    }
   ],
   "source": [
    "res"
   ]
  },
  {
   "cell_type": "markdown",
   "id": "3d622553-1f29-40a8-85a3-1b74458ba231",
   "metadata": {
    "tags": []
   },
   "source": [
    "### repr3\n",
    "Metadata | Structure | Vocabularies | Records NSWFFRD | Records austraits | Others\n",
    "---|---|---|---|---|---\n",
    "<font color='red'>TO DO</font>|<font color='red'>TO DO</font>|<font color='red'>TO DO</font>| <font color='red'>TO DO</font>| <font color='red'>TO DO</font> | None "
   ]
  },
  {
   "cell_type": "code",
   "execution_count": 52,
   "id": "e3a5d8f8-da89-4ebe-8aa0-4489d43f6ff5",
   "metadata": {},
   "outputs": [
    {
     "data": {
      "text/plain": [
       "[['{\"years\": \"The time taken for first individual in a recruitment cohort to produce their first reproductive organs (e.g. flowers, sporophylls)\"}']]"
      ]
     },
     "execution_count": 52,
     "metadata": {},
     "output_type": "execute_result"
    }
   ],
   "source": [
    "qry_comment = \"\"\"\n",
    "SELECT\n",
    "    (\n",
    "        SELECT\n",
    "            pg_catalog.col_description(c.oid, cols.ordinal_position::int)\n",
    "        FROM pg_catalog.pg_class c\n",
    "        WHERE\n",
    "            c.oid     = (SELECT CONCAT(cols.table_schema,'.',cols.table_name)::regclass::oid) AND\n",
    "            c.relname = cols.table_name\n",
    "    ) as column_comment\n",
    " \n",
    "FROM information_schema.columns cols\n",
    "WHERE\n",
    "    cols.table_catalog = 'dbfireveg' AND\n",
    "    cols.table_schema  = 'litrev' AND\n",
    "    cols.table_name    = '%s' AND\n",
    "    cols.column_name    = 'best';   \n",
    "\"\"\" \n",
    "\n",
    "res=dbquery(qry_comment % 'repr3',dbparams)\n",
    "res"
   ]
  },
  {
   "cell_type": "markdown",
   "id": "e4d492eb-8e40-4785-a400-e5bea6e88345",
   "metadata": {
    "tags": []
   },
   "source": [
    "### repr4\n",
    "Metadata | Structure | Vocabularies | Records NSWFFRD | Records austraits | Others\n",
    "---|---|---|---|---|---\n",
    "<font color='red'>TO DO</font>|<font color='red'>TO DO</font>|<font color='red'>TO DO</font>| <font color='red'>TO DO</font>| <font color='red'>TO DO</font>  | None "
   ]
  },
  {
   "cell_type": "markdown",
   "id": "2acf42f9-681f-491e-a4b5-03f97dffdccd",
   "metadata": {
    "jp-MarkdownHeadingCollapsed": true,
    "jupyter": {
     "source_hidden": true
    },
    "tags": []
   },
   "source": [
    "### germ8\n",
    "Metadata | Structure | Vocabularies | Records NSWFFRD | Records austraits | Others\n",
    "---|---|---|---|---|---\n",
    "<font color='red'>TO DO</font>|<font color='red'>TO DO</font>|<font color='red'>TO DO</font>| <font color='red'>TO DO</font>| <font color='red'>TO DO</font>  | None "
   ]
  },
  {
   "cell_type": "markdown",
   "id": "f4975da5-8abe-4d36-b3a1-be56b4d39523",
   "metadata": {},
   "source": [
    "## Second tranche"
   ]
  },
  {
   "cell_type": "markdown",
   "id": "91f49fec-7476-4afa-9ea6-c9e81157cc1d",
   "metadata": {
    "tags": []
   },
   "source": [
    "### repr2\n",
    "Metadata | Structure | Vocabularies | Records NSWFFRD | Records austraits | Others | Data curation\n",
    "---|---|---|---|---|---|---\n",
    "<font color='red'>TO DO: update description</font>|<font color='darkgreen'>Done</font>|<font color='darkgreen'>Done</font>| <font color='darkgreen'>Done</font>|  TO DO | None | <font color='red'>TO DO: ca. 20 records</font>\n"
   ]
  },
  {
   "cell_type": "markdown",
   "id": "16594d60-bcbf-4b84-9f9a-14696b146f24",
   "metadata": {},
   "source": [
    "#### Trait information"
   ]
  },
  {
   "cell_type": "code",
   "execution_count": 20,
   "id": "fc2503c8-fbcb-4aad-bbd5-0a4dde52366a",
   "metadata": {},
   "outputs": [
    {
     "name": "stdout",
     "output_type": "stream",
     "text": [
      "code: repr2\n",
      "name: Post-fire flowering response\n",
      "description: None\n",
      "value_type: categorical\n",
      "life_stage: Standing plant\n",
      "life_history_process: Reproduction\n",
      "priority: 2nd tranche\n",
      "category_vocabulary: postfire_response\n",
      "method_vocabulary: None\n"
     ]
    }
   ],
   "source": [
    "trait_info[1]['code']\n",
    "for elem in filter(lambda x: x['code'] == 'repr2', trait_info):\n",
    "    for k in elem.keys():\n",
    "        print(\"%s: %s\" % (k,elem[k]))"
   ]
  },
  {
   "cell_type": "markdown",
   "id": "8d4ef0e3-d17a-4977-a397-8484cf5bbc6b",
   "metadata": {},
   "source": [
    "#### Vocabularies\n",
    "\n",
    "This trait uses one vocabulary for the categories but does not include a methods vocabulary:"
   ]
  },
  {
   "cell_type": "code",
   "execution_count": 21,
   "id": "c7cd29d3-76fa-4a4e-9dd1-140fc4c8191c",
   "metadata": {},
   "outputs": [
    {
     "data": {
      "text/plain": [
       "[[{'Exclusive': 'Flowering occurs exclusively in the first 5 years after fire (excluding outliers, e.g roadsides)',\n",
       "   'Facultative': 'Flowering occurs most prolifically in the first 5 years after fire',\n",
       "   'Negligible': 'Flowering similar or variable throughout the fire cycle',\n",
       "   'Unknown': 'No data'}]]"
      ]
     },
     "execution_count": 21,
     "metadata": {},
     "output_type": "execute_result"
    }
   ],
   "source": [
    "dbquery(qry_vocabulary % elem['category_vocabulary'],dbparams)"
   ]
  },
  {
   "cell_type": "markdown",
   "id": "7f4b2816-94c5-44b2-acc6-cc05fd4e8bbd",
   "metadata": {},
   "source": [
    "#### Importing records\n",
    "\n",
    "I ran the script in notebook '[Read categorical variables from NSWFFRD](python/Literature-review/Read-categorical-variables-from-NSWFFRD.ipynb)' for several variables. For _repr2_ it imported 144 records, ca. 120 species in two categories, and ca. 23 records had errors and could not be assigned to one of the predefined categories. No records for class 'Negligible' or 'Unknown'.\n",
    "\n",
    "\n",
    "#### Check records in database"
   ]
  },
  {
   "cell_type": "code",
   "execution_count": 23,
   "id": "e25f432a-df9e-483c-84f7-f0661ca86169",
   "metadata": {},
   "outputs": [
    {
     "data": {
      "text/plain": [
       "[['Exclusive', 30, 30, 30], ['Facultative', 91, 91, 91], [None, 23, 21, 21]]"
      ]
     },
     "execution_count": 23,
     "metadata": {},
     "output_type": "execute_result"
    }
   ],
   "source": [
    "dbquery(qry_values % 'repr2',dbparams)"
   ]
  },
  {
   "cell_type": "markdown",
   "id": "f078a216-fbad-4472-9425-e79dfcd119e9",
   "metadata": {
    "jp-MarkdownHeadingCollapsed": true,
    "tags": []
   },
   "source": [
    "### grow1\n",
    "Metadata | Structure | Vocabularies | Records NSWFFRD | Records austraits | Others\n",
    "---|---|---|---|---|---\n",
    "TO DO|TO DO|TO DO| TO DO| TO DO | None \n"
   ]
  },
  {
   "cell_type": "markdown",
   "id": "03e3759a-2784-4132-a067-968b59d55076",
   "metadata": {
    "tags": []
   },
   "source": [
    "### rect2\n",
    "Metadata | Structure | Vocabularies | Records NSWFFRD | Records austraits | Others | Data curation\n",
    "---|---|---|---|---|---|---\n",
    "<font color='darkgreen'>Done</font>|<font color='darkgreen'>Done</font>|<font color='darkgreen'>Done</font>| <font color='darkgreen'>Done</font>| TO DO | None | <font color='red'>TO DO: >90 records</font>\n"
   ]
  },
  {
   "cell_type": "code",
   "execution_count": 24,
   "id": "2639b316-6848-4781-ad5d-6c8a8993d718",
   "metadata": {},
   "outputs": [
    {
     "name": "stdout",
     "output_type": "stream",
     "text": [
      "code: rect2\n",
      "name: Establishment pattern\n",
      "description: The temporal pattern of seedling or clonal establishment through the fire cycle\n",
      "value_type: categorical\n",
      "life_stage: Seedling\n",
      "life_history_process: Recruitment\n",
      "priority: 3rd tranche\n",
      "category_vocabulary: establishment_vocabulary\n",
      "method_vocabulary: None\n"
     ]
    }
   ],
   "source": [
    "trait_info[1]['code']\n",
    "for elem in filter(lambda x: x['code'] == 'rect2', trait_info):\n",
    "    for k in elem.keys():\n",
    "        print(\"%s: %s\" % (k,elem[k]))"
   ]
  },
  {
   "cell_type": "code",
   "execution_count": 25,
   "id": "0ffe7a47-c230-4b61-9180-2a9699de575d",
   "metadata": {},
   "outputs": [
    {
     "data": {
      "text/plain": [
       "[[{'Intolerant': 'I- intolerant of conditions in established communities (i.e. unburnt for some years) and largely restricted to early post-fire years (open conditions, notionally within 5 yrs of previous fire). See Noble & Slatyer (1980, Vegetatio)',\n",
       "   'Intolerant-Tolerant': 'I/T- intolerant or tolerant of conditions in established communities (i.e. unburnt for some years) , variable or uncertain. See Noble & Slatyer (1980, Vegetatio)',\n",
       "   'Tolerant': 'T- tolerant of conditions through the fire cycle (i.e. new recruits observed in both burnt and unburnt sites). See Noble & Slatyer (1980, Vegetatio)',\n",
       "   'Tolerant-Requiring': 'T/R- tolerant or requiring of conditions in established communities, uncertain or variable. See Noble & Slatyer (1980, Vegetatio)',\n",
       "   'Requiring': 'R- requiring of of conditions in established communities (i.e. new recruits only observed at sites unburnt for some years). See Noble & Slatyer (1980, Vegetatio)',\n",
       "   'Unknown': 'No data'}]]"
      ]
     },
     "execution_count": 25,
     "metadata": {},
     "output_type": "execute_result"
    }
   ],
   "source": [
    "dbquery(qry_vocabulary % elem['category_vocabulary'],dbparams)"
   ]
  },
  {
   "cell_type": "markdown",
   "id": "5b5138c2-b4d3-4965-8e7e-dbe85745a455",
   "metadata": {},
   "source": [
    "#### Importing records\n",
    "\n",
    "I ran the script in notebook '[Read categorical variables from NSWFFRD](python/Literature-review/Read-categorical-variables-from-NSWFFRD.ipynb)' for several variables. For _rect2_ it imported 1088 records, >900 species in four categories, and ca. 96 records had errors and could not be assigned to one of the predefined categories. \n",
    "\n",
    "\n",
    "#### Check records in database"
   ]
  },
  {
   "cell_type": "code",
   "execution_count": 40,
   "id": "d2aea608-831d-4ce4-854e-d4bf01312a59",
   "metadata": {},
   "outputs": [
    {
     "data": {
      "text/plain": [
       "[['Intolerant', 636, 634, 634],\n",
       " ['Intolerant-Tolerant', 3, 3, 3],\n",
       " ['Tolerant', 318, 318, 318],\n",
       " ['Requiring', 35, 34, 34],\n",
       " [None, 96, 92, 92]]"
      ]
     },
     "execution_count": 40,
     "metadata": {},
     "output_type": "execute_result"
    }
   ],
   "source": [
    "dbquery(qry_values % 'rect2',dbparams)"
   ]
  },
  {
   "cell_type": "markdown",
   "id": "d435b7d4-76ce-491c-b29c-26af88f5c49d",
   "metadata": {
    "tags": []
   },
   "source": [
    "### germ1\n",
    "Metadata | Structure | Vocabularies | Records NSWFFRD | Records austraits | Others | Data curation\n",
    "---|---|---|---|---|---|--- \n",
    "<font color='red'>TO DO: add description</font>|<font color='darkgreen'>Done</font>|<font color='darkgreen'>Done</font>| <font color='darkgreen'>Done: 1635 imported</font>| TO DO | None | <font color='red'>TO DO: >80 records</font>\n",
    "\n"
   ]
  },
  {
   "cell_type": "code",
   "execution_count": 36,
   "id": "afd1f8d1-43c0-480e-a6fa-6d2fc5b25877",
   "metadata": {},
   "outputs": [
    {
     "name": "stdout",
     "output_type": "stream",
     "text": [
      "code: germ1\n",
      "name: Seedbank Type\n",
      "description: None\n",
      "value_type: categorical\n",
      "life_stage: Seed\n",
      "life_history_process: Germination\n",
      "priority: 2nd tranche\n",
      "category_vocabulary: seedbank_vocabulary\n",
      "method_vocabulary: None\n"
     ]
    }
   ],
   "source": [
    "trait_info[1]['code']\n",
    "for elem in filter(lambda x: x['code'] == 'germ1', trait_info):\n",
    "    for k in elem.keys():\n",
    "        print(\"%s: %s\" % (k,elem[k]))"
   ]
  },
  {
   "cell_type": "code",
   "execution_count": 37,
   "id": "8fcbc286-adc7-47bc-b997-e066344278d2",
   "metadata": {},
   "outputs": [
    {
     "data": {
      "text/plain": [
       "[[{'Canopy': 'Seeds withheld for >1yr within woody fruits in the plant canopy that release seeds when scorched',\n",
       "   'Soil-persistent': 'Seeds released at maturity with a fraction (min 10%) remaining viable in the soil for >1yr',\n",
       "   'Transient': 'Seeds released from woody or fleshy fruits at maturity with a negligible fraction (max 1%) remaining viable in the soil for >1yr',\n",
       "   'Non-canopy': 'Seedbanks uncertain but not canopy type (either Soil-persistent or Transient seedbank type)'}]]"
      ]
     },
     "execution_count": 37,
     "metadata": {},
     "output_type": "execute_result"
    }
   ],
   "source": [
    "dbquery(qry_vocabulary % elem['category_vocabulary'],dbparams)"
   ]
  },
  {
   "cell_type": "markdown",
   "id": "c90738c0-deb7-4afb-a324-3674c7e6d15b",
   "metadata": {},
   "source": [
    "#### Importing records\n",
    "\n",
    "I ran the script in notebook '[Read categorical variables from NSWFFRD](python/Literature-review/Read-categorical-variables-from-NSWFFRD.ipynb)' for several variables. For _rect2_ it imported 1635 records, >1300 species in four categories, and >80 records had errors and could not be assigned to one of the predefined categories. \n",
    "\n",
    "\n",
    "#### Check records in database"
   ]
  },
  {
   "cell_type": "code",
   "execution_count": 41,
   "id": "613cdc0e-8d49-4de8-9e0a-eebedf0c142f",
   "metadata": {},
   "outputs": [
    {
     "data": {
      "text/plain": [
       "[['Soil-persistent', 962, 958, 957],\n",
       " ['Transient', 267, 267, 266],\n",
       " ['Canopy', 228, 226, 220],\n",
       " ['Non-canopy', 95, 95, 90],\n",
       " [None, 83, 82, 82]]"
      ]
     },
     "execution_count": 41,
     "metadata": {},
     "output_type": "execute_result"
    }
   ],
   "source": [
    "dbquery(qry_values % 'germ1',dbparams)"
   ]
  },
  {
   "cell_type": "markdown",
   "id": "01a18dd8-95b4-48b7-ad20-6db68be23b1e",
   "metadata": {
    "tags": []
   },
   "source": [
    "### repr3a\n",
    "Metadata | Structure | Vocabularies | Records NSWFFRD | Records austraits | Others\n",
    "---|---|---|---|---|---\n",
    "TO DO|TO DO|TO DO| TO DO| TO DO | None \n"
   ]
  },
  {
   "cell_type": "markdown",
   "id": "41a539ef-f160-4ec7-906c-3a0407a46b2e",
   "metadata": {
    "tags": []
   },
   "source": [
    "## Third tranche"
   ]
  },
  {
   "cell_type": "markdown",
   "id": "2685c1cd-b723-4108-868f-9f5359994ce2",
   "metadata": {},
   "source": [
    "### surv5\n",
    "Metadata | Structure | Vocabularies | Records NSWFFRD | Records austraits | Others | Data curation\n",
    "---|---|---|---|---|---|---\n",
    "<font color='darkgreen'>Done</font>|TO DO|TO DO|TO DO| TO DO| TO DO | None \n"
   ]
  },
  {
   "cell_type": "code",
   "execution_count": 42,
   "id": "6215e0b9-28f6-49f1-a82c-075c30b6cd20",
   "metadata": {},
   "outputs": [
    {
     "name": "stdout",
     "output_type": "stream",
     "text": [
      "code: surv5\n",
      "name: Standing plant longevity (Max)\n",
      "description: Age at which 50% of individuals in a cohort (excluding outliers) have died from senescence\n",
      "value_type: numerical\n",
      "life_stage: Standing plant\n",
      "life_history_process: Survival\n",
      "priority: 3rd tranche\n",
      "category_vocabulary: None\n",
      "method_vocabulary: None\n"
     ]
    }
   ],
   "source": [
    "for elem in filter(lambda x: x['code'] == 'surv5', trait_info):\n",
    "    for k in elem.keys():\n",
    "        print(\"%s: %s\" % (k,elem[k]))"
   ]
  },
  {
   "cell_type": "markdown",
   "id": "f0ebf73a-38d3-4e1d-8c57-f02624e999d8",
   "metadata": {},
   "source": [
    "### surv6\n",
    "Metadata | Structure | Vocabularies | Records NSWFFRD | Records austraits | Others | Data curation\n",
    "---|---|---|---|---|---|---\n",
    "<font color='darkgreen'>Done</font>|TO DO|TO DO|TO DO| TO DO| TO DO | None \n"
   ]
  },
  {
   "cell_type": "code",
   "execution_count": 43,
   "id": "4dc051c6-0866-4e60-acfc-e7d23c09594e",
   "metadata": {},
   "outputs": [
    {
     "name": "stdout",
     "output_type": "stream",
     "text": [
      "code: surv6\n",
      "name: Seedbank half-life\n",
      "description: Age at which 50% of a seed cohort in an in situ seedbank have decayed or become inviable\n",
      "value_type: numerical\n",
      "life_stage: Seed\n",
      "life_history_process: Survival\n",
      "priority: 3rd tranche\n",
      "category_vocabulary: None\n",
      "method_vocabulary: None\n"
     ]
    }
   ],
   "source": [
    "for elem in filter(lambda x: x['code'] == 'surv6', trait_info):\n",
    "    for k in elem.keys():\n",
    "        print(\"%s: %s\" % (k,elem[k]))"
   ]
  },
  {
   "cell_type": "markdown",
   "id": "b2cf14a2-f2f3-4fcc-bd13-d87144b1d546",
   "metadata": {},
   "source": [
    "### surv7\n",
    "Metadata | Structure | Vocabularies | Records NSWFFRD | Records austraits | Others | Data curation\n",
    "---|---|---|---|---|---|---\n",
    "<font color='darkgreen'>Done</font>|TO DO|TO DO|TO DO| TO DO| TO DO | None \n"
   ]
  },
  {
   "cell_type": "code",
   "execution_count": 44,
   "id": "b6664b46-16de-47f4-b416-b9207741535a",
   "metadata": {},
   "outputs": [
    {
     "name": "stdout",
     "output_type": "stream",
     "text": [
      "code: surv7\n",
      "name: Seed longevity\n",
      "description: Age at which all seeds in a cohort (excluding outliers, e.g. 95th percentile) have decayed or become inviable\n",
      "value_type: numerical\n",
      "life_stage: Seed\n",
      "life_history_process: Survival\n",
      "priority: 3rd tranche\n",
      "category_vocabulary: None\n",
      "method_vocabulary: None\n"
     ]
    }
   ],
   "source": [
    "for elem in filter(lambda x: x['code'] == 'surv7', trait_info):\n",
    "    for k in elem.keys():\n",
    "        print(\"%s: %s\" % (k,elem[k]))"
   ]
  },
  {
   "cell_type": "code",
   "execution_count": 48,
   "id": "8dfcb967-e364-4e9a-aeb5-18d9f567591a",
   "metadata": {},
   "outputs": [],
   "source": [
    "res = dbquery('SELECT code, name, life_stage, life_history_process, priority,value_type FROM litrev.trait_info',dbparams)\n",
    "import pandas as pd\n",
    "data = pd.DataFrame(res)\n",
    "data=data.rename(columns={0:\"Trait code\", 1:\"Trait name\", 2:\"Life stage\", 3:\"Life history process\", 4:\"priority\", 5:\"value_type\"})\n",
    "\n",
    "first = data.loc[data.priority.notna()].sort_values(by='priority').fillna(0)\n",
    "data.set_index(['Trait code'], inplace=True)\n",
    "data.index.name=None\n",
    "fourth = data.loc[data.priority.isna()][['Trait name','Life stage','Life history process']]"
   ]
  },
  {
   "cell_type": "code",
   "execution_count": 50,
   "id": "6b9f8a8d-5ce4-4bab-829d-7b5bd62bc731",
   "metadata": {},
   "outputs": [
    {
     "data": {
      "text/html": [
       "<div>\n",
       "<style scoped>\n",
       "    .dataframe tbody tr th:only-of-type {\n",
       "        vertical-align: middle;\n",
       "    }\n",
       "\n",
       "    .dataframe tbody tr th {\n",
       "        vertical-align: top;\n",
       "    }\n",
       "\n",
       "    .dataframe thead th {\n",
       "        text-align: right;\n",
       "    }\n",
       "</style>\n",
       "<table border=\"1\" class=\"dataframe\">\n",
       "  <thead>\n",
       "    <tr style=\"text-align: right;\">\n",
       "      <th></th>\n",
       "      <th>Trait name</th>\n",
       "      <th>Life stage</th>\n",
       "      <th>Life history process</th>\n",
       "    </tr>\n",
       "  </thead>\n",
       "  <tbody>\n",
       "    <tr>\n",
       "      <th>rect3</th>\n",
       "      <td>Seedling emergence phenology</td>\n",
       "      <td>Seedling</td>\n",
       "      <td>Recruitment</td>\n",
       "    </tr>\n",
       "    <tr>\n",
       "      <th>disp1</th>\n",
       "      <td>Propagule dispersal mode</td>\n",
       "      <td>Seed</td>\n",
       "      <td>Dispersal</td>\n",
       "    </tr>\n",
       "    <tr>\n",
       "      <th>germ10</th>\n",
       "      <td>Postfire residual seedbank</td>\n",
       "      <td>Seed</td>\n",
       "      <td>Germination</td>\n",
       "    </tr>\n",
       "    <tr>\n",
       "      <th>grow2a</th>\n",
       "      <td>Maximum growth stage</td>\n",
       "      <td>Standing plant</td>\n",
       "      <td>Growth</td>\n",
       "    </tr>\n",
       "    <tr>\n",
       "      <th>grow3</th>\n",
       "      <td>Maximum bark thickness</td>\n",
       "      <td>Standing plant</td>\n",
       "      <td>Growth</td>\n",
       "    </tr>\n",
       "    <tr>\n",
       "      <th>grow4</th>\n",
       "      <td>Maximum plant height</td>\n",
       "      <td>Standing plant</td>\n",
       "      <td>Growth</td>\n",
       "    </tr>\n",
       "    <tr>\n",
       "      <th>repr1</th>\n",
       "      <td>Flowering time</td>\n",
       "      <td>Standing plant</td>\n",
       "      <td>Reproduction</td>\n",
       "    </tr>\n",
       "    <tr>\n",
       "      <th>repr5</th>\n",
       "      <td>Age at maximum seed production</td>\n",
       "      <td>Standing plant</td>\n",
       "      <td>Reproduction</td>\n",
       "    </tr>\n",
       "    <tr>\n",
       "      <th>repr6</th>\n",
       "      <td>Age of maximum seed bank size</td>\n",
       "      <td>Standing plant</td>\n",
       "      <td>Reproduction</td>\n",
       "    </tr>\n",
       "    <tr>\n",
       "      <th>repr7a</th>\n",
       "      <td>Resprout flowering response to summer fire</td>\n",
       "      <td>Standing plant</td>\n",
       "      <td>Reproduction</td>\n",
       "    </tr>\n",
       "    <tr>\n",
       "      <th>repr7b</th>\n",
       "      <td>Flowering response to autumn fire</td>\n",
       "      <td>Standing plant</td>\n",
       "      <td>Reproduction</td>\n",
       "    </tr>\n",
       "    <tr>\n",
       "      <th>repr7c</th>\n",
       "      <td>Flowering response to winter fire</td>\n",
       "      <td>Standing plant</td>\n",
       "      <td>Reproduction</td>\n",
       "    </tr>\n",
       "    <tr>\n",
       "      <th>repr7d</th>\n",
       "      <td>Flowering response to spring fire</td>\n",
       "      <td>Standing plant</td>\n",
       "      <td>Reproduction</td>\n",
       "    </tr>\n",
       "    <tr>\n",
       "      <th>germ2</th>\n",
       "      <td>Heat-pulse-cued germination</td>\n",
       "      <td>Seed</td>\n",
       "      <td>Germination</td>\n",
       "    </tr>\n",
       "    <tr>\n",
       "      <th>germ3</th>\n",
       "      <td>Smoke-cued germination</td>\n",
       "      <td>Seed</td>\n",
       "      <td>Germination</td>\n",
       "    </tr>\n",
       "    <tr>\n",
       "      <th>germ4</th>\n",
       "      <td>Heat shock-smoke interactive germination cue</td>\n",
       "      <td>Seed</td>\n",
       "      <td>Germination</td>\n",
       "    </tr>\n",
       "    <tr>\n",
       "      <th>germ5</th>\n",
       "      <td>H50</td>\n",
       "      <td>Seed</td>\n",
       "      <td>Germination</td>\n",
       "    </tr>\n",
       "    <tr>\n",
       "      <th>germ6</th>\n",
       "      <td>H-max</td>\n",
       "      <td>Seed</td>\n",
       "      <td>Germination</td>\n",
       "    </tr>\n",
       "    <tr>\n",
       "      <th>germ7</th>\n",
       "      <td>H-lethal</td>\n",
       "      <td>Seed</td>\n",
       "      <td>Germination</td>\n",
       "    </tr>\n",
       "    <tr>\n",
       "      <th>germ9</th>\n",
       "      <td>???</td>\n",
       "      <td>Seed</td>\n",
       "      <td>Germination</td>\n",
       "    </tr>\n",
       "    <tr>\n",
       "      <th>rect1</th>\n",
       "      <td>Postfire seedling recruitment</td>\n",
       "      <td>Seedling</td>\n",
       "      <td>Recruitment</td>\n",
       "    </tr>\n",
       "    <tr>\n",
       "      <th>rect3a</th>\n",
       "      <td>Seedling emergence phenology - rainfall context</td>\n",
       "      <td>Seedling</td>\n",
       "      <td>Recruitment</td>\n",
       "    </tr>\n",
       "    <tr>\n",
       "      <th>surv2</th>\n",
       "      <td>Basal scorch response (scorch height &lt; 50% of ...</td>\n",
       "      <td>Standing plant</td>\n",
       "      <td>Survival</td>\n",
       "    </tr>\n",
       "    <tr>\n",
       "      <th>surv3</th>\n",
       "      <td>Survival - basal scorch</td>\n",
       "      <td>Standing plant</td>\n",
       "      <td>Survival</td>\n",
       "    </tr>\n",
       "    <tr>\n",
       "      <th>grow2</th>\n",
       "      <td>Age to reach maximum growth stage</td>\n",
       "      <td>Standing plant</td>\n",
       "      <td>Growth</td>\n",
       "    </tr>\n",
       "  </tbody>\n",
       "</table>\n",
       "</div>"
      ],
      "text/plain": [
       "                                               Trait name      Life stage  \\\n",
       "rect3                        Seedling emergence phenology        Seedling   \n",
       "disp1                            Propagule dispersal mode            Seed   \n",
       "germ10                         Postfire residual seedbank            Seed   \n",
       "grow2a                               Maximum growth stage  Standing plant   \n",
       "grow3                              Maximum bark thickness  Standing plant   \n",
       "grow4                                Maximum plant height  Standing plant   \n",
       "repr1                                      Flowering time  Standing plant   \n",
       "repr5                      Age at maximum seed production  Standing plant   \n",
       "repr6                       Age of maximum seed bank size  Standing plant   \n",
       "repr7a         Resprout flowering response to summer fire  Standing plant   \n",
       "repr7b                  Flowering response to autumn fire  Standing plant   \n",
       "repr7c                  Flowering response to winter fire  Standing plant   \n",
       "repr7d                  Flowering response to spring fire  Standing plant   \n",
       "germ2                         Heat-pulse-cued germination            Seed   \n",
       "germ3                              Smoke-cued germination            Seed   \n",
       "germ4        Heat shock-smoke interactive germination cue            Seed   \n",
       "germ5                                                 H50            Seed   \n",
       "germ6                                               H-max            Seed   \n",
       "germ7                                            H-lethal            Seed   \n",
       "germ9                                                 ???            Seed   \n",
       "rect1                       Postfire seedling recruitment        Seedling   \n",
       "rect3a    Seedling emergence phenology - rainfall context        Seedling   \n",
       "surv2   Basal scorch response (scorch height < 50% of ...  Standing plant   \n",
       "surv3                             Survival - basal scorch  Standing plant   \n",
       "grow2                   Age to reach maximum growth stage  Standing plant   \n",
       "\n",
       "       Life history process  \n",
       "rect3           Recruitment  \n",
       "disp1             Dispersal  \n",
       "germ10          Germination  \n",
       "grow2a               Growth  \n",
       "grow3                Growth  \n",
       "grow4                Growth  \n",
       "repr1          Reproduction  \n",
       "repr5          Reproduction  \n",
       "repr6          Reproduction  \n",
       "repr7a         Reproduction  \n",
       "repr7b         Reproduction  \n",
       "repr7c         Reproduction  \n",
       "repr7d         Reproduction  \n",
       "germ2           Germination  \n",
       "germ3           Germination  \n",
       "germ4           Germination  \n",
       "germ5           Germination  \n",
       "germ6           Germination  \n",
       "germ7           Germination  \n",
       "germ9           Germination  \n",
       "rect1           Recruitment  \n",
       "rect3a          Recruitment  \n",
       "surv2              Survival  \n",
       "surv3              Survival  \n",
       "grow2                Growth  "
      ]
     },
     "execution_count": 50,
     "metadata": {},
     "output_type": "execute_result"
    }
   ],
   "source": [
    "fourth"
   ]
  },
  {
   "cell_type": "code",
   "execution_count": null,
   "id": "f0520e31-d885-4543-b0a7-80cf13c2f97a",
   "metadata": {},
   "outputs": [],
   "source": []
  }
 ],
 "metadata": {
  "kernelspec": {
   "display_name": "Python 3 (ipykernel)",
   "language": "python",
   "name": "python3"
  },
  "language_info": {
   "codemirror_mode": {
    "name": "ipython",
    "version": 3
   },
   "file_extension": ".py",
   "mimetype": "text/x-python",
   "name": "python",
   "nbconvert_exporter": "python",
   "pygments_lexer": "ipython3",
   "version": "3.10.2"
  }
 },
 "nbformat": 4,
 "nbformat_minor": 5
}
