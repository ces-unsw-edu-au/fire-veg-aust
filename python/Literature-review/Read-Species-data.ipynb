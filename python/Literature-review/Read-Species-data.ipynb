{
 "cells": [
  {
   "cell_type": "code",
   "execution_count": 3,
   "id": "87064fd7-03d2-41b7-b59b-e1544e5c6ea2",
   "metadata": {},
   "outputs": [],
   "source": [
    "import openpyxl\n",
    "from pathlib import Path\n",
    "import os\n",
    "repodir = Path(\"../\") \n",
    "inputdir = repodir / \"data/\"\n"
   ]
  },
  {
   "cell_type": "code",
   "execution_count": 4,
   "id": "1c96a3bf-9db1-43a9-b3a9-6ffb6b02227d",
   "metadata": {},
   "outputs": [],
   "source": [
    "from configparser import ConfigParser\n",
    "import psycopg2\n",
    "\n",
    "filename = repodir / 'secrets' / 'database.ini'\n",
    "section = 'aws-lght-sl'\n",
    "\n",
    "# create a parser\n",
    "parser = ConfigParser()\n",
    "# read config file\n",
    "parser.read(filename)\n",
    "\n",
    "# get section, default to postgresql\n",
    "db = {}\n",
    "if parser.has_section(section):\n",
    "    params = parser.items(section)\n",
    "    for param in params:\n",
    "        db[param[0]] = param[1]\n",
    "else:\n",
    "    raise Exception('Section {0} not found in the {1} file'.format(section, filename))\n",
    "\n",
    "params = db"
   ]
  },
  {
   "cell_type": "code",
   "execution_count": 4,
   "id": "ef5afcea-c064-4541-8520-3f0c0ecdf00a",
   "metadata": {},
   "outputs": [],
   "source": [
    "inputfile=inputdir / \"vis-survey-datasheet-6000.PowerQuery.20210708.xlsx\"\n",
    "# using data_only=True to get the calculated cell values\n",
    "wb = openpyxl.load_workbook(inputfile,data_only=True)"
   ]
  },
  {
   "cell_type": "code",
   "execution_count": 8,
   "id": "807b54c8-0c58-4856-b132-65cdb8d50e2f",
   "metadata": {},
   "outputs": [],
   "source": [
    "ws = wb['BioNet OData']"
   ]
  },
  {
   "cell_type": "code",
   "execution_count": 9,
   "id": "2f861b76-db12-4b8b-8b18-584e89299b7c",
   "metadata": {},
   "outputs": [
    {
     "data": {
      "text/plain": [
       "'speciesID'"
      ]
     },
     "execution_count": 9,
     "metadata": {},
     "output_type": "execute_result"
    }
   ],
   "source": [
    "ws['A1'].value"
   ]
  },
  {
   "cell_type": "code",
   "execution_count": 11,
   "id": "5df73905-aa67-44fd-8889-5f6cabd3a2f0",
   "metadata": {},
   "outputs": [
    {
     "name": "stdout",
     "output_type": "stream",
     "text": [
      "speciesID\n",
      "taxonRank\n",
      "classID\n",
      "class\n",
      "orderID\n",
      "order\n",
      "familyID\n",
      "family\n",
      "sortOrder\n",
      "genusID\n",
      "genus\n",
      "parentSpeciesID\n",
      "specificEpithet\n",
      "infraspecificEpithet\n",
      "scientificNameAuthorship\n",
      "scientificNameID\n",
      "speciesCode_Synonym\n",
      "scientificName\n",
      "scientificNameHTML\n",
      "vernacularName\n",
      "otherVernacularNames\n",
      "taxonID\n",
      "currentScientificNameCode\n",
      "currentScientificName\n",
      "currentVernacularName\n",
      "isCurrent\n",
      "generalTypeID\n",
      "generalType\n",
      "establishmentMeans\n",
      "primaryGrowthForm\n",
      "primaryGrowthFormGroup\n",
      "secondaryGrowthForms\n",
      "secondaryGrowthFormGroups\n",
      "stateConservation\n",
      "protectedInNSW\n",
      "sensitivityClass\n",
      "TSProfileID\n",
      "countryConservation\n",
      "highThreatWeed\n",
      "widelyCultivatedNativeSpecies\n",
      "CAMBA\n",
      "JAMBA\n",
      "ROKAMBA\n"
     ]
    }
   ],
   "source": [
    "row_count = ws.max_row\n",
    "column_count = ws.max_column\n",
    "for j in range(1, column_count + 1):\n",
    "    print(ws.cell(row=1, column=j).value)\n"
   ]
  },
  {
   "cell_type": "code",
   "execution_count": 58,
   "id": "984923ba-4432-41ad-ba84-bc6aae53816b",
   "metadata": {
    "tags": []
   },
   "outputs": [],
   "source": [
    "values=list()\n",
    "for x in ws:\n",
    "    z=tuple(y.value for y in tuple(x))\n",
    "    if z[1]=='speciesID':\n",
    "        colnames=z\n",
    "    else:\n",
    "        values.append(z)\n"
   ]
  },
  {
   "cell_type": "code",
   "execution_count": 63,
   "id": "90891aa8-1cb9-46ff-9d6d-1fcb040afda6",
   "metadata": {},
   "outputs": [
    {
     "data": {
      "text/plain": [
       "(2362,\n",
       " 'Species',\n",
       " 38,\n",
       " 'Flora',\n",
       " 137,\n",
       " 'Flora',\n",
       " 157,\n",
       " 'Apiaceae',\n",
       " 6046,\n",
       " 1944,\n",
       " 'Apium',\n",
       " 2362,\n",
       " 'prostratum',\n",
       " None,\n",
       " 'Labill. ex Vent.',\n",
       " 2362,\n",
       " '1104',\n",
       " 'Apium prostratum',\n",
       " '<em>Apium prostratum</em>',\n",
       " 'Sea Celery',\n",
       " None,\n",
       " 2362,\n",
       " '1104',\n",
       " 'Apium prostratum',\n",
       " 'Sea Celery',\n",
       " 'true',\n",
       " None,\n",
       " None,\n",
       " 'Alive in NSW, Native',\n",
       " 'Forb',\n",
       " 'Forb (FG)',\n",
       " None,\n",
       " None,\n",
       " 'Not Listed',\n",
       " 'false',\n",
       " 'Not Sensitive',\n",
       " None,\n",
       " 'Not Listed',\n",
       " None,\n",
       " None,\n",
       " 'false',\n",
       " 'false',\n",
       " 'false')"
      ]
     },
     "execution_count": 63,
     "metadata": {},
     "output_type": "execute_result"
    }
   ],
   "source": [
    "values[5]"
   ]
  },
  {
   "cell_type": "code",
   "execution_count": 65,
   "id": "8c635620-5450-4a10-a636-175361faebe1",
   "metadata": {},
   "outputs": [
    {
     "data": {
      "text/plain": [
       "'speciesID,taxonRank,classID,class,orderID,order,familyID,family,sortOrder,genusID,genus,parentSpeciesID,specificEpithet,infraspecificEpithet,scientificNameAuthorship,scientificNameID,speciesCode_Synonym,scientificName,scientificNameHTML,vernacularName,otherVernacularNames,taxonID,currentScientificNameCode,currentScientificName,currentVernacularName,isCurrent,generalTypeID,generalType,establishmentMeans,primaryGrowthForm,primaryGrowthFormGroup,secondaryGrowthForms,secondaryGrowthFormGroups,stateConservation,protectedInNSW,sensitivityClass,TSProfileID,countryConservation,highThreatWeed,widelyCultivatedNativeSpecies,CAMBA,JAMBA,ROKAMBA'"
      ]
     },
     "execution_count": 65,
     "metadata": {},
     "output_type": "execute_result"
    }
   ],
   "source": [
    "cols = ','.join(list(colnames))\n",
    "cols"
   ]
  },
  {
   "cell_type": "code",
   "execution_count": null,
   "id": "73527dfa-6331-401a-9e2a-56dbe4799f7f",
   "metadata": {},
   "outputs": [],
   "source": [
    "\n",
    "    # SQL quert to execute\n",
    "    query  = \"INSERT INTO %s(%s) VALUES %%s\" % (table, cols)\n",
    "    cursor = conn.cursor()\n",
    "    try:\n",
    "        extras.execute_values(cursor, query, tuples)\n",
    "        conn.commit()\n",
    "    except (Exception, psycopg2.DatabaseError) as error:\n",
    "        print(\"Error: %s\" % error)\n",
    "        conn.rollback()\n",
    "        cursor.close()\n",
    "        return 1\n",
    "    print(\"execute_values() done\")\n",
    "    cursor.close()"
   ]
  },
  {
   "cell_type": "markdown",
   "id": "00a3ec98-f0c1-45fc-8630-0470d6000b25",
   "metadata": {},
   "source": [
    "Accessing BioNet data through OData."
   ]
  },
  {
   "cell_type": "code",
   "execution_count": 2,
   "id": "cda8f293-6c20-44d3-8890-3495cccb6341",
   "metadata": {},
   "outputs": [
    {
     "ename": "AttributeError",
     "evalue": "'NoneType' object has no attribute 'split'",
     "output_type": "error",
     "traceback": [
      "\u001b[0;31m---------------------------------------------------------------------------\u001b[0m",
      "\u001b[0;31mAttributeError\u001b[0m                            Traceback (most recent call last)",
      "Input \u001b[0;32mIn [2]\u001b[0m, in \u001b[0;36m<module>\u001b[0;34m\u001b[0m\n\u001b[1;32m      2\u001b[0m \u001b[38;5;28;01mimport\u001b[39;00m \u001b[38;5;21;01mrequests\u001b[39;00m\n\u001b[1;32m      4\u001b[0m SERVICE_URL \u001b[38;5;241m=\u001b[39m \u001b[38;5;124m'\u001b[39m\u001b[38;5;124mhttps://data.bionet.nsw.gov.au/biosvcapp/odata\u001b[39m\u001b[38;5;124m'\u001b[39m\n\u001b[0;32m----> 6\u001b[0m bionet \u001b[38;5;241m=\u001b[39m \u001b[43mpyodata\u001b[49m\u001b[38;5;241;43m.\u001b[39;49m\u001b[43mClient\u001b[49m\u001b[43m(\u001b[49m\u001b[43mSERVICE_URL\u001b[49m\u001b[43m,\u001b[49m\u001b[43m \u001b[49m\u001b[43mrequests\u001b[49m\u001b[38;5;241;43m.\u001b[39;49m\u001b[43mSession\u001b[49m\u001b[43m(\u001b[49m\u001b[43m)\u001b[49m\u001b[43m)\u001b[49m\n",
      "File \u001b[0;32m~/miniconda3/envs/jptr/lib/python3.10/site-packages/pyodata/client.py:68\u001b[0m, in \u001b[0;36mClient.__new__\u001b[0;34m(cls, url, connection, odata_version, namespaces, config, metadata)\u001b[0m\n\u001b[1;32m     66\u001b[0m \u001b[38;5;66;03m# create model instance from received metadata\u001b[39;00m\n\u001b[1;32m     67\u001b[0m logger\u001b[38;5;241m.\u001b[39minfo(\u001b[38;5;124m'\u001b[39m\u001b[38;5;124mCreating OData Schema (version: \u001b[39m\u001b[38;5;132;01m%d\u001b[39;00m\u001b[38;5;124m)\u001b[39m\u001b[38;5;124m'\u001b[39m, odata_version)\n\u001b[0;32m---> 68\u001b[0m schema \u001b[38;5;241m=\u001b[39m \u001b[43mpyodata\u001b[49m\u001b[38;5;241;43m.\u001b[39;49m\u001b[43mv2\u001b[49m\u001b[38;5;241;43m.\u001b[39;49m\u001b[43mmodel\u001b[49m\u001b[38;5;241;43m.\u001b[39;49m\u001b[43mMetadataBuilder\u001b[49m\u001b[43m(\u001b[49m\u001b[43mmetadata\u001b[49m\u001b[43m,\u001b[49m\u001b[43m \u001b[49m\u001b[43mconfig\u001b[49m\u001b[38;5;241;43m=\u001b[39;49m\u001b[43mconfig\u001b[49m\u001b[43m)\u001b[49m\u001b[38;5;241;43m.\u001b[39;49m\u001b[43mbuild\u001b[49m\u001b[43m(\u001b[49m\u001b[43m)\u001b[49m\n\u001b[1;32m     70\u001b[0m \u001b[38;5;66;03m# create service instance based on model we have\u001b[39;00m\n\u001b[1;32m     71\u001b[0m logger\u001b[38;5;241m.\u001b[39minfo(\u001b[38;5;124m'\u001b[39m\u001b[38;5;124mCreating OData Service (version: \u001b[39m\u001b[38;5;132;01m%d\u001b[39;00m\u001b[38;5;124m)\u001b[39m\u001b[38;5;124m'\u001b[39m, odata_version)\n",
      "File \u001b[0;32m~/miniconda3/envs/jptr/lib/python3.10/site-packages/pyodata/v2/model.py:2766\u001b[0m, in \u001b[0;36mMetadataBuilder.build\u001b[0;34m(self)\u001b[0m\n\u001b[1;32m   2763\u001b[0m \u001b[38;5;28mself\u001b[39m\u001b[38;5;241m.\u001b[39mupdate_global_variables_with_alias(\u001b[38;5;28mself\u001b[39m\u001b[38;5;241m.\u001b[39mget_aliases(xml, \u001b[38;5;28mself\u001b[39m\u001b[38;5;241m.\u001b[39m_config))\n\u001b[1;32m   2765\u001b[0m edm_schemas \u001b[38;5;241m=\u001b[39m xml\u001b[38;5;241m.\u001b[39mxpath(\u001b[38;5;124m'\u001b[39m\u001b[38;5;124m/edmx:Edmx/edmx:DataServices/edm:Schema\u001b[39m\u001b[38;5;124m'\u001b[39m, namespaces\u001b[38;5;241m=\u001b[39m\u001b[38;5;28mself\u001b[39m\u001b[38;5;241m.\u001b[39m_config\u001b[38;5;241m.\u001b[39mnamespaces)\n\u001b[0;32m-> 2766\u001b[0m schema \u001b[38;5;241m=\u001b[39m \u001b[43mSchema\u001b[49m\u001b[38;5;241;43m.\u001b[39;49m\u001b[43mfrom_etree\u001b[49m\u001b[43m(\u001b[49m\u001b[43medm_schemas\u001b[49m\u001b[43m,\u001b[49m\u001b[43m \u001b[49m\u001b[38;5;28;43mself\u001b[39;49m\u001b[38;5;241;43m.\u001b[39;49m\u001b[43m_config\u001b[49m\u001b[43m)\u001b[49m\n\u001b[1;32m   2767\u001b[0m \u001b[38;5;28;01mreturn\u001b[39;00m schema\n",
      "File \u001b[0;32m~/miniconda3/envs/jptr/lib/python3.10/site-packages/pyodata/v2/model.py:1266\u001b[0m, in \u001b[0;36mSchema.from_etree\u001b[0;34m(schema_nodes, config)\u001b[0m\n\u001b[1;32m   1264\u001b[0m     etype \u001b[38;5;241m=\u001b[39m EntityType\u001b[38;5;241m.\u001b[39mfrom_etree(entity_type, config)\n\u001b[1;32m   1265\u001b[0m \u001b[38;5;28;01mexcept\u001b[39;00m (\u001b[38;5;167;01mKeyError\u001b[39;00m, \u001b[38;5;167;01mAttributeError\u001b[39;00m) \u001b[38;5;28;01mas\u001b[39;00m ex:\n\u001b[0;32m-> 1266\u001b[0m     \u001b[43mconfig\u001b[49m\u001b[38;5;241;43m.\u001b[39;49m\u001b[43merr_policy\u001b[49m\u001b[43m(\u001b[49m\u001b[43mParserError\u001b[49m\u001b[38;5;241;43m.\u001b[39;49m\u001b[43mENTITY_TYPE\u001b[49m\u001b[43m)\u001b[49m\u001b[38;5;241;43m.\u001b[39;49m\u001b[43mresolve\u001b[49m\u001b[43m(\u001b[49m\u001b[43mex\u001b[49m\u001b[43m)\u001b[49m\n\u001b[1;32m   1267\u001b[0m     etype \u001b[38;5;241m=\u001b[39m NullType(entity_type\u001b[38;5;241m.\u001b[39mget(\u001b[38;5;124m'\u001b[39m\u001b[38;5;124mName\u001b[39m\u001b[38;5;124m'\u001b[39m))\n\u001b[1;32m   1268\u001b[0m     schema\u001b[38;5;241m.\u001b[39m_is_valid \u001b[38;5;241m=\u001b[39m \u001b[38;5;28;01mFalse\u001b[39;00m\n",
      "File \u001b[0;32m~/miniconda3/envs/jptr/lib/python3.10/site-packages/pyodata/v2/model.py:62\u001b[0m, in \u001b[0;36mPolicyFatal.resolve\u001b[0;34m(self, ekseption)\u001b[0m\n\u001b[1;32m     61\u001b[0m \u001b[38;5;28;01mdef\u001b[39;00m \u001b[38;5;21mresolve\u001b[39m(\u001b[38;5;28mself\u001b[39m, ekseption):\n\u001b[0;32m---> 62\u001b[0m     \u001b[38;5;28;01mraise\u001b[39;00m ekseption\n",
      "File \u001b[0;32m~/miniconda3/envs/jptr/lib/python3.10/site-packages/pyodata/v2/model.py:1264\u001b[0m, in \u001b[0;36mSchema.from_etree\u001b[0;34m(schema_nodes, config)\u001b[0m\n\u001b[1;32m   1262\u001b[0m \u001b[38;5;28;01mfor\u001b[39;00m entity_type \u001b[38;5;129;01min\u001b[39;00m schema_node\u001b[38;5;241m.\u001b[39mxpath(\u001b[38;5;124m'\u001b[39m\u001b[38;5;124medm:EntityType\u001b[39m\u001b[38;5;124m'\u001b[39m, namespaces\u001b[38;5;241m=\u001b[39mconfig\u001b[38;5;241m.\u001b[39mnamespaces):\n\u001b[1;32m   1263\u001b[0m     \u001b[38;5;28;01mtry\u001b[39;00m:\n\u001b[0;32m-> 1264\u001b[0m         etype \u001b[38;5;241m=\u001b[39m \u001b[43mEntityType\u001b[49m\u001b[38;5;241;43m.\u001b[39;49m\u001b[43mfrom_etree\u001b[49m\u001b[43m(\u001b[49m\u001b[43mentity_type\u001b[49m\u001b[43m,\u001b[49m\u001b[43m \u001b[49m\u001b[43mconfig\u001b[49m\u001b[43m)\u001b[49m\n\u001b[1;32m   1265\u001b[0m     \u001b[38;5;28;01mexcept\u001b[39;00m (\u001b[38;5;167;01mKeyError\u001b[39;00m, \u001b[38;5;167;01mAttributeError\u001b[39;00m) \u001b[38;5;28;01mas\u001b[39;00m ex:\n\u001b[1;32m   1266\u001b[0m         config\u001b[38;5;241m.\u001b[39merr_policy(ParserError\u001b[38;5;241m.\u001b[39mENTITY_TYPE)\u001b[38;5;241m.\u001b[39mresolve(ex)\n",
      "File \u001b[0;32m~/miniconda3/envs/jptr/lib/python3.10/site-packages/pyodata/v2/model.py:1681\u001b[0m, in \u001b[0;36mEntityType.from_etree\u001b[0;34m(cls, type_node, config)\u001b[0m\n\u001b[1;32m   1678\u001b[0m     etype\u001b[38;5;241m.\u001b[39m_key\u001b[38;5;241m.\u001b[39mappend(etype\u001b[38;5;241m.\u001b[39mproprty(proprty\u001b[38;5;241m.\u001b[39mget(\u001b[38;5;124m'\u001b[39m\u001b[38;5;124mName\u001b[39m\u001b[38;5;124m'\u001b[39m)))\n\u001b[1;32m   1680\u001b[0m \u001b[38;5;28;01mfor\u001b[39;00m proprty \u001b[38;5;129;01min\u001b[39;00m type_node\u001b[38;5;241m.\u001b[39mxpath(\u001b[38;5;124m'\u001b[39m\u001b[38;5;124medm:NavigationProperty\u001b[39m\u001b[38;5;124m'\u001b[39m, namespaces\u001b[38;5;241m=\u001b[39mconfig\u001b[38;5;241m.\u001b[39mnamespaces):\n\u001b[0;32m-> 1681\u001b[0m     navp \u001b[38;5;241m=\u001b[39m \u001b[43mNavigationTypeProperty\u001b[49m\u001b[38;5;241;43m.\u001b[39;49m\u001b[43mfrom_etree\u001b[49m\u001b[43m(\u001b[49m\u001b[43mproprty\u001b[49m\u001b[43m)\u001b[49m\n\u001b[1;32m   1683\u001b[0m     \u001b[38;5;28;01mif\u001b[39;00m navp\u001b[38;5;241m.\u001b[39mname \u001b[38;5;129;01min\u001b[39;00m etype\u001b[38;5;241m.\u001b[39m_nav_properties:\n\u001b[1;32m   1684\u001b[0m         \u001b[38;5;28;01mraise\u001b[39;00m \u001b[38;5;167;01mKeyError\u001b[39;00m(\u001b[38;5;124mf\u001b[39m\u001b[38;5;124m'\u001b[39m\u001b[38;5;132;01m{\u001b[39;00metype\u001b[38;5;132;01m}\u001b[39;00m\u001b[38;5;124m already has navigation property \u001b[39m\u001b[38;5;132;01m{\u001b[39;00mnavp\u001b[38;5;241m.\u001b[39mname\u001b[38;5;132;01m}\u001b[39;00m\u001b[38;5;124m'\u001b[39m)\n",
      "File \u001b[0;32m~/miniconda3/envs/jptr/lib/python3.10/site-packages/pyodata/v2/model.py:1998\u001b[0m, in \u001b[0;36mNavigationTypeProperty.from_etree\u001b[0;34m(node)\u001b[0m\n\u001b[1;32m   1994\u001b[0m \u001b[38;5;129m@staticmethod\u001b[39m\n\u001b[1;32m   1995\u001b[0m \u001b[38;5;28;01mdef\u001b[39;00m \u001b[38;5;21mfrom_etree\u001b[39m(node):\n\u001b[1;32m   1997\u001b[0m     \u001b[38;5;28;01mreturn\u001b[39;00m NavigationTypeProperty(\n\u001b[0;32m-> 1998\u001b[0m         node\u001b[38;5;241m.\u001b[39mget(\u001b[38;5;124m'\u001b[39m\u001b[38;5;124mName\u001b[39m\u001b[38;5;124m'\u001b[39m), node\u001b[38;5;241m.\u001b[39mget(\u001b[38;5;124m'\u001b[39m\u001b[38;5;124mFromRole\u001b[39m\u001b[38;5;124m'\u001b[39m), node\u001b[38;5;241m.\u001b[39mget(\u001b[38;5;124m'\u001b[39m\u001b[38;5;124mToRole\u001b[39m\u001b[38;5;124m'\u001b[39m), \u001b[43mIdentifier\u001b[49m\u001b[38;5;241;43m.\u001b[39;49m\u001b[43mparse\u001b[49m\u001b[43m(\u001b[49m\u001b[43mnode\u001b[49m\u001b[38;5;241;43m.\u001b[39;49m\u001b[43mget\u001b[49m\u001b[43m(\u001b[49m\u001b[38;5;124;43m'\u001b[39;49m\u001b[38;5;124;43mRelationship\u001b[39;49m\u001b[38;5;124;43m'\u001b[39;49m\u001b[43m)\u001b[49m\u001b[43m)\u001b[49m)\n",
      "File \u001b[0;32m~/miniconda3/envs/jptr/lib/python3.10/site-packages/pyodata/v2/model.py:169\u001b[0m, in \u001b[0;36mIdentifier.parse\u001b[0;34m(value)\u001b[0m\n\u001b[1;32m    167\u001b[0m \u001b[38;5;129m@staticmethod\u001b[39m\n\u001b[1;32m    168\u001b[0m \u001b[38;5;28;01mdef\u001b[39;00m \u001b[38;5;21mparse\u001b[39m(value):\n\u001b[0;32m--> 169\u001b[0m     parts \u001b[38;5;241m=\u001b[39m \u001b[43mvalue\u001b[49m\u001b[38;5;241;43m.\u001b[39;49m\u001b[43msplit\u001b[49m(\u001b[38;5;124m'\u001b[39m\u001b[38;5;124m.\u001b[39m\u001b[38;5;124m'\u001b[39m)\n\u001b[1;32m    171\u001b[0m     \u001b[38;5;28;01mif\u001b[39;00m \u001b[38;5;28mlen\u001b[39m(parts) \u001b[38;5;241m==\u001b[39m \u001b[38;5;241m1\u001b[39m:\n\u001b[1;32m    172\u001b[0m         \u001b[38;5;28;01mreturn\u001b[39;00m IdentifierInfo(\u001b[38;5;28;01mNone\u001b[39;00m, value)\n",
      "\u001b[0;31mAttributeError\u001b[0m: 'NoneType' object has no attribute 'split'"
     ]
    }
   ],
   "source": [
    "import pyodata\n",
    "import requests\n",
    "\n",
    "SERVICE_URL = 'https://data.bionet.nsw.gov.au/biosvcapp/odata'\n",
    "\n",
    "bionet = pyodata.Client(SERVICE_URL, requests.Session())"
   ]
  },
  {
   "cell_type": "code",
   "execution_count": null,
   "id": "19454df7-6961-40c7-b71c-b2d9ab6334fe",
   "metadata": {},
   "outputs": [],
   "source": []
  }
 ],
 "metadata": {
  "kernelspec": {
   "display_name": "Python 3 (ipykernel)",
   "language": "python",
   "name": "python3"
  },
  "language_info": {
   "codemirror_mode": {
    "name": "ipython",
    "version": 3
   },
   "file_extension": ".py",
   "mimetype": "text/x-python",
   "name": "python",
   "nbconvert_exporter": "python",
   "pygments_lexer": "ipython3",
   "version": "3.10.2"
  }
 },
 "nbformat": 4,
 "nbformat_minor": 5
}
