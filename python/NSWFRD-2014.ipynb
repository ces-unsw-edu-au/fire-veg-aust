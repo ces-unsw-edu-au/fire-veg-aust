{
 "cells": [
  {
   "cell_type": "markdown",
   "id": "1f33e7d7-10fe-4e18-b101-48237c9ff3d0",
   "metadata": {},
   "source": [
    "# Read NSWFRD 2014\n",
    "Read the spreadsheet from NSW Flora Fire response database and extract hyperlinks that point to references.\n",
    "We will use the openpyxl library"
   ]
  },
  {
   "cell_type": "code",
   "execution_count": 1,
   "id": "a3fd791e-e2dc-45ac-a30f-13151fda78fc",
   "metadata": {},
   "outputs": [],
   "source": [
    "import openpyxl\n",
    "from pathlib import Path\n",
    "import os"
   ]
  },
  {
   "cell_type": "code",
   "execution_count": 2,
   "id": "2ba0ded9-4c21-44d0-ba1d-47b2a8ad17c6",
   "metadata": {},
   "outputs": [],
   "source": [
    "repodir = Path(\"../\") \n",
    "inputdir = repodir / \"data/\""
   ]
  },
  {
   "cell_type": "markdown",
   "id": "f41ab0fc-1763-449e-8b6f-9f23fb770997",
   "metadata": {
    "tags": []
   },
   "source": [
    "## Open the workbook and read main spreadsheet\n",
    "Here we will load the workbook:"
   ]
  },
  {
   "cell_type": "code",
   "execution_count": 3,
   "id": "7e18ad42-70fb-4e33-a932-8e2970195853",
   "metadata": {},
   "outputs": [],
   "source": [
    "wb = openpyxl.load_workbook(inputdir / \"NSWFFRDv2.1.xlsx\")"
   ]
  },
  {
   "cell_type": "markdown",
   "id": "9276d2e8-f9ef-476f-a498-1c6ef0d47b7a",
   "metadata": {},
   "source": [
    "Use the sheet name to read data"
   ]
  },
  {
   "cell_type": "code",
   "execution_count": 4,
   "id": "727e8680-22a9-4e90-9f22-a88344ad48b8",
   "metadata": {},
   "outputs": [],
   "source": [
    "ws = wb['SpeciesData']"
   ]
  },
  {
   "cell_type": "markdown",
   "id": "ef290d3c-722b-4288-b830-7fcd63f828ea",
   "metadata": {},
   "source": [
    "Let's look at all the values in the second column (Species code)"
   ]
  },
  {
   "cell_type": "code",
   "execution_count": 17,
   "id": "8714cab3-fb33-42ae-b005-fb0be90351a3",
   "metadata": {},
   "outputs": [
    {
     "data": {
      "text/plain": [
       "'Species Code'"
      ]
     },
     "execution_count": 17,
     "metadata": {},
     "output_type": "execute_result"
    }
   ],
   "source": [
    "ws['B2'].value"
   ]
  },
  {
   "cell_type": "markdown",
   "id": "26860dd9-19cb-4ab4-b66a-b4f9c3fa12f8",
   "metadata": {},
   "source": [
    "We want to count the number of unique values:"
   ]
  },
  {
   "cell_type": "code",
   "execution_count": 18,
   "id": "3d3ac97a-cbfb-4f09-9339-ae49bd95e0f5",
   "metadata": {},
   "outputs": [
    {
     "name": "stdout",
     "output_type": "stream",
     "text": [
      "3000\n"
     ]
    }
   ],
   "source": [
    "row_count = ws.max_row\n",
    "column_count = ws.max_column\n",
    "j=2\n",
    "unique_list = list()\n",
    "unique_items = 0\n",
    "for i in range(1, row_count + 1):\n",
    "    item = ws.cell(row=i, column=j).value\n",
    "    if item not in unique_list and item is not None:\n",
    "        unique_list.append(item)\n",
    "        unique_items += 1\n",
    "print(unique_items)"
   ]
  },
  {
   "cell_type": "markdown",
   "id": "9fcb2c48-df7f-4cb2-9051-13125439eccd",
   "metadata": {},
   "source": [
    "Which columns include information on traits? this will print out the names in the second row...:"
   ]
  },
  {
   "cell_type": "code",
   "execution_count": 24,
   "id": "a6c95894-0ec0-47c0-b947-b2016d34557c",
   "metadata": {
    "collapsed": true,
    "jupyter": {
     "outputs_hidden": true
    },
    "tags": []
   },
   "outputs": [
    {
     "name": "stdout",
     "output_type": "stream",
     "text": [
      "Current Scientific Name\n",
      "Species Code\n",
      "Legal Status\n",
      "Exotic\n",
      "2010 Update\n",
      "Notes on Name / Synonym as used in source reference\n",
      "Family\n",
      "Group\n",
      "Life form\n",
      "Fireresponse\n",
      "Comments on regeneration\n",
      "Resprout location\n",
      "Seed storage\n",
      "Seed dispersal mechanism\n",
      "Seed dispersal distance\n",
      "Seed weight / size\n",
      "Seed viability\n",
      "Dormancy\n",
      "Germination cue\n",
      "Fecundity\n",
      "Seed predation\n",
      "Post-fire recruitment\n",
      "Establishment\n",
      "Post-fire flowering\n",
      "Flowering time\n",
      "Primary juvenile period\n",
      "Secondary juvenile period\n",
      "Seed set\n",
      "Seed-bank developed\n",
      "Fire tolerance\n",
      "Life span\n",
      "Seed-bank longevity\n",
      "\"Maturity\" (from source)\n",
      "\"Extinction\" (from source)\n",
      "\"Rec. min fire interval\" (from source)\n",
      "\"Rec. max fire interval\" (from source)\n",
      "NC\n",
      "CC\n",
      "SC\n",
      "NT\n",
      "CT\n",
      "ST\n",
      "NWS\n",
      "CWS\n",
      "SWS\n",
      "NWP\n",
      "SWP\n",
      "NFWP\n",
      "SFWP\n",
      "Distribution: extra NSW\n",
      "Vegetation\n",
      "Rainforest\n",
      "Wet Sclerophyll Forest (Shrubby)\n",
      "Wet Sclerophyll Forest (Grassy)\n",
      "Grassy Woodland\n",
      "Grassland\n",
      "Dry Sclerophyll Forest (Shrub/Grass)\n",
      "Dry Sclerophyll Forest (Shrubby)\n",
      "Heathland\n",
      "Alpine Complex\n",
      "Freshwater Wetland\n",
      "Forested Wetlands\n",
      "Saline Wetland\n",
      "Semi-arid Woodland\n",
      "Arid & Semi-arid Shrubland\n",
      "NFRR data\n",
      "Additional fire response data\n",
      "Other data\n",
      "VA group\n",
      "Sensitivity: frequent\n",
      "Sensitivity: infrequent\n",
      "Minimum maturity\n",
      "Maximum maturity\n",
      "Lifespan > than\n",
      "Lifespan < than\n",
      "Lifespan + seed-bank\n",
      "VA Data\n",
      "Establishment Data\n",
      "Maturity Data\n",
      "Lifespan Data\n",
      "Lifespan 2 Data\n",
      "Seedbank Data\n",
      "None\n",
      "None\n",
      "None\n",
      "None\n",
      "None\n",
      "None\n",
      "None\n",
      "None\n",
      "None\n",
      "None\n",
      "None\n",
      "None\n",
      "None\n",
      "None\n",
      "None\n",
      "None\n",
      "None\n",
      "None\n",
      "None\n",
      "None\n",
      "None\n",
      "None\n",
      "None\n",
      "None\n",
      "None\n",
      "None\n",
      "None\n",
      "None\n",
      "None\n",
      "None\n",
      "None\n",
      "None\n",
      "None\n",
      "None\n",
      "None\n",
      "None\n",
      "None\n",
      "None\n",
      "None\n",
      "None\n",
      "None\n",
      "None\n",
      "None\n",
      "None\n",
      "None\n",
      "None\n",
      "None\n",
      "None\n",
      "None\n",
      "None\n",
      "None\n",
      "None\n",
      "None\n",
      "None\n",
      "None\n",
      "None\n",
      "None\n",
      "None\n",
      "None\n",
      "None\n",
      "None\n",
      "None\n",
      "None\n",
      "None\n",
      "None\n",
      "None\n",
      "None\n",
      "None\n",
      "None\n",
      "None\n",
      "None\n"
     ]
    }
   ],
   "source": [
    "for j in range(1, column_count + 1):\n",
    "    print(ws.cell(row=2, column=j).value)\n"
   ]
  },
  {
   "cell_type": "markdown",
   "id": "bd676f0c-b144-49df-a203-243dac99c536",
   "metadata": {
    "tags": []
   },
   "source": [
    "## Dealing with hyperlinks\n",
    "\n",
    "The cell Q6 has a hyperlink. We can use cell rows and columns or cell name:"
   ]
  },
  {
   "cell_type": "code",
   "execution_count": 42,
   "id": "b82a128e-cc64-4183-b03a-91b4d72e3254",
   "metadata": {},
   "outputs": [
    {
     "data": {
      "text/plain": [
       "openpyxl.worksheet.hyperlink.Hyperlink"
      ]
     },
     "execution_count": 42,
     "metadata": {},
     "output_type": "execute_result"
    }
   ],
   "source": [
    "type(ws.cell(row=6, column=17).hyperlink)\n",
    "# same as \n",
    "type(ws['Q6'].hyperlink)"
   ]
  },
  {
   "cell_type": "markdown",
   "id": "e0ebe87d-c875-4647-bff3-6eb06182b9b4",
   "metadata": {},
   "source": [
    "If the cell is a hyperlink it will have a value to \"display\" and will point to a \"location\" within the workbook: "
   ]
  },
  {
   "cell_type": "code",
   "execution_count": 26,
   "id": "a724720f-cf84-47ad-a02e-135094f39709",
   "metadata": {},
   "outputs": [
    {
     "data": {
      "text/plain": [
       "'viability average-very good'"
      ]
     },
     "execution_count": 26,
     "metadata": {},
     "output_type": "execute_result"
    }
   ],
   "source": [
    "ws.cell(row=6, column=17).hyperlink.display"
   ]
  },
  {
   "cell_type": "code",
   "execution_count": 27,
   "id": "20a43761-7aec-460f-a52e-1b3312073249",
   "metadata": {},
   "outputs": [
    {
     "name": "stdout",
     "output_type": "stream",
     "text": [
      "References!C94\n"
     ]
    }
   ],
   "source": [
    "# This will fail if there is no hyperlink \n",
    "print(ws.cell(row=6, column=17).hyperlink.location)"
   ]
  },
  {
   "cell_type": "markdown",
   "id": "669dc28d-72a0-415f-839f-4e1477a4698c",
   "metadata": {},
   "source": [
    "Let's see the value of this reference:"
   ]
  },
  {
   "cell_type": "code",
   "execution_count": 28,
   "id": "7b4de60a-6404-45d6-8f32-6cce8fcb64be",
   "metadata": {},
   "outputs": [],
   "source": [
    "hlink = ws.cell(row=6, column=17).hyperlink.location\n",
    "hlink = hlink.split(\"!\")"
   ]
  },
  {
   "cell_type": "markdown",
   "id": "4f679f23-9866-40b7-97ea-64e1f3900c89",
   "metadata": {},
   "source": [
    "This gives the name of the target sheet and the corresponding cell. We need to read the cell to its right side (add one to the column number) to get the information we need."
   ]
  },
  {
   "cell_type": "code",
   "execution_count": 29,
   "id": "cf4b6f89-a497-407d-b4ad-3568e16f7394",
   "metadata": {},
   "outputs": [
    {
     "name": "stdout",
     "output_type": "stream",
     "text": [
      "Cell value is :: 93\n",
      "Reference data is :: Mortlock, W. & Lloyd, MV (Eds) (2001) Floradata - A guide to collection, storage and propogation of Australian native plant seed. AUsttralian Centre for Mining Environmental Research, Brisbane; Australian National Botanic Gardens, CSIRO Forestry and Forest Products and Greening Australia Limited, Canberra. Searchable Database February 2001. a=survey data, b=test data\n"
     ]
    }
   ],
   "source": [
    "ref = wb[hlink[0]]\n",
    "print(\"Cell value is :: \" + str(ref[hlink[1]].value))\n",
    "nlink = ref.cell(row=ref[hlink[1]].row,column=ref[hlink[1]].col_idx + 1)\n",
    "\n",
    "print(\"Reference data is :: \" + nlink.value) \n"
   ]
  },
  {
   "cell_type": "markdown",
   "id": "fd96fdf3-a98d-4ea9-8562-a798276b369c",
   "metadata": {},
   "source": [
    "If there is no hyperlink, it will result in NoneType"
   ]
  },
  {
   "cell_type": "code",
   "execution_count": 30,
   "id": "bd9033db-5cbc-43e1-9e10-a737e1f1df69",
   "metadata": {},
   "outputs": [
    {
     "data": {
      "text/plain": [
       "NoneType"
      ]
     },
     "execution_count": 30,
     "metadata": {},
     "output_type": "execute_result"
    }
   ],
   "source": [
    "type(ws.cell(row=5, column=17).hyperlink)"
   ]
  },
  {
   "cell_type": "code",
   "execution_count": 31,
   "id": "c299a3b9-78c8-448c-abd9-fa3282831b90",
   "metadata": {},
   "outputs": [
    {
     "data": {
      "text/plain": [
       "openpyxl.cell.cell.Cell"
      ]
     },
     "execution_count": 31,
     "metadata": {},
     "output_type": "execute_result"
    }
   ],
   "source": [
    "type(ws.cell(row=5, column=17))\n"
   ]
  },
  {
   "cell_type": "code",
   "execution_count": 40,
   "id": "ede1db73-0203-4f4c-bbd6-2d0ddd0a6e1e",
   "metadata": {},
   "outputs": [
    {
     "data": {
      "text/plain": [
       "<Cell 'SpeciesData'.Q6>"
      ]
     },
     "execution_count": 40,
     "metadata": {},
     "output_type": "execute_result"
    }
   ],
   "source": [
    "ws.cell(row=6, column=17)\n"
   ]
  },
  {
   "cell_type": "markdown",
   "id": "a25158f7-7a1c-4caf-a03b-6eac5a58d26e",
   "metadata": {},
   "source": [
    "## Read data from a column\n",
    "For a selected variable (column), we can query data for the list of species.\n"
   ]
  },
  {
   "cell_type": "code",
   "execution_count": 41,
   "id": "14543ea1-9955-4854-bc7d-00ba278e009d",
   "metadata": {},
   "outputs": [
    {
     "data": {
      "text/plain": [
       "<Cell 'SpeciesData'.Q6>"
      ]
     },
     "execution_count": 41,
     "metadata": {},
     "output_type": "execute_result"
    }
   ],
   "source": [
    "ws['Q6']"
   ]
  },
  {
   "cell_type": "code",
   "execution_count": 57,
   "id": "4a3b418f-7b69-46ff-85da-5aaedd172408",
   "metadata": {},
   "outputs": [
    {
     "data": {
      "text/plain": [
       "'Seed viability'"
      ]
     },
     "execution_count": 57,
     "metadata": {},
     "output_type": "execute_result"
    }
   ],
   "source": [
    "ws.cell(row=2, column=17).value"
   ]
  },
  {
   "cell_type": "code",
   "execution_count": 60,
   "id": "ac5bde94-7ca3-40f6-bbba-9629bb5ffd0a",
   "metadata": {},
   "outputs": [
    {
     "data": {
      "text/plain": [
       "'average-very good'"
      ]
     },
     "execution_count": 60,
     "metadata": {},
     "output_type": "execute_result"
    }
   ],
   "source": [
    "ws.cell(row=6, column=17).value"
   ]
  },
  {
   "cell_type": "markdown",
   "id": "df532592-0213-458e-b7e4-0e3ffaecb65f",
   "metadata": {},
   "source": [
    "Example loop for querying values from one variable for all species in a range of cells:"
   ]
  },
  {
   "cell_type": "code",
   "execution_count": 32,
   "id": "65c45b50-b43a-4891-a866-dccd00e8ca9b",
   "metadata": {},
   "outputs": [
    {
     "name": "stdout",
     "output_type": "stream",
     "text": [
      "Seed viability\n",
      "3710: Acacia baileyana / 0.96 / References!C94\n",
      "3723: Acacia brownii / good / References!C94\n",
      "3725: Acacia burbidgeae / 0.76 / References!C94\n",
      "8242: Acacia burkittii / good \n",
      "3727: Acacia buxifolia / good / References!C94\n",
      "3743: Acacia colletioides / 0.837 \n"
     ]
    }
   ],
   "source": [
    "# for i in 3:3088\n",
    "# for j in 17\n",
    "i=3\n",
    "j=17\n",
    "varname=ws.cell(row=2, column=j).value\n",
    "print(varname)\n",
    "for i in range(13,40):\n",
    "    spname=ws.cell(row=i, column=1).value\n",
    "    spcode=ws.cell(row=i, column=2).value\n",
    "    varvalue=ws.cell(row=i, column=j).value\n",
    "    varref=ws.cell(row=i, column=j).hyperlink\n",
    "    if varvalue is not None:\n",
    "        if varref is not None:\n",
    "            print(\"%s: %s / %s / %s\" % (spcode,spname,varvalue, varref.location))\n",
    "        else:\n",
    "            print(\"%s: %s / %s \" % (spcode,spname,varvalue))\n"
   ]
  },
  {
   "cell_type": "markdown",
   "id": "ff9afa2a-f92a-4478-b8e6-85050f848dfd",
   "metadata": {},
   "source": [
    "## Read data for a row\n",
    "We can now do the same for a single species (row) and query values of each variable in a range. For example:"
   ]
  },
  {
   "cell_type": "code",
   "execution_count": 33,
   "id": "9bfd520b-2402-4c03-b886-98c6ac9cc1cb",
   "metadata": {},
   "outputs": [
    {
     "name": "stdout",
     "output_type": "stream",
     "text": [
      "3716: Acacia binervata\n",
      "7: Family / Fabaceae: Mimosoideae \n",
      "8: Group / D \n",
      "9: Life form / T \n",
      "10: Fireresponse / Sr \n",
      "11: Comments on regeneration / Resprouting form in northern tablelands (134) \n",
      "12: Resprout location / basal buds \n",
      "13: Seed storage / persistent soil \n",
      "14: Seed dispersal mechanism / a-ant / References!C56\n",
      "18: Dormancy / hard seed coat \n",
      "19: Germination cue / heat / References!C94\n",
      "22: Post-fire recruitment / prolific / References!C106\n",
      "23: Establishment / I / References!A94\n",
      "25: Flowering time / Aug-Nov \n",
      "26: Primary juvenile period / 5 / References!C36\n",
      "27: Secondary juvenile period / References!C36 / References!C36\n",
      "28: Seed set / 6 / References!C36\n",
      "29: Seed-bank developed / 10 / References!C36\n"
     ]
    }
   ],
   "source": [
    "# for j in 17\n",
    "i=18\n",
    "spname=ws.cell(row=i, column=1).value\n",
    "spcode=ws.cell(row=i, column=2).value\n",
    "print(\"%s: %s\" %(spcode,spname))\n",
    "    \n",
    "for j in range(3,30):\n",
    "    varname=ws.cell(row=2, column=j).value\n",
    "    varvalue=ws.cell(row=i, column=j).value\n",
    "    varref=ws.cell(row=i, column=j).hyperlink\n",
    "    if varvalue is not None:\n",
    "        if varref is not None:\n",
    "            print(\"%s: %s / %s / %s\" % (j,varname,varvalue, varref.location))\n",
    "        else:\n",
    "            print(\"%s: %s / %s \" % (j,varname,varvalue))\n"
   ]
  },
  {
   "cell_type": "code",
   "execution_count": null,
   "id": "5549dd9d-5c31-416f-93c9-6a324d41380b",
   "metadata": {},
   "outputs": [],
   "source": [
    "\n"
   ]
  },
  {
   "cell_type": "code",
   "execution_count": null,
   "id": "0afbec67-bd06-4621-802c-71fae884ac16",
   "metadata": {},
   "outputs": [],
   "source": []
  }
 ],
 "metadata": {
  "kernelspec": {
   "display_name": "Python 3 (ipykernel)",
   "language": "python",
   "name": "python3"
  },
  "language_info": {
   "codemirror_mode": {
    "name": "ipython",
    "version": 3
   },
   "file_extension": ".py",
   "mimetype": "text/x-python",
   "name": "python",
   "nbconvert_exporter": "python",
   "pygments_lexer": "ipython3",
   "version": "3.8.2"
  }
 },
 "nbformat": 4,
 "nbformat_minor": 5
}
