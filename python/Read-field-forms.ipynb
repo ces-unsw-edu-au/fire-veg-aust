{
 "cells": [
  {
   "cell_type": "markdown",
   "id": "815a2392-ade6-4043-a754-c5fc8b43b017",
   "metadata": {},
   "source": [
    "# Read spreadsheets from David and update database\n",
    "These spreadsheets were imported on February 2022, I need to update the database.\n",
    "## load libraries and DB connection parameters"
   ]
  },
  {
   "cell_type": "code",
   "execution_count": 1,
   "id": "47eadb90-b36c-4ae6-a783-7b8e9c4f6218",
   "metadata": {},
   "outputs": [],
   "source": [
    "import openpyxl\n",
    "from pathlib import Path\n",
    "import os\n",
    "from datetime import datetime\n",
    "from configparser import ConfigParser\n",
    "import psycopg2\n",
    "from psycopg2.extensions import AsIs\n",
    "#import postgis"
   ]
  },
  {
   "cell_type": "code",
   "execution_count": 2,
   "id": "685f98ff-9f63-413d-b6be-d77398ca4c5c",
   "metadata": {},
   "outputs": [],
   "source": [
    "repodir = Path(\"../\") \n",
    "inputdir = repodir / \"data\" / \"field-form\""
   ]
  },
  {
   "cell_type": "markdown",
   "id": "f56bab42-3c7e-4100-ba00-1d75897daa11",
   "metadata": {},
   "source": [
    "Database credentials are stored in a database.ini file"
   ]
  },
  {
   "cell_type": "code",
   "execution_count": 3,
   "id": "1f6dd8a2-ab5f-4677-b9d3-abdc59cd16c8",
   "metadata": {},
   "outputs": [],
   "source": [
    "filename = repodir / 'secrets' / 'database.ini'\n",
    "section = 'aws-lght-sl'\n",
    "\n",
    "# create a parser\n",
    "parser = ConfigParser()\n",
    "# read config file\n",
    "parser.read(filename)\n",
    "\n",
    "# get section, default to postgresql\n",
    "db = {}\n",
    "if parser.has_section(section):\n",
    "    params = parser.items(section)\n",
    "    for param in params:\n",
    "        db[param[0]] = param[1]\n",
    "else:\n",
    "    raise Exception('Section {0} not found in the {1} file'.format(section, filename))\n",
    "\n",
    "params = db"
   ]
  },
  {
   "cell_type": "markdown",
   "id": "e85a8164-c756-4d33-bc8c-24c7b0de630f",
   "metadata": {},
   "source": [
    "Define a function to batch process insert or update queries:"
   ]
  },
  {
   "cell_type": "code",
   "execution_count": 57,
   "id": "5fa64da4-5d01-41ef-88a6-369699ae8ddf",
   "metadata": {},
   "outputs": [],
   "source": [
    "def batch_upsert(params,table,records,keycol,idx, execute=False):\n",
    "    # connect to the PostgreSQL server\n",
    "    print('Connecting to the PostgreSQL database...')\n",
    "    conn = psycopg2.connect(**params)\n",
    "    cur = conn.cursor()\n",
    "    #postgis.register(cur)\n",
    "    updated_rows=0\n",
    "    \n",
    "    for record in records:\n",
    "        if len(record.keys())>len(keycol):\n",
    "            qrystr = \"INSERT INTO %s (%s) values %s ON CONFLICT ON CONSTRAINT %s DO UPDATE SET %s\"\n",
    "            if 'geom' in record.keys():\n",
    "                the_geom=record['geom']\n",
    "                record['geom']='GEOMSTR'\n",
    "            upd=list()\n",
    "            for k in record.keys():\n",
    "                if k not in keycol:\n",
    "                    upd.append(\"{col}=EXCLUDED.{col}\".format(col=k))\n",
    "\n",
    "            qry = cur.mogrify(qrystr, (AsIs(table),\n",
    "                                AsIs(','.join(record.keys())),\n",
    "                                tuple(record.values()),\n",
    "                                AsIs(idx),\n",
    "                                AsIs(','.join(upd))\n",
    "                               ))\n",
    "\n",
    "\n",
    "            if 'geom' in record.keys():\n",
    "                qry=qry.decode('utf-8')\n",
    "                qry=qry.replace(\"'GEOMSTR'\",the_geom)\n",
    "                record['geom']=the_geom\n",
    "\n",
    "            if execute:\n",
    "                cur.execute(qry)\n",
    "                if cur.rowcount > 0:\n",
    "                    updated_rows = updated_rows + cur.rowcount\n",
    "            else:\n",
    "                print(qry)\n",
    "            \n",
    "    conn.commit()        \n",
    "    cur.close()\n",
    "    print(\"%s rows updated\" % (updated_rows))\n",
    "        \n",
    "    if conn is not None:\n",
    "        conn.close()\n",
    "        print('Database connection closed.')\n",
    "\n",
    "        "
   ]
  },
  {
   "cell_type": "code",
   "execution_count": 5,
   "id": "6eaf53be-eed4-4226-8ac2-8a7ce52e9df3",
   "metadata": {},
   "outputs": [
    {
     "name": "stdout",
     "output_type": "stream",
     "text": [
      "Connecting to the PostgreSQL database...\n",
      "INSERT INTO form.field_site (site_label,geom) values ('test', ST_GeomFromText('POINT(1 2)', 4326)) ON CONFLICT ON CONSTRAINT field_site_pkey1 DO UPDATE SET geom=EXCLUDED.geom\n",
      "0 rows updated\n",
      "Database connection closed.\n"
     ]
    }
   ],
   "source": [
    "record={'site_label':'test','geom':\"ST_GeomFromText('POINT(1 2)', 4326)\"}\n",
    "batch_upsert(params,\"form.field_site\",(record,),keycol='site_label', idx='field_site_pkey1',execute=False)"
   ]
  },
  {
   "cell_type": "markdown",
   "id": "bd6ffc73-f2c2-4ce1-b137-ff58a54d44a1",
   "metadata": {},
   "source": [
    "## Read spreadsheets\n",
    "Each spreadsheet has a slightly different structure, so these scripts have to be adapted for each case.\n",
    "### List of spreadsheets in directory"
   ]
  },
  {
   "cell_type": "code",
   "execution_count": 6,
   "id": "ef766fae-b8d3-440a-abc5-c4db547f7b7e",
   "metadata": {},
   "outputs": [
    {
     "data": {
      "text/plain": [
       "['RobertsonRF_data_bionet2.xlsx',\n",
       " 'UNSW_VegFireResponse_RMK_reformat_Sep2021a.xlsx',\n",
       " 'UNSWFireVegResponse_UplandBasalt_AlexThomsen+DK.xlsx',\n",
       " 'SthnNSWRF_data_bionet2.xlsx',\n",
       " 'UNSW_VegFireResponse_AlpineBogs_reformat_Sep2021.xlsx',\n",
       " 'UNSW_VegFireResponse_DataEntry_Yatteyattah all +DK +Milton.xlsx',\n",
       " 'Fire response quadrat survey Newnes Nov2020_DK_revised IDs+AllNovData.xlsm',\n",
       " 'UNSW_VegFireResponse_KNP AlpAsh.xlsx']"
      ]
     },
     "execution_count": 6,
     "metadata": {},
     "output_type": "execute_result"
    }
   ],
   "source": [
    "os.listdir(inputdir)"
   ]
  },
  {
   "cell_type": "code",
   "execution_count": 7,
   "id": "7e4f052a-4351-40bc-ab3c-920431d42c7e",
   "metadata": {},
   "outputs": [],
   "source": [
    "valid_files = ['SthnNSWRF_data_bionet2.xlsx',\n",
    "               'UNSWFireVegResponse_UplandBasalt_AlexThomsen+DK.xlsx',\n",
    "               'UNSW_VegFireResponse_RMK_reformat_Sep2021a.xlsx',\n",
    "               'UNSW_VegFireResponse_DataEntry_Yatteyattah all +DK +Milton.xlsx',\n",
    "               'UNSW_VegFireResponse_KNP AlpAsh.xlsx',\n",
    "               'UNSW_VegFireResponse_AlpineBogs_reformat_Sep2021.xlsx',\n",
    "               'RobertsonRF_data_bionet2.xlsx',\n",
    "               'Fire response quadrat survey Newnes Nov2020_DK_revised IDs+AllNovData.xlsm']"
   ]
  },
  {
   "cell_type": "markdown",
   "id": "91fa2020-e8d8-4817-9498-f0155118ca1c",
   "metadata": {},
   "source": [
    "Here we create an index of worksheets and column headers for each file"
   ]
  },
  {
   "cell_type": "code",
   "execution_count": 8,
   "id": "7aba9482-c09f-4aff-be77-6cfd9ff08cf3",
   "metadata": {},
   "outputs": [],
   "source": [
    "wbindex=dict()\n",
    "for workbook_name in valid_files:\n",
    "    inputfile=inputdir / workbook_name\n",
    "    # using data_only=True to get the calculated cell values\n",
    "    wb = openpyxl.load_workbook(inputfile,data_only=True)\n",
    "    wbindex[workbook_name]=dict()\n",
    "    for ws in wb.worksheets:\n",
    "        wbindex[workbook_name][ws._WorkbookChild__title]=list()\n",
    "        for k in range(1,ws.max_column):\n",
    "            wbindex[workbook_name][ws._WorkbookChild__title].append(ws.cell(row=1,column=k).value)\n",
    "        "
   ]
  },
  {
   "cell_type": "markdown",
   "id": "1f643532-263c-4178-9295-17d640d60e3e",
   "metadata": {
    "tags": []
   },
   "source": [
    "## List of sites and site visits\n",
    "\n",
    "We will define a couple of functions to create list of records and a function to upload the records in the database.\n",
    "\n",
    "This is a wrapping function to apply a function (`create_record_function`) to all rows in a `worksheet` of the selected `workbook` using a dictionary `col_dictionary`:  \n"
   ]
  },
  {
   "cell_type": "code",
   "execution_count": 179,
   "id": "7e76039f-aa28-4eca-a41e-ee77f75ae25d",
   "metadata": {},
   "outputs": [],
   "source": [
    "def import_records_from_workbook(filepath,workbook,worksheet,col_dictionary,create_record_function,**kwargs):\n",
    "    wb = openpyxl.load_workbook(filepath / workbook, data_only=True)\n",
    "    ws=wb[worksheet]\n",
    "    row_count = ws.max_row\n",
    "    records=list()\n",
    "    for k in range(2,row_count):\n",
    "        item=ws[k]\n",
    "        record=create_record_function(item,col_dictionary,**kwargs)\n",
    "        if record is not None:\n",
    "            if type(record)==list:\n",
    "                records.extend(record)\n",
    "            elif type(record)==dict:\n",
    "                records.append(record)\n",
    "    return records"
   ]
  },
  {
   "cell_type": "markdown",
   "id": "bf09839f-174e-4c73-89a9-632b637da5a5",
   "metadata": {
    "jp-MarkdownHeadingCollapsed": true,
    "tags": []
   },
   "source": [
    "### Insert into field_site table\n",
    "\n",
    "This function will transform create an insert records from one row of the spreadsheet (`item`) using a column dictionary (`sw`). \n",
    "\n",
    "We need to consider:\n",
    "- geom might be single or multiple points\n",
    "- projection (SRID) is UTM GDA zone 55 or 56, latlong WGS84, or a different format\n",
    "- elevation in m, or NULL \n",
    "- GPS uncertainty in meters, or NULL\n",
    "- text description of GPS location, or NULL"
   ]
  },
  {
   "cell_type": "code",
   "execution_count": 50,
   "id": "ee8dbec7-32d3-450c-9244-0c884ebc5fb0",
   "metadata": {},
   "outputs": [],
   "source": [
    "def create_field_site_record(item,sw):\n",
    "    site_label = item[sw['site_label']].value\n",
    "    if site_label is not None and site_label != \"Site\":\n",
    "        record={'site_label': site_label}\n",
    "    \n",
    "        for column in ('elevation','location_description', 'gps_uncertainty_m', 'gps_geom_description'):\n",
    "            if column in sw.keys():\n",
    "                val=item[sw[column]].value\n",
    "                if val is not None and val not in ('na','NA'):\n",
    "                    record[column] =  val\n",
    "    \n",
    "        if 'lons' in sw.keys():\n",
    "            for xs in sw['lons']:\n",
    "                xlon = item[xs].value\n",
    "            for ys in sw['lats']:\n",
    "                ylat = item[ys].value\n",
    "            srid = 4326\n",
    "\n",
    "\n",
    "        if 'xs' in sw.keys():\n",
    "            for xs in sw['xs']:\n",
    "                xlon = item[xs].value\n",
    "            for ys in sw['ys']:\n",
    "                ylat = item[ys].value\n",
    "\n",
    "            if 'fixed_utm_zone' in sw.keys():\n",
    "                utm_zone=sw['fixed_utm_zone']\n",
    "            else:\n",
    "                utm_zone=item[sw['utm_zone']].value\n",
    "            if  utm_zone == 56:\n",
    "                srid = 28356\n",
    "            elif utm_zone == 55:\n",
    "                srid = 28355\n",
    "\n",
    "   \n",
    "        if srid is not None and xlon is not None and ylat is not None:\n",
    "            record['geom'] = \"ST_GeomFromText('POINT({xlon} {ylat})', {srid})\".format(xlon=xlon,ylat=ylat,srid=srid)\n",
    "\n",
    "        return(record)\n",
    "\n",
    "\n",
    "    "
   ]
  },
  {
   "cell_type": "markdown",
   "id": "1f47ae18-8ee2-4996-9f0f-e79fc631297d",
   "metadata": {},
   "source": [
    "Test this function with one workbook:"
   ]
  },
  {
   "cell_type": "code",
   "execution_count": 11,
   "id": "ed869dfd-9f77-43a7-ba5d-a66beac9cd48",
   "metadata": {},
   "outputs": [
    {
     "data": {
      "text/plain": [
       "28"
      ]
     },
     "execution_count": 11,
     "metadata": {},
     "output_type": "execute_result"
    }
   ],
   "source": [
    "worksheet='Site'\n",
    "filename='UNSWFireVegResponse_UplandBasalt_AlexThomsen+DK.xlsx'\n",
    "col_definitions={'site_label':0, 'location_description':10,'utm_zone':11, 'xs':(12,), 'ys':(13,),\n",
    "                 'gps_uncertainty_m':14,\n",
    "                 'gps_geom_description':17,\n",
    "                 'elevation':38, 'visit_date':(2,4,5)}\n",
    "survey=\"UplandBasalt\"\n",
    "\n",
    "records = import_records_from_workbook(inputdir,filename,worksheet,col_definitions,create_field_site_record) \n",
    "\n",
    "len(records)"
   ]
  },
  {
   "cell_type": "code",
   "execution_count": 12,
   "id": "60f7ff99-df18-4a19-abc5-7b1c96510eb9",
   "metadata": {},
   "outputs": [
    {
     "data": {
      "text/plain": [
       "{'site_label': 'CRC13B7C',\n",
       " 'elevation': 1276,\n",
       " 'location_description': 'Mt Coricudgy, near towers',\n",
       " 'gps_geom_description': '30 m transect for woody plants >2m tall, with two 5x5m subplots at either end (subplots 1 & 2) with 20x5m subplot in middle (subplot 3); non-woody spp and woodplants <2m tall counted in the two 5x5m subplots',\n",
       " 'geom': \"ST_GeomFromText('POINT(251947 6364871)', 28356)\"}"
      ]
     },
     "execution_count": 12,
     "metadata": {},
     "output_type": "execute_result"
    }
   ],
   "source": [
    "records[1]"
   ]
  },
  {
   "cell_type": "markdown",
   "id": "4ac355ef-b4bd-4063-b894-e4ddaac313c2",
   "metadata": {
    "jp-MarkdownHeadingCollapsed": true,
    "tags": []
   },
   "source": [
    "### Insert into field_visits table\n",
    "\n",
    "This function will create an insert record from one row of the spreadsheet (`item`) using a column dictionary (`sw`). \n",
    "\n",
    "We need to consider:\n",
    "- iterate over multiple visit dates in different columns\n",
    "- add survey name to the record\n",
    "- text description of visit, or NULL\n",
    "- observerlist to be split into multiple names (list or array)"
   ]
  },
  {
   "cell_type": "code",
   "execution_count": 63,
   "id": "85b7f823-b6c3-4a24-b390-f6131c78b9a1",
   "metadata": {},
   "outputs": [],
   "source": [
    "def create_field_visit_record(item,sw):\n",
    "    site_label = item[sw['site_label']].value\n",
    "    records = list()\n",
    "    for k in sw['visit_date']:\n",
    "        visit_date = item[k].value\n",
    "        if site_label is not None and site_label != \"Site\":\n",
    "            if isinstance(visit_date, datetime):\n",
    "                record = {'visit_id': site_label, 'visit_date': visit_date}\n",
    "                if 'survey' in sw.keys():\n",
    "                    record['survey_name'] = sw['survey']\n",
    "                for column in ('visit_description', 'mainobserver', 'observerlist','replicate_nr'):\n",
    "                    if column in sw.keys():\n",
    "                        val=item[sw[column]].value\n",
    "                        if val is not None and val not in ('na','NA'):\n",
    "                            if column=='observerlist':\n",
    "                                val=val.split(',')\n",
    "                            record[column] =  val\n",
    "                records.append(record)\n",
    "    return records"
   ]
  },
  {
   "cell_type": "code",
   "execution_count": 14,
   "id": "b033aa57-bda6-41c9-aa4d-c4847210c02d",
   "metadata": {},
   "outputs": [
    {
     "data": {
      "text/plain": [
       "42"
      ]
     },
     "execution_count": 14,
     "metadata": {},
     "output_type": "execute_result"
    }
   ],
   "source": [
    "worksheet='Site'\n",
    "filename='UNSWFireVegResponse_UplandBasalt_AlexThomsen+DK.xlsx'\n",
    "col_definitions={'site_label':0, 'location_description':10,'utm_zone':11, 'xs':(12,), 'ys':(13,),\n",
    "                 'gps_uncertainty_m':14,\n",
    "                 'gps_geom_description':17,\n",
    "                 'observerlist':3,\n",
    "                 'elevation':38, 'visit_date':(2,4,5,6,7,8,9),\n",
    "                 'survey':\"UplandBasalt\"}\n",
    "\n",
    "records = import_records_from_workbook(inputdir,filename,worksheet,col_definitions,create_field_visit_record) \n",
    "\n",
    "len(records)"
   ]
  },
  {
   "cell_type": "code",
   "execution_count": 15,
   "id": "ec0173a4-6608-4ec4-90bc-f3ca0174ca2c",
   "metadata": {},
   "outputs": [
    {
     "data": {
      "text/plain": [
       "{'visit_id': 'CRC13B7C',\n",
       " 'visit_date': datetime.datetime(2021, 2, 4, 0, 0),\n",
       " 'survey_name': 'UplandBasalt',\n",
       " 'observerlist': ['Alexandria Thomsen', ' Charlotte Mills']}"
      ]
     },
     "execution_count": 15,
     "metadata": {},
     "output_type": "execute_result"
    }
   ],
   "source": [
    "records[1]"
   ]
  },
  {
   "cell_type": "markdown",
   "id": "8cde65b7-388d-4c58-b349-340f43db93de",
   "metadata": {
    "jp-MarkdownHeadingCollapsed": true,
    "tags": []
   },
   "source": [
    "### Run trough all workbooks"
   ]
  },
  {
   "cell_type": "code",
   "execution_count": 16,
   "id": "b0efd041-2cf8-4e73-aa31-c29962629fef",
   "metadata": {},
   "outputs": [
    {
     "data": {
      "text/plain": [
       "dict_keys(['SthnNSWRF_data_bionet2.xlsx', 'UNSWFireVegResponse_UplandBasalt_AlexThomsen+DK.xlsx', 'UNSW_VegFireResponse_RMK_reformat_Sep2021a.xlsx', 'UNSW_VegFireResponse_DataEntry_Yatteyattah all +DK +Milton.xlsx', 'UNSW_VegFireResponse_KNP AlpAsh.xlsx', 'UNSW_VegFireResponse_AlpineBogs_reformat_Sep2021.xlsx', 'RobertsonRF_data_bionet2.xlsx', 'Fire response quadrat survey Newnes Nov2020_DK_revised IDs+AllNovData.xlsm'])"
      ]
     },
     "execution_count": 16,
     "metadata": {},
     "output_type": "execute_result"
    }
   ],
   "source": [
    "wbindex.keys()"
   ]
  },
  {
   "cell_type": "code",
   "execution_count": 76,
   "id": "fd3f6541-5247-4231-b693-a0477ff376af",
   "metadata": {
    "tags": []
   },
   "outputs": [
    {
     "name": "stdout",
     "output_type": "stream",
     "text": [
      "0 :: Site\n",
      "1 :: Replicate\n",
      "2 :: Observers (comma sep if >1)\n",
      "3 :: Date of samping\n",
      "4 :: Survey Date Replicate 1\n",
      "5 :: Survey Date Replicate 2\n",
      "6 :: Survey Date Replicate 3\n",
      "7 :: Survey Date Replicate 4\n",
      "8 :: Survey Date Replicate 5\n",
      "9 :: Survey Date Replicate 6\n",
      "10 :: Location text\n",
      "11 :: Zone\n",
      "12 :: Easting\n",
      "13 :: Northing\n",
      "14 :: GPS Precision (m)\n",
      "15 :: Latitude\n",
      "16 :: Longitude\n",
      "17 :: Layout & GPS marker position\n",
      "18 :: 2nd ref point Zone\n",
      "19 :: 2nd ref point Easting\n",
      "20 :: 2nd ref point Northing\n",
      "21 :: 2nd ref point Position of GPS\n",
      "22 :: 3rd ref point Zone\n",
      "23 :: 3rd ref point Easting\n",
      "24 :: 3rd ref point Northing\n",
      "25 :: 3rd ref point Position of GPS\n",
      "26 :: 4th ref point Zone\n",
      "27 :: 4th ref point Easting\n",
      "28 :: 4th ref point Northing\n",
      "29 :: 4th ref point Position of GPS\n",
      "30 :: Total sample area (sq.m)\n",
      "31 :: Subquadrat area (sq.m)\n",
      "32 :: # subquadrats\n",
      "33 :: Substrate\n",
      "34 :: Notes\n",
      "35 :: Slope\n",
      "36 :: Aspect\n",
      "37 :: Elevation\n",
      "38 :: Disturbance notes\n",
      "39 :: Cwth TEC\n",
      "40 :: NSW TEC\n",
      "41 :: variant\n",
      "42 :: Vegetation formation\n"
     ]
    }
   ],
   "source": [
    "cols=wbindex['UNSW_VegFireResponse_DataEntry_Yatteyattah all +DK +Milton.xlsx']['Site']\n",
    "for k in range(1,len(cols)):\n",
    "    print(\"%s :: %s\" % (k-1,cols[k-1]))\n",
    "               "
   ]
  },
  {
   "cell_type": "code",
   "execution_count": 66,
   "id": "98697948-b08d-4a0a-a23c-ce8e2320fb6c",
   "metadata": {
    "collapsed": true,
    "jupyter": {
     "outputs_hidden": true,
     "source_hidden": true
    },
    "tags": []
   },
   "outputs": [
    {
     "name": "stdout",
     "output_type": "stream",
     "text": [
      "Connecting to the PostgreSQL database...\n",
      "28 rows updated\n",
      "Database connection closed.\n",
      "Connecting to the PostgreSQL database...\n",
      "42 rows updated\n",
      "Database connection closed.\n"
     ]
    }
   ],
   "source": [
    "def run_imports(**kwargs):\n",
    "    records = import_records_from_workbook(**kwargs,create_record_function=create_field_site_record) \n",
    "    # function to create upsert queries with plain substitution to handle geom string\n",
    "    batch_upsert(params,\"form.field_site\",records,keycol=('site_label',), idx='field_site_pkey1',execute=True)\n",
    "    \n",
    "    records = import_records_from_workbook(**kwargs,create_record_function=create_field_visit_record) \n",
    "    # this should work also without problem\n",
    "    batch_upsert(params,\"form.field_visit\",records,keycol=('visit_id','visit_date'), idx='field_visit_pkey2',execute=True)\n",
    "\n",
    "run_imports(filepath=inputdir,\n",
    "            workbook='UNSWFireVegResponse_UplandBasalt_AlexThomsen+DK.xlsx',\n",
    "            worksheet='Site',\n",
    "            col_dictionary={'site_label':0, 'location_description':10,'utm_zone':11, 'xs':(12,), 'ys':(13,),\n",
    "                 'gps_uncertainty_m':14,\n",
    "                 'gps_geom_description':17,\n",
    "                 'observerlist':3,'replicate_nr':1,\n",
    "                 'elevation':38, 'visit_date':(2,4,5,6,7,8,9),\n",
    "                 'survey':\"UplandBasalt\"})\n"
   ]
  },
  {
   "cell_type": "code",
   "execution_count": 64,
   "id": "e826d6b5-8954-4b6c-8537-c877a77f24b0",
   "metadata": {
    "collapsed": true,
    "jupyter": {
     "outputs_hidden": true,
     "source_hidden": true
    },
    "tags": []
   },
   "outputs": [
    {
     "name": "stdout",
     "output_type": "stream",
     "text": [
      "Connecting to the PostgreSQL database...\n",
      "16 rows updated\n",
      "Database connection closed.\n",
      "Connecting to the PostgreSQL database...\n",
      "16 rows updated\n",
      "Database connection closed.\n"
     ]
    }
   ],
   "source": [
    "run_imports(filepath=inputdir,\n",
    "            workbook='UNSW_VegFireResponse_RMK_reformat_Sep2021a.xlsx',\n",
    "            worksheet='Site',\n",
    "            col_dictionary={'site_label':0,'location_description':10, \n",
    "                            'utm_zone':11,'xs':(12,), 'ys':(13,), 'elevation':37, \n",
    "                            'gps_uncertainty_m':14, 'gps_geom_description':17,\n",
    "                            'visit_date':range(3,9), 'replicate_nr':1,'observerlist':2,'survey':\"RMK\"})"
   ]
  },
  {
   "cell_type": "code",
   "execution_count": 68,
   "id": "baba4530-9b10-46d3-8896-8430e4ba9d41",
   "metadata": {
    "collapsed": true,
    "jupyter": {
     "outputs_hidden": true,
     "source_hidden": true
    },
    "tags": []
   },
   "outputs": [
    {
     "name": "stdout",
     "output_type": "stream",
     "text": [
      "Connecting to the PostgreSQL database...\n",
      "5 rows updated\n",
      "Database connection closed.\n",
      "Connecting to the PostgreSQL database...\n",
      "5 rows updated\n",
      "Database connection closed.\n"
     ]
    }
   ],
   "source": [
    "run_imports(filepath=inputdir,\n",
    "            workbook='SthnNSWRF_data_bionet2.xlsx',\n",
    "            worksheet='Site',\n",
    "            col_dictionary={'site_label':0,'location_description':10, 'visit_date':range(3,9), \n",
    "                'lons':(16,), 'lats':(15,), 'elevation':37,\n",
    "                 'gps_uncertainty_m':14,\n",
    "                 'gps_geom_description':17,\n",
    "                 'observerlist':2,'replicate_nr':1,\n",
    "                 'survey':\"SthnNSWRF\"})"
   ]
  },
  {
   "cell_type": "code",
   "execution_count": 70,
   "id": "f16946c9-bb60-423e-bc25-f59cc55f8f1e",
   "metadata": {
    "collapsed": true,
    "jupyter": {
     "outputs_hidden": true,
     "source_hidden": true
    },
    "tags": []
   },
   "outputs": [
    {
     "name": "stdout",
     "output_type": "stream",
     "text": [
      "Connecting to the PostgreSQL database...\n",
      "9 rows updated\n",
      "Database connection closed.\n",
      "Connecting to the PostgreSQL database...\n",
      "9 rows updated\n",
      "Database connection closed.\n"
     ]
    }
   ],
   "source": [
    "run_imports(filepath=inputdir,\n",
    "            workbook='UNSW_VegFireResponse_KNP AlpAsh.xlsx',\n",
    "            worksheet='Site',\n",
    "            col_dictionary={'site_label':0,'location_description':10, 'visit_date':range(3,9), \n",
    "               'utm_zone':11, 'xs':(12,), 'ys':(13,), 'elevation':37,\n",
    "                 'gps_uncertainty_m':14,\n",
    "                 'gps_geom_description':17,\n",
    "                 'observerlist':2,'replicate_nr':1,\n",
    "                 'survey':\"KNP AlpAsh\"})\n"
   ]
  },
  {
   "cell_type": "code",
   "execution_count": 72,
   "id": "bb3d92fe-9ce2-48d9-bb90-29382b4e8dfb",
   "metadata": {
    "collapsed": true,
    "jupyter": {
     "outputs_hidden": true,
     "source_hidden": true
    },
    "tags": []
   },
   "outputs": [
    {
     "name": "stdout",
     "output_type": "stream",
     "text": [
      "Connecting to the PostgreSQL database...\n",
      "6 rows updated\n",
      "Database connection closed.\n",
      "Connecting to the PostgreSQL database...\n",
      "6 rows updated\n",
      "Database connection closed.\n"
     ]
    }
   ],
   "source": [
    "run_imports(filepath=inputdir,\n",
    "            workbook='UNSW_VegFireResponse_AlpineBogs_reformat_Sep2021.xlsx',\n",
    "            worksheet='Site',\n",
    "            col_dictionary={'site_label':0,'location_description':10, 'visit_date':range(3,9), \n",
    "               'utm_zone':11, 'xs':(12,), 'ys':(13,), 'elevation':37,\n",
    "                 'gps_uncertainty_m':14,\n",
    "                 'gps_geom_description':17,\n",
    "                 'observerlist':2,'replicate_nr':1,\n",
    "                 'survey':\"Alpine Bogs\"})\n"
   ]
  },
  {
   "cell_type": "markdown",
   "id": "97d116d7-315c-4659-ba14-a2b58c8559e0",
   "metadata": {
    "tags": []
   },
   "source": [
    "Robertson RF has two sites in common with KNP AlpAsh? duplicated codes? same entries?"
   ]
  },
  {
   "cell_type": "code",
   "execution_count": 74,
   "id": "c85050ad-e9e9-4f81-9b9e-7565d9b59dfe",
   "metadata": {
    "collapsed": true,
    "jupyter": {
     "outputs_hidden": true
    },
    "tags": []
   },
   "outputs": [
    {
     "name": "stdout",
     "output_type": "stream",
     "text": [
      "Connecting to the PostgreSQL database...\n",
      "2 rows updated\n",
      "Database connection closed.\n",
      "Connecting to the PostgreSQL database...\n",
      "3 rows updated\n",
      "Database connection closed.\n"
     ]
    }
   ],
   "source": [
    "run_imports(filepath=inputdir,\n",
    "            workbook='RobertsonRF_data_bionet2.xlsx',\n",
    "            worksheet='Site',\n",
    "            col_dictionary={'site_label':0,'location_description':10, 'visit_date':range(3,9), \n",
    "               'utm_zone':11, 'xs':(12,), 'ys':(13,), 'elevation':37,\n",
    "                 'gps_uncertainty_m':14,\n",
    "                 'gps_geom_description':17,\n",
    "                 'observerlist':2,'replicate_nr':1,\n",
    "                 'survey':\"Robertson RF\"})"
   ]
  },
  {
   "cell_type": "code",
   "execution_count": 58,
   "id": "5f48f82e-880d-4e1f-9222-bf01830ba8cc",
   "metadata": {
    "collapsed": true,
    "jupyter": {
     "outputs_hidden": true,
     "source_hidden": true
    },
    "tags": []
   },
   "outputs": [
    {
     "name": "stdout",
     "output_type": "stream",
     "text": [
      "Connecting to the PostgreSQL database...\n",
      "20 rows updated\n",
      "Database connection closed.\n",
      "Connecting to the PostgreSQL database...\n",
      "54 rows updated\n",
      "Database connection closed.\n"
     ]
    }
   ],
   "source": [
    "# this has a different format, and includes many empty site records, had to tweak functions and troubleshoot a bit\n",
    "filename='Fire response quadrat survey Newnes Nov2020_DK_revised IDs+AllNovData.xlsm'\n",
    "col_definitions={'site_label':0, 'visit_date':(8,), 'fixed_utm_zone':56, 'xs':(1,), 'ys':(2,), 'elevation':4, 'survey':\"NEWNES\"}\n",
    "\n",
    "#records = import_records_from_workbook(filepath=inputdir,\n",
    "#                                       workbook=filename,\n",
    "#                                       worksheet='Site',\n",
    "#                                       col_dictionary=col_definitions,\n",
    "#                                       create_record_function=create_field_site_record) \n",
    "\n",
    "#len(records)\n",
    "\n",
    "run_imports(filepath=inputdir,\n",
    "            workbook=filename,\n",
    "            worksheet='Site',\n",
    "            col_dictionary=col_definitions)\n"
   ]
  },
  {
   "cell_type": "markdown",
   "id": "4d5a7e8d-ce21-4cf4-a027-c172094ba628",
   "metadata": {},
   "source": [
    "The Yatteyattah workbook had no 'Site' worksheet, had to reformat the data from 'Sample' and add the worksheet to make it work, also changed the format in \"date of sampling\" column."
   ]
  },
  {
   "cell_type": "code",
   "execution_count": 77,
   "id": "e25ca80c-1f76-453e-871b-db2b0a778916",
   "metadata": {},
   "outputs": [
    {
     "name": "stdout",
     "output_type": "stream",
     "text": [
      "Connecting to the PostgreSQL database...\n",
      "6 rows updated\n",
      "Database connection closed.\n",
      "Connecting to the PostgreSQL database...\n",
      "6 rows updated\n",
      "Database connection closed.\n"
     ]
    }
   ],
   "source": [
    "filename='UNSW_VegFireResponse_DataEntry_Yatteyattah all +DK +Milton.xlsx'\n",
    "col_definitions={'site_label':0,'location_description':10, 'utm_zone':11,'elevation':37, 'visit_date':range(3,9), \n",
    "                'xs':(12,), 'ys':(13,),\n",
    "                 'gps_uncertainty_m':14,\n",
    "                 'gps_geom_description':17,\n",
    "                 'observerlist':2,'replicate_nr':1,\n",
    "                 'survey':\"Yatteyattah\"}\n",
    "run_imports(filepath=inputdir,\n",
    "            workbook=filename,\n",
    "            worksheet='Site',\n",
    "            col_dictionary=col_definitions)\n"
   ]
  },
  {
   "cell_type": "code",
   "execution_count": null,
   "id": "515eedac-d433-4135-a71b-2d15ea478833",
   "metadata": {},
   "outputs": [],
   "source": [
    "\n"
   ]
  },
  {
   "cell_type": "markdown",
   "id": "63cb01a2-2558-4897-9753-edf06c284e2e",
   "metadata": {
    "tags": []
   },
   "source": [
    "## Quadrat samples\n",
    "\n",
    "First we will define some helper functions to prepare records."
   ]
  },
  {
   "cell_type": "code",
   "execution_count": 213,
   "id": "ea912eda-b64b-43aa-b758-78a95e182484",
   "metadata": {},
   "outputs": [],
   "source": [
    "def create_field_sample_record(item,sw):\n",
    "    visit_id=item[sw['visit_id']].value\n",
    "    visit_date = item[sw['date']].value \n",
    "    if visit_id is not None and visit_id not in ('Site Number'):\n",
    "        record={'visit_id': visit_id, 'replicate_nr': item[sw['replicate_nr']].value, 'sample_nr': item[sw['sample_nr']].value}\n",
    "        if isinstance(visit_date,datetime):\n",
    "            record['visit_date'] = visit_date.date()\n",
    "        return(record)"
   ]
  },
  {
   "cell_type": "code",
   "execution_count": 214,
   "id": "c86f5cf3-1484-4a4d-b586-f9b4674890cd",
   "metadata": {},
   "outputs": [],
   "source": [
    "col_defs={'visit_id':1,'replicate_nr':2,'date':3,'sample_nr':5}\n",
    "\n",
    "records = import_records_from_workbook(filepath=inputdir,workbook=filename,worksheet='Floristics',col_dictionary=col_defs,create_record_function=create_field_sample_record)\n",
    "unique_records = list()\n",
    "sites = list()\n",
    "for record in records:\n",
    "    if record not in unique_records:\n",
    "        unique_records.append(record)\n",
    "        if record['visit_id'] not in sites:\n",
    "            sites.append(record['visit_id'])"
   ]
  },
  {
   "cell_type": "code",
   "execution_count": 215,
   "id": "f5ef038e-58e8-494a-ba4e-499e0078c38a",
   "metadata": {},
   "outputs": [
    {
     "data": {
      "text/plain": [
       "[{'visit_id': 'UppClydeRF1',\n",
       "  'replicate_nr': 0,\n",
       "  'sample_nr': 1,\n",
       "  'visit_date': datetime.date(2021, 11, 29)},\n",
       " {'visit_id': 'UppClydeRF1',\n",
       "  'replicate_nr': 1,\n",
       "  'sample_nr': 1,\n",
       "  'visit_date': datetime.date(2021, 11, 29)},\n",
       " {'visit_id': 'UppClydeRF1',\n",
       "  'replicate_nr': 1,\n",
       "  'sample_nr': 1,\n",
       "  'visit_date': datetime.date(2021, 12, 1)},\n",
       " {'visit_id': 'UppClydeRF1',\n",
       "  'replicate_nr': 1,\n",
       "  'sample_nr': 2,\n",
       "  'visit_date': datetime.date(2021, 11, 29)},\n",
       " {'visit_id': 'UppClydeRF1',\n",
       "  'replicate_nr': 0,\n",
       "  'sample_nr': 2,\n",
       "  'visit_date': datetime.date(2021, 11, 29)},\n",
       " {'visit_id': 'UppClydeRF1',\n",
       "  'replicate_nr': 1,\n",
       "  'sample_nr': 3,\n",
       "  'visit_date': datetime.date(2021, 11, 29)},\n",
       " {'visit_id': 'UppClydeRF2',\n",
       "  'replicate_nr': 1,\n",
       "  'sample_nr': 3,\n",
       "  'visit_date': datetime.date(2021, 11, 29)},\n",
       " {'visit_id': 'UppClydeRF3',\n",
       "  'replicate_nr': 1,\n",
       "  'sample_nr': 3,\n",
       "  'visit_date': datetime.date(2021, 11, 29)},\n",
       " {'visit_id': 'UppClydeRF4',\n",
       "  'replicate_nr': 1,\n",
       "  'sample_nr': 3,\n",
       "  'visit_date': datetime.date(2021, 11, 29)},\n",
       " {'visit_id': 'UppClydeRF1',\n",
       "  'replicate_nr': 1,\n",
       "  'sample_nr': 4,\n",
       "  'visit_date': datetime.date(2021, 11, 29)},\n",
       " {'visit_id': 'DeuaRF',\n",
       "  'replicate_nr': 1,\n",
       "  'sample_nr': 1,\n",
       "  'visit_date': datetime.date(2021, 11, 30)},\n",
       " {'visit_id': 'MaxwellsCk',\n",
       "  'replicate_nr': 1,\n",
       "  'sample_nr': 1,\n",
       "  'visit_date': datetime.date(2021, 12, 2)},\n",
       " {'visit_id': 'MaxwellsCk',\n",
       "  'replicate_nr': 1,\n",
       "  'sample_nr': 2,\n",
       "  'visit_date': datetime.date(2021, 12, 2)},\n",
       " {'visit_id': 'MaxwellsCk',\n",
       "  'replicate_nr': 1,\n",
       "  'sample_nr': 3,\n",
       "  'visit_date': datetime.date(2021, 12, 2)},\n",
       " {'visit_id': 'MongaPenanceLower',\n",
       "  'replicate_nr': 1,\n",
       "  'sample_nr': 1,\n",
       "  'visit_date': datetime.date(2021, 12, 3)},\n",
       " {'visit_id': 'MongaPenanceLower',\n",
       "  'replicate_nr': 1,\n",
       "  'sample_nr': 2,\n",
       "  'visit_date': datetime.date(2021, 12, 3)},\n",
       " {'visit_id': 'MongaPenanceLower',\n",
       "  'replicate_nr': 1,\n",
       "  'sample_nr': 3,\n",
       "  'visit_date': datetime.date(2021, 12, 3)},\n",
       " {'visit_id': 'MongaPenanceLower',\n",
       "  'replicate_nr': 1,\n",
       "  'sample_nr': 4,\n",
       "  'visit_date': datetime.date(2021, 12, 3)},\n",
       " {'visit_id': 'MongaPenanceLower',\n",
       "  'replicate_nr': 1,\n",
       "  'sample_nr': 5,\n",
       "  'visit_date': datetime.date(2021, 12, 3)},\n",
       " {'visit_id': 'MongaPenanceLower',\n",
       "  'replicate_nr': 1,\n",
       "  'sample_nr': 6,\n",
       "  'visit_date': datetime.date(2021, 12, 3)},\n",
       " {'visit_id': 'MongaPenanceUpper',\n",
       "  'replicate_nr': 1,\n",
       "  'sample_nr': 1,\n",
       "  'visit_date': datetime.date(2021, 12, 3)},\n",
       " {'visit_id': 'MongaPenanceUpper',\n",
       "  'replicate_nr': 1,\n",
       "  'sample_nr': 2,\n",
       "  'visit_date': datetime.date(2021, 12, 3)},\n",
       " {'visit_id': 'MongaPenanceUpper',\n",
       "  'replicate_nr': 1,\n",
       "  'sample_nr': 3,\n",
       "  'visit_date': datetime.date(2021, 12, 3)},\n",
       " {'visit_id': 'MongaPenanceUpper',\n",
       "  'replicate_nr': 1,\n",
       "  'sample_nr': 4,\n",
       "  'visit_date': datetime.date(2021, 12, 3)},\n",
       " {'visit_id': 'MongaPenanceUpper',\n",
       "  'replicate_nr': 1,\n",
       "  'sample_nr': 5,\n",
       "  'visit_date': datetime.date(2021, 12, 3)}]"
      ]
     },
     "execution_count": 215,
     "metadata": {},
     "output_type": "execute_result"
    }
   ],
   "source": [
    "unique_records"
   ]
  },
  {
   "cell_type": "code",
   "execution_count": 216,
   "id": "ca810774-a5d1-4b9f-a1bd-b1ceb9bcfbd0",
   "metadata": {},
   "outputs": [
    {
     "name": "stdout",
     "output_type": "stream",
     "text": [
      "Connecting to the PostgreSQL database...\n",
      "b\"SELECT DISTINCT visit_id,visit_date,replicate_nr FROM form.field_visit WHERE visit_id IN ('UppClydeRF1', 'UppClydeRF2', 'UppClydeRF3', 'UppClydeRF4', 'DeuaRF', 'MaxwellsCk', 'MongaPenanceLower', 'MongaPenanceUpper') ORDER by visit_id, visit_date;\"\n",
      "Database connection closed.\n"
     ]
    }
   ],
   "source": [
    "from psycopg2.extras import DictCursor\n",
    "print('Connecting to the PostgreSQL database...')\n",
    "conn = psycopg2.connect(**params)\n",
    "cur = conn.cursor(cursor_factory=DictCursor)\n",
    "args_str = \",\".join(sites)\n",
    "\n",
    "#alternative\n",
    "#from psycopg2 import sql\n",
    "#qry= sql.SQL('SELECT DISTINCT visit_id,visit_date,replicate_nr FROM form.field_visit WHERE visit_id IN ({}) ORDER by visit_id, visit_date;').format(\n",
    "#    sql.SQL(',').join(map(sql.Literal, sites))\n",
    "#)\n",
    "\n",
    "qry= cur.mogrify('SELECT DISTINCT visit_id,visit_date,replicate_nr FROM form.field_visit WHERE visit_id IN %s ORDER by visit_id, visit_date;',(tuple(sites),))\n",
    "                              \n",
    "cur.execute(qry)\n",
    "print(qry)\n",
    "visits = cur.fetchall()\n",
    "cur.close()\n",
    "        \n",
    "if conn is not None:\n",
    "    conn.close()\n",
    "    print('Database connection closed.')"
   ]
  },
  {
   "cell_type": "code",
   "execution_count": 218,
   "id": "16367c6a-1de7-4be9-8db9-d044083afe56",
   "metadata": {},
   "outputs": [
    {
     "name": "stdout",
     "output_type": "stream",
     "text": [
      "UppClydeRF2 not found\n",
      "UppClydeRF3 not found\n",
      "UppClydeRF4 not found\n"
     ]
    }
   ],
   "source": [
    "for record in unique_records:\n",
    "    if any(d['visit_id'] == record['visit_id'] for d in visits):\n",
    "        if 'visit_date' in record.keys():\n",
    "            p=filter(lambda n: n['visit_id'] == record['visit_id'] and  n['visit_date'] == record['visit_date'], visits)\n",
    "            found=list(p)\n",
    "            record['found']=len(found)\n",
    "        elif 'replicate_nr' in record.keys():\n",
    "            p=filter(lambda n: n['visit_id'] == record['visit_id'] and  n['replicate_nr'] == record['replicate_nr'], visits)\n",
    "            found=list(p)\n",
    "            print(found)\n",
    "            record['found']=len(found)\n",
    "            record['visit_date']=found[0][1]\n",
    "    else:\n",
    "        print(\"%s not found\" % record['visit_id'])\n",
    "        record['found']=0\n",
    "\n"
   ]
  },
  {
   "cell_type": "code",
   "execution_count": 220,
   "id": "c5c9c7c2-14bc-4374-9d3b-dbc83b8b95fa",
   "metadata": {},
   "outputs": [],
   "source": [
    "def create_quadrat_sample_record(item,sw,lookup,valid_seedbank,valid_organ):\n",
    "    species=item[sw['species']].value\n",
    "    spcode=item[sw['spcode']].value\n",
    "    visit_date = item[sw['date']].value \n",
    "    visit_id =  item[sw['visit_id']].value\n",
    "    if species is not None:\n",
    "        record={'visit_id': visit_id, 'sample_nr': item[sw['sample_nr']].value,\n",
    "                'species': species}\n",
    "        comms=list()\n",
    "        if 'workbook' in sw.keys():\n",
    "            comms.append(\"Imported from workbook %s using python script\" % sw['workbook'])\n",
    "        if 'worksheet' in sw.keys():\n",
    "            comms.append(\"Imported from spreadsheet %s\" % sw['worksheet'])\n",
    "    \n",
    "        if isinstance(visit_date,datetime):\n",
    "            record['visit_date'] = visit_date.date()\n",
    "        else:\n",
    "            if 'replicate_nr' in sw.keys():\n",
    "                replicate_nr = item[sw['replicate_nr']]\n",
    "                p=filter(lambda n: n['visit_id'] == visit_id and  n['replicate_nr'] == replicate_nr, lookup)\n",
    "                found=list(p)\n",
    "                if len(found)==1 and 'visit_date' in found[0].keys():\n",
    "                    visit_date=found[0]['visit_date']\n",
    "                    if isinstance(visit_date,datetime):\n",
    "                        record['visit_date'] = visit_date.date()\n",
    "                        comms.append(\"visit date not provided, matched by replicate nr %s\" % replicate_nr)\n",
    "                        \n",
    "        if (isinstance(spcode, str) and spcode.isnumeric()) or isinstance(spcode,int):\n",
    "            record['species_code']=spcode\n",
    "         \n",
    "        for k in ('species_notes', 'resprout_organ', 'seedbank', 'adults_unburnt','resprouts_live', 'resprouts_died', 'resprouts_kill', 'resprouts_reproductive',\n",
    "                  'recruits_live', 'recruits_reproductive', 'recruits_died','notes'):\n",
    "            if k in sw.keys():\n",
    "                vals=item[sw[k]].value\n",
    "                if vals is not None and vals not in ('na','NA'):\n",
    "                    if k == 'resprout_organ':\n",
    "                        if vals in valid_organ:\n",
    "                            record[k]=vals\n",
    "                        elif vals.capitalize() in valid_organ:\n",
    "                            record[k]=vals.capitalize()\n",
    "                        else:\n",
    "                            comms.append(\"resprout organ written as %s\" % vals)\n",
    "                    elif k == 'seedbank':\n",
    "                        if vals in valid_seedbank:\n",
    "                            record[k]=vals\n",
    "                        elif vals.capitalize() in valid_seedbank:\n",
    "                            record[k]=vals.capitalize()\n",
    "                        else:\n",
    "                            comms.append(\"seedbank written as %s\" % vals)\n",
    "                    elif k == 'notes':\n",
    "                        comms.append(vals)\n",
    "                    else:\n",
    "                        record[k]=vals        \n",
    "        \n",
    "        if len(comms)>0:\n",
    "            record[\"comments\"]=comms \n",
    "        \n",
    "        return(record)"
   ]
  },
  {
   "cell_type": "code",
   "execution_count": 221,
   "id": "af11771e-e921-4792-a736-d1dd37e0095d",
   "metadata": {
    "tags": []
   },
   "outputs": [
    {
     "name": "stdout",
     "output_type": "stream",
     "text": [
      "Connecting to the PostgreSQL database...\n",
      "Database connection closed.\n"
     ]
    }
   ],
   "source": [
    "\n",
    "# connect to the PostgreSQL server\n",
    "print('Connecting to the PostgreSQL database...')\n",
    "conn = psycopg2.connect(**params)\n",
    "cur = conn.cursor()\n",
    "cur.execute('SELECT DISTINCT visit_id,visit_date FROM form.field_visit ORDER by visit_id, visit_date')\n",
    "visits = cur.fetchall()\n",
    "sites = list()\n",
    "for visit in visits:\n",
    "    if visit[0] not in sites:\n",
    "        sites.append(visit[0])\n",
    "#valid_organ=('Epicormic', 'Apical', 'Lignotuber', 'Basal','Tuber','Tussock','Short rhizome', 'Long rhizome or root sucker', 'Stolon', 'None', 'Other')\n",
    "#valid_seedbank=('Soil-persistent', 'Transient', 'Canopy','Non-canopy','Other')\n",
    "\n",
    "cur.execute(\"SELECT enumlabel FROM pg_enum e LEFT JOIN pg_type t ON e.enumtypid=t.oid where typname='resprout_organ_vocabulary';\")\n",
    "valid_organ_list = cur.fetchall()\n",
    "organ_vocab = [item for t in valid_organ_list for item in t]\n",
    "\n",
    "cur.execute(\"SELECT enumlabel FROM pg_enum e LEFT JOIN pg_type t ON e.enumtypid=t.oid where typname='seedbank_vocabulary';\")\n",
    "valid_seedbank_list = cur.fetchall()\n",
    "seedbank_vocab = [item for t in valid_seedbank_list for item in t]\n",
    "\n",
    "\n",
    "cur.close()\n",
    "        \n",
    "if conn is not None:\n",
    "    conn.close()\n",
    "    print('Database connection closed.')"
   ]
  },
  {
   "cell_type": "code",
   "execution_count": 206,
   "id": "36559fb6-757f-4755-9424-657a9ba5f232",
   "metadata": {},
   "outputs": [
    {
     "data": {
      "text/plain": [
       "250"
      ]
     },
     "execution_count": 206,
     "metadata": {},
     "output_type": "execute_result"
    }
   ],
   "source": [
    "filename='SthnNSWRF_data_bionet2.xlsx'\n",
    "worksheet='Floristics'\n",
    "col_dict={'replicate_nr':2,\n",
    "    'species':9, 'spcode':7, 'date':3, 'visit_id':1, 'sample_nr':5,'resprout_organ':17, 'seedbank':18,\n",
    "          'adults_unburnt':19,'resprouts_live':20,'resprouts_died':21,'resprouts_kill':22,\n",
    "          'resprouts_reproductive':23,'recruits_live':24, 'recruits_died':25, 'recruits_reproductive':26,\n",
    "                 'notes':32}\n",
    "\n",
    "records=import_records_from_workbook(filepath=inputdir,\n",
    "                             workbook=filename,\n",
    "                             worksheet=worksheet,\n",
    "                             col_dictionary=col_dict,\n",
    "                             create_record_function=create_quadrat_sample_record,\n",
    "                             lookup=visits,\n",
    "                             valid_seedbank=seedbank_vocab,\n",
    "                             valid_organ=organ_vocab)\n",
    "len(records)"
   ]
  },
  {
   "cell_type": "code",
   "execution_count": 210,
   "id": "70e582f4-bd38-4e56-8238-ab7327298f1e",
   "metadata": {},
   "outputs": [
    {
     "data": {
      "text/plain": [
       "{'visit_id': 'UppClydeRF1',\n",
       " 'sample_nr': 1,\n",
       " 'species': 'Ceratopetalum apetalum',\n",
       " 'visit_date': datetime.date(2021, 11, 29),\n",
       " 'species_code': '2271',\n",
       " 'resprout_organ': 'Basal',\n",
       " 'seedbank': 'Transient',\n",
       " 'adults_unburnt': 0,\n",
       " 'resprouts_live': 8,\n",
       " 'resprouts_died': 0,\n",
       " 'resprouts_kill': 13,\n",
       " 'resprouts_reproductive': 0,\n",
       " 'recruits_live': 0,\n",
       " 'recruits_reproductive': 0,\n",
       " 'recruits_died': 0,\n",
       " 'comments': ['sapling 2-10cm DBH']}"
      ]
     },
     "execution_count": 210,
     "metadata": {},
     "output_type": "execute_result"
    }
   ],
   "source": [
    "records[2]"
   ]
  },
  {
   "cell_type": "markdown",
   "id": "215e0da4-dfad-4342-bac8-c24646610ab2",
   "metadata": {},
   "source": [
    "Another function to follow all steps for reading data and importing to database"
   ]
  },
  {
   "cell_type": "code",
   "execution_count": 423,
   "id": "d33a72a6-407a-4755-8c97-086610f1f3cd",
   "metadata": {
    "tags": []
   },
   "outputs": [],
   "source": [
    "def insert_species_info_from_file(params,filename, worksheet, col_dictionary, extra_col_dictionary):\n",
    "    wb = openpyxl.load_workbook(filename, data_only=True)\n",
    "    ws=wb[worksheet]\n",
    "    row_min = 3\n",
    "    row_count = ws.max_row\n",
    "\n",
    "    print('Connecting to the PostgreSQL database...')\n",
    "    conn = psycopg2.connect(**params)\n",
    "    cur = conn.cursor()\n",
    "    updated_rows=0\n",
    "\n",
    "    insert_site = 'insert into form.field_site (site_label) values (%s) ON CONFLICT DO NOTHING'\n",
    "    insert_visit = 'insert into form.field_visit (visit_id,visit_date,createdbysystemuserid,datecreated,updatedbysystemuserid,dateupdated) values (%s,%s,1,CURRENT_TIMESTAMP(0),1,CURRENT_TIMESTAMP(0)) ON CONFLICT DO NOTHING'\n",
    "    insert_fs = 'insert into form.field_samples (%s) values %s ON CONFLICT DO NOTHING'\n",
    "    insert_qs = 'insert into form.quadrat_samples (%s) values %s ON CONFLICT DO NOTHING'\n",
    "\n",
    "    for k in range(row_min,row_count):\n",
    "        item = ws[k]\n",
    "        record_qs = create_quadrat_sample_record(item,col_dictionary,extra_col_dictionary) \n",
    "        if record_qs is not None:\n",
    "            if (record_qs['visit_id'],record_qs['visit_date']) not in visits:\n",
    "                if record_qs['visit_id'] not in sites:\n",
    "                    #print(insert_site % record_qs['visit_id'])\n",
    "                    cur.execute(insert_site,(record_qs['visit_id'],))\n",
    "                    cur.execute(insert_visit,(record_qs['visit_id'],record_qs['visit_date']))\n",
    "                record_fs = create_field_sample_record(item,col_definitions)\n",
    "                cur.execute(insert_fs, (AsIs(','.join(record_fs.keys())), tuple(record_fs.values())))\n",
    "                updated_rows = updated_rows+cur.rowcount\n",
    "            cur.execute(insert_qs, (AsIs(','.join(record_qs.keys())), tuple(record_qs.values())))\n",
    "            updated_rows = updated_rows+cur.rowcount\n",
    "\n",
    "    conn.commit()        \n",
    "    cur.close()\n",
    "    print(\"%s lines scanned %s updated rows\" % (row_max-row_min,updated_rows))      \n",
    "    if conn is not None:\n",
    "        conn.close()\n",
    "        print('Database connection closed.')"
   ]
  },
  {
   "cell_type": "markdown",
   "id": "138b4c37-3000-44f2-919c-849be7efc274",
   "metadata": {},
   "source": [
    "Connect to database and update list of visits, valid organs and seedbank vocabulary:"
   ]
  },
  {
   "cell_type": "code",
   "execution_count": 383,
   "id": "cd15db74-7477-4e3b-9434-4b54ddbe38b7",
   "metadata": {
    "tags": []
   },
   "outputs": [
    {
     "name": "stdout",
     "output_type": "stream",
     "text": [
      "0 :: Updated 14/10/2019\n",
      "1 :: None\n",
      "2 :: None\n",
      "3 :: First Date\n",
      "4 :: Last Date\n",
      "5 :: Sub plot\n",
      "6 :: Type\n",
      "7 :: Species code\n",
      "8 :: Common Name\n",
      "9 :: Scientific Name\n",
      "10 :: Cover score\n",
      "11 :: Abundance score\n",
      "12 :: Stratum\n",
      "13 :: Growth form\n",
      "14 :: Height min\n",
      "15 :: Height max\n",
      "16 :: % Cover actual\n",
      "17 :: Recovery organ\n",
      "18 :: Seedbank\n",
      "19 :: None\n",
      "20 :: Abund actual\n",
      "21 :: None\n",
      "22 :: None\n",
      "23 :: Number reproductive\n",
      "24 :: None\n",
      "25 :: None\n",
      "26 :: Number reproductive\n",
      "27 :: Estimate Code\n",
      "28 :: Source Code\n",
      "29 :: Specimen Rego\n",
      "30 :: Specimen Location\n",
      "31 :: External Key\n"
     ]
    }
   ],
   "source": [
    "cols=wbindex['SthnNSWRF_data_bionet2.xlsx']['Floristics']\n",
    "for k in range(1,len(cols)):\n",
    "    print(\"%s :: %s\" % (k-1,cols[k-1]))"
   ]
  },
  {
   "cell_type": "code",
   "execution_count": 424,
   "id": "51f8ec35-65ae-4c4e-8811-01baabd830cd",
   "metadata": {
    "tags": []
   },
   "outputs": [
    {
     "name": "stdout",
     "output_type": "stream",
     "text": [
      "Connecting to the PostgreSQL database...\n"
     ]
    },
    {
     "ename": "ForeignKeyViolation",
     "evalue": "insert or update on table \"quadrat_samples\" violates foreign key constraint \"quadrat_samples_visit_id_visit_date_sample_nr_fkey1\"\nDETAIL:  Key (visit_id, visit_date, sample_nr)=(DeuaRF, 2021-11-30, 1) is not present in table \"field_samples\".\n",
     "output_type": "error",
     "traceback": [
      "\u001b[0;31m---------------------------------------------------------------------------\u001b[0m",
      "\u001b[0;31mForeignKeyViolation\u001b[0m                       Traceback (most recent call last)",
      "Input \u001b[0;32mIn [424]\u001b[0m, in \u001b[0;36m<module>\u001b[0;34m\u001b[0m\n\u001b[1;32m      3\u001b[0m col_dict\u001b[38;5;241m=\u001b[39m{\u001b[38;5;124m'\u001b[39m\u001b[38;5;124mspecies\u001b[39m\u001b[38;5;124m'\u001b[39m:\u001b[38;5;241m9\u001b[39m, \u001b[38;5;124m'\u001b[39m\u001b[38;5;124mspcode\u001b[39m\u001b[38;5;124m'\u001b[39m:\u001b[38;5;241m7\u001b[39m, \u001b[38;5;124m'\u001b[39m\u001b[38;5;124mdate\u001b[39m\u001b[38;5;124m'\u001b[39m:\u001b[38;5;241m3\u001b[39m, \u001b[38;5;124m'\u001b[39m\u001b[38;5;124mvisit_id\u001b[39m\u001b[38;5;124m'\u001b[39m:\u001b[38;5;241m1\u001b[39m, \u001b[38;5;124m'\u001b[39m\u001b[38;5;124msample_nr\u001b[39m\u001b[38;5;124m'\u001b[39m:\u001b[38;5;241m5\u001b[39m,\u001b[38;5;124m'\u001b[39m\u001b[38;5;124mresprout_organ\u001b[39m\u001b[38;5;124m'\u001b[39m:\u001b[38;5;241m17\u001b[39m, \u001b[38;5;124m'\u001b[39m\u001b[38;5;124mseedbank\u001b[39m\u001b[38;5;124m'\u001b[39m:\u001b[38;5;241m18\u001b[39m}\n\u001b[1;32m      4\u001b[0m extra_col_dict\u001b[38;5;241m=\u001b[39m{\u001b[38;5;124m'\u001b[39m\u001b[38;5;124madults_unburnt\u001b[39m\u001b[38;5;124m'\u001b[39m:\u001b[38;5;241m19\u001b[39m,\u001b[38;5;124m'\u001b[39m\u001b[38;5;124mresprouts_live\u001b[39m\u001b[38;5;124m'\u001b[39m:\u001b[38;5;241m20\u001b[39m,\u001b[38;5;124m'\u001b[39m\u001b[38;5;124mresprouts_died\u001b[39m\u001b[38;5;124m'\u001b[39m:\u001b[38;5;241m21\u001b[39m,\u001b[38;5;124m'\u001b[39m\u001b[38;5;124mresprouts_kill\u001b[39m\u001b[38;5;124m'\u001b[39m:\u001b[38;5;241m22\u001b[39m,\n\u001b[1;32m      5\u001b[0m                  \u001b[38;5;124m'\u001b[39m\u001b[38;5;124mresprouts_reproductive\u001b[39m\u001b[38;5;124m'\u001b[39m:\u001b[38;5;241m23\u001b[39m,\u001b[38;5;124m'\u001b[39m\u001b[38;5;124mrecruits_live\u001b[39m\u001b[38;5;124m'\u001b[39m:\u001b[38;5;241m24\u001b[39m, \u001b[38;5;124m'\u001b[39m\u001b[38;5;124mrecruits_died\u001b[39m\u001b[38;5;124m'\u001b[39m:\u001b[38;5;241m25\u001b[39m, \u001b[38;5;124m'\u001b[39m\u001b[38;5;124mrecruits_reproductive\u001b[39m\u001b[38;5;124m'\u001b[39m:\u001b[38;5;241m26\u001b[39m,\n\u001b[1;32m      6\u001b[0m                  \u001b[38;5;124m'\u001b[39m\u001b[38;5;124mspecies_notes\u001b[39m\u001b[38;5;124m'\u001b[39m:\u001b[38;5;241m27\u001b[39m}\n\u001b[0;32m----> 8\u001b[0m \u001b[43minsert_species_info_from_file\u001b[49m\u001b[43m(\u001b[49m\u001b[43mparams\u001b[49m\u001b[38;5;241;43m=\u001b[39;49m\u001b[43mparams\u001b[49m\u001b[43m,\u001b[49m\u001b[43m \u001b[49m\u001b[43mfilename\u001b[49m\u001b[38;5;241;43m=\u001b[39;49m\u001b[43m(\u001b[49m\u001b[43minputdir\u001b[49m\u001b[43m \u001b[49m\u001b[38;5;241;43m/\u001b[39;49m\u001b[43m \u001b[49m\u001b[38;5;124;43m\"\u001b[39;49m\u001b[38;5;124;43mfield-form\u001b[39;49m\u001b[38;5;124;43m\"\u001b[39;49m\u001b[43m \u001b[49m\u001b[38;5;241;43m/\u001b[39;49m\u001b[43m \u001b[49m\u001b[43mfilename\u001b[49m\u001b[43m)\u001b[49m\u001b[43m,\u001b[49m\u001b[43m \u001b[49m\u001b[43mworksheet\u001b[49m\u001b[38;5;241;43m=\u001b[39;49m\u001b[43mworksheet\u001b[49m\u001b[43m,\u001b[49m\n\u001b[1;32m      9\u001b[0m \u001b[43m                              \u001b[49m\u001b[43mcol_dictionary\u001b[49m\u001b[43m \u001b[49m\u001b[38;5;241;43m=\u001b[39;49m\u001b[43m \u001b[49m\u001b[43mcol_dict\u001b[49m\u001b[43m,\u001b[49m\u001b[43m \u001b[49m\u001b[43mextra_col_dictionary\u001b[49m\u001b[43m \u001b[49m\u001b[38;5;241;43m=\u001b[39;49m\u001b[43m \u001b[49m\u001b[43mextra_col_dict\u001b[49m\u001b[43m)\u001b[49m\n",
      "Input \u001b[0;32mIn [423]\u001b[0m, in \u001b[0;36minsert_species_info_from_file\u001b[0;34m(params, filename, worksheet, col_dictionary, extra_col_dictionary)\u001b[0m\n\u001b[1;32m     27\u001b[0m             cur\u001b[38;5;241m.\u001b[39mexecute(insert_fs, (AsIs(\u001b[38;5;124m'\u001b[39m\u001b[38;5;124m,\u001b[39m\u001b[38;5;124m'\u001b[39m\u001b[38;5;241m.\u001b[39mjoin(record_fs\u001b[38;5;241m.\u001b[39mkeys())), \u001b[38;5;28mtuple\u001b[39m(record_fs\u001b[38;5;241m.\u001b[39mvalues())))\n\u001b[1;32m     28\u001b[0m             updated_rows \u001b[38;5;241m=\u001b[39m updated_rows\u001b[38;5;241m+\u001b[39mcur\u001b[38;5;241m.\u001b[39mrowcount\n\u001b[0;32m---> 29\u001b[0m         \u001b[43mcur\u001b[49m\u001b[38;5;241;43m.\u001b[39;49m\u001b[43mexecute\u001b[49m\u001b[43m(\u001b[49m\u001b[43minsert_qs\u001b[49m\u001b[43m,\u001b[49m\u001b[43m \u001b[49m\u001b[43m(\u001b[49m\u001b[43mAsIs\u001b[49m\u001b[43m(\u001b[49m\u001b[38;5;124;43m'\u001b[39;49m\u001b[38;5;124;43m,\u001b[39;49m\u001b[38;5;124;43m'\u001b[39;49m\u001b[38;5;241;43m.\u001b[39;49m\u001b[43mjoin\u001b[49m\u001b[43m(\u001b[49m\u001b[43mrecord_qs\u001b[49m\u001b[38;5;241;43m.\u001b[39;49m\u001b[43mkeys\u001b[49m\u001b[43m(\u001b[49m\u001b[43m)\u001b[49m\u001b[43m)\u001b[49m\u001b[43m)\u001b[49m\u001b[43m,\u001b[49m\u001b[43m \u001b[49m\u001b[38;5;28;43mtuple\u001b[39;49m\u001b[43m(\u001b[49m\u001b[43mrecord_qs\u001b[49m\u001b[38;5;241;43m.\u001b[39;49m\u001b[43mvalues\u001b[49m\u001b[43m(\u001b[49m\u001b[43m)\u001b[49m\u001b[43m)\u001b[49m\u001b[43m)\u001b[49m\u001b[43m)\u001b[49m\n\u001b[1;32m     30\u001b[0m         updated_rows \u001b[38;5;241m=\u001b[39m updated_rows\u001b[38;5;241m+\u001b[39mcur\u001b[38;5;241m.\u001b[39mrowcount\n\u001b[1;32m     32\u001b[0m conn\u001b[38;5;241m.\u001b[39mcommit()        \n",
      "\u001b[0;31mForeignKeyViolation\u001b[0m: insert or update on table \"quadrat_samples\" violates foreign key constraint \"quadrat_samples_visit_id_visit_date_sample_nr_fkey1\"\nDETAIL:  Key (visit_id, visit_date, sample_nr)=(DeuaRF, 2021-11-30, 1) is not present in table \"field_samples\".\n"
     ]
    }
   ],
   "source": [
    "filename='SthnNSWRF_data_bionet2.xlsx'\n",
    "worksheet='Floristics'\n",
    "col_dict={'species':9, 'spcode':7, 'date':3, 'visit_id':1, 'sample_nr':5,'resprout_organ':17, 'seedbank':18}\n",
    "extra_col_dict={'adults_unburnt':19,'resprouts_live':20,'resprouts_died':21,'resprouts_kill':22,\n",
    "                 'resprouts_reproductive':23,'recruits_live':24, 'recruits_died':25, 'recruits_reproductive':26,\n",
    "                 'species_notes':27}\n",
    "\n",
    "insert_species_info_from_file(params=params, filename=(inputdir / \"field-form\" / filename), worksheet=worksheet,\n",
    "                              col_dictionary = col_dict, extra_col_dictionary = extra_col_dict)"
   ]
  },
  {
   "cell_type": "code",
   "execution_count": 345,
   "id": "d0ba9f32-4a88-4be5-86fd-af438fffb434",
   "metadata": {
    "tags": []
   },
   "outputs": [
    {
     "name": "stdout",
     "output_type": "stream",
     "text": [
      "{'visit_id': 'BS2', 'sample_nr': 1, 'visit_date': datetime.date(2020, 11, 17)}\n"
     ]
    },
    {
     "data": {
      "text/plain": [
       "{'visit_id': 'BS2',\n",
       " 'sample_nr': 1,\n",
       " 'visit_date': datetime.date(2020, 11, 17),\n",
       " 'species': 'Empodisma minus',\n",
       " 'comments': ['Imported from workbook Fire response quadrat survey Newnes Nov2020_DK_revised IDs+AllNovData.xlsm using python script',\n",
       "  'Imported from spreadsheet Floristics'],\n",
       " 'species_code': 5532,\n",
       " 'resprouts_live': 16,\n",
       " 'resprouts_died': 0,\n",
       " 'resprouts_reproductive': 0}"
      ]
     },
     "execution_count": 345,
     "metadata": {},
     "output_type": "execute_result"
    }
   ],
   "source": [
    "col_definitions={'species':5, 'spcode':6, 'date':4, 'visit_id':0, 'sample_nr':1,'resprout_organ':7, 'seedbank':8}\n",
    "\n",
    "extra_col_definitions={'adults_unburnt':9,'resprouts_live':10,'resprouts_died':11,'resprouts_kill':12,\n",
    "                 'resprouts_reproductive':13,'recruits_live':14, 'recruits_died':15, 'recruits_reproductive':16,\n",
    "                 'species_notes':17}\n",
    "\n",
    "\n",
    "workbook_name = \"Fire response quadrat survey Newnes Nov2020_DK_revised IDs+AllNovData.xlsm\"\n",
    "spreadsheet_name = 'Floristics'\n",
    "inputfile=inputdir / \"field-form\" / workbook_name\n",
    "\n",
    "# using data_only=True to get the calculated cell values\n",
    "# wb = openpyxl.load_workbook(inputfile,data_only=True)\n",
    "ws = wb[spreadsheet_name]\n",
    "\n",
    "item=ws[2364]\n",
    "print(create_field_sample_record(item,col_definitions))\n",
    "create_quadrat_sample_record(item,col_definitions,extra_col_definitions)"
   ]
  },
  {
   "cell_type": "code",
   "execution_count": 340,
   "id": "b325bf4c-90f1-4d33-878f-697dfc1c8389",
   "metadata": {
    "collapsed": true,
    "jupyter": {
     "outputs_hidden": true,
     "source_hidden": true
    },
    "tags": []
   },
   "outputs": [
    {
     "data": {
      "text/plain": [
       "['Soil-persistent', 'Transient', 'Canopy', 'Non-canopy', 'Other']"
      ]
     },
     "execution_count": 340,
     "metadata": {},
     "output_type": "execute_result"
    }
   ],
   "source": [
    "valid_seedbank"
   ]
  },
  {
   "cell_type": "code",
   "execution_count": 119,
   "id": "c0e8d2a3-9f1d-4002-8f40-e70139faa4fd",
   "metadata": {},
   "outputs": [
    {
     "name": "stdout",
     "output_type": "stream",
     "text": [
      "Connecting to the PostgreSQL database...\n",
      "5234 lines scanned 3149 updated rows\n",
      "Database connection closed.\n"
     ]
    }
   ],
   "source": [
    "#row_min = 3001\n",
    "\n",
    "# connect to the PostgreSQL server\n",
    "print('Connecting to the PostgreSQL database...')\n",
    "conn = psycopg2.connect(**params)\n",
    "cur = conn.cursor()\n",
    "\n",
    "insert_fs = 'insert into form.field_samples (%s) values %s ON CONFLICT DO NOTHING'\n",
    "insert_qs = 'insert into form.quadrat_samples (%s) values %s ON CONFLICT DO NOTHING'\n",
    "updated_rows=0\n",
    "\n",
    "for i in range(row_min, row_max):\n",
    "    item = ws[i]\n",
    "    record = create_quadrat_sample_record(item,col_definitions,extra_col_definitions)\n",
    "    if record is not None:\n",
    "        if (record['visit_id'],record['visit_date']) not in visits:\n",
    "            record_fs = create_field_sample_record(item,col_definitions)\n",
    "            cur.execute(insert_fs, (AsIs(','.join(record_fs.keys())), tuple(record_fs.values())))\n",
    "            updated_rows = updated_rows+cur.rowcount\n",
    "        cur.execute(insert_qs, (AsIs(','.join(record.keys())), tuple(record.values())))\n",
    "        updated_rows = updated_rows+cur.rowcount\n",
    "\n",
    "conn.commit()        \n",
    "cur.close()\n",
    "print(\"%s lines scanned %s updated rows\" % (row_max-row_min,updated_rows))      \n",
    "if conn is not None:\n",
    "    conn.close()\n",
    "    print('Database connection closed.')"
   ]
  },
  {
   "cell_type": "code",
   "execution_count": null,
   "id": "2ea68f0d-5a28-4aef-807e-7eb85c48887f",
   "metadata": {},
   "outputs": [],
   "source": [
    "count of fully scorched & resprouting individuals\n",
    "count of fully scorched & fire-killed individuals\n",
    "count of partially scorched & resprouting individuals\n",
    "count of partially scorched & fire-killed individuals\n"
   ]
  },
  {
   "cell_type": "code",
   "execution_count": 389,
   "id": "27ff838f-3b22-4c08-a36b-9dae5c81bc86",
   "metadata": {},
   "outputs": [],
   "source": [
    "item = ws[k]"
   ]
  },
  {
   "cell_type": "code",
   "execution_count": 409,
   "id": "a1e7fb7f-d99a-48e4-a0b4-aabbfe3fa358",
   "metadata": {},
   "outputs": [
    {
     "data": {
      "text/plain": [
       "(<Cell 'Floristics'.A32>,\n",
       " <Cell 'Floristics'.B32>,\n",
       " <Cell 'Floristics'.C32>,\n",
       " <Cell 'Floristics'.D32>,\n",
       " <Cell 'Floristics'.E32>,\n",
       " <Cell 'Floristics'.F32>,\n",
       " <Cell 'Floristics'.G32>,\n",
       " <Cell 'Floristics'.H32>,\n",
       " <Cell 'Floristics'.I32>,\n",
       " <Cell 'Floristics'.J32>,\n",
       " <Cell 'Floristics'.K32>,\n",
       " <Cell 'Floristics'.L32>,\n",
       " <Cell 'Floristics'.M32>,\n",
       " <Cell 'Floristics'.N32>,\n",
       " <Cell 'Floristics'.O32>,\n",
       " <Cell 'Floristics'.P32>,\n",
       " <Cell 'Floristics'.Q32>,\n",
       " <Cell 'Floristics'.R32>,\n",
       " <Cell 'Floristics'.S32>,\n",
       " <Cell 'Floristics'.T32>,\n",
       " <Cell 'Floristics'.U32>,\n",
       " <Cell 'Floristics'.V32>,\n",
       " <Cell 'Floristics'.W32>,\n",
       " <Cell 'Floristics'.X32>,\n",
       " <Cell 'Floristics'.Y32>,\n",
       " <Cell 'Floristics'.Z32>,\n",
       " <Cell 'Floristics'.AA32>,\n",
       " <Cell 'Floristics'.AB32>,\n",
       " <Cell 'Floristics'.AC32>,\n",
       " <Cell 'Floristics'.AD32>,\n",
       " <Cell 'Floristics'.AE32>,\n",
       " <Cell 'Floristics'.AF32>)"
      ]
     },
     "execution_count": 409,
     "metadata": {},
     "output_type": "execute_result"
    }
   ],
   "source": [
    "item"
   ]
  },
  {
   "cell_type": "code",
   "execution_count": 415,
   "id": "5fc804aa-2860-461c-93d0-061089b48501",
   "metadata": {},
   "outputs": [
    {
     "data": {
      "text/plain": [
       "'SthnNSWRF_data_bionet2.xlsx'"
      ]
     },
     "execution_count": 415,
     "metadata": {},
     "output_type": "execute_result"
    }
   ],
   "source": [
    "(inputdir / \"field-form\" / filename).name"
   ]
  },
  {
   "cell_type": "code",
   "execution_count": null,
   "id": "9556f547-f36c-4e15-8453-258fa379cf02",
   "metadata": {},
   "outputs": [],
   "source": []
  }
 ],
 "metadata": {
  "kernelspec": {
   "display_name": "Python 3 (ipykernel)",
   "language": "python",
   "name": "python3"
  },
  "language_info": {
   "codemirror_mode": {
    "name": "ipython",
    "version": 3
   },
   "file_extension": ".py",
   "mimetype": "text/x-python",
   "name": "python",
   "nbconvert_exporter": "python",
   "pygments_lexer": "ipython3",
   "version": "3.10.2"
  }
 },
 "nbformat": 4,
 "nbformat_minor": 5
}
