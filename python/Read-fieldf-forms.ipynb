{
 "cells": [
  {
   "cell_type": "markdown",
   "id": "815a2392-ade6-4043-a754-c5fc8b43b017",
   "metadata": {},
   "source": [
    "# Read spreadsheets from David and update database\n",
    "These spreadsheets were imported on February 2022, I need to update the database.\n",
    "## load libraries and DB connection parameters"
   ]
  },
  {
   "cell_type": "code",
   "execution_count": 2,
   "id": "47eadb90-b36c-4ae6-a783-7b8e9c4f6218",
   "metadata": {},
   "outputs": [],
   "source": [
    "import openpyxl\n",
    "from pathlib import Path\n",
    "import os"
   ]
  },
  {
   "cell_type": "code",
   "execution_count": 3,
   "id": "685f98ff-9f63-413d-b6be-d77398ca4c5c",
   "metadata": {},
   "outputs": [],
   "source": [
    "repodir = Path(\"../\") \n",
    "inputdir = repodir / \"data/\""
   ]
  },
  {
   "cell_type": "markdown",
   "id": "f56bab42-3c7e-4100-ba00-1d75897daa11",
   "metadata": {},
   "source": [
    "Database credentials are stored in a database.ini file"
   ]
  },
  {
   "cell_type": "code",
   "execution_count": 4,
   "id": "1f6dd8a2-ab5f-4677-b9d3-abdc59cd16c8",
   "metadata": {},
   "outputs": [],
   "source": [
    "from configparser import ConfigParser\n",
    "import psycopg2\n",
    "\n",
    "filename = repodir / 'secrets' / 'database.ini'\n",
    "section = 'aws-lght-sl'\n",
    "\n",
    "# create a parser\n",
    "parser = ConfigParser()\n",
    "# read config file\n",
    "parser.read(filename)\n",
    "\n",
    "# get section, default to postgresql\n",
    "db = {}\n",
    "if parser.has_section(section):\n",
    "    params = parser.items(section)\n",
    "    for param in params:\n",
    "        db[param[0]] = param[1]\n",
    "else:\n",
    "    raise Exception('Section {0} not found in the {1} file'.format(section, filename))\n",
    "\n",
    "params = db\n",
    "\n",
    "    "
   ]
  },
  {
   "cell_type": "markdown",
   "id": "bd6ffc73-f2c2-4ce1-b137-ff58a54d44a1",
   "metadata": {},
   "source": [
    "## Read spreadsheets\n",
    "Each spreadsheet has a slightly different structure, so these scripts have to be adapted for each case.\n",
    "### Newnes Plateau Shrub Swamp"
   ]
  },
  {
   "cell_type": "code",
   "execution_count": 5,
   "id": "b0efd041-2cf8-4e73-aa31-c29962629fef",
   "metadata": {},
   "outputs": [],
   "source": [
    "inputfile=inputdir / \"field-form\" / \"Fire response quadrat survey Newnes Nov2020_DK_revised IDs+AllNovData.xlsm\"\n",
    "# using data_only=True to get the calculated cell values\n",
    "wb = openpyxl.load_workbook(inputfile,data_only=True)"
   ]
  },
  {
   "cell_type": "code",
   "execution_count": 6,
   "id": "98697948-b08d-4a0a-a23c-ce8e2320fb6c",
   "metadata": {},
   "outputs": [],
   "source": [
    "ws = wb['BS1']"
   ]
  },
  {
   "cell_type": "code",
   "execution_count": 7,
   "id": "ae769ebf-06e9-447c-9cd9-f398417b29ee",
   "metadata": {},
   "outputs": [
    {
     "data": {
      "text/plain": [
       "'Site information'"
      ]
     },
     "execution_count": 7,
     "metadata": {},
     "output_type": "execute_result"
    }
   ],
   "source": [
    "ws['A1'].value"
   ]
  },
  {
   "cell_type": "code",
   "execution_count": 8,
   "id": "caf5b296-ad23-4d80-aeac-94bc16388307",
   "metadata": {},
   "outputs": [
    {
     "data": {
      "text/plain": [
       "'Quadrat #'"
      ]
     },
     "execution_count": 8,
     "metadata": {},
     "output_type": "execute_result"
    }
   ],
   "source": [
    "ws.cell(row=29, column=1).value"
   ]
  },
  {
   "cell_type": "code",
   "execution_count": null,
   "id": "779e0610-47b3-4d68-9d86-6f6a1ce0b3bc",
   "metadata": {
    "tags": []
   },
   "outputs": [],
   "source": []
  },
  {
   "cell_type": "code",
   "execution_count": 61,
   "id": "8d01cfd6-17e3-456f-9267-a950cc6e35c6",
   "metadata": {},
   "outputs": [],
   "source": [
    "ws = wb['Site']"
   ]
  },
  {
   "cell_type": "code",
   "execution_count": 62,
   "id": "e200d2cf-fe95-4601-b8cc-85ca97ff75ce",
   "metadata": {},
   "outputs": [
    {
     "data": {
      "text/plain": [
       "<Worksheet \"Site\">"
      ]
     },
     "execution_count": 62,
     "metadata": {},
     "output_type": "execute_result"
    }
   ],
   "source": [
    "ws"
   ]
  },
  {
   "cell_type": "code",
   "execution_count": 67,
   "id": "e8451ebe-ef61-43d5-93c0-695a18261b77",
   "metadata": {
    "tags": []
   },
   "outputs": [
    {
     "name": "stdout",
     "output_type": "stream",
     "text": [
      "Connecting to the PostgreSQL database...\n",
      "Database connection closed.\n"
     ]
    }
   ],
   "source": [
    "row_count = ws.max_row\n",
    "j=1\n",
    "unique_list = list()\n",
    "unique_items = 0\n",
    "\n",
    "SSID = 28356 # assuming all coords in UTM zone 56\n",
    "qrystr = \"INSERT INTO form.field_site(site_label,geom,elevation) values('%s',ST_GeomFromText('POINT(%s %s)', %s),%s) ON CONFLICT DO NOTHING\"\n",
    "\n",
    "# connect to the PostgreSQL server\n",
    "print('Connecting to the PostgreSQL database...')\n",
    "conn = psycopg2.connect(**params)\n",
    "\n",
    "ws.cell(row=1, column=j).value\n",
    "for i in range(2, row_count + 1):\n",
    "    item = ws.cell(row=i, column=j).value\n",
    "    if item not in unique_list and item is not None:\n",
    "        unique_list.append(item)\n",
    "        unique_items += 1\n",
    "        x=ws.cell(row=i,column=2).value\n",
    "        y=ws.cell(row=i,column=3).value\n",
    "        z=ws.cell(row=i,column=5).value\n",
    "        cur = conn.cursor()\n",
    "        cur.execute(qrystr % (item,x,y,SSID,z))\n",
    "        updated_rows = cur.rowcount\n",
    "        if updated_rows > 0:\n",
    "            print(\"%s : %s rows updated\" % (item,updated_rows))\n",
    "        conn.commit()\n",
    "        cur.close()\n",
    "        \n",
    "if conn is not None:\n",
    "    conn.close()\n",
    "    print('Database connection closed.')"
   ]
  },
  {
   "cell_type": "code",
   "execution_count": 64,
   "id": "7d59168a-584a-4c3f-9dc9-672db4ea51fc",
   "metadata": {
    "tags": []
   },
   "outputs": [
    {
     "data": {
      "text/plain": [
       "'6302797.05803'"
      ]
     },
     "execution_count": 64,
     "metadata": {},
     "output_type": "execute_result"
    }
   ],
   "source": [
    "ws.cell(row=5,column=3).value"
   ]
  },
  {
   "cell_type": "code",
   "execution_count": 65,
   "id": "cd15db74-7477-4e3b-9434-4b54ddbe38b7",
   "metadata": {
    "tags": []
   },
   "outputs": [
    {
     "data": {
      "text/plain": [
       "20"
      ]
     },
     "execution_count": 65,
     "metadata": {},
     "output_type": "execute_result"
    }
   ],
   "source": [
    "unique_items"
   ]
  },
  {
   "cell_type": "code",
   "execution_count": 16,
   "id": "ee9564ab-dedf-4f4a-8d55-c10c6956f688",
   "metadata": {},
   "outputs": [
    {
     "data": {
      "text/plain": [
       "('SCCJB13',\n",
       " 'Yatteyattah NR, along power easement from northern boundary, and about 40m west of the power stauntion inside the forest edge on the upper slope of the gully',\n",
       " None)"
      ]
     },
     "execution_count": 16,
     "metadata": {},
     "output_type": "execute_result"
    }
   ],
   "source": [
    "conn = psycopg2.connect(**params)\n",
    "\n",
    "cur = conn.cursor()\n",
    "cur.execute(\"SELECT site_label,location_description,elevation FROM form.field_site WHERE site_label='SCCJB13';\")\n",
    "site_info = cur.fetchone()\n",
    "\n",
    "cur.close()\n",
    "conn.close()\n",
    "\n",
    "site_info\n"
   ]
  },
  {
   "cell_type": "code",
   "execution_count": 17,
   "id": "2ad9c293-fb10-41a3-a356-d51c160282af",
   "metadata": {},
   "outputs": [
    {
     "data": {
      "text/plain": [
       "'SCCJB13'"
      ]
     },
     "execution_count": 17,
     "metadata": {},
     "output_type": "execute_result"
    }
   ],
   "source": [
    "site_info[0]\n"
   ]
  },
  {
   "cell_type": "code",
   "execution_count": 22,
   "id": "da66430e-4486-45b8-b40b-c746a883ff9b",
   "metadata": {},
   "outputs": [
    {
     "ename": "AttributeError",
     "evalue": "'str' object has no attribute 'length'",
     "output_type": "error",
     "traceback": [
      "\u001b[0;31m---------------------------------------------------------------------------\u001b[0m",
      "\u001b[0;31mAttributeError\u001b[0m                            Traceback (most recent call last)",
      "\u001b[0;32m/var/folders/14/vyrp_30975d7y17lqxjblf2c0000gn/T/ipykernel_25221/4065844758.py\u001b[0m in \u001b[0;36m<module>\u001b[0;34m\u001b[0m\n\u001b[0;32m----> 1\u001b[0;31m \u001b[0msite_info\u001b[0m\u001b[0;34m[\u001b[0m\u001b[0;36m0\u001b[0m\u001b[0;34m]\u001b[0m\u001b[0;34m.\u001b[0m\u001b[0mlength\u001b[0m\u001b[0;34m\u001b[0m\u001b[0;34m\u001b[0m\u001b[0m\n\u001b[0m",
      "\u001b[0;31mAttributeError\u001b[0m: 'str' object has no attribute 'length'"
     ]
    }
   ],
   "source": [
    "site_info[0].length"
   ]
  },
  {
   "cell_type": "code",
   "execution_count": null,
   "id": "2ea68f0d-5a28-4aef-807e-7eb85c48887f",
   "metadata": {},
   "outputs": [],
   "source": []
  }
 ],
 "metadata": {
  "kernelspec": {
   "display_name": "Python 3 (ipykernel)",
   "language": "python",
   "name": "python3"
  },
  "language_info": {
   "codemirror_mode": {
    "name": "ipython",
    "version": 3
   },
   "file_extension": ".py",
   "mimetype": "text/x-python",
   "name": "python",
   "nbconvert_exporter": "python",
   "pygments_lexer": "ipython3",
   "version": "3.8.2"
  }
 },
 "nbformat": 4,
 "nbformat_minor": 5
}
