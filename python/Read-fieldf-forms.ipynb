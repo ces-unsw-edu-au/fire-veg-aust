{
 "cells": [
  {
   "cell_type": "markdown",
   "id": "815a2392-ade6-4043-a754-c5fc8b43b017",
   "metadata": {},
   "source": [
    "# Read spreadsheets from David and update database\n",
    "These spreadsheets were imported on February 2022, I need to update the database.\n",
    "## load libraries and DB connection parameters"
   ]
  },
  {
   "cell_type": "code",
   "execution_count": 3,
   "id": "47eadb90-b36c-4ae6-a783-7b8e9c4f6218",
   "metadata": {},
   "outputs": [],
   "source": [
    "import openpyxl\n",
    "from pathlib import Path\n",
    "import os"
   ]
  },
  {
   "cell_type": "code",
   "execution_count": 4,
   "id": "685f98ff-9f63-413d-b6be-d77398ca4c5c",
   "metadata": {},
   "outputs": [],
   "source": [
    "repodir = Path(\"../\") \n",
    "inputdir = repodir / \"data/\""
   ]
  },
  {
   "cell_type": "markdown",
   "id": "f56bab42-3c7e-4100-ba00-1d75897daa11",
   "metadata": {},
   "source": [
    "Database credentials are stored in a database.ini file"
   ]
  },
  {
   "cell_type": "code",
   "execution_count": 5,
   "id": "1f6dd8a2-ab5f-4677-b9d3-abdc59cd16c8",
   "metadata": {},
   "outputs": [],
   "source": [
    "from configparser import ConfigParser\n",
    "import psycopg2\n",
    "\n",
    "filename = repodir / 'secrets' / 'database.ini'\n",
    "section = 'aws-lght-sl'\n",
    "\n",
    "# create a parser\n",
    "parser = ConfigParser()\n",
    "# read config file\n",
    "parser.read(filename)\n",
    "\n",
    "# get section, default to postgresql\n",
    "db = {}\n",
    "if parser.has_section(section):\n",
    "    params = parser.items(section)\n",
    "    for param in params:\n",
    "        db[param[0]] = param[1]\n",
    "else:\n",
    "    raise Exception('Section {0} not found in the {1} file'.format(section, filename))\n",
    "\n",
    "params = db\n",
    "\n",
    "    "
   ]
  },
  {
   "cell_type": "markdown",
   "id": "bd6ffc73-f2c2-4ce1-b137-ff58a54d44a1",
   "metadata": {},
   "source": [
    "## Read spreadsheets\n",
    "Each spreadsheet has a slightly different structure, so these scripts have to be adapted for each case.\n",
    "### Newnes Plateau Shrub Swamp"
   ]
  },
  {
   "cell_type": "code",
   "execution_count": 6,
   "id": "b0efd041-2cf8-4e73-aa31-c29962629fef",
   "metadata": {},
   "outputs": [],
   "source": [
    "inputfile=inputdir / \"field-form\" / \"Fire response quadrat survey Newnes Nov2020_DK_revised IDs+AllNovData.xlsm\"\n",
    "# using data_only=True to get the calculated cell values\n",
    "wb = openpyxl.load_workbook(inputfile,data_only=True)"
   ]
  },
  {
   "cell_type": "code",
   "execution_count": 7,
   "id": "98697948-b08d-4a0a-a23c-ce8e2320fb6c",
   "metadata": {},
   "outputs": [],
   "source": [
    "ws = wb['BS1']"
   ]
  },
  {
   "cell_type": "code",
   "execution_count": 8,
   "id": "ae769ebf-06e9-447c-9cd9-f398417b29ee",
   "metadata": {},
   "outputs": [
    {
     "data": {
      "text/plain": [
       "'Site information'"
      ]
     },
     "execution_count": 8,
     "metadata": {},
     "output_type": "execute_result"
    }
   ],
   "source": [
    "ws['A1'].value"
   ]
  },
  {
   "cell_type": "code",
   "execution_count": 9,
   "id": "caf5b296-ad23-4d80-aeac-94bc16388307",
   "metadata": {},
   "outputs": [
    {
     "data": {
      "text/plain": [
       "'Quadrat #'"
      ]
     },
     "execution_count": 9,
     "metadata": {},
     "output_type": "execute_result"
    }
   ],
   "source": [
    "ws.cell(row=29, column=1).value"
   ]
  },
  {
   "cell_type": "markdown",
   "id": "1f643532-263c-4178-9295-17d640d60e3e",
   "metadata": {
    "tags": []
   },
   "source": [
    "## List of sites visited"
   ]
  },
  {
   "cell_type": "code",
   "execution_count": 30,
   "id": "8d01cfd6-17e3-456f-9267-a950cc6e35c6",
   "metadata": {},
   "outputs": [],
   "source": [
    "ws = wb['Site']"
   ]
  },
  {
   "cell_type": "code",
   "execution_count": 31,
   "id": "e200d2cf-fe95-4601-b8cc-85ca97ff75ce",
   "metadata": {},
   "outputs": [
    {
     "data": {
      "text/plain": [
       "<Worksheet \"Site\">"
      ]
     },
     "execution_count": 31,
     "metadata": {},
     "output_type": "execute_result"
    }
   ],
   "source": [
    "ws"
   ]
  },
  {
   "cell_type": "code",
   "execution_count": 70,
   "id": "e8451ebe-ef61-43d5-93c0-695a18261b77",
   "metadata": {
    "tags": []
   },
   "outputs": [
    {
     "name": "stdout",
     "output_type": "stream",
     "text": [
      "Connecting to the PostgreSQL database...\n",
      "BS1 : 1 rows updated\n",
      "BS2 : 1 rows updated\n",
      "MW1 : 1 rows updated\n",
      "MW2 : 1 rows updated\n",
      "HV1 : 1 rows updated\n",
      "HV2 : 1 rows updated\n",
      "SS1 : 1 rows updated\n",
      "SS2 : 1 rows updated\n",
      "GGE1 : 1 rows updated\n",
      "GGE2 : 1 rows updated\n",
      "GGW1 : 1 rows updated\n",
      "GGW2 : 1 rows updated\n",
      "CW1 : 1 rows updated\n",
      "CW2 : 1 rows updated\n",
      "CC1 : 1 rows updated\n",
      "CC2 : 1 rows updated\n",
      "EW1 : 1 rows updated\n",
      "EW2 : 1 rows updated\n",
      "BUD1 : 1 rows updated\n",
      "BUD2 : 1 rows updated\n",
      "BS1 : 1 rows updated\n",
      "BS2 : 1 rows updated\n",
      "MW1 : 1 rows updated\n",
      "MW2 : 1 rows updated\n",
      "HV1 : 1 rows updated\n",
      "HV2 : 1 rows updated\n",
      "SS1 : 1 rows updated\n",
      "SS2 : 1 rows updated\n",
      "GGE1 : 1 rows updated\n",
      "GGE2 : 1 rows updated\n",
      "GGW1 : 1 rows updated\n",
      "GGW2 : 1 rows updated\n",
      "CW1 : 1 rows updated\n",
      "CW2 : 1 rows updated\n",
      "CC1 : 1 rows updated\n",
      "CC2 : 1 rows updated\n",
      "EW1 : 1 rows updated\n",
      "EW2 : 1 rows updated\n",
      "BUD1 : 1 rows updated\n",
      "BUD2 : 1 rows updated\n",
      "MW1 : 1 rows updated\n",
      "MW2 : 1 rows updated\n",
      "HV1 : 1 rows updated\n",
      "HV2 : 1 rows updated\n",
      "SS1 : 1 rows updated\n",
      "SS2 : 1 rows updated\n",
      "GGE1 : 1 rows updated\n",
      "GGE2 : 1 rows updated\n",
      "GGW1 : 1 rows updated\n",
      "GGW2 : 1 rows updated\n",
      "CC1 : 1 rows updated\n",
      "CC2 : 1 rows updated\n",
      "EW1 : 1 rows updated\n",
      "EW2 : 1 rows updated\n",
      "Database connection closed.\n"
     ]
    }
   ],
   "source": [
    "row_count = ws.max_row\n",
    "j=1\n",
    "unique_list = list()\n",
    "unique_items = 0\n",
    "\n",
    "SSID = 28356 # assuming all coords in UTM zone 56\n",
    "qrystr = \"INSERT INTO form.field_site(site_label,geom,elevation) values('%s',ST_GeomFromText('POINT(%s %s)', %s),%s) ON CONFLICT DO NOTHING\"\n",
    "qryvst = \"INSERT INTO form.field_visit(survey_name,visit_id,visit_date,createdbysystemuserid,datecreated,updatedbysystemuserid,dateupdated) values(%s,%s,%s,1,CURRENT_TIMESTAMP(0),1,CURRENT_TIMESTAMP(0)) ON CONFLICT (visit_id,visit_date) DO UPDATE SET survey_name=EXCLUDED.survey_name \"\n",
    "\n",
    "survey=\"NEWNES\"\n",
    "# connect to the PostgreSQL server\n",
    "print('Connecting to the PostgreSQL database...')\n",
    "conn = psycopg2.connect(**params)\n",
    "cur = conn.cursor()\n",
    "\n",
    "ws.cell(row=1, column=j).value\n",
    "for i in range(2, row_count + 1):\n",
    "    item = ws.cell(row=i, column=j).value\n",
    "    visitdate = ws.cell(row=i, column=9).value\n",
    "    if item not in unique_list and item is not None:\n",
    "        unique_list.append(item)\n",
    "        unique_items += 1\n",
    "        x=ws.cell(row=i,column=2).value\n",
    "        y=ws.cell(row=i,column=3).value\n",
    "        z=ws.cell(row=i,column=5).value\n",
    "        cur.execute(qrystr % (item,x,y,SSID,z))\n",
    "        updated_rows = cur.rowcount\n",
    "        if updated_rows > 0:\n",
    "            print(\"%s : %s rows updated\" % (item,updated_rows))\n",
    "    if isinstance(visitdate, datetime):\n",
    "        cur.execute(qryvst, (survey,item,visitdate.date()))\n",
    "        updated_rows = cur.rowcount\n",
    "        if updated_rows > 0:\n",
    "            print(\"%s : %s rows updated\" % (item,updated_rows))\n",
    "        \n",
    "conn.commit()        \n",
    "cur.close()\n",
    "        \n",
    "if conn is not None:\n",
    "    conn.close()\n",
    "    print('Database connection closed.')"
   ]
  },
  {
   "cell_type": "markdown",
   "id": "63cb01a2-2558-4897-9753-edf06c284e2e",
   "metadata": {
    "tags": []
   },
   "source": [
    "## quadrat samples"
   ]
  },
  {
   "cell_type": "code",
   "execution_count": 10,
   "id": "cd15db74-7477-4e3b-9434-4b54ddbe38b7",
   "metadata": {
    "tags": []
   },
   "outputs": [],
   "source": [
    "ws = wb['Floristics']"
   ]
  },
  {
   "cell_type": "code",
   "execution_count": 101,
   "id": "ee9564ab-dedf-4f4a-8d55-c10c6956f688",
   "metadata": {},
   "outputs": [
    {
     "data": {
      "text/plain": [
       "('BS2',\n",
       " 1,\n",
       " datetime.datetime(2020, 11, 17, 0, 0),\n",
       " 'Empodisma minus',\n",
       " 5532,\n",
       " None,\n",
       " None,\n",
       " None,\n",
       " 16,\n",
       " 0,\n",
       " 'na',\n",
       " 0,\n",
       " 'na',\n",
       " 'na',\n",
       " 'na')"
      ]
     },
     "execution_count": 101,
     "metadata": {},
     "output_type": "execute_result"
    }
   ],
   "source": [
    "k=2364\n",
    "(ws.cell(row=k, column=1).value,\n",
    " ws.cell(row=k, column=2).value,\n",
    " ws.cell(row=k, column=5).value,\n",
    " ws.cell(row=k, column=6).value,\n",
    " ws.cell(row=k, column=7).value,\n",
    " ws.cell(row=k, column=8).value,\n",
    " ws.cell(row=k, column=9).value,\n",
    " ws.cell(row=k, column=10).value,\n",
    " ws.cell(row=k, column=11).value,\n",
    " ws.cell(row=k, column=12).value,\n",
    " ws.cell(row=k, column=13).value,\n",
    " ws.cell(row=k, column=14).value,\n",
    " ws.cell(row=k, column=15).value,\n",
    " ws.cell(row=k, column=16).value,\n",
    " ws.cell(row=k, column=17).value)\n",
    " \n"
   ]
  },
  {
   "cell_type": "code",
   "execution_count": 98,
   "id": "2ad9c293-fb10-41a3-a356-d51c160282af",
   "metadata": {},
   "outputs": [
    {
     "data": {
      "text/plain": [
       "'BS1.1'"
      ]
     },
     "execution_count": 98,
     "metadata": {},
     "output_type": "execute_result"
    }
   ],
   "source": [
    "ws[2088][2].value\n",
    "#ws[578][11].value == 'NA'\n"
   ]
  },
  {
   "cell_type": "code",
   "execution_count": 110,
   "id": "c0e8d2a3-9f1d-4002-8f40-e70139faa4fd",
   "metadata": {},
   "outputs": [
    {
     "name": "stdout",
     "output_type": "stream",
     "text": [
      "Connecting to the PostgreSQL database...\n",
      "Database connection closed.\n"
     ]
    }
   ],
   "source": [
    "from datetime import datetime\n",
    "from psycopg2.extensions import AsIs\n",
    "\n",
    "row_min = 3\n",
    "row_max = ws.max_row\n",
    "\n",
    "#row_min = 3001\n",
    "#row_max = row_max\n",
    "valid_organ=('epicormic', 'apical', 'lignotuber', 'basal','tuber','tussock','short rhizome', 'long rhizome or root sucker', 'stolon', 'none', 'other')\n",
    "valid_seedbank=('soil-persistent', 'transient', 'canopy','non-canopy','other')\n",
    "# connect to the PostgreSQL server\n",
    "print('Connecting to the PostgreSQL database...')\n",
    "conn = psycopg2.connect(**params)\n",
    "cur = conn.cursor()\n",
    "\n",
    "for i in range(row_min, row_max):\n",
    "    item = ws[i]\n",
    "    species=item[5].value\n",
    "    spcode=item[6].value\n",
    "    visit_date = item[4].value \n",
    "    if species is not None and isinstance(visit_date,datetime) :\n",
    "        record={'visit_id': item[0].value, 'sample_nr': item[1].value,\n",
    "                'visit_date' : visit_date.date()}\n",
    "        insert_statement = 'insert into form.field_samples (%s) values %s ON CONFLICT DO NOTHING'\n",
    "        cur.execute(insert_statement, (AsIs(','.join(record.keys())), tuple(record.values())))\n",
    "        record['species']=species\n",
    "        if (isinstance(spcode, str) and spcode.isnumeric()) or isinstance(spcode,int):\n",
    "            record['species_code']=spcode\n",
    "        if item[7].value is not None and item[7].value in valid_organ:\n",
    "            record['resprout_organ']=item[7].value\n",
    "        if item[8].value is not None and item[8].value in valid_seedbank:\n",
    "            record['seedbank']=item[8].value\n",
    "        if item[9].value is not None and item[9].value not in ('na','NA'):\n",
    "            record['adults_unburnt']=item[9].value\n",
    "        if item[10].value is not None and item[10].value not in ('na','NA'):\n",
    "            record['resprouts_live']=item[10].value\n",
    "        if item[11].value is not None and item[11].value not in ('na','NA'):\n",
    "            record['resprouts_died']=item[11].value\n",
    "        if item[12].value is not None and item[12].value not in ('na','NA'):\n",
    "            record['resprouts_kill']=item[12].value\n",
    "        if item[13].value is not None and item[13].value not in ('na','NA'):\n",
    "            record['resprouts_reproductive']=item[13].value\n",
    "        if item[14].value is not None and item[14].value not in ('na','NA'):\n",
    "            record['recruits_live']=item[14].value\n",
    "        if item[15].value is not None and item[15].value not in ('na','NA'):\n",
    "            record['recruits_died']=item[15].value\n",
    "        if item[16].value is not None and item[16].value not in ('na','NA'):\n",
    "            record['recruits_reproductive']=item[16].value\n",
    "        if item[17].value is not None and item[17].value not in ('na','NA'):\n",
    "            record['species_notes']=item[17].value\n",
    "        #print(','.join(record.keys()))\n",
    "        #print(record.values())\n",
    "        insert_statement = 'insert into form.quadrat_samples (%s) values %s ON CONFLICT DO NOTHING'\n",
    "        #print(i)\n",
    "        #print(cur.mogrify(insert_statement, (AsIs(','.join(record.keys())), tuple(record.values()))))\n",
    "        cur.execute(insert_statement, (AsIs(','.join(record.keys())), tuple(record.values())))\n",
    "\n",
    "conn.commit()        \n",
    "cur.close()\n",
    "        \n",
    "if conn is not None:\n",
    "    conn.close()\n",
    "    print('Database connection closed.')"
   ]
  },
  {
   "cell_type": "code",
   "execution_count": 109,
   "id": "ff1c414e-e724-41c1-9b43-96779f7b4d1f",
   "metadata": {},
   "outputs": [
    {
     "name": "stdout",
     "output_type": "stream",
     "text": [
      "5237\n"
     ]
    }
   ],
   "source": [
    "print(row_max)"
   ]
  },
  {
   "cell_type": "code",
   "execution_count": null,
   "id": "da66430e-4486-45b8-b40b-c746a883ff9b",
   "metadata": {},
   "outputs": [],
   "source": [
    "row_count = ws.max_row\n",
    "\n",
    "# connect to the PostgreSQL server\n",
    "print('Connecting to the PostgreSQL database...')\n",
    "conn = psycopg2.connect(**params)\n",
    "cur = conn.cursor()\n",
    "\n",
    "for i in range(3, row_count):\n",
    "    item = ws[i]\n",
    "    site_label = item[0].value \n",
    "    sample_nr = item[1].value \n",
    "    visit_date = item[4].value \n",
    "    if is_instance(visit_date,datetime) :\n",
    "        \n",
    "        unique_list.append(item)\n",
    "        unique_items += 1\n",
    "        x=ws.cell(row=i,column=2).value\n",
    "        y=ws.cell(row=i,column=3).value\n",
    "        z=ws.cell(row=i,column=5).value\n",
    "        cur.execute(qrystr % (item,x,y,SSID,z))\n",
    "        updated_rows = cur.rowcount\n",
    "        if updated_rows > 0:\n",
    "            print(\"%s : %s rows updated\" % (item,updated_rows))\n",
    "    if isinstance(visitdate, datetime):\n",
    "        cur.execute(qryvst, (survey,item,visitdate.date()))\n",
    "        updated_rows = cur.rowcount\n",
    "        if updated_rows > 0:\n",
    "            print(\"%s : %s rows updated\" % (item,updated_rows))\n",
    "        \n",
    "conn.commit()        \n",
    "cur.close()\n",
    "        \n",
    "if conn is not None:\n",
    "    conn.close()\n",
    "    print('Database connection closed.')"
   ]
  },
  {
   "cell_type": "code",
   "execution_count": null,
   "id": "2ea68f0d-5a28-4aef-807e-7eb85c48887f",
   "metadata": {},
   "outputs": [],
   "source": []
  }
 ],
 "metadata": {
  "kernelspec": {
   "display_name": "Python 3 (ipykernel)",
   "language": "python",
   "name": "python3"
  },
  "language_info": {
   "codemirror_mode": {
    "name": "ipython",
    "version": 3
   },
   "file_extension": ".py",
   "mimetype": "text/x-python",
   "name": "python",
   "nbconvert_exporter": "python",
   "pygments_lexer": "ipython3",
   "version": "3.10.2"
  }
 },
 "nbformat": 4,
 "nbformat_minor": 5
}
