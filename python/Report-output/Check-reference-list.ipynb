{
 "cells": [
  {
   "cell_type": "code",
   "execution_count": 33,
   "id": "a2d1591a-3027-45db-b1a8-92b83b36e741",
   "metadata": {},
   "outputs": [],
   "source": [
    "# work with paths in operating system\n",
    "from pathlib import Path\n",
    "import os\n",
    "\n",
    "# datetime support\n",
    "import datetime\n",
    "# For database connection\n",
    "from configparser import ConfigParser\n",
    "import psycopg2\n",
    "from psycopg2.extras import DictCursor\n",
    "\n",
    "# Pandas for calculations\n",
    "import pandas as pd\n",
    "\n",
    "# Regular expressions\n",
    "import re"
   ]
  },
  {
   "cell_type": "code",
   "execution_count": 2,
   "id": "2ada9b72-26b1-4561-b701-cd11b4075e64",
   "metadata": {},
   "outputs": [
    {
     "data": {
      "text/plain": [
       "['fireveg-trait-report-model.xlsx']"
      ]
     },
     "execution_count": 2,
     "metadata": {},
     "output_type": "execute_result"
    }
   ],
   "source": [
    "repodir = Path(\"../../\") \n",
    "inputdir = repodir / \"data\" / \"output-report\"\n",
    "os.listdir(inputdir)"
   ]
  },
  {
   "cell_type": "code",
   "execution_count": 3,
   "id": "2263c6e3-bcf1-4a78-9bcc-85e78e5be9b7",
   "metadata": {},
   "outputs": [],
   "source": [
    "def read_dbparams(filename,section=\"postgresql\"):\n",
    "    # create a parser\n",
    "    parser = ConfigParser()\n",
    "    # read config file\n",
    "    parser.read(filename)\n",
    "\n",
    "    # get section, default to postgresql\n",
    "    db = {}\n",
    "    if parser.has_section(section):\n",
    "        params = parser.items(section)\n",
    "        for param in params:\n",
    "            db[param[0]] = param[1]\n",
    "    else:\n",
    "        raise Exception('Section {0} not found in the {1} file'.format(section, filename))\n",
    "\n",
    "    return db\n"
   ]
  },
  {
   "cell_type": "code",
   "execution_count": 4,
   "id": "2cfd611f-9c14-42a6-aa89-331ae6200b1a",
   "metadata": {},
   "outputs": [],
   "source": [
    "filename = repodir / 'secrets' / 'database.ini'\n",
    "dbparams=read_dbparams(filename,section='aws-lght-sl')"
   ]
  },
  {
   "cell_type": "code",
   "execution_count": 13,
   "id": "62193882-813b-458f-822f-d4f8da842072",
   "metadata": {},
   "outputs": [
    {
     "name": "stdout",
     "output_type": "stream",
     "text": [
      "Connecting to the PostgreSQL database...\n"
     ]
    }
   ],
   "source": [
    "if \"conn\" not in globals() or conn.closed!=0:\n",
    "    print('Connecting to the PostgreSQL database...')\n",
    "    conn = psycopg2.connect(**dbparams)\n",
    "if \"cur\" not in globals() or cur.closed:\n",
    "    cur = conn.cursor(cursor_factory=DictCursor)"
   ]
  },
  {
   "cell_type": "code",
   "execution_count": 14,
   "id": "81b04025-4a86-4dc5-91d5-12010b163bf0",
   "metadata": {},
   "outputs": [],
   "source": [
    "cur.execute(\"SELECT * FROM litrev.ref_list \")\n",
    "ref_info = cur.fetchall()\n",
    "\n"
   ]
  },
  {
   "cell_type": "code",
   "execution_count": 44,
   "id": "f83f2767-3f51-43fd-baa1-d40e7e5bfcf4",
   "metadata": {},
   "outputs": [],
   "source": [
    "\n",
    "r = re.compile(\"[A-Z][a-z]+\")\n",
    "def extract_year(x):\n",
    "    if x.__contains__(\"personal communication\"):\n",
    "        y = x[0:x.find(\" personal\")].replace(\",\",\"\")\n",
    "        year = \"pers. comm.\"\n",
    "    elif x.__contains__(\"unpublished\"):\n",
    "        y = x[0:x.find(\"unpublished\")].replace(\",\",\"\")\n",
    "        year = \"unpub.\"\n",
    "    else:\n",
    "        y = x[0:x.find(\")\")].replace(\",\",\"\")\n",
    "        year = ''.join(re.findall(\"\\d+\", y))\n",
    "    return(year)\n",
    "\n",
    "def extract_authors(x):\n",
    "    authors = x[0:x.find(\"(\")]\n",
    "    return(authors)\n",
    "\n",
    "def extract_rest(x):\n",
    "    post_year = x[x.find(\")\")+1:]\n",
    "    return(post_year)"
   ]
  },
  {
   "cell_type": "code",
   "execution_count": 45,
   "id": "08090e71-a590-4ecf-890f-b310f4e15793",
   "metadata": {},
   "outputs": [],
   "source": [
    "df=pd.DataFrame(ref_info,columns=ref_info[1].keys())"
   ]
  },
  {
   "cell_type": "code",
   "execution_count": 46,
   "id": "fe4a3fe2-218f-456f-9997-6f9ecfd5fb00",
   "metadata": {},
   "outputs": [],
   "source": [
    "df['date']=df.apply(lambda row : extract_year(row['ref_cite']), axis = 1)\n",
    "df['authors']=df.apply(lambda row : extract_authors(row['ref_cite']), axis = 1)\n",
    "df['ref_info']=df.apply(lambda row : extract_rest(row['ref_cite']), axis = 1)"
   ]
  },
  {
   "cell_type": "code",
   "execution_count": 47,
   "id": "f9e32989-0e19-4519-a915-46a271e3121c",
   "metadata": {},
   "outputs": [
    {
     "data": {
      "text/html": [
       "<div>\n",
       "<style scoped>\n",
       "    .dataframe tbody tr th:only-of-type {\n",
       "        vertical-align: middle;\n",
       "    }\n",
       "\n",
       "    .dataframe tbody tr th {\n",
       "        vertical-align: top;\n",
       "    }\n",
       "\n",
       "    .dataframe thead th {\n",
       "        text-align: right;\n",
       "    }\n",
       "</style>\n",
       "<table border=\"1\" class=\"dataframe\">\n",
       "  <thead>\n",
       "    <tr style=\"text-align: right;\">\n",
       "      <th></th>\n",
       "      <th>ref_code</th>\n",
       "      <th>ref_cite</th>\n",
       "      <th>alt_code</th>\n",
       "      <th>date</th>\n",
       "      <th>authors</th>\n",
       "      <th>ref_info</th>\n",
       "    </tr>\n",
       "  </thead>\n",
       "  <tbody>\n",
       "    <tr>\n",
       "      <th>0</th>\n",
       "      <td>Peter Byrne Beerwah Qld. unpub.</td>\n",
       "      <td>Peter Byrne, Beerwah, Qld. (unpublished)</td>\n",
       "      <td>NSWFFRD-NFRR-ref-B</td>\n",
       "      <td>unpub.</td>\n",
       "      <td>Peter Byrne, Beerwah, Qld.</td>\n",
       "      <td></td>\n",
       "    </tr>\n",
       "    <tr>\n",
       "      <th>1</th>\n",
       "      <td>Baird 1977</td>\n",
       "      <td>Baird, A.M. (1977). Regeneration after fire in...</td>\n",
       "      <td>NSWFFRD-NFRR-ref-BA</td>\n",
       "      <td>1977</td>\n",
       "      <td>Baird, A.M.</td>\n",
       "      <td>. Regeneration after fire in King's Park, Pert...</td>\n",
       "    </tr>\n",
       "    <tr>\n",
       "      <th>2</th>\n",
       "      <td>Benson McDougall 1995</td>\n",
       "      <td>Benson, D. and McDougall, L. (1995). Ecology o...</td>\n",
       "      <td>NSWFFRD-NFRR-ref-BB</td>\n",
       "      <td>1995</td>\n",
       "      <td>Benson, D. and McDougall, L.</td>\n",
       "      <td>. Ecology of Sydney plant species part 3: Dico...</td>\n",
       "    </tr>\n",
       "    <tr>\n",
       "      <th>3</th>\n",
       "      <td>Benson McDougall 1997</td>\n",
       "      <td>Benson, D. and McDougall, L. (1997). Ecology o...</td>\n",
       "      <td>NSWFFRD-NFRR-ref-BD</td>\n",
       "      <td>1997</td>\n",
       "      <td>Benson, D. and McDougall, L.</td>\n",
       "      <td>. Ecology of Sydney plant species part 5: Dico...</td>\n",
       "    </tr>\n",
       "    <tr>\n",
       "      <th>4</th>\n",
       "      <td>Benson 1985</td>\n",
       "      <td>Benson, D.H. (1985). Maturation periods for fi...</td>\n",
       "      <td>NSWFFRD-NFRR-ref-BE</td>\n",
       "      <td>1985</td>\n",
       "      <td>Benson, D.H.</td>\n",
       "      <td>. Maturation periods for fire sensitive shrub ...</td>\n",
       "    </tr>\n",
       "    <tr>\n",
       "      <th>...</th>\n",
       "      <td>...</td>\n",
       "      <td>...</td>\n",
       "      <td>...</td>\n",
       "      <td>...</td>\n",
       "      <td>...</td>\n",
       "      <td>...</td>\n",
       "    </tr>\n",
       "    <tr>\n",
       "      <th>304</th>\n",
       "      <td>Baskin &amp; Baskin 2014</td>\n",
       "      <td>Baskin, C. and Baskin, J.M. (2014) Seeds: Ecol...</td>\n",
       "      <td>None</td>\n",
       "      <td>2014</td>\n",
       "      <td>Baskin, C. and Baskin, J.M.</td>\n",
       "      <td>Seeds: Ecology, Biogeography, and Evolution o...</td>\n",
       "    </tr>\n",
       "    <tr>\n",
       "      <th>305</th>\n",
       "      <td>Vening etal 2017</td>\n",
       "      <td>Vening etal 2017 Aust J Bot</td>\n",
       "      <td>None</td>\n",
       "      <td>2017</td>\n",
       "      <td>Vening etal 2017 Aust J Bo</td>\n",
       "      <td>Vening etal 2017 Aust J Bot</td>\n",
       "    </tr>\n",
       "    <tr>\n",
       "      <th>306</th>\n",
       "      <td>Myerscough 1998</td>\n",
       "      <td>Myerscough 1998 Cunninghamia</td>\n",
       "      <td>None</td>\n",
       "      <td>1998</td>\n",
       "      <td>Myerscough 1998 Cunninghami</td>\n",
       "      <td>Myerscough 1998 Cunninghamia</td>\n",
       "    </tr>\n",
       "    <tr>\n",
       "      <th>307</th>\n",
       "      <td>Clarke et al 2000</td>\n",
       "      <td>Clarke et al 2000</td>\n",
       "      <td>None</td>\n",
       "      <td>200</td>\n",
       "      <td>Clarke et al 200</td>\n",
       "      <td>Clarke et al 2000</td>\n",
       "    </tr>\n",
       "    <tr>\n",
       "      <th>308</th>\n",
       "      <td>Davila &amp; Wardle 2002</td>\n",
       "      <td>Davila &amp; Wardle 2002 Aust J Bot</td>\n",
       "      <td>None</td>\n",
       "      <td>2002</td>\n",
       "      <td>Davila &amp; Wardle 2002 Aust J Bo</td>\n",
       "      <td>Davila &amp; Wardle 2002 Aust J Bot</td>\n",
       "    </tr>\n",
       "  </tbody>\n",
       "</table>\n",
       "<p>309 rows × 6 columns</p>\n",
       "</div>"
      ],
      "text/plain": [
       "                            ref_code  \\\n",
       "0    Peter Byrne Beerwah Qld. unpub.   \n",
       "1                         Baird 1977   \n",
       "2              Benson McDougall 1995   \n",
       "3              Benson McDougall 1997   \n",
       "4                        Benson 1985   \n",
       "..                               ...   \n",
       "304             Baskin & Baskin 2014   \n",
       "305                 Vening etal 2017   \n",
       "306                  Myerscough 1998   \n",
       "307                Clarke et al 2000   \n",
       "308             Davila & Wardle 2002   \n",
       "\n",
       "                                              ref_cite             alt_code  \\\n",
       "0             Peter Byrne, Beerwah, Qld. (unpublished)   NSWFFRD-NFRR-ref-B   \n",
       "1    Baird, A.M. (1977). Regeneration after fire in...  NSWFFRD-NFRR-ref-BA   \n",
       "2    Benson, D. and McDougall, L. (1995). Ecology o...  NSWFFRD-NFRR-ref-BB   \n",
       "3    Benson, D. and McDougall, L. (1997). Ecology o...  NSWFFRD-NFRR-ref-BD   \n",
       "4    Benson, D.H. (1985). Maturation periods for fi...  NSWFFRD-NFRR-ref-BE   \n",
       "..                                                 ...                  ...   \n",
       "304  Baskin, C. and Baskin, J.M. (2014) Seeds: Ecol...                 None   \n",
       "305                        Vening etal 2017 Aust J Bot                 None   \n",
       "306                       Myerscough 1998 Cunninghamia                 None   \n",
       "307                                  Clarke et al 2000                 None   \n",
       "308                    Davila & Wardle 2002 Aust J Bot                 None   \n",
       "\n",
       "       date                         authors  \\\n",
       "0    unpub.     Peter Byrne, Beerwah, Qld.    \n",
       "1      1977                    Baird, A.M.    \n",
       "2      1995   Benson, D. and McDougall, L.    \n",
       "3      1997   Benson, D. and McDougall, L.    \n",
       "4      1985                   Benson, D.H.    \n",
       "..      ...                             ...   \n",
       "304    2014    Baskin, C. and Baskin, J.M.    \n",
       "305    2017      Vening etal 2017 Aust J Bo   \n",
       "306    1998     Myerscough 1998 Cunninghami   \n",
       "307     200                Clarke et al 200   \n",
       "308    2002  Davila & Wardle 2002 Aust J Bo   \n",
       "\n",
       "                                              ref_info  \n",
       "0                                                       \n",
       "1    . Regeneration after fire in King's Park, Pert...  \n",
       "2    . Ecology of Sydney plant species part 3: Dico...  \n",
       "3    . Ecology of Sydney plant species part 5: Dico...  \n",
       "4    . Maturation periods for fire sensitive shrub ...  \n",
       "..                                                 ...  \n",
       "304   Seeds: Ecology, Biogeography, and Evolution o...  \n",
       "305                        Vening etal 2017 Aust J Bot  \n",
       "306                       Myerscough 1998 Cunninghamia  \n",
       "307                                  Clarke et al 2000  \n",
       "308                    Davila & Wardle 2002 Aust J Bot  \n",
       "\n",
       "[309 rows x 6 columns]"
      ]
     },
     "execution_count": 47,
     "metadata": {},
     "output_type": "execute_result"
    }
   ],
   "source": [
    "df"
   ]
  },
  {
   "cell_type": "code",
   "execution_count": 48,
   "id": "6350ffbe-823c-43ee-a116-f1a5ed652efc",
   "metadata": {},
   "outputs": [],
   "source": [
    "df.to_excel(inputdir / \"fireveg-db-references.xlsx\") "
   ]
  },
  {
   "cell_type": "code",
   "execution_count": 11,
   "id": "a3b89dc3-8adf-4d5c-992b-39f8b6f8f860",
   "metadata": {},
   "outputs": [],
   "source": [
    "conn.close()"
   ]
  },
  {
   "cell_type": "code",
   "execution_count": null,
   "id": "69ed030b-69cd-463d-91a3-f73f30317922",
   "metadata": {},
   "outputs": [],
   "source": []
  }
 ],
 "metadata": {
  "kernelspec": {
   "display_name": "Python 3 (ipykernel)",
   "language": "python",
   "name": "python3"
  },
  "language_info": {
   "codemirror_mode": {
    "name": "ipython",
    "version": 3
   },
   "file_extension": ".py",
   "mimetype": "text/x-python",
   "name": "python",
   "nbconvert_exporter": "python",
   "pygments_lexer": "ipython3",
   "version": "3.10.2"
  }
 },
 "nbformat": 4,
 "nbformat_minor": 5
}
