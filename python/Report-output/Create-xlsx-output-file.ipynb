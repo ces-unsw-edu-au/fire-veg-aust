{
 "cells": [
  {
   "cell_type": "markdown",
   "id": "d045538b-a1f1-49a0-b0b9-e58b2d448774",
   "metadata": {},
   "source": [
    "# Summary report in a workbook\n",
    "\n",
    "We want to create a workbook with:\n",
    "\n",
    "- Authoring information and instruction\n",
    "- Summary table for species with links\n",
    "- Trait codes and descriptions\n",
    "- Vocabularies\n",
    "- List of references\n"
   ]
  },
  {
   "cell_type": "markdown",
   "id": "074c5468-519c-4ea5-a46c-f5e09d57c8a7",
   "metadata": {
    "tags": []
   },
   "source": [
    "## Setup\n",
    "\n",
    "### Import modules"
   ]
  },
  {
   "cell_type": "code",
   "execution_count": 1,
   "id": "5626d235-7c71-459c-a529-93658ed61ea8",
   "metadata": {},
   "outputs": [],
   "source": [
    "# work with paths in operating system\n",
    "from pathlib import Path\n",
    "import os\n",
    "\n",
    "# work with xlsx workbooks\n",
    "import openpyxl\n",
    "from openpyxl import Workbook\n",
    "from openpyxl.worksheet.table import Table, TableStyleInfo\n",
    "from openpyxl.styles import Alignment, PatternFill, Border, Font # Side, Alignment, Protection,\n",
    "from openpyxl.formatting import Rule\n",
    "from openpyxl.styles.differential import DifferentialStyle\n",
    "from openpyxl.worksheet.datavalidation import DataValidation\n",
    "\n",
    "from openpyxl.utils.dataframe import dataframe_to_rows\n",
    "from openpyxl.utils import get_column_letter\n",
    "\n",
    "# For database connection\n",
    "from configparser import ConfigParser\n",
    "import psycopg2\n",
    "from psycopg2.extras import DictCursor\n",
    "\n",
    "# Pandas for calculations\n",
    "import pandas as pd\n"
   ]
  },
  {
   "cell_type": "markdown",
   "id": "7b004146-868a-4580-afaf-0da9c861f698",
   "metadata": {},
   "source": [
    "### Define paths for input and output"
   ]
  },
  {
   "cell_type": "code",
   "execution_count": 2,
   "id": "d61e4223-ec48-4d31-9a94-61c002ab8b09",
   "metadata": {},
   "outputs": [
    {
     "ename": "FileNotFoundError",
     "evalue": "[Errno 2] No such file or directory: '../../data/output-report'",
     "output_type": "error",
     "traceback": [
      "\u001b[0;31m---------------------------------------------------------------------------\u001b[0m",
      "\u001b[0;31mFileNotFoundError\u001b[0m                         Traceback (most recent call last)",
      "Input \u001b[0;32mIn [2]\u001b[0m, in \u001b[0;36m<module>\u001b[0;34m\u001b[0m\n\u001b[1;32m      1\u001b[0m repodir \u001b[38;5;241m=\u001b[39m Path(\u001b[38;5;124m\"\u001b[39m\u001b[38;5;124m../../\u001b[39m\u001b[38;5;124m\"\u001b[39m) \n\u001b[1;32m      2\u001b[0m inputdir \u001b[38;5;241m=\u001b[39m repodir \u001b[38;5;241m/\u001b[39m \u001b[38;5;124m\"\u001b[39m\u001b[38;5;124mdata\u001b[39m\u001b[38;5;124m\"\u001b[39m \u001b[38;5;241m/\u001b[39m \u001b[38;5;124m\"\u001b[39m\u001b[38;5;124moutput-report\u001b[39m\u001b[38;5;124m\"\u001b[39m\n\u001b[0;32m----> 3\u001b[0m \u001b[43mos\u001b[49m\u001b[38;5;241;43m.\u001b[39;49m\u001b[43mlistdir\u001b[49m\u001b[43m(\u001b[49m\u001b[43minputdir\u001b[49m\u001b[43m)\u001b[49m\n",
      "\u001b[0;31mFileNotFoundError\u001b[0m: [Errno 2] No such file or directory: '../../data/output-report'"
     ]
    }
   ],
   "source": [
    "repodir = Path(\"../../\") \n",
    "inputdir = repodir / \"data\" / \"output-report\"\n",
    "os.listdir(inputdir)"
   ]
  },
  {
   "cell_type": "markdown",
   "id": "8d828bc4-c9ff-4617-9701-ec07cf72af42",
   "metadata": {},
   "source": [
    "### Database connection\n",
    "\n",
    "Function to parse connection parameters from a file"
   ]
  },
  {
   "cell_type": "code",
   "execution_count": null,
   "id": "ca935479-001f-475a-9aad-6cd92a6702b4",
   "metadata": {},
   "outputs": [],
   "source": [
    "def read_dbparams(filename,section=\"postgresql\"):\n",
    "    # create a parser\n",
    "    parser = ConfigParser()\n",
    "    # read config file\n",
    "    parser.read(filename)\n",
    "\n",
    "    # get section, default to postgresql\n",
    "    db = {}\n",
    "    if parser.has_section(section):\n",
    "        params = parser.items(section)\n",
    "        for param in params:\n",
    "            db[param[0]] = param[1]\n",
    "    else:\n",
    "        raise Exception('Section {0} not found in the {1} file'.format(section, filename))\n",
    "\n",
    "    return db\n"
   ]
  },
  {
   "cell_type": "markdown",
   "id": "c4eb5d71-c039-4df1-b55f-d32569129e5e",
   "metadata": {},
   "source": [
    "Reading the default parameters for this session:"
   ]
  },
  {
   "cell_type": "code",
   "execution_count": null,
   "id": "a0864b79-f8d1-4b3f-bc05-79d78eac3b75",
   "metadata": {},
   "outputs": [],
   "source": [
    "filename = repodir / 'secrets' / 'database.ini'\n",
    "dbparams=read_dbparams(filename,section='aws-lght-sl')"
   ]
  },
  {
   "cell_type": "code",
   "execution_count": null,
   "id": "a654daed-a705-4267-9f15-5a26ed4e90ca",
   "metadata": {},
   "outputs": [],
   "source": [
    "if \"conn\" not in globals() or conn.closed!=0:\n",
    "    print('Connecting to the PostgreSQL database...')\n",
    "    conn = psycopg2.connect(**dbparams)\n",
    "if \"cur\" not in globals() or cur.closed:\n",
    "    cur = conn.cursor(cursor_factory=DictCursor)"
   ]
  },
  {
   "cell_type": "markdown",
   "id": "240d0f41-29a3-48dc-a85c-68c8be9a9e58",
   "metadata": {
    "tags": []
   },
   "source": [
    "## Create workbook"
   ]
  },
  {
   "cell_type": "markdown",
   "id": "1edfb5de-a5f6-4cf5-aeca-20aadd1a99ee",
   "metadata": {},
   "source": [
    "### Styles\n",
    "Define styles to be used across the workbook"
   ]
  },
  {
   "cell_type": "code",
   "execution_count": null,
   "id": "9ec51a4e-1bce-4990-8a4b-c1a95ad172b6",
   "metadata": {},
   "outputs": [],
   "source": [
    "cent_align=Alignment(horizontal='center', vertical='center', wrap_text=False)\n",
    "wrap_align=Alignment(horizontal='left', vertical='top', wrap_text=True)\n",
    "\n",
    "sheet_colors = {\"intro\": \"1072BA\" , \"summary\": \"5AFF5A\", \"default\":\"505050\", \"addentry\": \"20CA82\"}\n",
    "\n",
    "table_style={\"Instructions\":TableStyleInfo(name=\"TableStyleMedium9\", showFirstColumn=True, showLastColumn=False, \n",
    "                                           showRowStripes=True, showColumnStripes=False),\n",
    "             \"Contributor\": TableStyleInfo(name=\"TableStyleMedium18\", showFirstColumn=True,\n",
    "                       showLastColumn=False, showRowStripes=False, showColumnStripes=False),\n",
    "             \"Lists\": TableStyleInfo(name=\"TableStyleMedium14\", showFirstColumn=True,\n",
    "                       showLastColumn=False, showRowStripes=False, showColumnStripes=False),\n",
    "             \"Info\":  TableStyleInfo(name=\"TableStyleMedium14\", showFirstColumn=True,\n",
    "                       showLastColumn=False, showRowStripes=False, showColumnStripes=False),\n",
    "             \"Vocabularies\": TableStyleInfo(name=\"TableStyleMedium14\", showFirstColumn=True,\n",
    "                       showLastColumn=False, showRowStripes=False, showColumnStripes=False),\n",
    "             \"Entry\": TableStyleInfo(name=\"TableStyleMedium18\", showFirstColumn=False,\n",
    "                       showLastColumn=False, showRowStripes=False, showColumnStripes=False)\n",
    "\n",
    "             }\n",
    "\n",
    "\n"
   ]
  },
  {
   "cell_type": "code",
   "execution_count": null,
   "id": "36492b0e-fd7f-4c1f-aa47-e29a8a55fff6",
   "metadata": {},
   "outputs": [],
   "source": [
    "wb = Workbook()"
   ]
  },
  {
   "cell_type": "code",
   "execution_count": null,
   "id": "e7ff02df-a31a-4c68-93ec-9edb8980b453",
   "metadata": {},
   "outputs": [],
   "source": [
    "wsheets = (\n",
    "    {\"title\": \"About\", \"colWidths\":[(\"A\",90),(\"B\",40)], \"tabColor\":\"intro\",\"active\":True},\n",
    "    {\"title\": \"Summary\", \"colWidths\":[(\"A\",70),(\"B\",10),((\"C\",\"D\",\"E\",\"F\",\"G\"),30)], \"tabColor\":\"summary\"},\n",
    "    {\"title\": \"References\", \"colWidths\":[(\"A\",30),(\"B\",60)], \"tabColor\":\"addentry\"},\n",
    "    {\"title\": \"Trait description\", \"colWidths\":[(\"A\",12),(\"B\",30),(\"C\",70)], \"tabColor\":\"default\"}\n",
    "    )\n",
    "for item in wsheets:\n",
    "    if \"active\" in item.keys():\n",
    "        ws = wb.active\n",
    "        ws.title = item['title']\n",
    "    else:\n",
    "        ws = wb.create_sheet(item['title'])\n",
    "    for k in item['colWidths']:\n",
    "        for j in k[0]:\n",
    "            ws.column_dimensions[j].width = k[1]\n",
    "    ws.sheet_properties.tabColor = sheet_colors[item[\"tabColor\"]]\n"
   ]
  },
  {
   "cell_type": "code",
   "execution_count": null,
   "id": "007df909-b552-4606-8151-466fe16aba9f",
   "metadata": {},
   "outputs": [],
   "source": [
    "ws = wb[\"About\"]\n",
    "\n",
    "info = (\"Export from Fireveg Database\",\n",
    " \"Database design by David A. Keith and José R. Ferrer-Paris\",\n",
    " \"Centre for Ecosystem Science / University of New South Wales\")\n",
    "\n",
    "for row in info:\n",
    "    ws.append((row,))\n",
    "ws.protection.sheet = True"
   ]
  },
  {
   "cell_type": "code",
   "execution_count": null,
   "id": "a37de598-e190-4e0e-b3a1-cc9d4f7d86fb",
   "metadata": {},
   "outputs": [],
   "source": [
    "cur.execute(\"SELECT code,name,description,value_type,life_stage,life_history_process,priority FROM litrev.trait_info ORDER BY code\")\n",
    "trait_info = cur.fetchall()\n",
    "\n",
    "ws = wb[\"Trait description\"]\n",
    "ws.append([\"Trait Code\", \"Trait Name\", \"Description\", \"Type\", \"Life stage\", \"Life history process\", \"Priority\"])\n",
    "\n",
    "for row in trait_info:\n",
    "    ws.append(row)\n",
    "    \n",
    "#ws.max_row\n",
    "for k in range(2,ws.max_row+1):\n",
    "    ws.cell(k,3).alignment=wrap_align\n",
    "    \n",
    "tab = Table(displayName=\"TraitInformation\", ref=\"A1:G{}\".format(ws.max_row))\n",
    "\n",
    "tab.tableStyleInfo = table_style[\"Info\"]\n",
    "ws.add_table(tab)\n",
    "ws.protection.sheet = True"
   ]
  },
  {
   "cell_type": "code",
   "execution_count": null,
   "id": "c8801223-1766-49f0-b095-f37ab930d55a",
   "metadata": {},
   "outputs": [],
   "source": [
    "def summarise_values(x,w):\n",
    "    if None in x:\n",
    "        sfx = \"*\"\n",
    "    else:\n",
    "        sfx = \"\"\n",
    "    df=pd.concat({\"value\": pd.Series(x),\"weight\": pd.Series(w)},axis=1)\n",
    "    res = df.groupby(by=\"value\").sum() / df.weight.sum()\n",
    "    res = res.sort_values(by=\"weight\",ascending=[0])\n",
    "    val = \"\"\n",
    "    glue = \"\"\n",
    "    for index, row in res.iterrows():\n",
    "        if row['weight'] > 0.1:\n",
    "            val = val + glue + index \n",
    "            glue = \" / \"\n",
    "        elif row['weight'] > 0.05:\n",
    "            val = val + glue + (\"(%s)\" % index) \n",
    "            glue = \" / \"\n",
    "        else:\n",
    "            val = val + glue + (\"[%s]\" % index)\n",
    "            glue = \" / \"\n",
    "    return val + sfx"
   ]
  },
  {
   "cell_type": "code",
   "execution_count": null,
   "id": "962a3bf0-deee-40c9-ab6b-66cca0b0ce6c",
   "metadata": {},
   "outputs": [],
   "source": [
    "for trait in ['surv1','surv4','repr2','germ1','rect2']:\n",
    "    cur.execute(\"SELECT species,species_code,array_agg(norm_value::text) as val,array_agg(weight) as w from litrev.{} WHERE species ilike '%euca%' GROUP BY species, species_code limit 38\".format(trait))\n",
    "    res = cur.fetchall()\n",
    "    df1 = pd.DataFrame(res)\n",
    "    col1=\"%s.v\" % trait\n",
    "    col2=\"%s.w\" % trait\n",
    "    \n",
    "    df1=df1.rename(columns={0:\"Species\",1:\"Code\",2:col1,3:col2})\n",
    "    df1[trait]=df1.apply(lambda row : summarise_values(row[col1],row[col2]), axis = 1)\n",
    "    if \"df\" in globals():\n",
    "        df = pd.merge(df, df1, on = [\"Species\",\"Code\"], how = \"outer\").sort_values(by=\"Species\",ascending=[1])\n",
    "    else:\n",
    "        df = df1"
   ]
  },
  {
   "cell_type": "code",
   "execution_count": null,
   "id": "7b1449f1-83ed-44fd-89e9-c9f75657049b",
   "metadata": {},
   "outputs": [],
   "source": [
    "df"
   ]
  },
  {
   "cell_type": "code",
   "execution_count": null,
   "id": "6bb6f855-d45f-459b-9b00-30404d129c07",
   "metadata": {},
   "outputs": [],
   "source": [
    "#df"
   ]
  },
  {
   "cell_type": "code",
   "execution_count": null,
   "id": "e44102c5-2092-4375-8bf0-5a1078e7ce88",
   "metadata": {},
   "outputs": [],
   "source": [
    "\n",
    "ws = wb[\"Summary\"]\n",
    "ws.append(['Species','Code','surv1','surv4','repr2','germ1','rect2'])\n",
    "rows = dataframe_to_rows(df[['Species','Code','surv1','surv4','repr2','germ1','rect2']],index=False, header=False)\n",
    "\n",
    "for r_idx, row in enumerate(rows, 2):\n",
    "    for c_idx, value in enumerate(row, 1):\n",
    "        ws.cell(row=r_idx, column=c_idx, value=value)\n",
    "\n",
    "tab = Table(displayName=\"Summary\", ref=\"A1:{}{}\".format(get_column_letter(c_idx),r_idx))\n",
    "tab.tableStyleInfo = table_style[\"Lists\"]\n",
    "ws.add_table(tab)\n"
   ]
  },
  {
   "cell_type": "code",
   "execution_count": null,
   "id": "614787f8-39fe-4643-a143-8f2674750785",
   "metadata": {},
   "outputs": [],
   "source": []
  },
  {
   "cell_type": "code",
   "execution_count": null,
   "id": "499c421f-bba6-45ab-a147-bc43a4d741a0",
   "metadata": {},
   "outputs": [],
   "source": [
    "wb.save(inputdir / \"fireveg-trait-report-model.xlsx\")"
   ]
  },
  {
   "cell_type": "code",
   "execution_count": null,
   "id": "77adb68b-1156-407a-ac57-3763527f63df",
   "metadata": {},
   "outputs": [],
   "source": [
    "cur.close()\n",
    "        \n",
    "if conn is not None:\n",
    "    conn.close()\n",
    "    print('Database connection closed.')"
   ]
  },
  {
   "cell_type": "code",
   "execution_count": null,
   "id": "14890b4f-fe00-4736-96e8-415c9577a95a",
   "metadata": {},
   "outputs": [],
   "source": []
  }
 ],
 "metadata": {
  "kernelspec": {
   "display_name": "Python 3 (ipykernel)",
   "language": "python",
   "name": "python3"
  },
  "language_info": {
   "codemirror_mode": {
    "name": "ipython",
    "version": 3
   },
   "file_extension": ".py",
   "mimetype": "text/x-python",
   "name": "python",
   "nbconvert_exporter": "python",
   "pygments_lexer": "ipython3",
   "version": "3.10.2"
  }
 },
 "nbformat": 4,
 "nbformat_minor": 5
}
