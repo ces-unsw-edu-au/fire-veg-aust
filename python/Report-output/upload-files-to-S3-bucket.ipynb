{
 "cells": [
  {
   "cell_type": "markdown",
   "id": "603139c9-5693-4db5-a3ae-7734e2375e1a",
   "metadata": {},
   "source": [
    "# Upload data to a S3 bucket"
   ]
  },
  {
   "cell_type": "markdown",
   "id": "465dc7d7-0381-4464-b944-84602d94c70a",
   "metadata": {},
   "source": [
    "See example here:\n",
    "http://datasciencedirectory.com/how-to-connect-to-aws-s3-buckets-with-python/"
   ]
  },
  {
   "cell_type": "code",
   "execution_count": 2,
   "id": "36dffb42-eba4-4ab4-b005-226e6f5bed5b",
   "metadata": {},
   "outputs": [],
   "source": [
    "from pathlib import Path\n",
    "import os\n",
    "from configparser import ConfigParser\n",
    "import boto3"
   ]
  },
  {
   "cell_type": "code",
   "execution_count": 3,
   "id": "7df871cd-4f01-4d30-b398-c6fb0bd5be60",
   "metadata": {},
   "outputs": [
    {
     "data": {
      "text/plain": [
       "['fireveg-db-references.xlsx',\n",
       " 'fireveg-field-report-model.xlsx',\n",
       " 'fireveg-trait-records-curation.xlsx',\n",
       " 'fireveg-trait-records-model.xlsx',\n",
       " 'fireveg-trait-report-model.xlsx']"
      ]
     },
     "execution_count": 3,
     "metadata": {},
     "output_type": "execute_result"
    }
   ],
   "source": [
    "repodir = Path(\"../../\") \n",
    "inputdir = repodir / \"data\" / \"output-report\"\n",
    "os.listdir(inputdir)"
   ]
  },
  {
   "cell_type": "markdown",
   "id": "03c92edd-20b6-49e3-8a23-6a5241e877ca",
   "metadata": {},
   "source": [
    "Read parameters for connection to S3 bucket"
   ]
  },
  {
   "cell_type": "code",
   "execution_count": 4,
   "id": "50150fc3-d1e4-4472-82a7-0cec62d547c7",
   "metadata": {},
   "outputs": [],
   "source": [
    "def read_s3params(filename,section=\"firevegbucket\"):\n",
    "    # create a parser\n",
    "    parser = ConfigParser()\n",
    "    # read config file\n",
    "    parser.read(filename)\n",
    "\n",
    "    # get section, default to postgresql\n",
    "    db = {}\n",
    "    if parser.has_section(section):\n",
    "        params = parser.items(section)\n",
    "        for param in params:\n",
    "            db[param[0]] = param[1]\n",
    "    else:\n",
    "        raise Exception('Section {0} not found in the {1} file'.format(section, filename))\n",
    "\n",
    "    return db\n"
   ]
  },
  {
   "cell_type": "code",
   "execution_count": 5,
   "id": "2c760199-ea0d-4370-99aa-d79e47070f08",
   "metadata": {},
   "outputs": [],
   "source": [
    "filename = repodir / 'secrets' / 's3info'\n",
    "s3params = read_s3params(filename)"
   ]
  },
  {
   "cell_type": "markdown",
   "id": "e8e306d7-1453-470e-b290-6a91fe350acc",
   "metadata": {},
   "source": [
    "Start a connection to S3 using the connection parameters: "
   ]
  },
  {
   "cell_type": "code",
   "execution_count": 6,
   "id": "1ba2de40-88b9-4151-8d50-165846a658c2",
   "metadata": {},
   "outputs": [],
   "source": [
    "s3=boto3.client('s3', s3params['region'],\n",
    "                        aws_access_key_id=s3params['key'],\n",
    "                  aws_secret_access_key=s3params['secret'])"
   ]
  },
  {
   "cell_type": "markdown",
   "id": "aad60ddd-df6b-458c-b35d-d1f9ea5b746b",
   "metadata": {},
   "source": [
    "Example upload of reports to a folder in a bucket:"
   ]
  },
  {
   "cell_type": "code",
   "execution_count": 13,
   "id": "c2b61b8e-63c9-4c67-988d-078a7c2b533a",
   "metadata": {},
   "outputs": [],
   "source": [
    "inputdir = repodir / \"data\" / \"output-report\"\n",
    "#targetfile = 'fireveg-trait-report-model.xlsx'\n",
    "targetfile = 'fireveg-trait-records-model.xlsx'\n",
    "#targetfile = 'fireveg-field-report-model.xlsx'\n",
    "targetfile = 'fireveg-trait-records-curation.xlsx'"
   ]
  },
  {
   "cell_type": "code",
   "execution_count": 14,
   "id": "fd3bbbf5-0539-421e-8c57-a2f811dc2b73",
   "metadata": {},
   "outputs": [],
   "source": [
    "with open(inputdir / targetfile, \"rb\") as f:\n",
    "  s3.upload_fileobj(f, 'fireveg-db', 'output-report/' + targetfile)"
   ]
  },
  {
   "cell_type": "markdown",
   "id": "b7066239-687f-4736-aa15-a273a543f62f",
   "metadata": {},
   "source": [
    "Upload all original field forms to a input folder\n",
    "\n",
    "inputdir = repodir / \"data\" / \"field-form\"\n",
    "\n",
    "for fp in inputdir.glob('*.xls[mx]'):\n",
    "    targetname=os.path.basename(fp)\n",
    "    if not targetname.startswith('~'):\n",
    "        print(targetname)\n",
    "        with open(fp, \"rb\") as f:\n",
    "            s3.upload_fileobj(f, 'fireveg-db', 'input-field-form/' + targetname)\n",
    "\n",
    "\n"
   ]
  }
 ],
 "metadata": {
  "kernelspec": {
   "display_name": "Python 3 (ipykernel)",
   "language": "python",
   "name": "python3"
  },
  "language_info": {
   "codemirror_mode": {
    "name": "ipython",
    "version": 3
   },
   "file_extension": ".py",
   "mimetype": "text/x-python",
   "name": "python",
   "nbconvert_exporter": "python",
   "pygments_lexer": "ipython3",
   "version": "3.10.8"
  }
 },
 "nbformat": 4,
 "nbformat_minor": 5
}
